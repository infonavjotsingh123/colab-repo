{
  "nbformat": 4,
  "nbformat_minor": 0,
  "metadata": {
    "colab": {
      "provenance": []
    },
    "kernelspec": {
      "name": "python3",
      "display_name": "Python 3"
    },
    "language_info": {
      "name": "python"
    }
  },
  "cells": [
    {
      "cell_type": "markdown",
      "source": [
        "##Visualizing Mental health in the Tech Industry"
      ],
      "metadata": {
        "id": "QpNvdrYs_69V"
      }
    },
    {
      "cell_type": "markdown",
      "source": [
        "In this dataset, we are working with multiple different categorical and numerical data. We will learn how to clean up the data so we can start using it for our analysis and visualization. This dataset is created from a 2014 survey that measures attiudes towards mental health and the frequency of occurence of mental health disorders in the tech industry.\n"
      ],
      "metadata": {
        "id": "FTJQCHc0240N"
      }
    },
    {
      "cell_type": "markdown",
      "source": [
        "Data retrieved from: https://www.kaggle.com/datasets/osmi/mental-health-in-tech-survey/data\n"
      ],
      "metadata": {
        "id": "1ER8_T7v7gYT"
      }
    },
    {
      "cell_type": "markdown",
      "source": [
        "Let's start off by importing and reading our data."
      ],
      "metadata": {
        "id": "aTgSeFuCAFxo"
      }
    },
    {
      "cell_type": "code",
      "execution_count": 2,
      "metadata": {
        "id": "fOYCOcdBvzRz",
        "colab": {
          "base_uri": "https://localhost:8080/",
          "height": 790
        },
        "outputId": "1ba5ccb0-2829-44eb-f2a4-e58110c707e0"
      },
      "outputs": [
        {
          "output_type": "execute_result",
          "data": {
            "text/plain": [
              "                Timestamp  Age  Gender         Country state self_employed  \\\n",
              "0     2014-08-27 11:29:31   37  Female   United States    IL           NaN   \n",
              "1     2014-08-27 11:29:37   44       M   United States    IN           NaN   \n",
              "2     2014-08-27 11:29:44   32    Male          Canada   NaN           NaN   \n",
              "3     2014-08-27 11:29:46   31    Male  United Kingdom   NaN           NaN   \n",
              "4     2014-08-27 11:30:22   31    Male   United States    TX           NaN   \n",
              "...                   ...  ...     ...             ...   ...           ...   \n",
              "1254  2015-09-12 11:17:21   26    male  United Kingdom   NaN            No   \n",
              "1255  2015-09-26 01:07:35   32    Male   United States    IL            No   \n",
              "1256  2015-11-07 12:36:58   34    male   United States    CA            No   \n",
              "1257  2015-11-30 21:25:06   46       f   United States    NC            No   \n",
              "1258  2016-02-01 23:04:31   25    Male   United States    IL            No   \n",
              "\n",
              "     family_history treatment work_interfere    no_employees  ...  \\\n",
              "0                No       Yes          Often            6-25  ...   \n",
              "1                No        No         Rarely  More than 1000  ...   \n",
              "2                No        No         Rarely            6-25  ...   \n",
              "3               Yes       Yes          Often          26-100  ...   \n",
              "4                No        No          Never         100-500  ...   \n",
              "...             ...       ...            ...             ...  ...   \n",
              "1254             No       Yes            NaN          26-100  ...   \n",
              "1255            Yes       Yes          Often          26-100  ...   \n",
              "1256            Yes       Yes      Sometimes  More than 1000  ...   \n",
              "1257             No        No            NaN         100-500  ...   \n",
              "1258            Yes       Yes      Sometimes          26-100  ...   \n",
              "\n",
              "                   leave mental_health_consequence phys_health_consequence  \\\n",
              "0          Somewhat easy                        No                      No   \n",
              "1             Don't know                     Maybe                      No   \n",
              "2     Somewhat difficult                        No                      No   \n",
              "3     Somewhat difficult                       Yes                     Yes   \n",
              "4             Don't know                        No                      No   \n",
              "...                  ...                       ...                     ...   \n",
              "1254       Somewhat easy                        No                      No   \n",
              "1255  Somewhat difficult                        No                      No   \n",
              "1256  Somewhat difficult                       Yes                     Yes   \n",
              "1257          Don't know                       Yes                      No   \n",
              "1258          Don't know                     Maybe                      No   \n",
              "\n",
              "         coworkers    supervisor mental_health_interview  \\\n",
              "0     Some of them           Yes                      No   \n",
              "1               No            No                      No   \n",
              "2              Yes           Yes                     Yes   \n",
              "3     Some of them            No                   Maybe   \n",
              "4     Some of them           Yes                     Yes   \n",
              "...            ...           ...                     ...   \n",
              "1254  Some of them  Some of them                      No   \n",
              "1255  Some of them           Yes                      No   \n",
              "1256            No            No                      No   \n",
              "1257            No            No                      No   \n",
              "1258  Some of them            No                      No   \n",
              "\n",
              "     phys_health_interview mental_vs_physical obs_consequence comments  \n",
              "0                    Maybe                Yes              No      NaN  \n",
              "1                       No         Don't know              No      NaN  \n",
              "2                      Yes                 No              No      NaN  \n",
              "3                    Maybe                 No             Yes      NaN  \n",
              "4                      Yes         Don't know              No      NaN  \n",
              "...                    ...                ...             ...      ...  \n",
              "1254                    No         Don't know              No      NaN  \n",
              "1255                    No                Yes              No      NaN  \n",
              "1256                    No                 No              No      NaN  \n",
              "1257                    No                 No              No      NaN  \n",
              "1258                    No         Don't know              No      NaN  \n",
              "\n",
              "[1259 rows x 27 columns]"
            ],
            "text/html": [
              "\n",
              "  <div id=\"df-f81a335d-6186-4833-af8a-abdfe3d2c53a\" class=\"colab-df-container\">\n",
              "    <div>\n",
              "<style scoped>\n",
              "    .dataframe tbody tr th:only-of-type {\n",
              "        vertical-align: middle;\n",
              "    }\n",
              "\n",
              "    .dataframe tbody tr th {\n",
              "        vertical-align: top;\n",
              "    }\n",
              "\n",
              "    .dataframe thead th {\n",
              "        text-align: right;\n",
              "    }\n",
              "</style>\n",
              "<table border=\"1\" class=\"dataframe\">\n",
              "  <thead>\n",
              "    <tr style=\"text-align: right;\">\n",
              "      <th></th>\n",
              "      <th>Timestamp</th>\n",
              "      <th>Age</th>\n",
              "      <th>Gender</th>\n",
              "      <th>Country</th>\n",
              "      <th>state</th>\n",
              "      <th>self_employed</th>\n",
              "      <th>family_history</th>\n",
              "      <th>treatment</th>\n",
              "      <th>work_interfere</th>\n",
              "      <th>no_employees</th>\n",
              "      <th>...</th>\n",
              "      <th>leave</th>\n",
              "      <th>mental_health_consequence</th>\n",
              "      <th>phys_health_consequence</th>\n",
              "      <th>coworkers</th>\n",
              "      <th>supervisor</th>\n",
              "      <th>mental_health_interview</th>\n",
              "      <th>phys_health_interview</th>\n",
              "      <th>mental_vs_physical</th>\n",
              "      <th>obs_consequence</th>\n",
              "      <th>comments</th>\n",
              "    </tr>\n",
              "  </thead>\n",
              "  <tbody>\n",
              "    <tr>\n",
              "      <th>0</th>\n",
              "      <td>2014-08-27 11:29:31</td>\n",
              "      <td>37</td>\n",
              "      <td>Female</td>\n",
              "      <td>United States</td>\n",
              "      <td>IL</td>\n",
              "      <td>NaN</td>\n",
              "      <td>No</td>\n",
              "      <td>Yes</td>\n",
              "      <td>Often</td>\n",
              "      <td>6-25</td>\n",
              "      <td>...</td>\n",
              "      <td>Somewhat easy</td>\n",
              "      <td>No</td>\n",
              "      <td>No</td>\n",
              "      <td>Some of them</td>\n",
              "      <td>Yes</td>\n",
              "      <td>No</td>\n",
              "      <td>Maybe</td>\n",
              "      <td>Yes</td>\n",
              "      <td>No</td>\n",
              "      <td>NaN</td>\n",
              "    </tr>\n",
              "    <tr>\n",
              "      <th>1</th>\n",
              "      <td>2014-08-27 11:29:37</td>\n",
              "      <td>44</td>\n",
              "      <td>M</td>\n",
              "      <td>United States</td>\n",
              "      <td>IN</td>\n",
              "      <td>NaN</td>\n",
              "      <td>No</td>\n",
              "      <td>No</td>\n",
              "      <td>Rarely</td>\n",
              "      <td>More than 1000</td>\n",
              "      <td>...</td>\n",
              "      <td>Don't know</td>\n",
              "      <td>Maybe</td>\n",
              "      <td>No</td>\n",
              "      <td>No</td>\n",
              "      <td>No</td>\n",
              "      <td>No</td>\n",
              "      <td>No</td>\n",
              "      <td>Don't know</td>\n",
              "      <td>No</td>\n",
              "      <td>NaN</td>\n",
              "    </tr>\n",
              "    <tr>\n",
              "      <th>2</th>\n",
              "      <td>2014-08-27 11:29:44</td>\n",
              "      <td>32</td>\n",
              "      <td>Male</td>\n",
              "      <td>Canada</td>\n",
              "      <td>NaN</td>\n",
              "      <td>NaN</td>\n",
              "      <td>No</td>\n",
              "      <td>No</td>\n",
              "      <td>Rarely</td>\n",
              "      <td>6-25</td>\n",
              "      <td>...</td>\n",
              "      <td>Somewhat difficult</td>\n",
              "      <td>No</td>\n",
              "      <td>No</td>\n",
              "      <td>Yes</td>\n",
              "      <td>Yes</td>\n",
              "      <td>Yes</td>\n",
              "      <td>Yes</td>\n",
              "      <td>No</td>\n",
              "      <td>No</td>\n",
              "      <td>NaN</td>\n",
              "    </tr>\n",
              "    <tr>\n",
              "      <th>3</th>\n",
              "      <td>2014-08-27 11:29:46</td>\n",
              "      <td>31</td>\n",
              "      <td>Male</td>\n",
              "      <td>United Kingdom</td>\n",
              "      <td>NaN</td>\n",
              "      <td>NaN</td>\n",
              "      <td>Yes</td>\n",
              "      <td>Yes</td>\n",
              "      <td>Often</td>\n",
              "      <td>26-100</td>\n",
              "      <td>...</td>\n",
              "      <td>Somewhat difficult</td>\n",
              "      <td>Yes</td>\n",
              "      <td>Yes</td>\n",
              "      <td>Some of them</td>\n",
              "      <td>No</td>\n",
              "      <td>Maybe</td>\n",
              "      <td>Maybe</td>\n",
              "      <td>No</td>\n",
              "      <td>Yes</td>\n",
              "      <td>NaN</td>\n",
              "    </tr>\n",
              "    <tr>\n",
              "      <th>4</th>\n",
              "      <td>2014-08-27 11:30:22</td>\n",
              "      <td>31</td>\n",
              "      <td>Male</td>\n",
              "      <td>United States</td>\n",
              "      <td>TX</td>\n",
              "      <td>NaN</td>\n",
              "      <td>No</td>\n",
              "      <td>No</td>\n",
              "      <td>Never</td>\n",
              "      <td>100-500</td>\n",
              "      <td>...</td>\n",
              "      <td>Don't know</td>\n",
              "      <td>No</td>\n",
              "      <td>No</td>\n",
              "      <td>Some of them</td>\n",
              "      <td>Yes</td>\n",
              "      <td>Yes</td>\n",
              "      <td>Yes</td>\n",
              "      <td>Don't know</td>\n",
              "      <td>No</td>\n",
              "      <td>NaN</td>\n",
              "    </tr>\n",
              "    <tr>\n",
              "      <th>...</th>\n",
              "      <td>...</td>\n",
              "      <td>...</td>\n",
              "      <td>...</td>\n",
              "      <td>...</td>\n",
              "      <td>...</td>\n",
              "      <td>...</td>\n",
              "      <td>...</td>\n",
              "      <td>...</td>\n",
              "      <td>...</td>\n",
              "      <td>...</td>\n",
              "      <td>...</td>\n",
              "      <td>...</td>\n",
              "      <td>...</td>\n",
              "      <td>...</td>\n",
              "      <td>...</td>\n",
              "      <td>...</td>\n",
              "      <td>...</td>\n",
              "      <td>...</td>\n",
              "      <td>...</td>\n",
              "      <td>...</td>\n",
              "      <td>...</td>\n",
              "    </tr>\n",
              "    <tr>\n",
              "      <th>1254</th>\n",
              "      <td>2015-09-12 11:17:21</td>\n",
              "      <td>26</td>\n",
              "      <td>male</td>\n",
              "      <td>United Kingdom</td>\n",
              "      <td>NaN</td>\n",
              "      <td>No</td>\n",
              "      <td>No</td>\n",
              "      <td>Yes</td>\n",
              "      <td>NaN</td>\n",
              "      <td>26-100</td>\n",
              "      <td>...</td>\n",
              "      <td>Somewhat easy</td>\n",
              "      <td>No</td>\n",
              "      <td>No</td>\n",
              "      <td>Some of them</td>\n",
              "      <td>Some of them</td>\n",
              "      <td>No</td>\n",
              "      <td>No</td>\n",
              "      <td>Don't know</td>\n",
              "      <td>No</td>\n",
              "      <td>NaN</td>\n",
              "    </tr>\n",
              "    <tr>\n",
              "      <th>1255</th>\n",
              "      <td>2015-09-26 01:07:35</td>\n",
              "      <td>32</td>\n",
              "      <td>Male</td>\n",
              "      <td>United States</td>\n",
              "      <td>IL</td>\n",
              "      <td>No</td>\n",
              "      <td>Yes</td>\n",
              "      <td>Yes</td>\n",
              "      <td>Often</td>\n",
              "      <td>26-100</td>\n",
              "      <td>...</td>\n",
              "      <td>Somewhat difficult</td>\n",
              "      <td>No</td>\n",
              "      <td>No</td>\n",
              "      <td>Some of them</td>\n",
              "      <td>Yes</td>\n",
              "      <td>No</td>\n",
              "      <td>No</td>\n",
              "      <td>Yes</td>\n",
              "      <td>No</td>\n",
              "      <td>NaN</td>\n",
              "    </tr>\n",
              "    <tr>\n",
              "      <th>1256</th>\n",
              "      <td>2015-11-07 12:36:58</td>\n",
              "      <td>34</td>\n",
              "      <td>male</td>\n",
              "      <td>United States</td>\n",
              "      <td>CA</td>\n",
              "      <td>No</td>\n",
              "      <td>Yes</td>\n",
              "      <td>Yes</td>\n",
              "      <td>Sometimes</td>\n",
              "      <td>More than 1000</td>\n",
              "      <td>...</td>\n",
              "      <td>Somewhat difficult</td>\n",
              "      <td>Yes</td>\n",
              "      <td>Yes</td>\n",
              "      <td>No</td>\n",
              "      <td>No</td>\n",
              "      <td>No</td>\n",
              "      <td>No</td>\n",
              "      <td>No</td>\n",
              "      <td>No</td>\n",
              "      <td>NaN</td>\n",
              "    </tr>\n",
              "    <tr>\n",
              "      <th>1257</th>\n",
              "      <td>2015-11-30 21:25:06</td>\n",
              "      <td>46</td>\n",
              "      <td>f</td>\n",
              "      <td>United States</td>\n",
              "      <td>NC</td>\n",
              "      <td>No</td>\n",
              "      <td>No</td>\n",
              "      <td>No</td>\n",
              "      <td>NaN</td>\n",
              "      <td>100-500</td>\n",
              "      <td>...</td>\n",
              "      <td>Don't know</td>\n",
              "      <td>Yes</td>\n",
              "      <td>No</td>\n",
              "      <td>No</td>\n",
              "      <td>No</td>\n",
              "      <td>No</td>\n",
              "      <td>No</td>\n",
              "      <td>No</td>\n",
              "      <td>No</td>\n",
              "      <td>NaN</td>\n",
              "    </tr>\n",
              "    <tr>\n",
              "      <th>1258</th>\n",
              "      <td>2016-02-01 23:04:31</td>\n",
              "      <td>25</td>\n",
              "      <td>Male</td>\n",
              "      <td>United States</td>\n",
              "      <td>IL</td>\n",
              "      <td>No</td>\n",
              "      <td>Yes</td>\n",
              "      <td>Yes</td>\n",
              "      <td>Sometimes</td>\n",
              "      <td>26-100</td>\n",
              "      <td>...</td>\n",
              "      <td>Don't know</td>\n",
              "      <td>Maybe</td>\n",
              "      <td>No</td>\n",
              "      <td>Some of them</td>\n",
              "      <td>No</td>\n",
              "      <td>No</td>\n",
              "      <td>No</td>\n",
              "      <td>Don't know</td>\n",
              "      <td>No</td>\n",
              "      <td>NaN</td>\n",
              "    </tr>\n",
              "  </tbody>\n",
              "</table>\n",
              "<p>1259 rows × 27 columns</p>\n",
              "</div>\n",
              "    <div class=\"colab-df-buttons\">\n",
              "\n",
              "  <div class=\"colab-df-container\">\n",
              "    <button class=\"colab-df-convert\" onclick=\"convertToInteractive('df-f81a335d-6186-4833-af8a-abdfe3d2c53a')\"\n",
              "            title=\"Convert this dataframe to an interactive table.\"\n",
              "            style=\"display:none;\">\n",
              "\n",
              "  <svg xmlns=\"http://www.w3.org/2000/svg\" height=\"24px\" viewBox=\"0 -960 960 960\">\n",
              "    <path d=\"M120-120v-720h720v720H120Zm60-500h600v-160H180v160Zm220 220h160v-160H400v160Zm0 220h160v-160H400v160ZM180-400h160v-160H180v160Zm440 0h160v-160H620v160ZM180-180h160v-160H180v160Zm440 0h160v-160H620v160Z\"/>\n",
              "  </svg>\n",
              "    </button>\n",
              "\n",
              "  <style>\n",
              "    .colab-df-container {\n",
              "      display:flex;\n",
              "      gap: 12px;\n",
              "    }\n",
              "\n",
              "    .colab-df-convert {\n",
              "      background-color: #E8F0FE;\n",
              "      border: none;\n",
              "      border-radius: 50%;\n",
              "      cursor: pointer;\n",
              "      display: none;\n",
              "      fill: #1967D2;\n",
              "      height: 32px;\n",
              "      padding: 0 0 0 0;\n",
              "      width: 32px;\n",
              "    }\n",
              "\n",
              "    .colab-df-convert:hover {\n",
              "      background-color: #E2EBFA;\n",
              "      box-shadow: 0px 1px 2px rgba(60, 64, 67, 0.3), 0px 1px 3px 1px rgba(60, 64, 67, 0.15);\n",
              "      fill: #174EA6;\n",
              "    }\n",
              "\n",
              "    .colab-df-buttons div {\n",
              "      margin-bottom: 4px;\n",
              "    }\n",
              "\n",
              "    [theme=dark] .colab-df-convert {\n",
              "      background-color: #3B4455;\n",
              "      fill: #D2E3FC;\n",
              "    }\n",
              "\n",
              "    [theme=dark] .colab-df-convert:hover {\n",
              "      background-color: #434B5C;\n",
              "      box-shadow: 0px 1px 3px 1px rgba(0, 0, 0, 0.15);\n",
              "      filter: drop-shadow(0px 1px 2px rgba(0, 0, 0, 0.3));\n",
              "      fill: #FFFFFF;\n",
              "    }\n",
              "  </style>\n",
              "\n",
              "    <script>\n",
              "      const buttonEl =\n",
              "        document.querySelector('#df-f81a335d-6186-4833-af8a-abdfe3d2c53a button.colab-df-convert');\n",
              "      buttonEl.style.display =\n",
              "        google.colab.kernel.accessAllowed ? 'block' : 'none';\n",
              "\n",
              "      async function convertToInteractive(key) {\n",
              "        const element = document.querySelector('#df-f81a335d-6186-4833-af8a-abdfe3d2c53a');\n",
              "        const dataTable =\n",
              "          await google.colab.kernel.invokeFunction('convertToInteractive',\n",
              "                                                    [key], {});\n",
              "        if (!dataTable) return;\n",
              "\n",
              "        const docLinkHtml = 'Like what you see? Visit the ' +\n",
              "          '<a target=\"_blank\" href=https://colab.research.google.com/notebooks/data_table.ipynb>data table notebook</a>'\n",
              "          + ' to learn more about interactive tables.';\n",
              "        element.innerHTML = '';\n",
              "        dataTable['output_type'] = 'display_data';\n",
              "        await google.colab.output.renderOutput(dataTable, element);\n",
              "        const docLink = document.createElement('div');\n",
              "        docLink.innerHTML = docLinkHtml;\n",
              "        element.appendChild(docLink);\n",
              "      }\n",
              "    </script>\n",
              "  </div>\n",
              "\n",
              "\n",
              "<div id=\"df-2f3da8b9-24b4-4562-a5c1-f4dfe78ce248\">\n",
              "  <button class=\"colab-df-quickchart\" onclick=\"quickchart('df-2f3da8b9-24b4-4562-a5c1-f4dfe78ce248')\"\n",
              "            title=\"Suggest charts\"\n",
              "            style=\"display:none;\">\n",
              "\n",
              "<svg xmlns=\"http://www.w3.org/2000/svg\" height=\"24px\"viewBox=\"0 0 24 24\"\n",
              "     width=\"24px\">\n",
              "    <g>\n",
              "        <path d=\"M19 3H5c-1.1 0-2 .9-2 2v14c0 1.1.9 2 2 2h14c1.1 0 2-.9 2-2V5c0-1.1-.9-2-2-2zM9 17H7v-7h2v7zm4 0h-2V7h2v10zm4 0h-2v-4h2v4z\"/>\n",
              "    </g>\n",
              "</svg>\n",
              "  </button>\n",
              "\n",
              "<style>\n",
              "  .colab-df-quickchart {\n",
              "      --bg-color: #E8F0FE;\n",
              "      --fill-color: #1967D2;\n",
              "      --hover-bg-color: #E2EBFA;\n",
              "      --hover-fill-color: #174EA6;\n",
              "      --disabled-fill-color: #AAA;\n",
              "      --disabled-bg-color: #DDD;\n",
              "  }\n",
              "\n",
              "  [theme=dark] .colab-df-quickchart {\n",
              "      --bg-color: #3B4455;\n",
              "      --fill-color: #D2E3FC;\n",
              "      --hover-bg-color: #434B5C;\n",
              "      --hover-fill-color: #FFFFFF;\n",
              "      --disabled-bg-color: #3B4455;\n",
              "      --disabled-fill-color: #666;\n",
              "  }\n",
              "\n",
              "  .colab-df-quickchart {\n",
              "    background-color: var(--bg-color);\n",
              "    border: none;\n",
              "    border-radius: 50%;\n",
              "    cursor: pointer;\n",
              "    display: none;\n",
              "    fill: var(--fill-color);\n",
              "    height: 32px;\n",
              "    padding: 0;\n",
              "    width: 32px;\n",
              "  }\n",
              "\n",
              "  .colab-df-quickchart:hover {\n",
              "    background-color: var(--hover-bg-color);\n",
              "    box-shadow: 0 1px 2px rgba(60, 64, 67, 0.3), 0 1px 3px 1px rgba(60, 64, 67, 0.15);\n",
              "    fill: var(--button-hover-fill-color);\n",
              "  }\n",
              "\n",
              "  .colab-df-quickchart-complete:disabled,\n",
              "  .colab-df-quickchart-complete:disabled:hover {\n",
              "    background-color: var(--disabled-bg-color);\n",
              "    fill: var(--disabled-fill-color);\n",
              "    box-shadow: none;\n",
              "  }\n",
              "\n",
              "  .colab-df-spinner {\n",
              "    border: 2px solid var(--fill-color);\n",
              "    border-color: transparent;\n",
              "    border-bottom-color: var(--fill-color);\n",
              "    animation:\n",
              "      spin 1s steps(1) infinite;\n",
              "  }\n",
              "\n",
              "  @keyframes spin {\n",
              "    0% {\n",
              "      border-color: transparent;\n",
              "      border-bottom-color: var(--fill-color);\n",
              "      border-left-color: var(--fill-color);\n",
              "    }\n",
              "    20% {\n",
              "      border-color: transparent;\n",
              "      border-left-color: var(--fill-color);\n",
              "      border-top-color: var(--fill-color);\n",
              "    }\n",
              "    30% {\n",
              "      border-color: transparent;\n",
              "      border-left-color: var(--fill-color);\n",
              "      border-top-color: var(--fill-color);\n",
              "      border-right-color: var(--fill-color);\n",
              "    }\n",
              "    40% {\n",
              "      border-color: transparent;\n",
              "      border-right-color: var(--fill-color);\n",
              "      border-top-color: var(--fill-color);\n",
              "    }\n",
              "    60% {\n",
              "      border-color: transparent;\n",
              "      border-right-color: var(--fill-color);\n",
              "    }\n",
              "    80% {\n",
              "      border-color: transparent;\n",
              "      border-right-color: var(--fill-color);\n",
              "      border-bottom-color: var(--fill-color);\n",
              "    }\n",
              "    90% {\n",
              "      border-color: transparent;\n",
              "      border-bottom-color: var(--fill-color);\n",
              "    }\n",
              "  }\n",
              "</style>\n",
              "\n",
              "  <script>\n",
              "    async function quickchart(key) {\n",
              "      const quickchartButtonEl =\n",
              "        document.querySelector('#' + key + ' button');\n",
              "      quickchartButtonEl.disabled = true;  // To prevent multiple clicks.\n",
              "      quickchartButtonEl.classList.add('colab-df-spinner');\n",
              "      try {\n",
              "        const charts = await google.colab.kernel.invokeFunction(\n",
              "            'suggestCharts', [key], {});\n",
              "      } catch (error) {\n",
              "        console.error('Error during call to suggestCharts:', error);\n",
              "      }\n",
              "      quickchartButtonEl.classList.remove('colab-df-spinner');\n",
              "      quickchartButtonEl.classList.add('colab-df-quickchart-complete');\n",
              "    }\n",
              "    (() => {\n",
              "      let quickchartButtonEl =\n",
              "        document.querySelector('#df-2f3da8b9-24b4-4562-a5c1-f4dfe78ce248 button');\n",
              "      quickchartButtonEl.style.display =\n",
              "        google.colab.kernel.accessAllowed ? 'block' : 'none';\n",
              "    })();\n",
              "  </script>\n",
              "</div>\n",
              "    </div>\n",
              "  </div>\n"
            ]
          },
          "metadata": {},
          "execution_count": 2
        }
      ],
      "source": [
        "import pandas as pd\n",
        "import numpy as np\n",
        "\n",
        "cols = []\n",
        "df= pd.read_csv('survey.csv')\n",
        "\n",
        "df"
      ]
    },
    {
      "cell_type": "markdown",
      "source": [
        "Using info() function to check for null values in our columns."
      ],
      "metadata": {
        "id": "Y-noSPtyAUo6"
      }
    },
    {
      "cell_type": "code",
      "source": [
        "df.info()"
      ],
      "metadata": {
        "colab": {
          "base_uri": "https://localhost:8080/"
        },
        "id": "DVrAPzOP88-3",
        "outputId": "4a5b5fb6-69e0-4b11-e676-dfe679883290"
      },
      "execution_count": null,
      "outputs": [
        {
          "output_type": "stream",
          "name": "stdout",
          "text": [
            "<class 'pandas.core.frame.DataFrame'>\n",
            "RangeIndex: 1259 entries, 0 to 1258\n",
            "Data columns (total 27 columns):\n",
            " #   Column                     Non-Null Count  Dtype \n",
            "---  ------                     --------------  ----- \n",
            " 0   Timestamp                  1259 non-null   object\n",
            " 1   Age                        1259 non-null   int64 \n",
            " 2   Gender                     1259 non-null   object\n",
            " 3   Country                    1259 non-null   object\n",
            " 4   state                      744 non-null    object\n",
            " 5   self_employed              1241 non-null   object\n",
            " 6   family_history             1259 non-null   object\n",
            " 7   treatment                  1259 non-null   object\n",
            " 8   work_interfere             995 non-null    object\n",
            " 9   no_employees               1259 non-null   object\n",
            " 10  remote_work                1259 non-null   object\n",
            " 11  tech_company               1259 non-null   object\n",
            " 12  benefits                   1259 non-null   object\n",
            " 13  care_options               1259 non-null   object\n",
            " 14  wellness_program           1259 non-null   object\n",
            " 15  seek_help                  1259 non-null   object\n",
            " 16  anonymity                  1259 non-null   object\n",
            " 17  leave                      1259 non-null   object\n",
            " 18  mental_health_consequence  1259 non-null   object\n",
            " 19  phys_health_consequence    1259 non-null   object\n",
            " 20  coworkers                  1259 non-null   object\n",
            " 21  supervisor                 1259 non-null   object\n",
            " 22  mental_health_interview    1259 non-null   object\n",
            " 23  phys_health_interview      1259 non-null   object\n",
            " 24  mental_vs_physical         1259 non-null   object\n",
            " 25  obs_consequence            1259 non-null   object\n",
            " 26  comments                   164 non-null    object\n",
            "dtypes: int64(1), object(26)\n",
            "memory usage: 265.7+ KB\n"
          ]
        }
      ]
    },
    {
      "cell_type": "markdown",
      "source": [
        "We can also use isnull() and sum() function to quickly check the number of null values in our columns."
      ],
      "metadata": {
        "id": "GCalpfYHAa4s"
      }
    },
    {
      "cell_type": "code",
      "source": [
        "df.isnull().sum()"
      ],
      "metadata": {
        "colab": {
          "base_uri": "https://localhost:8080/"
        },
        "id": "sgLxzCeg9E_J",
        "outputId": "0b17fe0f-1612-45a3-f58a-12f389380780"
      },
      "execution_count": null,
      "outputs": [
        {
          "output_type": "execute_result",
          "data": {
            "text/plain": [
              "Timestamp                       0\n",
              "Age                             0\n",
              "Gender                          0\n",
              "Country                         0\n",
              "state                         515\n",
              "self_employed                  18\n",
              "family_history                  0\n",
              "treatment                       0\n",
              "work_interfere                264\n",
              "no_employees                    0\n",
              "remote_work                     0\n",
              "tech_company                    0\n",
              "benefits                        0\n",
              "care_options                    0\n",
              "wellness_program                0\n",
              "seek_help                       0\n",
              "anonymity                       0\n",
              "leave                           0\n",
              "mental_health_consequence       0\n",
              "phys_health_consequence         0\n",
              "coworkers                       0\n",
              "supervisor                      0\n",
              "mental_health_interview         0\n",
              "phys_health_interview           0\n",
              "mental_vs_physical              0\n",
              "obs_consequence                 0\n",
              "comments                     1095\n",
              "dtype: int64"
            ]
          },
          "metadata": {},
          "execution_count": 3
        }
      ]
    },
    {
      "cell_type": "markdown",
      "source": [
        "From a quick glance, we can conclude that we have 3 columns with null values that will need preprocessing. (The comment columns is an optional section for the surveyor to fill up, so it make sense that it contains many null values)"
      ],
      "metadata": {
        "id": "tjfa8VIw5qgR"
      }
    },
    {
      "cell_type": "markdown",
      "source": [
        "Furthermore, there are some columns that we will not be using, let us drop those columns"
      ],
      "metadata": {
        "id": "kmYeQBrdUgky"
      }
    },
    {
      "cell_type": "code",
      "source": [
        "df = df.drop(columns=['state', 'comments', 'Timestamp'])"
      ],
      "metadata": {
        "id": "KVySP2-V6R6O"
      },
      "execution_count": null,
      "outputs": []
    },
    {
      "cell_type": "markdown",
      "source": [
        "##Quick Visualizations"
      ],
      "metadata": {
        "id": "VLpWkuwTAmau"
      }
    },
    {
      "cell_type": "markdown",
      "source": [
        "Next, lets start on some visualization. Some of these columns/data can be quickly visualize to get us a general idea of what kind of data we are working with, and how we can use these data to do our analysis.\n",
        "\n",
        "However, we will see later that not all data can be used easily without any preprocessing of the data."
      ],
      "metadata": {
        "id": "zlJbwbnBApBn"
      }
    },
    {
      "cell_type": "markdown",
      "source": [
        "Let us take a look at the different country present in our data. We will be using matplotlib to plot our visualization. We can use value_counts() and plot.pie() to count the numbers of subjects in each country and also their distribution."
      ],
      "metadata": {
        "id": "soVUO6UXA2Vr"
      }
    },
    {
      "cell_type": "code",
      "source": [
        "import matplotlib.pyplot as plt\n",
        "country_counts = df['Country'].value_counts()\n",
        "country_counts.plot.pie()\n",
        "country_counts"
      ],
      "metadata": {
        "colab": {
          "base_uri": "https://localhost:8080/",
          "height": 1000
        },
        "id": "CGEB3m9aDkmM",
        "outputId": "b253d3e7-e39c-4bc7-ef02-1c4d73853f63"
      },
      "execution_count": null,
      "outputs": [
        {
          "output_type": "execute_result",
          "data": {
            "text/plain": [
              "United States             751\n",
              "United Kingdom            185\n",
              "Canada                     72\n",
              "Germany                    45\n",
              "Ireland                    27\n",
              "Netherlands                27\n",
              "Australia                  21\n",
              "France                     13\n",
              "India                      10\n",
              "New Zealand                 8\n",
              "Poland                      7\n",
              "Switzerland                 7\n",
              "Sweden                      7\n",
              "Italy                       7\n",
              "South Africa                6\n",
              "Belgium                     6\n",
              "Brazil                      6\n",
              "Israel                      5\n",
              "Singapore                   4\n",
              "Bulgaria                    4\n",
              "Austria                     3\n",
              "Finland                     3\n",
              "Mexico                      3\n",
              "Russia                      3\n",
              "Denmark                     2\n",
              "Greece                      2\n",
              "Colombia                    2\n",
              "Croatia                     2\n",
              "Portugal                    2\n",
              "Moldova                     1\n",
              "Georgia                     1\n",
              "Bahamas, The                1\n",
              "China                       1\n",
              "Thailand                    1\n",
              "Czech Republic              1\n",
              "Norway                      1\n",
              "Romania                     1\n",
              "Nigeria                     1\n",
              "Japan                       1\n",
              "Hungary                     1\n",
              "Bosnia and Herzegovina      1\n",
              "Uruguay                     1\n",
              "Spain                       1\n",
              "Zimbabwe                    1\n",
              "Latvia                      1\n",
              "Costa Rica                  1\n",
              "Slovenia                    1\n",
              "Philippines                 1\n",
              "Name: Country, dtype: int64"
            ]
          },
          "metadata": {},
          "execution_count": 5
        },
        {
          "output_type": "display_data",
          "data": {
            "text/plain": [
              "<Figure size 640x480 with 1 Axes>"
            ],
            "image/png": "[encoded data removed]"
          },
          "metadata": {}
        }
      ]
    },
    {
      "cell_type": "markdown",
      "source": [
        "From this visualization, we can conclude that the majority of our data is from the US.\n"
      ],
      "metadata": {
        "id": "dw9FZMRT4_yh"
      }
    },
    {
      "cell_type": "markdown",
      "source": [
        "**Challenge**: Create a visualization to view how many people are working remotely."
      ],
      "metadata": {
        "id": "7gWVGS42A9ug"
      }
    },
    {
      "cell_type": "code",
      "source": [
        "remote_count = df['remote_work'].value_counts()\n",
        "plt.title(\"How many employees are working remotely\")\n",
        "remote_count.plot.pie(autopct='%1.1f%%', startangle=90) # we can also show percentages in our plot\n",
        "remote_count\n"
      ],
      "metadata": {
        "colab": {
          "base_uri": "https://localhost:8080/",
          "height": 480
        },
        "id": "OaoKQQBCBI5-",
        "outputId": "3f2d0617-740d-42d6-b3c1-0e62b4668707"
      },
      "execution_count": null,
      "outputs": [
        {
          "output_type": "execute_result",
          "data": {
            "text/plain": [
              "No     883\n",
              "Yes    376\n",
              "Name: remote_work, dtype: int64"
            ]
          },
          "metadata": {},
          "execution_count": 6
        },
        {
          "output_type": "display_data",
          "data": {
            "text/plain": [
              "<Figure size 640x480 with 1 Axes>"
            ],
            "image/png": "[encoded data removed]"
          },
          "metadata": {}
        }
      ]
    },
    {
      "cell_type": "markdown",
      "source": [
        "These data are easy to work with as they contain consistent values and without any null values included."
      ],
      "metadata": {
        "id": "hqmtBi2vLXf7"
      }
    },
    {
      "cell_type": "markdown",
      "source": [
        "##Preprocessing data"
      ],
      "metadata": {
        "id": "kH_jV38qHggg"
      }
    },
    {
      "cell_type": "markdown",
      "source": [
        "Next, we will look at some more scrambled and messy data. How can we deal with these type of data and make it workable for visualization and analysis. As this dataset is composed from a survey without using multiple choice answers, subjects are able to write their own answers however they want. For future reference, surveys with limited answers should be taken with multiple choice, this will make the data more readable and easy to use."
      ],
      "metadata": {
        "id": "uxq7QP62Hmhu"
      }
    },
    {
      "cell_type": "markdown",
      "source": [
        "###Gender column"
      ],
      "metadata": {
        "id": "4lOnpGxvPl5c"
      }
    },
    {
      "cell_type": "markdown",
      "source": [
        "We can see that our gender column are made up of multiple different answers which will make it difficult for us to group them the answers together. Therefore, we need to categorize them manually in three categories. We will have male, female and other."
      ],
      "metadata": {
        "id": "3yFOLBnE6sTA"
      }
    },
    {
      "cell_type": "markdown",
      "source": [
        "First, we will find out all the different values that is present in the columns. We will then create a mapping and sort all the different values into their own category. We will create a dictionary for our categories, we will call it our gender mapping."
      ],
      "metadata": {
        "id": "0ByFEB1CEA0D"
      }
    },
    {
      "cell_type": "code",
      "source": [
        "\n",
        "# Define gender categories\n",
        "gender_mapping = {\n",
        "    \"male\": [\"male\", \"m\", \"male-ish\", \"maile\", \"mal\", \"male (cis)\", \"make\", \"male \", \"man\",\"msle\", \"mail\", \"malr\",\"cis man\", \"Cis Male\", \"cis male\"],\n",
        "    \"female\": [\"cis female\", \"f\", \"female\", \"woman\", \"femake\", \"female \", \"cis-female/femme\", \"female (cis)\", \"femail\"],\n",
        "    \"other\": [\"trans-female\", \"something kinda male?\", \"queer/she/they\", \"non-binary\", \"nah\", \"all\", \"enby\", \"fluid\", \"genderqueer\", \"androgyne\", \"agender\", \"male leaning androgynous\", \"guy (-ish) ^_^\", \"trans woman\", \"neuter\", \"female (trans)\", \"queer\", \"ostensibly male, unsure what that really means\"]\n",
        "}\n"
      ],
      "metadata": {
        "id": "jJThHS_GD96C"
      },
      "execution_count": 7,
      "outputs": []
    },
    {
      "cell_type": "markdown",
      "source": [
        "Next, we can create a function to change all our values to lower case and also apply our new categories back to our columns."
      ],
      "metadata": {
        "id": "V7-7MS8dFUQq"
      }
    },
    {
      "cell_type": "code",
      "source": [
        "\n",
        "# Function to map gender\n",
        "def map_gender(gender):\n",
        "    for category, values in gender_mapping.items():\n",
        "        if str.lower(gender) in values: #convert all characters to lowercase\n",
        "            return category\n",
        "    return gender  # Return the original value if not matched\n",
        "\n",
        "# Apply the mapping function to the 'Gender' column\n",
        "df['Gender'] = df['Gender'].apply(map_gender)\n",
        "\n",
        "# Remove \"A little about you\" and \"p\" entries as it makes no sense\n",
        "df = df[~df['Gender'].isin(['A little about you', 'p'])]\n",
        "\n",
        "# Print unique values\n",
        "print(df['Gender'].unique())\n"
      ],
      "metadata": {
        "colab": {
          "base_uri": "https://localhost:8080/"
        },
        "id": "BiNlje2Fp_0I",
        "outputId": "886c44af-7fa2-42b8-dd60-503ac8fb0f25"
      },
      "execution_count": 8,
      "outputs": [
        {
          "output_type": "stream",
          "name": "stdout",
          "text": [
            "['female' 'male' 'other']\n"
          ]
        }
      ]
    },
    {
      "cell_type": "markdown",
      "source": [
        "We now have all our gender seperated into three categories; female, male and other."
      ],
      "metadata": {
        "id": "PDvXKNfELIAz"
      }
    },
    {
      "cell_type": "markdown",
      "source": [
        "Finally, we can take a look at the distribution of genders in our dataset."
      ],
      "metadata": {
        "id": "aVKVINbIGN-z"
      }
    },
    {
      "cell_type": "code",
      "source": [
        "gender_count = df['Gender'].value_counts()\n",
        "gender_count.plot.pie()\n",
        "gender_count"
      ],
      "metadata": {
        "colab": {
          "base_uri": "https://localhost:8080/",
          "height": 475
        },
        "id": "e1VprTN0sK44",
        "outputId": "90ac3eb7-3438-45d8-c92b-03fcb9be02a2"
      },
      "execution_count": 9,
      "outputs": [
        {
          "output_type": "execute_result",
          "data": {
            "text/plain": [
              "male      991\n",
              "female    247\n",
              "other      19\n",
              "Name: Gender, dtype: int64"
            ]
          },
          "metadata": {},
          "execution_count": 9
        },
        {
          "output_type": "display_data",
          "data": {
            "text/plain": [
              "<Figure size 640x480 with 1 Axes>"
            ],
            "image/png": "[encoded data removed]"
          },
          "metadata": {}
        }
      ]
    },
    {
      "cell_type": "markdown",
      "source": [
        "From the visualization, the male has a way larger distribution in our dataset."
      ],
      "metadata": {
        "id": "HliXvuhXLb_y"
      }
    },
    {
      "cell_type": "markdown",
      "source": [
        "###Age column"
      ],
      "metadata": {
        "id": "KJ3A4hMcPpGX"
      }
    },
    {
      "cell_type": "markdown",
      "source": [
        "Furthermore, the age column need some sorting as well. Just like the gender column, the age column had numbers that was not realistic. Let use unique() function to see all our ages."
      ],
      "metadata": {
        "id": "NjCq4bhWMfIa"
      }
    },
    {
      "cell_type": "code",
      "source": [
        "unique_age_values = df['Age'].unique()\n",
        "print(unique_age_values)"
      ],
      "metadata": {
        "colab": {
          "base_uri": "https://localhost:8080/"
        },
        "id": "egkH8ZHmwhX3",
        "outputId": "64cbc387-6ffc-4bef-ed56-213b68edbf86"
      },
      "execution_count": null,
      "outputs": [
        {
          "output_type": "stream",
          "name": "stdout",
          "text": [
            "[         37          44          32          31          33          35\n",
            "          39          42          23          29          36          27\n",
            "          46          41          34          30          40          38\n",
            "          50          24          18          28          26          22\n",
            "          19          25          45          21         -29          43\n",
            "          56          60          54         329          55 99999999999\n",
            "          48          20          57          58          47          62\n",
            "          51          65          49       -1726           5          53\n",
            "          61           8          11          -1          72]\n"
          ]
        }
      ]
    },
    {
      "cell_type": "markdown",
      "source": [
        "As you can see some of these answers are random and definitely not someones age. In additon, this is a survey for people in tech, ages like 8 and 11 are too young to be working. We need to sort these numbers!"
      ],
      "metadata": {
        "id": "eWfKwxQrwqLi"
      }
    },
    {
      "cell_type": "markdown",
      "source": [
        "We can create a range for our age that seems reasonable for our data, and remove all other ages outside of this range."
      ],
      "metadata": {
        "id": "FMcSZWcyPUlu"
      }
    },
    {
      "cell_type": "code",
      "source": [
        "df = df[(df['Age'] >= 19) & (df['Age'] <= 100)]\n",
        "\n",
        "# Get unique values in the filtered \"Age\" column\n",
        "unique_age_values = df['Age'].unique()\n",
        "\n",
        "# Print the unique age values\n",
        "print(unique_age_values)"
      ],
      "metadata": {
        "colab": {
          "base_uri": "https://localhost:8080/"
        },
        "id": "7TYZSnD9zscS",
        "outputId": "20095856-14c7-4247-e18b-4594e4f879f4"
      },
      "execution_count": null,
      "outputs": [
        {
          "output_type": "stream",
          "name": "stdout",
          "text": [
            "[37 44 32 31 33 35 39 42 23 29 36 27 46 41 34 30 40 38 50 24 28 26 22 19\n",
            " 25 45 21 43 56 60 54 55 48 20 57 58 47 62 51 65 49 53 61 72]\n"
          ]
        }
      ]
    },
    {
      "cell_type": "markdown",
      "source": [
        "After only including ages from 19 and above to 100 and below. We can plot and see our age distribution in our dataset."
      ],
      "metadata": {
        "id": "43X2ujSv0wwx"
      }
    },
    {
      "cell_type": "code",
      "source": [
        "df['Age'].plot.hist(subplots=True, rwidth=0.9)"
      ],
      "metadata": {
        "colab": {
          "base_uri": "https://localhost:8080/",
          "height": 447
        },
        "id": "653VxRHMvq2L",
        "outputId": "ce3a8356-6a7e-4613-88eb-fc556e866055"
      },
      "execution_count": null,
      "outputs": [
        {
          "output_type": "execute_result",
          "data": {
            "text/plain": [
              "array([<Axes: ylabel='Frequency'>], dtype=object)"
            ]
          },
          "metadata": {},
          "execution_count": 12
        },
        {
          "output_type": "display_data",
          "data": {
            "text/plain": [
              "<Figure size 640x480 with 1 Axes>"
            ],
            "image/png": "[encoded data removed]"
          },
          "metadata": {}
        }
      ]
    },
    {
      "cell_type": "markdown",
      "source": [
        "We can see that the most frequent age present in our data is around late 20s and early 30s."
      ],
      "metadata": {
        "id": "IqSoS3rMVY9s"
      }
    },
    {
      "cell_type": "markdown",
      "source": [
        "###Using impute to preserve data"
      ],
      "metadata": {
        "id": "nz6t-QGjPsJS"
      }
    },
    {
      "cell_type": "markdown",
      "source": [
        "Sometimes for our numerical values, it is easy for us to just remove the rows with the null values or values that we don't want, however, this means that we could be losing important on data. There is a method called impute, where we replace the values using our median."
      ],
      "metadata": {
        "id": "ZaR5rklU6jeR"
      }
    },
    {
      "cell_type": "markdown",
      "source": [
        "First, lets use .mean() to find what our age median is."
      ],
      "metadata": {
        "id": "l6L1hLF1BfHM"
      }
    },
    {
      "cell_type": "code",
      "source": [
        "df= pd.read_csv('survey.csv') # We can read our dataset again to have our original Age column\n",
        "\n",
        "Age = df['Age']\n",
        "np.mean(Age)\n"
      ],
      "metadata": {
        "colab": {
          "base_uri": "https://localhost:8080/"
        },
        "id": "vHVnm_nadRdw",
        "outputId": "db6a79d4-61dd-44fa-ee87-c0f897682f20"
      },
      "execution_count": 3,
      "outputs": [
        {
          "output_type": "execute_result",
          "data": {
            "text/plain": [
              "79428148.31135821"
            ]
          },
          "metadata": {},
          "execution_count": 3
        }
      ]
    },
    {
      "cell_type": "markdown",
      "source": [
        "Oh that doesn't seem right. Because our average includes all the values in our column, it is including the values the really big unreasonable numbers. We need to just find the mean for values in a range."
      ],
      "metadata": {
        "id": "4ComwnHcBoBs"
      }
    },
    {
      "cell_type": "code",
      "source": [
        "Age = df['Age']\n",
        "\n",
        "upper_limit = 100\n",
        "lower_limit = 18\n",
        "\n",
        "mean = np.mean(Age[(Age > lower_limit) & (Age < upper_limit)])\n",
        "mean = round(mean, 0) #rounding our decimals\n",
        "mean"
      ],
      "metadata": {
        "colab": {
          "base_uri": "https://localhost:8080/"
        },
        "id": "uHfJEXINdMtb",
        "outputId": "bd1159d6-adcc-482f-a5f2-c75b7aedaa0a"
      },
      "execution_count": 4,
      "outputs": [
        {
          "output_type": "execute_result",
          "data": {
            "text/plain": [
              "32.0"
            ]
          },
          "metadata": {},
          "execution_count": 4
        }
      ]
    },
    {
      "cell_type": "markdown",
      "source": [
        "This is a good average representation of our age. Let use age 32 as our median.\n",
        "\n",
        "Now we can replace those ages that are lower than 18 and higher than 100 to our mean value of age 32."
      ],
      "metadata": {
        "id": "nUqxnezlDDkm"
      }
    },
    {
      "cell_type": "code",
      "source": [
        "# Replace elements below the lower_limit with the calculated mean\n",
        "df.loc[df['Age'] < lower_limit, 'Age'] = mean\n",
        "# Replace elements above the upper_limit with the calculated mean\n",
        "df.loc[df['Age'] > upper_limit, 'Age'] = mean\n",
        "\n",
        "unique_age_values = df['Age'].unique()\n",
        "# Print the unique age values\n",
        "print(unique_age_values)"
      ],
      "metadata": {
        "id": "nZIKhpPIXhvn",
        "colab": {
          "base_uri": "https://localhost:8080/"
        },
        "outputId": "c114a004-2442-46c7-d805-c3a6fb1da798"
      },
      "execution_count": 5,
      "outputs": [
        {
          "output_type": "stream",
          "name": "stdout",
          "text": [
            "[37 44 32 31 33 35 39 42 23 29 36 27 46 41 34 30 40 38 50 24 18 28 26 22\n",
            " 19 25 45 21 43 56 60 54 55 48 20 57 58 47 62 51 65 49 53 61 72]\n"
          ]
        }
      ]
    },
    {
      "cell_type": "markdown",
      "source": [
        "We can see that all our age values are only from 18 to 100, there are not outliers and random ages. With this, we can proceed to use our age column."
      ],
      "metadata": {
        "id": "dtcui4mjev_Z"
      }
    },
    {
      "cell_type": "markdown",
      "source": [
        "##Comparing different data points"
      ],
      "metadata": {
        "id": "iGL3moxHGEe7"
      }
    },
    {
      "cell_type": "markdown",
      "source": [
        "Now that our gender columns and age columns have been processed and ready to use. We can take a look if there are any correlation between our data points.\n",
        "We can first look at our dataset between gender and age."
      ],
      "metadata": {
        "id": "bBtpKAA0AjNC"
      }
    },
    {
      "cell_type": "markdown",
      "source": [
        "We can use seaborn, a popular data visualization library, to plot our data points."
      ],
      "metadata": {
        "id": "CUWDUsnVGhcK"
      }
    },
    {
      "cell_type": "code",
      "source": [
        "import seaborn as sns\n",
        "import matplotlib.pyplot as plt\n",
        "\n",
        "plt.figure(figsize=(10, 6))\n",
        "sns.swarmplot(data=df, x='Gender', y='Age', size=2) #size changes the sizes of our data points, the smaller the size, the more points it can show\n",
        "plt.title('Relationship between Age and Gender')\n",
        "plt.xlabel('Gender')\n",
        "plt.ylabel('Age')\n",
        "\n",
        "plt.show()"
      ],
      "metadata": {
        "colab": {
          "base_uri": "https://localhost:8080/",
          "height": 564
        },
        "id": "6RaBOIvxGfpz",
        "outputId": "d53a093d-6820-42ed-813d-b5cb0281d8d7"
      },
      "execution_count": 12,
      "outputs": [
        {
          "output_type": "display_data",
          "data": {
            "text/plain": [
              "<Figure size 1000x600 with 1 Axes>"
            ],
            "image/png": "[encoded data removed]"
          },
          "metadata": {}
        }
      ]
    },
    {
      "cell_type": "markdown",
      "source": [
        "Nice! This gives us a clear view on the distribution of genders and the groups of ages in our dataset. We can conclude that our dataset consist mostly of male in their late 20s to their early 30s."
      ],
      "metadata": {
        "id": "A_4AflYAHh1E"
      }
    },
    {
      "cell_type": "markdown",
      "source": [
        "**Challenge**: Can you create a plot using seaborn to show correlation between two columns.\n",
        "\n",
        "**Answer**: You can try showing the relationship between the subjects that got treatment and their ages."
      ],
      "metadata": {
        "id": "9KK0ciXEAHZw"
      }
    },
    {
      "cell_type": "code",
      "source": [
        "import seaborn as sns\n",
        "import matplotlib.pyplot as plt\n",
        "\n",
        "plt.figure(figsize=(10, 6))\n",
        "sns.boxplot(data=df, x='treatment', y='Age')\n",
        "plt.title('Relationship between Age and Treatment')\n",
        "plt.xlabel('Treatment')\n",
        "plt.ylabel('Age')\n",
        "\n",
        "plt.show()"
      ],
      "metadata": {
        "colab": {
          "base_uri": "https://localhost:8080/",
          "height": 564
        },
        "id": "MexuxLs5FiCZ",
        "outputId": "88ae4f64-7602-48ec-dc0a-7d08602cb791"
      },
      "execution_count": null,
      "outputs": [
        {
          "output_type": "display_data",
          "data": {
            "text/plain": [
              "<Figure size 1000x600 with 1 Axes>"
            ],
            "image/png": "[encoded data removed]"
          },
          "metadata": {}
        }
      ]
    },
    {
      "cell_type": "markdown",
      "source": [
        "From this visualization, we can conclude that people who are more likely to not get treatment are closer to the ages of late 20s and early 30s."
      ],
      "metadata": {
        "id": "1cXjg9rlf6Kz"
      }
    },
    {
      "cell_type": "markdown",
      "source": [
        "**Challenge**: There are many columns in our dataset that can prove to be useful. Use seaborn to create a plot from a data we have yet to analyze and explain your finding.\n",
        "\n",
        "**Answer**:"
      ],
      "metadata": {
        "id": "TWiDPtCDJgFl"
      }
    },
    {
      "cell_type": "code",
      "source": [
        "import seaborn as sns\n",
        "import matplotlib.pyplot as plt\n",
        "\n",
        "sns.countplot(data=df, x='mental_health_consequence')# We can use seaborn to plot categorical data easier\n",
        "plt.title('Distribution of Mental Health Consequence')\n",
        "plt.xlabel('Mental Health Consequence')\n",
        "plt.ylabel('Count')\n",
        "\n",
        "plt.show()"
      ],
      "metadata": {
        "id": "eQWvQtlm43oH",
        "colab": {
          "base_uri": "https://localhost:8080/",
          "height": 472
        },
        "outputId": "e62f3e34-bc1d-4146-ea3f-f3e4042be3de"
      },
      "execution_count": null,
      "outputs": [
        {
          "output_type": "display_data",
          "data": {
            "text/plain": [
              "<Figure size 640x480 with 1 Axes>"
            ],
            "image/png": "[encoded data removed]"
          },
          "metadata": {}
        }
      ]
    }
  ]
}