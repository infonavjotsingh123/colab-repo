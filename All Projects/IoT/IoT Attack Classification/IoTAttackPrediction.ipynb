{
 "cells": [
  {
   "cell_type": "markdown",
   "id": "fa448fca",
   "metadata": {},
   "source": [
    "# Classification Python Workshop for IoT Sector Related Data\n",
    "\n",
    "In this notebook, we will:\n",
    "- read in and clean/tidy data (preprocessing)\n",
    "- understand what applications classification is useful for in machine learning\n",
    "- how to deal with unbalanced classes\n",
    "- explore different classification models and evaluate performance"
   ]
  },
  {
   "cell_type": "code",
   "execution_count": 1,
   "id": "616a6715",
   "metadata": {},
   "outputs": [],
   "source": [
    "# Loading in some basic Python libraries. We will use pandas and matplotlib to begin\n",
    "import pandas as pd\n",
    "import matplotlib.pyplot as plt"
   ]
  },
  {
   "cell_type": "markdown",
   "id": "b4ac8abb",
   "metadata": {},
   "source": [
    "### What dataset are we using, exactly?\n",
    "\n",
    "This data was collected from a series of simulations conducted on the Contiki Cooja IoT simulator. Contiki is an operating system for low power, memory-constrained, limited network IoT devices, such as sensors. Cooja is a Contiki network simulator. The simulations were conducted with the intention to predict SHA, DFA, SFA, SYA, and VNA attacks on IoT devices through observing the key feature differences between the normal and vulnerable nodes. \n",
    "\n",
    "The features contained in this dataset include Source Mote, Destination Mote, Packet Count, Source Mote Ratio, Destination Mote Ratio, Source Mote Duration, Destination Mote Duration, Total Packet Duration, Total Packet Length, Source Packet Ratio, Destination Packet Ratio, DIO Message Count, DIS Message Count, DAO Message Count, Other Message Count, and Label.\n",
    "\n",
    "If you would like to read more and access this dataset for yourself, you can find it through this link:\n",
    "https://www.kaggle.com/datasets/mkhubaiib/iot-attack-prediction-dataset"
   ]
  },
  {
   "cell_type": "code",
   "execution_count": 2,
   "id": "6f0c6574",
   "metadata": {},
   "outputs": [
    {
     "data": {
      "text/html": [
       "<div>\n",
       "<style scoped>\n",
       "    .dataframe tbody tr th:only-of-type {\n",
       "        vertical-align: middle;\n",
       "    }\n",
       "\n",
       "    .dataframe tbody tr th {\n",
       "        vertical-align: top;\n",
       "    }\n",
       "\n",
       "    .dataframe thead th {\n",
       "        text-align: right;\n",
       "    }\n",
       "</style>\n",
       "<table border=\"1\" class=\"dataframe\">\n",
       "  <thead>\n",
       "    <tr style=\"text-align: right;\">\n",
       "      <th></th>\n",
       "      <th>second</th>\n",
       "      <th>src</th>\n",
       "      <th>dst</th>\n",
       "      <th>packetcount</th>\n",
       "      <th>src_ratio</th>\n",
       "      <th>dst_ratio</th>\n",
       "      <th>src_duration_ratio</th>\n",
       "      <th>dst_duration_ratio</th>\n",
       "      <th>TotalPacketDuration</th>\n",
       "      <th>TotalPacketLenght</th>\n",
       "      <th>src_packet_ratio</th>\n",
       "      <th>dst_packet_ratio</th>\n",
       "      <th>DioCount</th>\n",
       "      <th>DisCount</th>\n",
       "      <th>DaoCount</th>\n",
       "      <th>OtherMsg</th>\n",
       "      <th>label</th>\n",
       "    </tr>\n",
       "  </thead>\n",
       "  <tbody>\n",
       "    <tr>\n",
       "      <th>0</th>\n",
       "      <td>61</td>\n",
       "      <td>2</td>\n",
       "      <td>32</td>\n",
       "      <td>1</td>\n",
       "      <td>0.500000</td>\n",
       "      <td>1.000000</td>\n",
       "      <td>0.013889</td>\n",
       "      <td>1.000000</td>\n",
       "      <td>0.020000</td>\n",
       "      <td>37</td>\n",
       "      <td>0.500000</td>\n",
       "      <td>1.000000</td>\n",
       "      <td>0</td>\n",
       "      <td>0</td>\n",
       "      <td>0</td>\n",
       "      <td>1</td>\n",
       "      <td>1</td>\n",
       "    </tr>\n",
       "    <tr>\n",
       "      <th>1</th>\n",
       "      <td>61</td>\n",
       "      <td>4</td>\n",
       "      <td>32</td>\n",
       "      <td>1</td>\n",
       "      <td>0.500000</td>\n",
       "      <td>1.000000</td>\n",
       "      <td>0.986111</td>\n",
       "      <td>1.000000</td>\n",
       "      <td>1.419998</td>\n",
       "      <td>37</td>\n",
       "      <td>0.500000</td>\n",
       "      <td>1.000000</td>\n",
       "      <td>0</td>\n",
       "      <td>0</td>\n",
       "      <td>0</td>\n",
       "      <td>1</td>\n",
       "      <td>1</td>\n",
       "    </tr>\n",
       "    <tr>\n",
       "      <th>2</th>\n",
       "      <td>62</td>\n",
       "      <td>24</td>\n",
       "      <td>16</td>\n",
       "      <td>2</td>\n",
       "      <td>0.666667</td>\n",
       "      <td>0.666667</td>\n",
       "      <td>0.751425</td>\n",
       "      <td>0.751425</td>\n",
       "      <td>0.008049</td>\n",
       "      <td>187</td>\n",
       "      <td>0.785714</td>\n",
       "      <td>0.785714</td>\n",
       "      <td>0</td>\n",
       "      <td>0</td>\n",
       "      <td>2</td>\n",
       "      <td>0</td>\n",
       "      <td>1</td>\n",
       "    </tr>\n",
       "    <tr>\n",
       "      <th>3</th>\n",
       "      <td>62</td>\n",
       "      <td>16</td>\n",
       "      <td>24</td>\n",
       "      <td>1</td>\n",
       "      <td>0.333333</td>\n",
       "      <td>0.333333</td>\n",
       "      <td>0.248576</td>\n",
       "      <td>0.248576</td>\n",
       "      <td>0.002663</td>\n",
       "      <td>51</td>\n",
       "      <td>0.214286</td>\n",
       "      <td>0.214286</td>\n",
       "      <td>0</td>\n",
       "      <td>0</td>\n",
       "      <td>0</td>\n",
       "      <td>1</td>\n",
       "      <td>1</td>\n",
       "    </tr>\n",
       "    <tr>\n",
       "      <th>4</th>\n",
       "      <td>63</td>\n",
       "      <td>16</td>\n",
       "      <td>24</td>\n",
       "      <td>1</td>\n",
       "      <td>1.000000</td>\n",
       "      <td>1.000000</td>\n",
       "      <td>1.000000</td>\n",
       "      <td>1.000000</td>\n",
       "      <td>0.002953</td>\n",
       "      <td>60</td>\n",
       "      <td>1.000000</td>\n",
       "      <td>1.000000</td>\n",
       "      <td>0</td>\n",
       "      <td>0</td>\n",
       "      <td>0</td>\n",
       "      <td>2</td>\n",
       "      <td>1</td>\n",
       "    </tr>\n",
       "  </tbody>\n",
       "</table>\n",
       "</div>"
      ],
      "text/plain": [
       "   second  src  dst  packetcount  src_ratio  dst_ratio  src_duration_ratio  \\\n",
       "0      61    2   32            1   0.500000   1.000000            0.013889   \n",
       "1      61    4   32            1   0.500000   1.000000            0.986111   \n",
       "2      62   24   16            2   0.666667   0.666667            0.751425   \n",
       "3      62   16   24            1   0.333333   0.333333            0.248576   \n",
       "4      63   16   24            1   1.000000   1.000000            1.000000   \n",
       "\n",
       "   dst_duration_ratio  TotalPacketDuration  TotalPacketLenght  \\\n",
       "0            1.000000             0.020000                 37   \n",
       "1            1.000000             1.419998                 37   \n",
       "2            0.751425             0.008049                187   \n",
       "3            0.248576             0.002663                 51   \n",
       "4            1.000000             0.002953                 60   \n",
       "\n",
       "   src_packet_ratio  dst_packet_ratio  DioCount  DisCount  DaoCount  OtherMsg  \\\n",
       "0          0.500000          1.000000         0         0         0         1   \n",
       "1          0.500000          1.000000         0         0         0         1   \n",
       "2          0.785714          0.785714         0         0         2         0   \n",
       "3          0.214286          0.214286         0         0         0         1   \n",
       "4          1.000000          1.000000         0         0         0         2   \n",
       "\n",
       "   label  \n",
       "0      1  \n",
       "1      1  \n",
       "2      1  \n",
       "3      1  \n",
       "4      1  "
      ]
     },
     "execution_count": 2,
     "metadata": {},
     "output_type": "execute_result"
    }
   ],
   "source": [
    "# Reading the csv dataset into our Python environment\n",
    "df = pd.read_csv('All_Attacks.csv')\n",
    "df.head() # Only first few rows of data for viewing clarity"
   ]
  },
  {
   "cell_type": "markdown",
   "id": "72c667aa",
   "metadata": {},
   "source": [
    "### More about the label column...\n",
    "\n",
    "The label column describes the class of IoT attack that was detected. There are 5 classes of IoT attacks simulated in this dataset, with each attack labelled from 1 through 5, respectively:\n",
    "\n",
    "1. SHA (Secure Hashing Algorithm) - The use of cryptographic hash functions to exploit vulnerabilities in data transmission from IoT devices. Attackers can verify/manipulate data and compromise authentication mechanisms if security protocols are not properly implemented.\n",
    "2. DFA (Differential Fault Attack) - Introduces controlled faults or errors into cryptographic calculations. By analyzing the varying intermediate values and outputs of the algorithm, an attacker can extract sensitive information, such as passwords/keys, from IoT devices.\n",
    "3. SFA (Selective Forwarding Attack) - This is a case where some packets (data or control messages) are deleted, while others are successfully forwarded. This interrupts the device routing process and affects efficiency of the network. The impact of this attack lies in the percentage of packets lost.\n",
    "4. SYA (Sybil Attack) - In this type of attack, nodes pretend to be more than one node simultaenously. As a result, there can be a theft of data, since illegitimate nodes can take the identity of legitimate nodes and send the traffic to another place.\n",
    "5. VNA (Version Number Attack) - An attacker maliciously changes the version number of a network. This type of attack affects the network performance and packet delivery ratio, due to increase in delay and control overhead (how much routing and control information necessary to transmit data from application to destination).\n",
    "\n",
    "Let's see how many occurrences of each IoT attack were recorded in this dataset. "
   ]
  },
  {
   "cell_type": "code",
   "execution_count": 3,
   "id": "2b81c7a5",
   "metadata": {
    "scrolled": true
   },
   "outputs": [
    {
     "data": {
      "text/plain": [
       "1    2405\n",
       "4    2273\n",
       "3    2256\n",
       "5    2102\n",
       "2    1809\n",
       "Name: label, dtype: int64"
      ]
     },
     "execution_count": 3,
     "metadata": {},
     "output_type": "execute_result"
    }
   ],
   "source": [
    "# Viewing occurrences of each class in label column\n",
    "df['label'].value_counts()"
   ]
  },
  {
   "cell_type": "markdown",
   "id": "14b2dd12",
   "metadata": {},
   "source": [
    "We can see that the IoT attack corresponding to the label 1 has the most occurences at 2405 and the one corresponding to label 2 has the least occurrences at 1809. It is quite confusing to refer the label number to the attack, every time we want to use this data. Let's attempt to map the numerical labels to more comprehensible data. "
   ]
  },
  {
   "cell_type": "code",
   "execution_count": 4,
   "id": "53ce99d9",
   "metadata": {},
   "outputs": [
    {
     "data": {
      "text/plain": [
       "SHA    2405\n",
       "SYA    2273\n",
       "SFA    2256\n",
       "VNA    2102\n",
       "DFA    1809\n",
       "Name: label, dtype: int64"
      ]
     },
     "execution_count": 4,
     "metadata": {},
     "output_type": "execute_result"
    }
   ],
   "source": [
    "# Define the mapping of numeric labels to IoT attack names\n",
    "label_mapping = {\n",
    "    1: 'SHA',\n",
    "    2: 'DFA',\n",
    "    3: 'SFA',\n",
    "    4: 'SYA',\n",
    "    5: 'VNA'\n",
    "}\n",
    "\n",
    "# Replace the numeric labels in the 'label' column\n",
    "df['label'] = df['label'].map(label_mapping)\n",
    "\n",
    "# Viewing occurrences of each class again\n",
    "df['label'].value_counts()"
   ]
  },
  {
   "cell_type": "markdown",
   "id": "d7adf7d3",
   "metadata": {},
   "source": [
    "This is much clearer and easier to understand! We can directly see that SHA attacks are most common, followed by SYAs, SFAs, VNAs and DFAs in descending order. Let's do a quick visualization of this!"
   ]
  },
  {
   "cell_type": "code",
   "execution_count": 5,
   "id": "2d966648",
   "metadata": {
    "scrolled": false
   },
   "outputs": [
    {
     "data": {
      "image/png": "[encoded data removed]",
      "text/plain": [
       "<Figure size 640x480 with 1 Axes>"
      ]
     },
     "metadata": {},
     "output_type": "display_data"
    },
    {
     "data": {
      "image/png": "[encoded data removed]",
      "text/plain": [
       "<Figure size 640x480 with 1 Axes>"
      ]
     },
     "metadata": {},
     "output_type": "display_data"
    }
   ],
   "source": [
    "# Data Visualization Analysis\n",
    "label_data = df['label'].value_counts()\n",
    "\n",
    "# Bar Plot\n",
    "plt.bar(label_data.index, label_data.values)\n",
    "plt.xlabel('IoT Attack Label')\n",
    "plt.ylabel('Occurrences')\n",
    "plt.title('Occurrences of Each IoT Attack')\n",
    "plt.show()\n",
    "\n",
    "# Pie Plot\n",
    "plt.pie(label_data, labels=label_data.index, autopct='%1.1f%%', startangle=140)\n",
    "plt.title('Occurrences of Each IoT Attack')\n",
    "plt.show()"
   ]
  },
  {
   "cell_type": "markdown",
   "id": "90425f8d",
   "metadata": {},
   "source": [
    "### Now that our target variable, the label, has been cleaned, let's obtain a quick summary of our features using .info() and .describe()!"
   ]
  },
  {
   "cell_type": "code",
   "execution_count": 6,
   "id": "13594d7a",
   "metadata": {},
   "outputs": [],
   "source": [
    "feats_df = df.drop(columns=['label']) # Splitting off label column to create separate dataframe of just features"
   ]
  },
  {
   "cell_type": "code",
   "execution_count": 7,
   "id": "ff23ac9a",
   "metadata": {
    "scrolled": false
   },
   "outputs": [
    {
     "name": "stdout",
     "output_type": "stream",
     "text": [
      "<class 'pandas.core.frame.DataFrame'>\n",
      "RangeIndex: 10845 entries, 0 to 10844\n",
      "Data columns (total 16 columns):\n",
      " #   Column               Non-Null Count  Dtype  \n",
      "---  ------               --------------  -----  \n",
      " 0   second               10845 non-null  int64  \n",
      " 1   src                  10845 non-null  int64  \n",
      " 2   dst                  10845 non-null  int64  \n",
      " 3   packetcount          10845 non-null  int64  \n",
      " 4   src_ratio            10845 non-null  float64\n",
      " 5   dst_ratio            10845 non-null  float64\n",
      " 6   src_duration_ratio   10845 non-null  float64\n",
      " 7   dst_duration_ratio   10845 non-null  float64\n",
      " 8   TotalPacketDuration  10845 non-null  float64\n",
      " 9   TotalPacketLenght    10845 non-null  int64  \n",
      " 10  src_packet_ratio     10845 non-null  float64\n",
      " 11  dst_packet_ratio     10845 non-null  float64\n",
      " 12  DioCount             10845 non-null  int64  \n",
      " 13  DisCount             10845 non-null  int64  \n",
      " 14  DaoCount             10845 non-null  int64  \n",
      " 15  OtherMsg             10845 non-null  int64  \n",
      "dtypes: float64(7), int64(9)\n",
      "memory usage: 1.3 MB\n",
      "None\n"
     ]
    }
   ],
   "source": [
    "# Concise Dataset Summary\n",
    "print(feats_df.info())"
   ]
  },
  {
   "cell_type": "markdown",
   "id": "157ae27d",
   "metadata": {},
   "source": [
    "In this dataset, there are:\n",
    "\n",
    "- 16 columns and 10845 rows\n",
    "- 7 float64 columns and 9 int64 columns\n",
    "- no missing values from any columns in the dataset! Each column has 10845 non-null values!"
   ]
  },
  {
   "cell_type": "code",
   "execution_count": 8,
   "id": "10cd67f8",
   "metadata": {
    "scrolled": false
   },
   "outputs": [
    {
     "name": "stdout",
     "output_type": "stream",
     "text": [
      "             second           src           dst   packetcount     src_ratio  \\\n",
      "count  10845.000000  10845.000000  10845.000000  10845.000000  10845.000000   \n",
      "mean     338.096081     19.472476     28.188658      1.566805      0.290404   \n",
      "std      145.679764     11.932040     10.311293      0.968465      0.212384   \n",
      "min       60.000000      0.000000      0.000000      1.000000      0.034483   \n",
      "25%      216.000000     13.000000     18.000000      1.000000      0.111111   \n",
      "50%      343.000000     16.000000     30.000000      1.000000      0.235294   \n",
      "75%      460.000000     26.000000     32.000000      2.000000      0.444444   \n",
      "max      591.000000     50.000000     51.000000     10.000000      1.000000   \n",
      "\n",
      "          dst_ratio  src_duration_ratio  dst_duration_ratio  \\\n",
      "count  10845.000000        10845.000000        10845.000000   \n",
      "mean       0.377594            0.287160            0.435793   \n",
      "std        0.214736            0.304885            0.368901   \n",
      "min        0.034483            0.000000            0.000000   \n",
      "25%        0.200000            0.030957            0.057098   \n",
      "50%        0.333333            0.149697            0.360374   \n",
      "75%        0.500000            0.500000            0.847793   \n",
      "max        1.000000            1.000000            1.000000   \n",
      "\n",
      "       TotalPacketDuration  TotalPacketLenght  src_packet_ratio  \\\n",
      "count         10845.000000       10845.000000      10845.000000   \n",
      "mean              0.065952          98.319779          0.293646   \n",
      "std               0.193742          76.864911          0.228556   \n",
      "min               0.000000          23.000000          0.017747   \n",
      "25%               0.004272          37.000000          0.094629   \n",
      "50%               0.009460          78.000000          0.234436   \n",
      "75%               0.029968         115.000000          0.446512   \n",
      "max               3.610001         715.000000          1.000000   \n",
      "\n",
      "       dst_packet_ratio      DioCount      DisCount      DaoCount  \\\n",
      "count      10845.000000  10845.000000  10845.000000  10845.000000   \n",
      "mean           0.352207      0.166067      0.009129      0.060858   \n",
      "std            0.207988      0.411911      0.095111      0.406267   \n",
      "min            0.017747      0.000000      0.000000      0.000000   \n",
      "25%            0.200000      0.000000      0.000000      0.000000   \n",
      "50%            0.313725      0.000000      0.000000      0.000000   \n",
      "75%            0.453333      0.000000      0.000000      0.000000   \n",
      "max            1.000000      4.000000      1.000000      7.000000   \n",
      "\n",
      "           OtherMsg  \n",
      "count  10845.000000  \n",
      "mean      30.859751  \n",
      "std       34.764335  \n",
      "min        0.000000  \n",
      "25%        5.000000  \n",
      "50%       21.000000  \n",
      "75%       42.000000  \n",
      "max      291.000000  \n"
     ]
    }
   ],
   "source": [
    "# Descriptive Statistics Analysis\n",
    "print(feats_df.describe())"
   ]
  },
  {
   "cell_type": "markdown",
   "id": "a861f8e1",
   "metadata": {},
   "source": [
    "Displayed above is a descriptive statistical analysis of the features dataset, giving us the mean, std, min, max, etc. of the values in each column. This information can be useful to provide an overview of the data and identify patterns/outliers."
   ]
  },
  {
   "cell_type": "markdown",
   "id": "a7b1222e",
   "metadata": {
    "scrolled": false
   },
   "source": [
    "### Binary Classification - Preprocessing\n",
    "\n",
    "Let's say we want to determine if a detected IoT attack is a SHA attack, using the information from this dataset. Preprocessing is an important step to make sure we can draw meaningful analyses from the data.\n",
    "\n",
    "##### Since this is a binary classification issue (either is SHA or not SHA), we must remove the label column, as it has 5 categories."
   ]
  },
  {
   "cell_type": "code",
   "execution_count": 9,
   "id": "7dec0337",
   "metadata": {},
   "outputs": [
    {
     "data": {
      "text/html": [
       "<div>\n",
       "<style scoped>\n",
       "    .dataframe tbody tr th:only-of-type {\n",
       "        vertical-align: middle;\n",
       "    }\n",
       "\n",
       "    .dataframe tbody tr th {\n",
       "        vertical-align: top;\n",
       "    }\n",
       "\n",
       "    .dataframe thead th {\n",
       "        text-align: right;\n",
       "    }\n",
       "</style>\n",
       "<table border=\"1\" class=\"dataframe\">\n",
       "  <thead>\n",
       "    <tr style=\"text-align: right;\">\n",
       "      <th></th>\n",
       "      <th>label_SHA</th>\n",
       "    </tr>\n",
       "  </thead>\n",
       "  <tbody>\n",
       "    <tr>\n",
       "      <th>0</th>\n",
       "      <td>1</td>\n",
       "    </tr>\n",
       "    <tr>\n",
       "      <th>1</th>\n",
       "      <td>1</td>\n",
       "    </tr>\n",
       "    <tr>\n",
       "      <th>2</th>\n",
       "      <td>1</td>\n",
       "    </tr>\n",
       "    <tr>\n",
       "      <th>3</th>\n",
       "      <td>1</td>\n",
       "    </tr>\n",
       "    <tr>\n",
       "      <th>4</th>\n",
       "      <td>1</td>\n",
       "    </tr>\n",
       "    <tr>\n",
       "      <th>...</th>\n",
       "      <td>...</td>\n",
       "    </tr>\n",
       "    <tr>\n",
       "      <th>10840</th>\n",
       "      <td>0</td>\n",
       "    </tr>\n",
       "    <tr>\n",
       "      <th>10841</th>\n",
       "      <td>0</td>\n",
       "    </tr>\n",
       "    <tr>\n",
       "      <th>10842</th>\n",
       "      <td>0</td>\n",
       "    </tr>\n",
       "    <tr>\n",
       "      <th>10843</th>\n",
       "      <td>0</td>\n",
       "    </tr>\n",
       "    <tr>\n",
       "      <th>10844</th>\n",
       "      <td>0</td>\n",
       "    </tr>\n",
       "  </tbody>\n",
       "</table>\n",
       "<p>10845 rows × 1 columns</p>\n",
       "</div>"
      ],
      "text/plain": [
       "       label_SHA\n",
       "0              1\n",
       "1              1\n",
       "2              1\n",
       "3              1\n",
       "4              1\n",
       "...          ...\n",
       "10840          0\n",
       "10841          0\n",
       "10842          0\n",
       "10843          0\n",
       "10844          0\n",
       "\n",
       "[10845 rows x 1 columns]"
      ]
     },
     "execution_count": 9,
     "metadata": {},
     "output_type": "execute_result"
    }
   ],
   "source": [
    "dummies = pd.get_dummies(df, columns=['label'])[['label_SHA']]\n",
    "dummies"
   ]
  },
  {
   "cell_type": "code",
   "execution_count": 10,
   "id": "bb47a56e",
   "metadata": {},
   "outputs": [],
   "source": [
    "dfbc = df.assign(Is_SHA = dummies['label_SHA'])\n",
    "upsampleDC = dfbc # Used later in handling unbalanced classes"
   ]
  },
  {
   "cell_type": "markdown",
   "id": "2be4ba72",
   "metadata": {},
   "source": [
    "Let's take a look at what our dataframe looks like now!"
   ]
  },
  {
   "cell_type": "code",
   "execution_count": 11,
   "id": "4d903f60",
   "metadata": {},
   "outputs": [
    {
     "data": {
      "text/html": [
       "<div>\n",
       "<style scoped>\n",
       "    .dataframe tbody tr th:only-of-type {\n",
       "        vertical-align: middle;\n",
       "    }\n",
       "\n",
       "    .dataframe tbody tr th {\n",
       "        vertical-align: top;\n",
       "    }\n",
       "\n",
       "    .dataframe thead th {\n",
       "        text-align: right;\n",
       "    }\n",
       "</style>\n",
       "<table border=\"1\" class=\"dataframe\">\n",
       "  <thead>\n",
       "    <tr style=\"text-align: right;\">\n",
       "      <th></th>\n",
       "      <th>second</th>\n",
       "      <th>src</th>\n",
       "      <th>dst</th>\n",
       "      <th>packetcount</th>\n",
       "      <th>src_ratio</th>\n",
       "      <th>dst_ratio</th>\n",
       "      <th>src_duration_ratio</th>\n",
       "      <th>dst_duration_ratio</th>\n",
       "      <th>TotalPacketDuration</th>\n",
       "      <th>TotalPacketLenght</th>\n",
       "      <th>src_packet_ratio</th>\n",
       "      <th>dst_packet_ratio</th>\n",
       "      <th>DioCount</th>\n",
       "      <th>DisCount</th>\n",
       "      <th>DaoCount</th>\n",
       "      <th>OtherMsg</th>\n",
       "      <th>label</th>\n",
       "      <th>Is_SHA</th>\n",
       "    </tr>\n",
       "  </thead>\n",
       "  <tbody>\n",
       "    <tr>\n",
       "      <th>0</th>\n",
       "      <td>61</td>\n",
       "      <td>2</td>\n",
       "      <td>32</td>\n",
       "      <td>1</td>\n",
       "      <td>0.500000</td>\n",
       "      <td>1.000000</td>\n",
       "      <td>0.013889</td>\n",
       "      <td>1.000000</td>\n",
       "      <td>0.020000</td>\n",
       "      <td>37</td>\n",
       "      <td>0.500000</td>\n",
       "      <td>1.000000</td>\n",
       "      <td>0</td>\n",
       "      <td>0</td>\n",
       "      <td>0</td>\n",
       "      <td>1</td>\n",
       "      <td>SHA</td>\n",
       "      <td>1</td>\n",
       "    </tr>\n",
       "    <tr>\n",
       "      <th>1</th>\n",
       "      <td>61</td>\n",
       "      <td>4</td>\n",
       "      <td>32</td>\n",
       "      <td>1</td>\n",
       "      <td>0.500000</td>\n",
       "      <td>1.000000</td>\n",
       "      <td>0.986111</td>\n",
       "      <td>1.000000</td>\n",
       "      <td>1.419998</td>\n",
       "      <td>37</td>\n",
       "      <td>0.500000</td>\n",
       "      <td>1.000000</td>\n",
       "      <td>0</td>\n",
       "      <td>0</td>\n",
       "      <td>0</td>\n",
       "      <td>1</td>\n",
       "      <td>SHA</td>\n",
       "      <td>1</td>\n",
       "    </tr>\n",
       "    <tr>\n",
       "      <th>2</th>\n",
       "      <td>62</td>\n",
       "      <td>24</td>\n",
       "      <td>16</td>\n",
       "      <td>2</td>\n",
       "      <td>0.666667</td>\n",
       "      <td>0.666667</td>\n",
       "      <td>0.751425</td>\n",
       "      <td>0.751425</td>\n",
       "      <td>0.008049</td>\n",
       "      <td>187</td>\n",
       "      <td>0.785714</td>\n",
       "      <td>0.785714</td>\n",
       "      <td>0</td>\n",
       "      <td>0</td>\n",
       "      <td>2</td>\n",
       "      <td>0</td>\n",
       "      <td>SHA</td>\n",
       "      <td>1</td>\n",
       "    </tr>\n",
       "    <tr>\n",
       "      <th>3</th>\n",
       "      <td>62</td>\n",
       "      <td>16</td>\n",
       "      <td>24</td>\n",
       "      <td>1</td>\n",
       "      <td>0.333333</td>\n",
       "      <td>0.333333</td>\n",
       "      <td>0.248576</td>\n",
       "      <td>0.248576</td>\n",
       "      <td>0.002663</td>\n",
       "      <td>51</td>\n",
       "      <td>0.214286</td>\n",
       "      <td>0.214286</td>\n",
       "      <td>0</td>\n",
       "      <td>0</td>\n",
       "      <td>0</td>\n",
       "      <td>1</td>\n",
       "      <td>SHA</td>\n",
       "      <td>1</td>\n",
       "    </tr>\n",
       "    <tr>\n",
       "      <th>4</th>\n",
       "      <td>63</td>\n",
       "      <td>16</td>\n",
       "      <td>24</td>\n",
       "      <td>1</td>\n",
       "      <td>1.000000</td>\n",
       "      <td>1.000000</td>\n",
       "      <td>1.000000</td>\n",
       "      <td>1.000000</td>\n",
       "      <td>0.002953</td>\n",
       "      <td>60</td>\n",
       "      <td>1.000000</td>\n",
       "      <td>1.000000</td>\n",
       "      <td>0</td>\n",
       "      <td>0</td>\n",
       "      <td>0</td>\n",
       "      <td>2</td>\n",
       "      <td>SHA</td>\n",
       "      <td>1</td>\n",
       "    </tr>\n",
       "  </tbody>\n",
       "</table>\n",
       "</div>"
      ],
      "text/plain": [
       "   second  src  dst  packetcount  src_ratio  dst_ratio  src_duration_ratio  \\\n",
       "0      61    2   32            1   0.500000   1.000000            0.013889   \n",
       "1      61    4   32            1   0.500000   1.000000            0.986111   \n",
       "2      62   24   16            2   0.666667   0.666667            0.751425   \n",
       "3      62   16   24            1   0.333333   0.333333            0.248576   \n",
       "4      63   16   24            1   1.000000   1.000000            1.000000   \n",
       "\n",
       "   dst_duration_ratio  TotalPacketDuration  TotalPacketLenght  \\\n",
       "0            1.000000             0.020000                 37   \n",
       "1            1.000000             1.419998                 37   \n",
       "2            0.751425             0.008049                187   \n",
       "3            0.248576             0.002663                 51   \n",
       "4            1.000000             0.002953                 60   \n",
       "\n",
       "   src_packet_ratio  dst_packet_ratio  DioCount  DisCount  DaoCount  OtherMsg  \\\n",
       "0          0.500000          1.000000         0         0         0         1   \n",
       "1          0.500000          1.000000         0         0         0         1   \n",
       "2          0.785714          0.785714         0         0         2         0   \n",
       "3          0.214286          0.214286         0         0         0         1   \n",
       "4          1.000000          1.000000         0         0         0         2   \n",
       "\n",
       "  label  Is_SHA  \n",
       "0   SHA       1  \n",
       "1   SHA       1  \n",
       "2   SHA       1  \n",
       "3   SHA       1  \n",
       "4   SHA       1  "
      ]
     },
     "execution_count": 11,
     "metadata": {},
     "output_type": "execute_result"
    }
   ],
   "source": [
    "dfbc.head()"
   ]
  },
  {
   "cell_type": "code",
   "execution_count": 12,
   "id": "7b4765fc",
   "metadata": {},
   "outputs": [
    {
     "name": "stderr",
     "output_type": "stream",
     "text": [
      "C:\\Users\\grape\\AppData\\Local\\Temp\\ipykernel_16696\\1131579.py:2: FutureWarning: The default value of numeric_only in DataFrame.corr is deprecated. In a future version, it will default to False. Select only valid columns or specify the value of numeric_only to silence this warning.\n",
      "  dfbc.corr()['Is_SHA'] * 100\n"
     ]
    },
    {
     "data": {
      "text/plain": [
       "second                   4.722311\n",
       "src                      4.313406\n",
       "dst                      6.232585\n",
       "packetcount              2.058962\n",
       "src_ratio              -10.057773\n",
       "dst_ratio               -3.938324\n",
       "src_duration_ratio      -8.671680\n",
       "dst_duration_ratio      -0.432061\n",
       "TotalPacketDuration     -2.900428\n",
       "TotalPacketLenght       -0.327493\n",
       "src_packet_ratio        -9.408989\n",
       "dst_packet_ratio        -4.370225\n",
       "DioCount                 2.403816\n",
       "DisCount                 9.112391\n",
       "DaoCount                -5.756589\n",
       "OtherMsg                -0.332465\n",
       "Is_SHA                 100.000000\n",
       "Name: Is_SHA, dtype: float64"
      ]
     },
     "execution_count": 12,
     "metadata": {},
     "output_type": "execute_result"
    }
   ],
   "source": [
    "# Provide us correlation values\n",
    "dfbc.corr()['Is_SHA'] * 100"
   ]
  },
  {
   "cell_type": "markdown",
   "id": "22e56876",
   "metadata": {},
   "source": [
    "The .corr() method from the pandas library is used to compute and obtain pairwise correlation values between the feature columns to the target column, 'Is_SHA'. The negative values imply a negative correlation to the target and the positive values imply a positive correlation to the target. The magnitude of the value describes how strong each correlation is. We can see for example that the higher the DIS Message Count, the more likely it is to be an SHA attack. But the higher the DAO Message Count, the less likely it is to be an SHA attack."
   ]
  },
  {
   "cell_type": "markdown",
   "id": "70bd90b0",
   "metadata": {},
   "source": [
    "The function below will take our dataframe as an input and apply a one-hot encoding to transform our categorical variables into a binary representation (either 0 for False or 1 for True). Then, we will separate the features and target for our binary classification model to use."
   ]
  },
  {
   "cell_type": "code",
   "execution_count": 13,
   "id": "a524c335",
   "metadata": {},
   "outputs": [],
   "source": [
    "def transform_to_numeric(df):\n",
    "    d1 = df.drop(labels=['label'], axis=1).fillna(0)\n",
    "    return pd.get_dummies(d1).replace({True: 1, False: 0})\n",
    "numeric = transform_to_numeric(dfbc)"
   ]
  },
  {
   "cell_type": "code",
   "execution_count": 14,
   "id": "29911d27",
   "metadata": {},
   "outputs": [],
   "source": [
    "X = numeric.drop('Is_SHA', axis=1) # Separating Features from Target\n",
    "y = numeric['Is_SHA'] # Target Column: 'Is_SHA'"
   ]
  },
  {
   "cell_type": "code",
   "execution_count": 15,
   "id": "687b1248",
   "metadata": {},
   "outputs": [
    {
     "data": {
      "text/plain": [
       "0    8440\n",
       "1    2405\n",
       "Name: Is_SHA, dtype: int64"
      ]
     },
     "execution_count": 15,
     "metadata": {},
     "output_type": "execute_result"
    }
   ],
   "source": [
    "y.value_counts() # Displaying 'Is_SHA' Class Balance"
   ]
  },
  {
   "cell_type": "markdown",
   "id": "3f18287c",
   "metadata": {},
   "source": [
    "There are 8440 attacks recorded that are not SHA attacks, while 2405 are SHA attacks. \n",
    "\n",
    "The proportions of this binary class can be defined as:\n",
    "- 0 - NOT SHA: 8440/(8440 + 2405) = 0.77823882\n",
    "- 1 - IS SHA: 2405/(8440 + 2405) = 0.22176118\n"
   ]
  },
  {
   "cell_type": "markdown",
   "id": "3fbfc66e",
   "metadata": {},
   "source": [
    "### Dummy Classifier Model\n",
    "\n",
    "Let's begin by applying a Dummy Classifier model to determine whether an IoT attack is an SHA attack or not. The Dummy Classifier is the baseline model for classification from sklearn and is used frequently in binary classification problems. Dummy Classifiers work by using a predetermined strategy to make predictions. By default, its strategy is to predict the most frequent class from the training data. Baseline models such as the Dummy Classifier can help us understand the data/problem better as they are simplisitic, providing us with a benchmark for evaluating more complex models. IF you would like to read more about the Dummy Classifier, take a look at sklearn's documentation here: https://scikit-learn.org/stable/modules/generated/sklearn.dummy.DummyClassifier.html\n",
    "\n",
    "There is a general procedure for working with classifier models:\n",
    "1. Read the data\n",
    "2. Create training and testing data for both your features (X) and target variable (y). The target variable in this case would be a categorical variable (classes).\n",
    "3. Next step is to create the classifier object. This could be a dummy classifier, logistic regression, K-nearest neighbours, SVMs (support vector machines), and more.\n",
    "4. Fit the classifier.\n",
    "5. Predict on new examples (X_test).\n",
    "6. Score the model, by comparing the predictions from X_test using your model against true values of the y_test.\n",
    "\n",
    "Let's take a look at how we would approach these steps one-by-one using a Dummy Classifier! We have already read the data into our Python environment, so let's begin at step 2!"
   ]
  },
  {
   "cell_type": "markdown",
   "id": "d3cd5bc7",
   "metadata": {},
   "source": [
    "#### Step 2: \n",
    "\n",
    "We can accomplish this using the train_test_split module from the sklearn library! This is how:"
   ]
  },
  {
   "cell_type": "code",
   "execution_count": 16,
   "id": "2488af62",
   "metadata": {},
   "outputs": [],
   "source": [
    "from sklearn.model_selection import train_test_split\n",
    "\n",
    "# Performing a train-test split on the data for our model to use\n",
    "X_train, X_test, y_train, y_test = train_test_split(X, y, test_size=0.2, random_state=42)"
   ]
  },
  {
   "cell_type": "markdown",
   "id": "12f8602d",
   "metadata": {},
   "source": [
    "#### Step 3 & 4:\n",
    "\n",
    "Since we'll be using the Dummy Classifier from sklearn, let's import the module into our Python environment. Then, we will create an object for the Dummy Classifier model and fit our training data to the model. "
   ]
  },
  {
   "cell_type": "code",
   "execution_count": 17,
   "id": "cb5ac1b4",
   "metadata": {},
   "outputs": [
    {
     "data": {
      "text/html": [
       "<style>#sk-container-id-1 {color: black;background-color: white;}#sk-container-id-1 pre{padding: 0;}#sk-container-id-1 div.sk-toggleable {background-color: white;}#sk-container-id-1 label.sk-toggleable__label {cursor: pointer;display: block;width: 100%;margin-bottom: 0;padding: 0.3em;box-sizing: border-box;text-align: center;}#sk-container-id-1 label.sk-toggleable__label-arrow:before {content: \"▸\";float: left;margin-right: 0.25em;color: #696969;}#sk-container-id-1 label.sk-toggleable__label-arrow:hover:before {color: black;}#sk-container-id-1 div.sk-estimator:hover label.sk-toggleable__label-arrow:before {color: black;}#sk-container-id-1 div.sk-toggleable__content {max-height: 0;max-width: 0;overflow: hidden;text-align: left;background-color: #f0f8ff;}#sk-container-id-1 div.sk-toggleable__content pre {margin: 0.2em;color: black;border-radius: 0.25em;background-color: #f0f8ff;}#sk-container-id-1 input.sk-toggleable__control:checked~div.sk-toggleable__content {max-height: 200px;max-width: 100%;overflow: auto;}#sk-container-id-1 input.sk-toggleable__control:checked~label.sk-toggleable__label-arrow:before {content: \"▾\";}#sk-container-id-1 div.sk-estimator input.sk-toggleable__control:checked~label.sk-toggleable__label {background-color: #d4ebff;}#sk-container-id-1 div.sk-label input.sk-toggleable__control:checked~label.sk-toggleable__label {background-color: #d4ebff;}#sk-container-id-1 input.sk-hidden--visually {border: 0;clip: rect(1px 1px 1px 1px);clip: rect(1px, 1px, 1px, 1px);height: 1px;margin: -1px;overflow: hidden;padding: 0;position: absolute;width: 1px;}#sk-container-id-1 div.sk-estimator {font-family: monospace;background-color: #f0f8ff;border: 1px dotted black;border-radius: 0.25em;box-sizing: border-box;margin-bottom: 0.5em;}#sk-container-id-1 div.sk-estimator:hover {background-color: #d4ebff;}#sk-container-id-1 div.sk-parallel-item::after {content: \"\";width: 100%;border-bottom: 1px solid gray;flex-grow: 1;}#sk-container-id-1 div.sk-label:hover label.sk-toggleable__label {background-color: #d4ebff;}#sk-container-id-1 div.sk-serial::before {content: \"\";position: absolute;border-left: 1px solid gray;box-sizing: border-box;top: 0;bottom: 0;left: 50%;z-index: 0;}#sk-container-id-1 div.sk-serial {display: flex;flex-direction: column;align-items: center;background-color: white;padding-right: 0.2em;padding-left: 0.2em;position: relative;}#sk-container-id-1 div.sk-item {position: relative;z-index: 1;}#sk-container-id-1 div.sk-parallel {display: flex;align-items: stretch;justify-content: center;background-color: white;position: relative;}#sk-container-id-1 div.sk-item::before, #sk-container-id-1 div.sk-parallel-item::before {content: \"\";position: absolute;border-left: 1px solid gray;box-sizing: border-box;top: 0;bottom: 0;left: 50%;z-index: -1;}#sk-container-id-1 div.sk-parallel-item {display: flex;flex-direction: column;z-index: 1;position: relative;background-color: white;}#sk-container-id-1 div.sk-parallel-item:first-child::after {align-self: flex-end;width: 50%;}#sk-container-id-1 div.sk-parallel-item:last-child::after {align-self: flex-start;width: 50%;}#sk-container-id-1 div.sk-parallel-item:only-child::after {width: 0;}#sk-container-id-1 div.sk-dashed-wrapped {border: 1px dashed gray;margin: 0 0.4em 0.5em 0.4em;box-sizing: border-box;padding-bottom: 0.4em;background-color: white;}#sk-container-id-1 div.sk-label label {font-family: monospace;font-weight: bold;display: inline-block;line-height: 1.2em;}#sk-container-id-1 div.sk-label-container {text-align: center;}#sk-container-id-1 div.sk-container {/* jupyter's `normalize.less` sets `[hidden] { display: none; }` but bootstrap.min.css set `[hidden] { display: none !important; }` so we also need the `!important` here to be able to override the default hidden behavior on the sphinx rendered scikit-learn.org. See: https://github.com/scikit-learn/scikit-learn/issues/21755 */display: inline-block !important;position: relative;}#sk-container-id-1 div.sk-text-repr-fallback {display: none;}</style><div id=\"sk-container-id-1\" class=\"sk-top-container\"><div class=\"sk-text-repr-fallback\"><pre>DummyClassifier()</pre><b>In a Jupyter environment, please rerun this cell to show the HTML representation or trust the notebook. <br />On GitHub, the HTML representation is unable to render, please try loading this page with nbviewer.org.</b></div><div class=\"sk-container\" hidden><div class=\"sk-item\"><div class=\"sk-estimator sk-toggleable\"><input class=\"sk-toggleable__control sk-hidden--visually\" id=\"sk-estimator-id-1\" type=\"checkbox\" checked><label for=\"sk-estimator-id-1\" class=\"sk-toggleable__label sk-toggleable__label-arrow\">DummyClassifier</label><div class=\"sk-toggleable__content\"><pre>DummyClassifier()</pre></div></div></div></div></div>"
      ],
      "text/plain": [
       "DummyClassifier()"
      ]
     },
     "execution_count": 17,
     "metadata": {},
     "output_type": "execute_result"
    }
   ],
   "source": [
    "# Import the Dummy Classifier \n",
    "from sklearn.dummy import DummyClassifier \n",
    "\n",
    "# Creating/Fitting Object for Dummy Classifier Model\n",
    "dummy_clf = DummyClassifier()\n",
    "dummy_clf.fit(X_train, y_train)"
   ]
  },
  {
   "cell_type": "markdown",
   "id": "340374e1",
   "metadata": {},
   "source": [
    "#### Step 5 & 6:\n",
    "\n",
    "We can now make predictions using the testing data and evaluate the performance of the model using the .score method from sklearn. Note that using .score will automate the prediction of the data using X_test and compare the results to y_test, computing the R^2 value (a measure of variance)."
   ]
  },
  {
   "cell_type": "code",
   "execution_count": 18,
   "id": "0826f4fe",
   "metadata": {},
   "outputs": [
    {
     "name": "stdout",
     "output_type": "stream",
     "text": [
      "The accuracy of the model on the training data: 0.781\n"
     ]
    }
   ],
   "source": [
    "# Making Predictions + Evaluating Performance\n",
    "print(\"The accuracy of the model on the training data: %0.3f\" % (dummy_clf.score(X_test, y_test)))"
   ]
  },
  {
   "cell_type": "markdown",
   "id": "e517c473",
   "metadata": {},
   "source": [
    "Using the Dummy Classifier model, we were able to predict SHA attacks from the testing data with a 78.1% accuracy. This is as expected, since the Dummy Classifier will tend to pick the majority class (not SHA attack) and will guess wrong for the minority class (is SHA attack) in the testing dataset. Since SHA attacks make up approximately 22% of the dataset, our results make sense."
   ]
  },
  {
   "cell_type": "markdown",
   "id": "9ee75e54",
   "metadata": {},
   "source": [
    "### Class Imbalances in Binary Classification"
   ]
  },
  {
   "cell_type": "markdown",
   "id": "05c9da0b",
   "metadata": {},
   "source": [
    "Now, let's take a look at the upsampleDC dataframe we created upon preprocessing the data for binary classification. We will be addressing class imbalance issues and how to deal with them."
   ]
  },
  {
   "cell_type": "code",
   "execution_count": 19,
   "id": "c9949fab",
   "metadata": {},
   "outputs": [
    {
     "data": {
      "text/html": [
       "<div>\n",
       "<style scoped>\n",
       "    .dataframe tbody tr th:only-of-type {\n",
       "        vertical-align: middle;\n",
       "    }\n",
       "\n",
       "    .dataframe tbody tr th {\n",
       "        vertical-align: top;\n",
       "    }\n",
       "\n",
       "    .dataframe thead th {\n",
       "        text-align: right;\n",
       "    }\n",
       "</style>\n",
       "<table border=\"1\" class=\"dataframe\">\n",
       "  <thead>\n",
       "    <tr style=\"text-align: right;\">\n",
       "      <th></th>\n",
       "      <th>second</th>\n",
       "      <th>src</th>\n",
       "      <th>dst</th>\n",
       "      <th>packetcount</th>\n",
       "      <th>src_ratio</th>\n",
       "      <th>dst_ratio</th>\n",
       "      <th>src_duration_ratio</th>\n",
       "      <th>dst_duration_ratio</th>\n",
       "      <th>TotalPacketDuration</th>\n",
       "      <th>TotalPacketLenght</th>\n",
       "      <th>src_packet_ratio</th>\n",
       "      <th>dst_packet_ratio</th>\n",
       "      <th>DioCount</th>\n",
       "      <th>DisCount</th>\n",
       "      <th>DaoCount</th>\n",
       "      <th>OtherMsg</th>\n",
       "      <th>Is_SHA</th>\n",
       "    </tr>\n",
       "  </thead>\n",
       "  <tbody>\n",
       "    <tr>\n",
       "      <th>0</th>\n",
       "      <td>61</td>\n",
       "      <td>2</td>\n",
       "      <td>32</td>\n",
       "      <td>1</td>\n",
       "      <td>0.500000</td>\n",
       "      <td>1.000000</td>\n",
       "      <td>0.013889</td>\n",
       "      <td>1.000000</td>\n",
       "      <td>0.020000</td>\n",
       "      <td>37</td>\n",
       "      <td>0.500000</td>\n",
       "      <td>1.000000</td>\n",
       "      <td>0</td>\n",
       "      <td>0</td>\n",
       "      <td>0</td>\n",
       "      <td>1</td>\n",
       "      <td>1</td>\n",
       "    </tr>\n",
       "    <tr>\n",
       "      <th>1</th>\n",
       "      <td>61</td>\n",
       "      <td>4</td>\n",
       "      <td>32</td>\n",
       "      <td>1</td>\n",
       "      <td>0.500000</td>\n",
       "      <td>1.000000</td>\n",
       "      <td>0.986111</td>\n",
       "      <td>1.000000</td>\n",
       "      <td>1.419998</td>\n",
       "      <td>37</td>\n",
       "      <td>0.500000</td>\n",
       "      <td>1.000000</td>\n",
       "      <td>0</td>\n",
       "      <td>0</td>\n",
       "      <td>0</td>\n",
       "      <td>1</td>\n",
       "      <td>1</td>\n",
       "    </tr>\n",
       "    <tr>\n",
       "      <th>2</th>\n",
       "      <td>62</td>\n",
       "      <td>24</td>\n",
       "      <td>16</td>\n",
       "      <td>2</td>\n",
       "      <td>0.666667</td>\n",
       "      <td>0.666667</td>\n",
       "      <td>0.751425</td>\n",
       "      <td>0.751425</td>\n",
       "      <td>0.008049</td>\n",
       "      <td>187</td>\n",
       "      <td>0.785714</td>\n",
       "      <td>0.785714</td>\n",
       "      <td>0</td>\n",
       "      <td>0</td>\n",
       "      <td>2</td>\n",
       "      <td>0</td>\n",
       "      <td>1</td>\n",
       "    </tr>\n",
       "    <tr>\n",
       "      <th>3</th>\n",
       "      <td>62</td>\n",
       "      <td>16</td>\n",
       "      <td>24</td>\n",
       "      <td>1</td>\n",
       "      <td>0.333333</td>\n",
       "      <td>0.333333</td>\n",
       "      <td>0.248576</td>\n",
       "      <td>0.248576</td>\n",
       "      <td>0.002663</td>\n",
       "      <td>51</td>\n",
       "      <td>0.214286</td>\n",
       "      <td>0.214286</td>\n",
       "      <td>0</td>\n",
       "      <td>0</td>\n",
       "      <td>0</td>\n",
       "      <td>1</td>\n",
       "      <td>1</td>\n",
       "    </tr>\n",
       "    <tr>\n",
       "      <th>4</th>\n",
       "      <td>63</td>\n",
       "      <td>16</td>\n",
       "      <td>24</td>\n",
       "      <td>1</td>\n",
       "      <td>1.000000</td>\n",
       "      <td>1.000000</td>\n",
       "      <td>1.000000</td>\n",
       "      <td>1.000000</td>\n",
       "      <td>0.002953</td>\n",
       "      <td>60</td>\n",
       "      <td>1.000000</td>\n",
       "      <td>1.000000</td>\n",
       "      <td>0</td>\n",
       "      <td>0</td>\n",
       "      <td>0</td>\n",
       "      <td>2</td>\n",
       "      <td>1</td>\n",
       "    </tr>\n",
       "  </tbody>\n",
       "</table>\n",
       "</div>"
      ],
      "text/plain": [
       "   second  src  dst  packetcount  src_ratio  dst_ratio  src_duration_ratio  \\\n",
       "0      61    2   32            1   0.500000   1.000000            0.013889   \n",
       "1      61    4   32            1   0.500000   1.000000            0.986111   \n",
       "2      62   24   16            2   0.666667   0.666667            0.751425   \n",
       "3      62   16   24            1   0.333333   0.333333            0.248576   \n",
       "4      63   16   24            1   1.000000   1.000000            1.000000   \n",
       "\n",
       "   dst_duration_ratio  TotalPacketDuration  TotalPacketLenght  \\\n",
       "0            1.000000             0.020000                 37   \n",
       "1            1.000000             1.419998                 37   \n",
       "2            0.751425             0.008049                187   \n",
       "3            0.248576             0.002663                 51   \n",
       "4            1.000000             0.002953                 60   \n",
       "\n",
       "   src_packet_ratio  dst_packet_ratio  DioCount  DisCount  DaoCount  OtherMsg  \\\n",
       "0          0.500000          1.000000         0         0         0         1   \n",
       "1          0.500000          1.000000         0         0         0         1   \n",
       "2          0.785714          0.785714         0         0         2         0   \n",
       "3          0.214286          0.214286         0         0         0         1   \n",
       "4          1.000000          1.000000         0         0         0         2   \n",
       "\n",
       "   Is_SHA  \n",
       "0       1  \n",
       "1       1  \n",
       "2       1  \n",
       "3       1  \n",
       "4       1  "
      ]
     },
     "execution_count": 19,
     "metadata": {},
     "output_type": "execute_result"
    }
   ],
   "source": [
    "upsampleDC = upsampleDC.drop(['label'], axis = 1)\n",
    "upsampleDC.head()"
   ]
  },
  {
   "cell_type": "code",
   "execution_count": 20,
   "id": "92960f57",
   "metadata": {},
   "outputs": [
    {
     "data": {
      "text/plain": [
       "0    0.778239\n",
       "1    0.221761\n",
       "Name: Is_SHA, dtype: float64"
      ]
     },
     "execution_count": 20,
     "metadata": {},
     "output_type": "execute_result"
    }
   ],
   "source": [
    "upsampleDC['Is_SHA'].value_counts(normalize=True)"
   ]
  },
  {
   "cell_type": "markdown",
   "id": "fa8b5aa3",
   "metadata": {},
   "source": [
    "As you can see, the binary class is unbalanced, as the data shows only 22.2% of IoT attacks detected to be SHA attacks. We want to upsample the minority class (is SHA attack) to balance this out. The RandomOverSampler will duplicate random data points from the minority class until the distribution is even."
   ]
  },
  {
   "cell_type": "code",
   "execution_count": 21,
   "id": "14b84408",
   "metadata": {},
   "outputs": [],
   "source": [
    "from imblearn.over_sampling import RandomOverSampler\n",
    "\n",
    "ros = RandomOverSampler(sampling_strategy = \"not majority\") # we wish to upsample the not majority class (minority class)\n",
    "X_res , y_res = ros.fit_resample(X,y)"
   ]
  },
  {
   "cell_type": "code",
   "execution_count": 22,
   "id": "71ec1837",
   "metadata": {},
   "outputs": [
    {
     "data": {
      "text/plain": [
       "1    0.5\n",
       "0    0.5\n",
       "Name: Is_SHA, dtype: float64"
      ]
     },
     "execution_count": 22,
     "metadata": {},
     "output_type": "execute_result"
    }
   ],
   "source": [
    "y_res.value_counts(normalize=True)"
   ]
  },
  {
   "cell_type": "markdown",
   "id": "f5bf04df",
   "metadata": {},
   "source": [
    "As you can see, the frequency of each binary class is now equal! There is a 50-50 split of SHA attacks and non-SHA attacks.\n",
    "Let's try refitting the Dummy Classifier model on the upsampled dataset and see how this changes our results!"
   ]
  },
  {
   "cell_type": "code",
   "execution_count": 23,
   "id": "fd0c8a0d",
   "metadata": {},
   "outputs": [
    {
     "name": "stdout",
     "output_type": "stream",
     "text": [
      "The accuracy of the model on the training data: 0.488\n"
     ]
    }
   ],
   "source": [
    "# Performing a train-test split\n",
    "X_res_train, X_res_test, y_res_train, y_res_test = train_test_split(X_res, y_res, test_size=0.2, random_state=42)\n",
    "\n",
    "# Creating/Fitting Object for Dummy Classifier Model\n",
    "dummy_clf = DummyClassifier()\n",
    "dummy_clf.fit(X_res_train, y_res_train);\n",
    "\n",
    "# Making Predictions + Evaluating Performance\n",
    "print(\"The accuracy of the model on the training data: %0.3f\" % (dummy_clf.score(X_res_test, y_res_test)))"
   ]
  },
  {
   "cell_type": "markdown",
   "id": "6f74b7cf",
   "metadata": {},
   "source": [
    "Upon balancing the distribution of the binary class and refitting the Dummy Classifer model, we see that our classification model is able to predict SHA attacks with an accuracy of 48.8%. This makes sense as our Dummy Classifier model wants to predict the majority class from the training data, but since both classes are now evenly distributed, we essentially have a random guess. "
   ]
  },
  {
   "cell_type": "markdown",
   "id": "d19c0939",
   "metadata": {},
   "source": [
    "### More Classification Models: Logistic Regression for Binary Classification\n",
    "\n",
    "Logistic Regression is another statistical analysis method that is used to predict the probability of a binary outcome (true/false, yes/no, etc.) based on the input variables that are passed in. It models the probability of an input belonging to a certain class by fitting a sigmoid curve to the data, and mapping the range between 0 and 1. By tuning the parameters through training, the logistic regression model will attempt to minimize the differences between our predictions and the actual testing data. \n",
    "\n",
    "This method works by summing each input features' associated weight (impact on outcome probability) and comparing it to a threshold value (commonly set as 0.5 in binary classification). If the total weight value is above the threshold, the logistic regression model determines that it is part of the positive class (is SHA attack, in our case) and if it is below the threshold, the model determines that it is part of the negative class (not SHA attack, in our case).\n",
    "\n",
    "You can read more about logistic regression from sklearn's documentation here: https://scikit-learn.org/stable/modules/generated/sklearn.linear_model.LogisticRegression.html"
   ]
  },
  {
   "cell_type": "markdown",
   "id": "0423405e",
   "metadata": {},
   "source": [
    "#### Step 2:"
   ]
  },
  {
   "cell_type": "code",
   "execution_count": 24,
   "id": "4e2e89bb",
   "metadata": {},
   "outputs": [],
   "source": [
    "# Performing a train-test split\n",
    "X = numeric.drop('Is_SHA', axis=1)\n",
    "y = numeric['Is_SHA']\n",
    "X_train, X_test, y_train, y_test = train_test_split(X, y, test_size=0.2, random_state=42)"
   ]
  },
  {
   "cell_type": "markdown",
   "id": "77291a56",
   "metadata": {},
   "source": [
    "#### Step 3 & 4:"
   ]
  },
  {
   "cell_type": "code",
   "execution_count": 25,
   "id": "e6a46bd6",
   "metadata": {},
   "outputs": [
    {
     "data": {
      "text/html": [
       "<style>#sk-container-id-2 {color: black;background-color: white;}#sk-container-id-2 pre{padding: 0;}#sk-container-id-2 div.sk-toggleable {background-color: white;}#sk-container-id-2 label.sk-toggleable__label {cursor: pointer;display: block;width: 100%;margin-bottom: 0;padding: 0.3em;box-sizing: border-box;text-align: center;}#sk-container-id-2 label.sk-toggleable__label-arrow:before {content: \"▸\";float: left;margin-right: 0.25em;color: #696969;}#sk-container-id-2 label.sk-toggleable__label-arrow:hover:before {color: black;}#sk-container-id-2 div.sk-estimator:hover label.sk-toggleable__label-arrow:before {color: black;}#sk-container-id-2 div.sk-toggleable__content {max-height: 0;max-width: 0;overflow: hidden;text-align: left;background-color: #f0f8ff;}#sk-container-id-2 div.sk-toggleable__content pre {margin: 0.2em;color: black;border-radius: 0.25em;background-color: #f0f8ff;}#sk-container-id-2 input.sk-toggleable__control:checked~div.sk-toggleable__content {max-height: 200px;max-width: 100%;overflow: auto;}#sk-container-id-2 input.sk-toggleable__control:checked~label.sk-toggleable__label-arrow:before {content: \"▾\";}#sk-container-id-2 div.sk-estimator input.sk-toggleable__control:checked~label.sk-toggleable__label {background-color: #d4ebff;}#sk-container-id-2 div.sk-label input.sk-toggleable__control:checked~label.sk-toggleable__label {background-color: #d4ebff;}#sk-container-id-2 input.sk-hidden--visually {border: 0;clip: rect(1px 1px 1px 1px);clip: rect(1px, 1px, 1px, 1px);height: 1px;margin: -1px;overflow: hidden;padding: 0;position: absolute;width: 1px;}#sk-container-id-2 div.sk-estimator {font-family: monospace;background-color: #f0f8ff;border: 1px dotted black;border-radius: 0.25em;box-sizing: border-box;margin-bottom: 0.5em;}#sk-container-id-2 div.sk-estimator:hover {background-color: #d4ebff;}#sk-container-id-2 div.sk-parallel-item::after {content: \"\";width: 100%;border-bottom: 1px solid gray;flex-grow: 1;}#sk-container-id-2 div.sk-label:hover label.sk-toggleable__label {background-color: #d4ebff;}#sk-container-id-2 div.sk-serial::before {content: \"\";position: absolute;border-left: 1px solid gray;box-sizing: border-box;top: 0;bottom: 0;left: 50%;z-index: 0;}#sk-container-id-2 div.sk-serial {display: flex;flex-direction: column;align-items: center;background-color: white;padding-right: 0.2em;padding-left: 0.2em;position: relative;}#sk-container-id-2 div.sk-item {position: relative;z-index: 1;}#sk-container-id-2 div.sk-parallel {display: flex;align-items: stretch;justify-content: center;background-color: white;position: relative;}#sk-container-id-2 div.sk-item::before, #sk-container-id-2 div.sk-parallel-item::before {content: \"\";position: absolute;border-left: 1px solid gray;box-sizing: border-box;top: 0;bottom: 0;left: 50%;z-index: -1;}#sk-container-id-2 div.sk-parallel-item {display: flex;flex-direction: column;z-index: 1;position: relative;background-color: white;}#sk-container-id-2 div.sk-parallel-item:first-child::after {align-self: flex-end;width: 50%;}#sk-container-id-2 div.sk-parallel-item:last-child::after {align-self: flex-start;width: 50%;}#sk-container-id-2 div.sk-parallel-item:only-child::after {width: 0;}#sk-container-id-2 div.sk-dashed-wrapped {border: 1px dashed gray;margin: 0 0.4em 0.5em 0.4em;box-sizing: border-box;padding-bottom: 0.4em;background-color: white;}#sk-container-id-2 div.sk-label label {font-family: monospace;font-weight: bold;display: inline-block;line-height: 1.2em;}#sk-container-id-2 div.sk-label-container {text-align: center;}#sk-container-id-2 div.sk-container {/* jupyter's `normalize.less` sets `[hidden] { display: none; }` but bootstrap.min.css set `[hidden] { display: none !important; }` so we also need the `!important` here to be able to override the default hidden behavior on the sphinx rendered scikit-learn.org. See: https://github.com/scikit-learn/scikit-learn/issues/21755 */display: inline-block !important;position: relative;}#sk-container-id-2 div.sk-text-repr-fallback {display: none;}</style><div id=\"sk-container-id-2\" class=\"sk-top-container\"><div class=\"sk-text-repr-fallback\"><pre>LogisticRegression(max_iter=2000)</pre><b>In a Jupyter environment, please rerun this cell to show the HTML representation or trust the notebook. <br />On GitHub, the HTML representation is unable to render, please try loading this page with nbviewer.org.</b></div><div class=\"sk-container\" hidden><div class=\"sk-item\"><div class=\"sk-estimator sk-toggleable\"><input class=\"sk-toggleable__control sk-hidden--visually\" id=\"sk-estimator-id-2\" type=\"checkbox\" checked><label for=\"sk-estimator-id-2\" class=\"sk-toggleable__label sk-toggleable__label-arrow\">LogisticRegression</label><div class=\"sk-toggleable__content\"><pre>LogisticRegression(max_iter=2000)</pre></div></div></div></div></div>"
      ],
      "text/plain": [
       "LogisticRegression(max_iter=2000)"
      ]
     },
     "execution_count": 25,
     "metadata": {},
     "output_type": "execute_result"
    }
   ],
   "source": [
    "# Import the Logistic Regression\n",
    "from sklearn.linear_model import LogisticRegression\n",
    "\n",
    "# Creating/Fitting Object for Logistic Regression Model \n",
    "lr_clf = LogisticRegression(max_iter=2000)\n",
    "lr_clf.fit(X_train, y_train)"
   ]
  },
  {
   "cell_type": "markdown",
   "id": "11f68983",
   "metadata": {},
   "source": [
    "#### Step 5 & 6:"
   ]
  },
  {
   "cell_type": "code",
   "execution_count": 26,
   "id": "94d71bff",
   "metadata": {},
   "outputs": [
    {
     "name": "stdout",
     "output_type": "stream",
     "text": [
      "The accuracy of the model on the training data: 0.785\n"
     ]
    }
   ],
   "source": [
    "# Making Predictions + Evaluating Performance\n",
    "print(\"The accuracy of the model on the training data: %0.3f\" % (lr_clf.score(X_test,y_test)))"
   ]
  },
  {
   "cell_type": "markdown",
   "id": "34a635cd",
   "metadata": {},
   "source": [
    "Using the Logistic Regression model for binary classification, we are able to predict SHA attacks with an accuracy of 78.5%. This is marginally better than the results of the Dummy Classifier model."
   ]
  },
  {
   "cell_type": "markdown",
   "id": "cd8b9bbe",
   "metadata": {},
   "source": [
    "### Your turn! K-Nearest Neighbors Classifier for Binary Classification!\n",
    "\n",
    "Using what you've learned above from conducting binary classification with the Dummy Classifier model and the Logistic Regression model, let's see if you can try the K-Nearest Neighbors Classifier on your own! Like most classifiers, this model will also follow the same 6 steps you saw earlier, so refer to them as you need!\n",
    "\n",
    "The K-Nearest Neighbors Classifier is an algorithm that makes predictions for an input, based on the classes of its k-nearest neighboring data points from the training data. The class that seems to appear most frequently out of these k-nearest neighbors is assigned to be the predicted class of the data input in question. It essentially works by the idea that similar data points tend to belong to similar classes. By default, KNeighborsClassifier() uses 5 neighbors for queries, but you can modify the number of neighbors this algorithm considers by editing the n_neighbors parameter (e.g. model = KNeighborsClassifier(n_neighbors = 3)).\n",
    "\n",
    "Using this link, you can read more about the K-Nearest Neighbor Classifier from the sklearn documentation if you are curious: https://scikit-learn.org/stable/modules/generated/sklearn.neighbors.KNeighborsClassifier.html"
   ]
  },
  {
   "cell_type": "code",
   "execution_count": 27,
   "id": "358522f8",
   "metadata": {},
   "outputs": [],
   "source": [
    "# Answer Key - Uncomment code below to see the results!\n",
    "\n",
    "# # Performing a train-test split\n",
    "# X = numeric.drop('Is_SHA', axis=1)\n",
    "# y = numeric['Is_SHA']\n",
    "# X_train, X_test, y_train, y_test = train_test_split(X, y, test_size=0.2, random_state=42)\n",
    "\n",
    "# from sklearn.neighbors import KNeighborsClassifier\n",
    "# # Creating/Fitting Object for KNeighborsClassifier Model \n",
    "# knn_clf = KNeighborsClassifier(n_neighbors=10) # Try playing with the n_neighbors parameter\n",
    "# knn_clf.fit(X_train, y_train)\n",
    "\n",
    "# # Making Predictions + Evaluating Performance\n",
    "# print(\"The accuracy of the model on the training data: %0.3f\" % (knn_clf.score(X_test,y_test)))"
   ]
  },
  {
   "cell_type": "markdown",
   "id": "0bd9b606",
   "metadata": {},
   "source": [
    "### Multi-class Classification: Decision Tree Classifier\n",
    "\n",
    "Now, let's take a look at a multi-class classification issue. Specifically, we want to train a model to predict what type of IoT attack is detected based on the input features from our data. Remember, we have 5 classes to distinguish from: SHA, DFA, SFA, SYA, and VNA. \n",
    "\n",
    "In order to approach this task, let's begin by using the Decision Tree Classifier from sklearn as our model. Decision Tree Classifiers work by creating a tree-like structure detailing a set of conditional rules based on the input features. At each node of the tree, the algorithm will determine which feature best distinguishes the data points. This process is repeated recursively until we ultimately get to the leaf nodes, which are the class labels. You can read more about Decision Tree Classifiers from the sklearn documentation here: https://scikit-learn.org/stable/modules/generated/sklearn.tree.DecisionTreeClassifier.html\n",
    "\n",
    "We will be following the general process for dealing with classifier models, as done with the Dummy Classifier and Logistic Regression model earlier. "
   ]
  },
  {
   "cell_type": "markdown",
   "id": "6be4cace",
   "metadata": {},
   "source": [
    "#### Step 2:"
   ]
  },
  {
   "cell_type": "code",
   "execution_count": 28,
   "id": "be17772f",
   "metadata": {},
   "outputs": [],
   "source": [
    "# Performing a train-test split\n",
    "X = feats_df\n",
    "y = df['label']\n",
    "X_train, X_test, y_train, y_test = train_test_split(X, y, test_size=0.2, random_state=42)"
   ]
  },
  {
   "cell_type": "markdown",
   "id": "5b4cef6c",
   "metadata": {},
   "source": [
    "#### Step 3 & 4:"
   ]
  },
  {
   "cell_type": "code",
   "execution_count": 29,
   "id": "3c4dd362",
   "metadata": {},
   "outputs": [
    {
     "data": {
      "text/html": [
       "<style>#sk-container-id-3 {color: black;background-color: white;}#sk-container-id-3 pre{padding: 0;}#sk-container-id-3 div.sk-toggleable {background-color: white;}#sk-container-id-3 label.sk-toggleable__label {cursor: pointer;display: block;width: 100%;margin-bottom: 0;padding: 0.3em;box-sizing: border-box;text-align: center;}#sk-container-id-3 label.sk-toggleable__label-arrow:before {content: \"▸\";float: left;margin-right: 0.25em;color: #696969;}#sk-container-id-3 label.sk-toggleable__label-arrow:hover:before {color: black;}#sk-container-id-3 div.sk-estimator:hover label.sk-toggleable__label-arrow:before {color: black;}#sk-container-id-3 div.sk-toggleable__content {max-height: 0;max-width: 0;overflow: hidden;text-align: left;background-color: #f0f8ff;}#sk-container-id-3 div.sk-toggleable__content pre {margin: 0.2em;color: black;border-radius: 0.25em;background-color: #f0f8ff;}#sk-container-id-3 input.sk-toggleable__control:checked~div.sk-toggleable__content {max-height: 200px;max-width: 100%;overflow: auto;}#sk-container-id-3 input.sk-toggleable__control:checked~label.sk-toggleable__label-arrow:before {content: \"▾\";}#sk-container-id-3 div.sk-estimator input.sk-toggleable__control:checked~label.sk-toggleable__label {background-color: #d4ebff;}#sk-container-id-3 div.sk-label input.sk-toggleable__control:checked~label.sk-toggleable__label {background-color: #d4ebff;}#sk-container-id-3 input.sk-hidden--visually {border: 0;clip: rect(1px 1px 1px 1px);clip: rect(1px, 1px, 1px, 1px);height: 1px;margin: -1px;overflow: hidden;padding: 0;position: absolute;width: 1px;}#sk-container-id-3 div.sk-estimator {font-family: monospace;background-color: #f0f8ff;border: 1px dotted black;border-radius: 0.25em;box-sizing: border-box;margin-bottom: 0.5em;}#sk-container-id-3 div.sk-estimator:hover {background-color: #d4ebff;}#sk-container-id-3 div.sk-parallel-item::after {content: \"\";width: 100%;border-bottom: 1px solid gray;flex-grow: 1;}#sk-container-id-3 div.sk-label:hover label.sk-toggleable__label {background-color: #d4ebff;}#sk-container-id-3 div.sk-serial::before {content: \"\";position: absolute;border-left: 1px solid gray;box-sizing: border-box;top: 0;bottom: 0;left: 50%;z-index: 0;}#sk-container-id-3 div.sk-serial {display: flex;flex-direction: column;align-items: center;background-color: white;padding-right: 0.2em;padding-left: 0.2em;position: relative;}#sk-container-id-3 div.sk-item {position: relative;z-index: 1;}#sk-container-id-3 div.sk-parallel {display: flex;align-items: stretch;justify-content: center;background-color: white;position: relative;}#sk-container-id-3 div.sk-item::before, #sk-container-id-3 div.sk-parallel-item::before {content: \"\";position: absolute;border-left: 1px solid gray;box-sizing: border-box;top: 0;bottom: 0;left: 50%;z-index: -1;}#sk-container-id-3 div.sk-parallel-item {display: flex;flex-direction: column;z-index: 1;position: relative;background-color: white;}#sk-container-id-3 div.sk-parallel-item:first-child::after {align-self: flex-end;width: 50%;}#sk-container-id-3 div.sk-parallel-item:last-child::after {align-self: flex-start;width: 50%;}#sk-container-id-3 div.sk-parallel-item:only-child::after {width: 0;}#sk-container-id-3 div.sk-dashed-wrapped {border: 1px dashed gray;margin: 0 0.4em 0.5em 0.4em;box-sizing: border-box;padding-bottom: 0.4em;background-color: white;}#sk-container-id-3 div.sk-label label {font-family: monospace;font-weight: bold;display: inline-block;line-height: 1.2em;}#sk-container-id-3 div.sk-label-container {text-align: center;}#sk-container-id-3 div.sk-container {/* jupyter's `normalize.less` sets `[hidden] { display: none; }` but bootstrap.min.css set `[hidden] { display: none !important; }` so we also need the `!important` here to be able to override the default hidden behavior on the sphinx rendered scikit-learn.org. See: https://github.com/scikit-learn/scikit-learn/issues/21755 */display: inline-block !important;position: relative;}#sk-container-id-3 div.sk-text-repr-fallback {display: none;}</style><div id=\"sk-container-id-3\" class=\"sk-top-container\"><div class=\"sk-text-repr-fallback\"><pre>DecisionTreeClassifier()</pre><b>In a Jupyter environment, please rerun this cell to show the HTML representation or trust the notebook. <br />On GitHub, the HTML representation is unable to render, please try loading this page with nbviewer.org.</b></div><div class=\"sk-container\" hidden><div class=\"sk-item\"><div class=\"sk-estimator sk-toggleable\"><input class=\"sk-toggleable__control sk-hidden--visually\" id=\"sk-estimator-id-3\" type=\"checkbox\" checked><label for=\"sk-estimator-id-3\" class=\"sk-toggleable__label sk-toggleable__label-arrow\">DecisionTreeClassifier</label><div class=\"sk-toggleable__content\"><pre>DecisionTreeClassifier()</pre></div></div></div></div></div>"
      ],
      "text/plain": [
       "DecisionTreeClassifier()"
      ]
     },
     "execution_count": 29,
     "metadata": {},
     "output_type": "execute_result"
    }
   ],
   "source": [
    "# Import the Decision Tree Classifier\n",
    "from sklearn.tree import DecisionTreeClassifier\n",
    "\n",
    "# Creating/Fitting Object for Decision Tree Classifier Model \n",
    "dtc_model = DecisionTreeClassifier()\n",
    "dtc_model.fit(X_train, y_train)"
   ]
  },
  {
   "cell_type": "markdown",
   "id": "a19fd867",
   "metadata": {},
   "source": [
    "#### Step 5:"
   ]
  },
  {
   "cell_type": "code",
   "execution_count": 30,
   "id": "791a22d6",
   "metadata": {},
   "outputs": [],
   "source": [
    "# Making Predictions\n",
    "y_pred = dtc_model.predict(X_test)"
   ]
  },
  {
   "cell_type": "markdown",
   "id": "fdd11114",
   "metadata": {},
   "source": [
    "#### Step 6:"
   ]
  },
  {
   "cell_type": "code",
   "execution_count": 31,
   "id": "d546b806",
   "metadata": {},
   "outputs": [
    {
     "name": "stdout",
     "output_type": "stream",
     "text": [
      "              precision    recall  f1-score   support\n",
      "\n",
      "         DFA       0.69      0.68      0.68       369\n",
      "         SFA       0.75      0.67      0.70       473\n",
      "         SHA       0.43      0.48      0.45       476\n",
      "         SYA       0.97      0.96      0.96       441\n",
      "         VNA       0.46      0.47      0.47       410\n",
      "\n",
      "    accuracy                           0.65      2169\n",
      "   macro avg       0.66      0.65      0.65      2169\n",
      "weighted avg       0.66      0.65      0.65      2169\n",
      "\n"
     ]
    }
   ],
   "source": [
    "# Evaluating Performance\n",
    "from sklearn.metrics import classification_report\n",
    "\n",
    "report = classification_report(y_test, y_pred)\n",
    "print(report)\n",
    "\n",
    "# print(\"The accuracy of the model on the training data: %0.3f\" % (model.score(X_test,y_test)))"
   ]
  },
  {
   "cell_type": "markdown",
   "id": "f8e02e3c",
   "metadata": {},
   "source": [
    "The classification report module from sklearn is a great way to generate metrics and evaluate the performance of multi-class classification models. It provides more informative details such as the precision, recall and f1-score of each class, as well as the overall accuracy of the model. As you can see from the classification report above, the Decision Tree Classifier model is able to precisely predict the SYA label at 97% but struggles to predict the SHA and VNA labels, with precision rates of 43% and 46%, respectively. The overall accuracy of our model is around 65%.\n",
    "\n",
    "Let's take a look at which features have the greatest significance in the Decision Tree Classifier's algorithm on predicting the type of IoT attack. The feature importance is visualized below as a bar graph in descending order of importance."
   ]
  },
  {
   "cell_type": "code",
   "execution_count": 32,
   "id": "2e1c9849",
   "metadata": {},
   "outputs": [
    {
     "data": {
      "image/png": "[encoded data removed]",
      "text/plain": [
       "<Figure size 640x480 with 1 Axes>"
      ]
     },
     "metadata": {},
     "output_type": "display_data"
    }
   ],
   "source": [
    "features = feats_df\n",
    "targets = df['label']\n",
    "dtc_model = DecisionTreeClassifier()\n",
    "dtc_model.fit(features,targets)\n",
    "feat_importance = dtc_model.feature_importances_\n",
    "\n",
    "# Sort feature importances in descending order\n",
    "sorted_index = feat_importance.argsort()[::1]  \n",
    "sorted_importance = feat_importance[sorted_index]\n",
    "sorted_columns = features.columns[sorted_index]\n",
    "\n",
    "plt.barh(sorted_columns, sorted_importance)\n",
    "plt.xlabel('Features')\n",
    "plt.ylabel('Importance')\n",
    "plt.title('Feature Importance')\n",
    "plt.show()"
   ]
  },
  {
   "cell_type": "markdown",
   "id": "18e44b5f",
   "metadata": {},
   "source": [
    "Let's take a look at another model and see how they compare!"
   ]
  },
  {
   "cell_type": "markdown",
   "id": "b34ce142",
   "metadata": {},
   "source": [
    "### Multi-class Classification: Random Forest Classifier\n",
    "\n",
    "The Random Forest Classifier from sklearn combines multiple Decision Tree Classifiers, each trained on a random subset of the data using random subsets of features, averaging the results to improve predictive accuracy and overfitting. This algorithm essentially creates a \"forest\" of Decision Tree Classifiers and aggregates the predictions from each one to reach its final classification. This method of averaging reduces errors and generally improves performance, making the Random Forest Classifier a more robust and effective model than a single Decision Tree Classifier. If there is more that you would like to read about the Random Forest Classifier model, you can see sklearn's documentation here: https://scikit-learn.org/stable/modules/generated/sklearn.ensemble.RandomForestClassifier.html\n",
    "\n",
    "Once again, we will be following along with our general step-by-step guide to working with classifier models, as shown before."
   ]
  },
  {
   "cell_type": "markdown",
   "id": "7172c972",
   "metadata": {},
   "source": [
    "#### Step 2:"
   ]
  },
  {
   "cell_type": "code",
   "execution_count": 33,
   "id": "ffacf52a",
   "metadata": {},
   "outputs": [],
   "source": [
    "# Performing a train-test split\n",
    "X = feats_df\n",
    "y = df['label']\n",
    "X_train, X_test, y_train, y_test = train_test_split(X, y, test_size=0.2, random_state=42)"
   ]
  },
  {
   "cell_type": "markdown",
   "id": "aa248faa",
   "metadata": {},
   "source": [
    "#### Step 3 & 4:"
   ]
  },
  {
   "cell_type": "code",
   "execution_count": 34,
   "id": "cd9d5dd3",
   "metadata": {},
   "outputs": [
    {
     "data": {
      "text/html": [
       "<style>#sk-container-id-4 {color: black;background-color: white;}#sk-container-id-4 pre{padding: 0;}#sk-container-id-4 div.sk-toggleable {background-color: white;}#sk-container-id-4 label.sk-toggleable__label {cursor: pointer;display: block;width: 100%;margin-bottom: 0;padding: 0.3em;box-sizing: border-box;text-align: center;}#sk-container-id-4 label.sk-toggleable__label-arrow:before {content: \"▸\";float: left;margin-right: 0.25em;color: #696969;}#sk-container-id-4 label.sk-toggleable__label-arrow:hover:before {color: black;}#sk-container-id-4 div.sk-estimator:hover label.sk-toggleable__label-arrow:before {color: black;}#sk-container-id-4 div.sk-toggleable__content {max-height: 0;max-width: 0;overflow: hidden;text-align: left;background-color: #f0f8ff;}#sk-container-id-4 div.sk-toggleable__content pre {margin: 0.2em;color: black;border-radius: 0.25em;background-color: #f0f8ff;}#sk-container-id-4 input.sk-toggleable__control:checked~div.sk-toggleable__content {max-height: 200px;max-width: 100%;overflow: auto;}#sk-container-id-4 input.sk-toggleable__control:checked~label.sk-toggleable__label-arrow:before {content: \"▾\";}#sk-container-id-4 div.sk-estimator input.sk-toggleable__control:checked~label.sk-toggleable__label {background-color: #d4ebff;}#sk-container-id-4 div.sk-label input.sk-toggleable__control:checked~label.sk-toggleable__label {background-color: #d4ebff;}#sk-container-id-4 input.sk-hidden--visually {border: 0;clip: rect(1px 1px 1px 1px);clip: rect(1px, 1px, 1px, 1px);height: 1px;margin: -1px;overflow: hidden;padding: 0;position: absolute;width: 1px;}#sk-container-id-4 div.sk-estimator {font-family: monospace;background-color: #f0f8ff;border: 1px dotted black;border-radius: 0.25em;box-sizing: border-box;margin-bottom: 0.5em;}#sk-container-id-4 div.sk-estimator:hover {background-color: #d4ebff;}#sk-container-id-4 div.sk-parallel-item::after {content: \"\";width: 100%;border-bottom: 1px solid gray;flex-grow: 1;}#sk-container-id-4 div.sk-label:hover label.sk-toggleable__label {background-color: #d4ebff;}#sk-container-id-4 div.sk-serial::before {content: \"\";position: absolute;border-left: 1px solid gray;box-sizing: border-box;top: 0;bottom: 0;left: 50%;z-index: 0;}#sk-container-id-4 div.sk-serial {display: flex;flex-direction: column;align-items: center;background-color: white;padding-right: 0.2em;padding-left: 0.2em;position: relative;}#sk-container-id-4 div.sk-item {position: relative;z-index: 1;}#sk-container-id-4 div.sk-parallel {display: flex;align-items: stretch;justify-content: center;background-color: white;position: relative;}#sk-container-id-4 div.sk-item::before, #sk-container-id-4 div.sk-parallel-item::before {content: \"\";position: absolute;border-left: 1px solid gray;box-sizing: border-box;top: 0;bottom: 0;left: 50%;z-index: -1;}#sk-container-id-4 div.sk-parallel-item {display: flex;flex-direction: column;z-index: 1;position: relative;background-color: white;}#sk-container-id-4 div.sk-parallel-item:first-child::after {align-self: flex-end;width: 50%;}#sk-container-id-4 div.sk-parallel-item:last-child::after {align-self: flex-start;width: 50%;}#sk-container-id-4 div.sk-parallel-item:only-child::after {width: 0;}#sk-container-id-4 div.sk-dashed-wrapped {border: 1px dashed gray;margin: 0 0.4em 0.5em 0.4em;box-sizing: border-box;padding-bottom: 0.4em;background-color: white;}#sk-container-id-4 div.sk-label label {font-family: monospace;font-weight: bold;display: inline-block;line-height: 1.2em;}#sk-container-id-4 div.sk-label-container {text-align: center;}#sk-container-id-4 div.sk-container {/* jupyter's `normalize.less` sets `[hidden] { display: none; }` but bootstrap.min.css set `[hidden] { display: none !important; }` so we also need the `!important` here to be able to override the default hidden behavior on the sphinx rendered scikit-learn.org. See: https://github.com/scikit-learn/scikit-learn/issues/21755 */display: inline-block !important;position: relative;}#sk-container-id-4 div.sk-text-repr-fallback {display: none;}</style><div id=\"sk-container-id-4\" class=\"sk-top-container\"><div class=\"sk-text-repr-fallback\"><pre>RandomForestClassifier(criterion=&#x27;entropy&#x27;, n_estimators=300)</pre><b>In a Jupyter environment, please rerun this cell to show the HTML representation or trust the notebook. <br />On GitHub, the HTML representation is unable to render, please try loading this page with nbviewer.org.</b></div><div class=\"sk-container\" hidden><div class=\"sk-item\"><div class=\"sk-estimator sk-toggleable\"><input class=\"sk-toggleable__control sk-hidden--visually\" id=\"sk-estimator-id-4\" type=\"checkbox\" checked><label for=\"sk-estimator-id-4\" class=\"sk-toggleable__label sk-toggleable__label-arrow\">RandomForestClassifier</label><div class=\"sk-toggleable__content\"><pre>RandomForestClassifier(criterion=&#x27;entropy&#x27;, n_estimators=300)</pre></div></div></div></div></div>"
      ],
      "text/plain": [
       "RandomForestClassifier(criterion='entropy', n_estimators=300)"
      ]
     },
     "execution_count": 34,
     "metadata": {},
     "output_type": "execute_result"
    }
   ],
   "source": [
    "# Import the Random Forest Classifier\n",
    "from sklearn.ensemble import RandomForestClassifier\n",
    "\n",
    "# Creating/Fitting Object for Random Forest Classifier Model \n",
    "rfc_model = RandomForestClassifier(n_estimators=300, criterion='entropy')\n",
    "rfc_model.fit(X_train, y_train)"
   ]
  },
  {
   "cell_type": "markdown",
   "id": "01c9a218",
   "metadata": {},
   "source": [
    "#### Step 5:"
   ]
  },
  {
   "cell_type": "code",
   "execution_count": 35,
   "id": "bb25ab47",
   "metadata": {},
   "outputs": [],
   "source": [
    "# Making Predictions\n",
    "y_pred = rfc_model.predict(X_test)"
   ]
  },
  {
   "cell_type": "markdown",
   "id": "bb165328",
   "metadata": {},
   "source": [
    "#### Step 6:"
   ]
  },
  {
   "cell_type": "code",
   "execution_count": 36,
   "id": "11585c83",
   "metadata": {},
   "outputs": [
    {
     "name": "stdout",
     "output_type": "stream",
     "text": [
      "              precision    recall  f1-score   support\n",
      "\n",
      "         DFA       0.76      0.68      0.72       369\n",
      "         SFA       0.78      0.72      0.75       473\n",
      "         SHA       0.50      0.52      0.51       476\n",
      "         SYA       0.95      0.96      0.96       441\n",
      "         VNA       0.47      0.52      0.50       410\n",
      "\n",
      "    accuracy                           0.68      2169\n",
      "   macro avg       0.69      0.68      0.69      2169\n",
      "weighted avg       0.69      0.68      0.69      2169\n",
      "\n"
     ]
    }
   ],
   "source": [
    "# Evaluating Performance\n",
    "report = classification_report(y_test, y_pred)\n",
    "print(report)\n",
    "\n",
    "# print(\"The accuracy of the model on the training data: %0.3f\" % (model.score(X_test,y_test)))"
   ]
  },
  {
   "cell_type": "markdown",
   "id": "02ddb0e8",
   "metadata": {},
   "source": [
    "The classification report for the Random Forest Classifier model yields marginally better results than the Decision Tree Classifier for every class, which makes sense. It looks like our classification model is able to predict the DFA, SFA and SYA labels with a good precision, but still struggles to predict the SHA and VNA labels. It seems like it may be due to the nature of this dataset. The overall accuracy of the Random Forest Classification model is shown to be 68%.\n",
    "\n",
    "Again, let's take a look at which features are the most significant in predicting the type of IoT attack using the Random Forest Classifier algorithm."
   ]
  },
  {
   "cell_type": "code",
   "execution_count": 37,
   "id": "dedbe747",
   "metadata": {},
   "outputs": [
    {
     "data": {
      "image/png": "[encoded data removed]",
      "text/plain": [
       "<Figure size 640x480 with 1 Axes>"
      ]
     },
     "metadata": {},
     "output_type": "display_data"
    }
   ],
   "source": [
    "features = feats_df\n",
    "targets = df['label']\n",
    "rfc_model = RandomForestClassifier()\n",
    "rfc_model.fit(features,targets)\n",
    "feat_importance = rfc_model.feature_importances_\n",
    "\n",
    "# Sort feature importances in descending order\n",
    "sorted_index = feat_importance.argsort()[::1]  \n",
    "sorted_importance = feat_importance[sorted_index]\n",
    "sorted_columns = features.columns[sorted_index]\n",
    "\n",
    "plt.barh(sorted_columns, sorted_importance)\n",
    "plt.xlabel('Features')\n",
    "plt.ylabel('Importance')\n",
    "plt.title('Feature Importance')\n",
    "plt.show()"
   ]
  },
  {
   "cell_type": "markdown",
   "id": "e185133d",
   "metadata": {},
   "source": [
    "Classification is a useful technique to categorize data based on a set of input features and it can be applied to a wide variety of IoT related data. Remember that it is important to continually look for ways to improve our classification models and update them to really ensure accuracy in the results."
   ]
  }
 ],
 "metadata": {
  "kernelspec": {
   "display_name": "Python 3 (ipykernel)",
   "language": "python",
   "name": "python3"
  },
  "language_info": {
   "codemirror_mode": {
    "name": "ipython",
    "version": 3
   },
   "file_extension": ".py",
   "mimetype": "text/x-python",
   "name": "python",
   "nbconvert_exporter": "python",
   "pygments_lexer": "ipython3",
   "version": "3.10.9"
  }
 },
 "nbformat": 4,
 "nbformat_minor": 5
}
