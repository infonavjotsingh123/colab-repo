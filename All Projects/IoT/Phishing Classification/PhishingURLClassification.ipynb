{
 "cells": [
  {
   "cell_type": "markdown",
   "id": "b53e5eaf",
   "metadata": {},
   "source": [
    "# Python Classification Workshop for IoT Related Data\n",
    "\n",
    "In this notebook, we will:\n",
    "- read in, clean/tidy, visualize data (preprocessing)\n",
    "- understand what applications classification is useful for \n",
    "- explore different classification models and evaluate performances"
   ]
  },
  {
   "cell_type": "code",
   "execution_count": 25,
   "id": "806c5ccb",
   "metadata": {},
   "outputs": [],
   "source": [
    "# Loading in some basic Python libraries. We will use pandas and matplotlib to begin\n",
    "import pandas as pd\n",
    "import matplotlib.pyplot as plt"
   ]
  },
  {
   "cell_type": "markdown",
   "id": "7261586e",
   "metadata": {},
   "source": [
    "### What will our dataset be about, exactly?\n",
    "\n",
    "Phishing is a type of cybercrime where attackers will pretend to be known/trusted entities and send malicious links to users as an attempt to extract sensitive information from them. With stolen information such as passwords or bank details, the attacker can access accounts, steal identities/data, and download all types of malware onto the user's computer. Typically, the attacker will do this by suggesting that there are has been suspicious activity on one of your accounts, issues with an invoice, or that you need to log in to your account again to verify it. In order to prevent these phishing attempts, researchers and experts have been analyzing features and applying classification models that help identify phishing links. \n",
    "\n",
    "Similarly, this is what we would like to accomplish with our dataset and using our knowledge of Python. This dataset contains 48 columns that detail the features collected from the URL of 5000 phishing pages and 5000 legitimate pages. The 'CLASS_LABEL' column, which tells us whether the link is phishing or legitimate, is binary (0 or 1) and uniformly distributed (even split between 0 and 1). This data was collected from January to May 2015 and from May to June 2017 using the Selenium WebDriver, a browser automation framework that allows for more precise and robust feature extraction.\n",
    "\n",
    "If you would like to read more about this dataset and access it for yourself, you can do so through this link: https://www.kaggle.com/datasets/shashwatwork/phishing-dataset-for-machine-learning"
   ]
  },
  {
   "cell_type": "code",
   "execution_count": 26,
   "id": "da614b1f",
   "metadata": {},
   "outputs": [
    {
     "data": {
      "text/html": [
       "<div>\n",
       "<style scoped>\n",
       "    .dataframe tbody tr th:only-of-type {\n",
       "        vertical-align: middle;\n",
       "    }\n",
       "\n",
       "    .dataframe tbody tr th {\n",
       "        vertical-align: top;\n",
       "    }\n",
       "\n",
       "    .dataframe thead th {\n",
       "        text-align: right;\n",
       "    }\n",
       "</style>\n",
       "<table border=\"1\" class=\"dataframe\">\n",
       "  <thead>\n",
       "    <tr style=\"text-align: right;\">\n",
       "      <th></th>\n",
       "      <th>id</th>\n",
       "      <th>NumDots</th>\n",
       "      <th>SubdomainLevel</th>\n",
       "      <th>PathLevel</th>\n",
       "      <th>UrlLength</th>\n",
       "      <th>NumDash</th>\n",
       "      <th>NumDashInHostname</th>\n",
       "      <th>AtSymbol</th>\n",
       "      <th>TildeSymbol</th>\n",
       "      <th>NumUnderscore</th>\n",
       "      <th>...</th>\n",
       "      <th>IframeOrFrame</th>\n",
       "      <th>MissingTitle</th>\n",
       "      <th>ImagesOnlyInForm</th>\n",
       "      <th>SubdomainLevelRT</th>\n",
       "      <th>UrlLengthRT</th>\n",
       "      <th>PctExtResourceUrlsRT</th>\n",
       "      <th>AbnormalExtFormActionR</th>\n",
       "      <th>ExtMetaScriptLinkRT</th>\n",
       "      <th>PctExtNullSelfRedirectHyperlinksRT</th>\n",
       "      <th>CLASS_LABEL</th>\n",
       "    </tr>\n",
       "  </thead>\n",
       "  <tbody>\n",
       "    <tr>\n",
       "      <th>0</th>\n",
       "      <td>1</td>\n",
       "      <td>3</td>\n",
       "      <td>1</td>\n",
       "      <td>5</td>\n",
       "      <td>72</td>\n",
       "      <td>0</td>\n",
       "      <td>0</td>\n",
       "      <td>0</td>\n",
       "      <td>0</td>\n",
       "      <td>0</td>\n",
       "      <td>...</td>\n",
       "      <td>0</td>\n",
       "      <td>0</td>\n",
       "      <td>1</td>\n",
       "      <td>1</td>\n",
       "      <td>0</td>\n",
       "      <td>1</td>\n",
       "      <td>1</td>\n",
       "      <td>-1</td>\n",
       "      <td>1</td>\n",
       "      <td>1</td>\n",
       "    </tr>\n",
       "    <tr>\n",
       "      <th>1</th>\n",
       "      <td>2</td>\n",
       "      <td>3</td>\n",
       "      <td>1</td>\n",
       "      <td>3</td>\n",
       "      <td>144</td>\n",
       "      <td>0</td>\n",
       "      <td>0</td>\n",
       "      <td>0</td>\n",
       "      <td>0</td>\n",
       "      <td>2</td>\n",
       "      <td>...</td>\n",
       "      <td>0</td>\n",
       "      <td>0</td>\n",
       "      <td>0</td>\n",
       "      <td>1</td>\n",
       "      <td>-1</td>\n",
       "      <td>1</td>\n",
       "      <td>1</td>\n",
       "      <td>1</td>\n",
       "      <td>1</td>\n",
       "      <td>1</td>\n",
       "    </tr>\n",
       "    <tr>\n",
       "      <th>2</th>\n",
       "      <td>3</td>\n",
       "      <td>3</td>\n",
       "      <td>1</td>\n",
       "      <td>2</td>\n",
       "      <td>58</td>\n",
       "      <td>0</td>\n",
       "      <td>0</td>\n",
       "      <td>0</td>\n",
       "      <td>0</td>\n",
       "      <td>0</td>\n",
       "      <td>...</td>\n",
       "      <td>0</td>\n",
       "      <td>0</td>\n",
       "      <td>0</td>\n",
       "      <td>1</td>\n",
       "      <td>0</td>\n",
       "      <td>-1</td>\n",
       "      <td>1</td>\n",
       "      <td>-1</td>\n",
       "      <td>0</td>\n",
       "      <td>1</td>\n",
       "    </tr>\n",
       "    <tr>\n",
       "      <th>3</th>\n",
       "      <td>4</td>\n",
       "      <td>3</td>\n",
       "      <td>1</td>\n",
       "      <td>6</td>\n",
       "      <td>79</td>\n",
       "      <td>1</td>\n",
       "      <td>0</td>\n",
       "      <td>0</td>\n",
       "      <td>0</td>\n",
       "      <td>0</td>\n",
       "      <td>...</td>\n",
       "      <td>0</td>\n",
       "      <td>0</td>\n",
       "      <td>0</td>\n",
       "      <td>1</td>\n",
       "      <td>-1</td>\n",
       "      <td>1</td>\n",
       "      <td>1</td>\n",
       "      <td>1</td>\n",
       "      <td>-1</td>\n",
       "      <td>1</td>\n",
       "    </tr>\n",
       "    <tr>\n",
       "      <th>4</th>\n",
       "      <td>5</td>\n",
       "      <td>3</td>\n",
       "      <td>0</td>\n",
       "      <td>4</td>\n",
       "      <td>46</td>\n",
       "      <td>0</td>\n",
       "      <td>0</td>\n",
       "      <td>0</td>\n",
       "      <td>0</td>\n",
       "      <td>0</td>\n",
       "      <td>...</td>\n",
       "      <td>1</td>\n",
       "      <td>0</td>\n",
       "      <td>0</td>\n",
       "      <td>1</td>\n",
       "      <td>1</td>\n",
       "      <td>-1</td>\n",
       "      <td>0</td>\n",
       "      <td>-1</td>\n",
       "      <td>-1</td>\n",
       "      <td>1</td>\n",
       "    </tr>\n",
       "  </tbody>\n",
       "</table>\n",
       "<p>5 rows × 50 columns</p>\n",
       "</div>"
      ],
      "text/plain": [
       "   id  NumDots  SubdomainLevel  PathLevel  UrlLength  NumDash  \\\n",
       "0   1        3               1          5         72        0   \n",
       "1   2        3               1          3        144        0   \n",
       "2   3        3               1          2         58        0   \n",
       "3   4        3               1          6         79        1   \n",
       "4   5        3               0          4         46        0   \n",
       "\n",
       "   NumDashInHostname  AtSymbol  TildeSymbol  NumUnderscore  ...  \\\n",
       "0                  0         0            0              0  ...   \n",
       "1                  0         0            0              2  ...   \n",
       "2                  0         0            0              0  ...   \n",
       "3                  0         0            0              0  ...   \n",
       "4                  0         0            0              0  ...   \n",
       "\n",
       "   IframeOrFrame  MissingTitle  ImagesOnlyInForm  SubdomainLevelRT  \\\n",
       "0              0             0                 1                 1   \n",
       "1              0             0                 0                 1   \n",
       "2              0             0                 0                 1   \n",
       "3              0             0                 0                 1   \n",
       "4              1             0                 0                 1   \n",
       "\n",
       "   UrlLengthRT  PctExtResourceUrlsRT  AbnormalExtFormActionR  \\\n",
       "0            0                     1                       1   \n",
       "1           -1                     1                       1   \n",
       "2            0                    -1                       1   \n",
       "3           -1                     1                       1   \n",
       "4            1                    -1                       0   \n",
       "\n",
       "   ExtMetaScriptLinkRT  PctExtNullSelfRedirectHyperlinksRT  CLASS_LABEL  \n",
       "0                   -1                                   1            1  \n",
       "1                    1                                   1            1  \n",
       "2                   -1                                   0            1  \n",
       "3                    1                                  -1            1  \n",
       "4                   -1                                  -1            1  \n",
       "\n",
       "[5 rows x 50 columns]"
      ]
     },
     "execution_count": 26,
     "metadata": {},
     "output_type": "execute_result"
    }
   ],
   "source": [
    "# Reading the csv dataset into our Python environment\n",
    "df = pd.read_csv('Phishing_Legitimate_full.csv')\n",
    "df.head() # Only first few rows of data for viewing clarity"
   ]
  },
  {
   "cell_type": "markdown",
   "id": "c34c6d6c",
   "metadata": {},
   "source": [
    "### Let's obtain a quick summary of the features in our dataset using ```.info()``` and ```.describe()```!"
   ]
  },
  {
   "cell_type": "code",
   "execution_count": 27,
   "id": "ead5aece",
   "metadata": {},
   "outputs": [],
   "source": [
    "feats_df = df.drop(columns=['id','CLASS_LABEL']) # Splitting off label column to create separate dataframe of just features"
   ]
  },
  {
   "cell_type": "code",
   "execution_count": 28,
   "id": "ed394d2d",
   "metadata": {},
   "outputs": [
    {
     "name": "stdout",
     "output_type": "stream",
     "text": [
      "<class 'pandas.core.frame.DataFrame'>\n",
      "RangeIndex: 10000 entries, 0 to 9999\n",
      "Data columns (total 48 columns):\n",
      " #   Column                              Non-Null Count  Dtype  \n",
      "---  ------                              --------------  -----  \n",
      " 0   NumDots                             10000 non-null  int64  \n",
      " 1   SubdomainLevel                      10000 non-null  int64  \n",
      " 2   PathLevel                           10000 non-null  int64  \n",
      " 3   UrlLength                           10000 non-null  int64  \n",
      " 4   NumDash                             10000 non-null  int64  \n",
      " 5   NumDashInHostname                   10000 non-null  int64  \n",
      " 6   AtSymbol                            10000 non-null  int64  \n",
      " 7   TildeSymbol                         10000 non-null  int64  \n",
      " 8   NumUnderscore                       10000 non-null  int64  \n",
      " 9   NumPercent                          10000 non-null  int64  \n",
      " 10  NumQueryComponents                  10000 non-null  int64  \n",
      " 11  NumAmpersand                        10000 non-null  int64  \n",
      " 12  NumHash                             10000 non-null  int64  \n",
      " 13  NumNumericChars                     10000 non-null  int64  \n",
      " 14  NoHttps                             10000 non-null  int64  \n",
      " 15  RandomString                        10000 non-null  int64  \n",
      " 16  IpAddress                           10000 non-null  int64  \n",
      " 17  DomainInSubdomains                  10000 non-null  int64  \n",
      " 18  DomainInPaths                       10000 non-null  int64  \n",
      " 19  HttpsInHostname                     10000 non-null  int64  \n",
      " 20  HostnameLength                      10000 non-null  int64  \n",
      " 21  PathLength                          10000 non-null  int64  \n",
      " 22  QueryLength                         10000 non-null  int64  \n",
      " 23  DoubleSlashInPath                   10000 non-null  int64  \n",
      " 24  NumSensitiveWords                   10000 non-null  int64  \n",
      " 25  EmbeddedBrandName                   10000 non-null  int64  \n",
      " 26  PctExtHyperlinks                    10000 non-null  float64\n",
      " 27  PctExtResourceUrls                  10000 non-null  float64\n",
      " 28  ExtFavicon                          10000 non-null  int64  \n",
      " 29  InsecureForms                       10000 non-null  int64  \n",
      " 30  RelativeFormAction                  10000 non-null  int64  \n",
      " 31  ExtFormAction                       10000 non-null  int64  \n",
      " 32  AbnormalFormAction                  10000 non-null  int64  \n",
      " 33  PctNullSelfRedirectHyperlinks       10000 non-null  float64\n",
      " 34  FrequentDomainNameMismatch          10000 non-null  int64  \n",
      " 35  FakeLinkInStatusBar                 10000 non-null  int64  \n",
      " 36  RightClickDisabled                  10000 non-null  int64  \n",
      " 37  PopUpWindow                         10000 non-null  int64  \n",
      " 38  SubmitInfoToEmail                   10000 non-null  int64  \n",
      " 39  IframeOrFrame                       10000 non-null  int64  \n",
      " 40  MissingTitle                        10000 non-null  int64  \n",
      " 41  ImagesOnlyInForm                    10000 non-null  int64  \n",
      " 42  SubdomainLevelRT                    10000 non-null  int64  \n",
      " 43  UrlLengthRT                         10000 non-null  int64  \n",
      " 44  PctExtResourceUrlsRT                10000 non-null  int64  \n",
      " 45  AbnormalExtFormActionR              10000 non-null  int64  \n",
      " 46  ExtMetaScriptLinkRT                 10000 non-null  int64  \n",
      " 47  PctExtNullSelfRedirectHyperlinksRT  10000 non-null  int64  \n",
      "dtypes: float64(3), int64(45)\n",
      "memory usage: 3.7 MB\n",
      "None\n"
     ]
    }
   ],
   "source": [
    "# Concise Dataset Summary\n",
    "print(feats_df.info())"
   ]
  },
  {
   "cell_type": "markdown",
   "id": "1a6b84e4",
   "metadata": {},
   "source": [
    "As you can see from the summary above, our features dataset has:\n",
    "- 48 columns and 10000 rows\n",
    "- 45 int64 columns and 3 float64 columns\n",
    "- no missing values from columns! Each column has 10000 non-null values!"
   ]
  },
  {
   "cell_type": "code",
   "execution_count": 29,
   "id": "1e354f64",
   "metadata": {},
   "outputs": [
    {
     "name": "stdout",
     "output_type": "stream",
     "text": [
      "            NumDots  SubdomainLevel     PathLevel     UrlLength       NumDash  \\\n",
      "count  10000.000000    10000.000000  10000.000000  10000.000000  10000.000000   \n",
      "mean       2.445100        0.586800      3.300300     70.264100      1.818000   \n",
      "std        1.346836        0.751214      1.863241     33.369877      3.106258   \n",
      "min        1.000000        0.000000      0.000000     12.000000      0.000000   \n",
      "25%        2.000000        0.000000      2.000000     48.000000      0.000000   \n",
      "50%        2.000000        1.000000      3.000000     62.000000      0.000000   \n",
      "75%        3.000000        1.000000      4.000000     84.000000      2.000000   \n",
      "max       21.000000       14.000000     18.000000    253.000000     55.000000   \n",
      "\n",
      "       NumDashInHostname      AtSymbol   TildeSymbol  NumUnderscore  \\\n",
      "count       10000.000000  10000.000000  10000.000000    10000.00000   \n",
      "mean            0.138900      0.000300      0.013100        0.32320   \n",
      "std             0.545744      0.017319      0.113709        1.11466   \n",
      "min             0.000000      0.000000      0.000000        0.00000   \n",
      "25%             0.000000      0.000000      0.000000        0.00000   \n",
      "50%             0.000000      0.000000      0.000000        0.00000   \n",
      "75%             0.000000      0.000000      0.000000        0.00000   \n",
      "max             9.000000      1.000000      1.000000       18.00000   \n",
      "\n",
      "         NumPercent  ...  SubmitInfoToEmail  IframeOrFrame  MissingTitle  \\\n",
      "count  10000.000000  ...       10000.000000   10000.000000   10000.00000   \n",
      "mean       0.073800  ...           0.128800       0.339600       0.03220   \n",
      "std        0.622248  ...           0.334995       0.473597       0.17654   \n",
      "min        0.000000  ...           0.000000       0.000000       0.00000   \n",
      "25%        0.000000  ...           0.000000       0.000000       0.00000   \n",
      "50%        0.000000  ...           0.000000       0.000000       0.00000   \n",
      "75%        0.000000  ...           0.000000       1.000000       0.00000   \n",
      "max       19.000000  ...           1.000000       1.000000       1.00000   \n",
      "\n",
      "       ImagesOnlyInForm  SubdomainLevelRT   UrlLengthRT  PctExtResourceUrlsRT  \\\n",
      "count      10000.000000      10000.000000  10000.000000          10000.000000   \n",
      "mean           0.030400          0.956600      0.020200              0.353300   \n",
      "std            0.171694          0.248037      0.820036              0.888908   \n",
      "min            0.000000         -1.000000     -1.000000             -1.000000   \n",
      "25%            0.000000          1.000000     -1.000000             -1.000000   \n",
      "50%            0.000000          1.000000      0.000000              1.000000   \n",
      "75%            0.000000          1.000000      1.000000              1.000000   \n",
      "max            1.000000          1.000000      1.000000              1.000000   \n",
      "\n",
      "       AbnormalExtFormActionR  ExtMetaScriptLinkRT  \\\n",
      "count            10000.000000         10000.000000   \n",
      "mean                 0.793200             0.173400   \n",
      "std                  0.521019             0.755771   \n",
      "min                 -1.000000            -1.000000   \n",
      "25%                  1.000000             0.000000   \n",
      "50%                  1.000000             0.000000   \n",
      "75%                  1.000000             1.000000   \n",
      "max                  1.000000             1.000000   \n",
      "\n",
      "       PctExtNullSelfRedirectHyperlinksRT  \n",
      "count                        10000.000000  \n",
      "mean                             0.314100  \n",
      "std                              0.897843  \n",
      "min                             -1.000000  \n",
      "25%                             -1.000000  \n",
      "50%                              1.000000  \n",
      "75%                              1.000000  \n",
      "max                              1.000000  \n",
      "\n",
      "[8 rows x 48 columns]\n"
     ]
    }
   ],
   "source": [
    "# Descriptive Statistics Analysis\n",
    "print(feats_df.describe())"
   ]
  },
  {
   "cell_type": "markdown",
   "id": "f912e0a4",
   "metadata": {},
   "source": [
    "Running ```.describe()``` gives us a descriptive statistics summary of the features dataset, displaying information such as the count, mean, std, min, max, etc. of the columns with numerical data. These statistics can help identify patterns between certain classes and determine outliers that may be affecting the results of our models."
   ]
  },
  {
   "cell_type": "markdown",
   "id": "f9e6a29d",
   "metadata": {},
   "source": [
    "### Preprocessing for Binary Classification\n",
    "\n",
    "To start, let's use ```df['CLASS_LABEL'].value_counts()``` to determine the distribution in the 'CLASS_LABEL' column from our dataset. We expect to see a binary classification, as each entry in the 'CLASS_LABEL' column describes either a phishing link or a legitimate one. We can also confirm that there are 5000 of each case, as stated in the dataset description."
   ]
  },
  {
   "cell_type": "code",
   "execution_count": 30,
   "id": "de8c0c39",
   "metadata": {},
   "outputs": [
    {
     "data": {
      "text/plain": [
       "1    5000\n",
       "0    5000\n",
       "Name: CLASS_LABEL, dtype: int64"
      ]
     },
     "execution_count": 30,
     "metadata": {},
     "output_type": "execute_result"
    }
   ],
   "source": [
    "# Viewing occurrences of each class in label column\n",
    "df['CLASS_LABEL'].value_counts()"
   ]
  },
  {
   "cell_type": "markdown",
   "id": "57cfffd4",
   "metadata": {},
   "source": [
    "This is what we want! A balance between these classes will give the applied classification models equal training on both the phishing URLs and legitimate URLs from our dataset. \n",
    "\n",
    "However, data collection is not always as simple as this. Often times, the data will contain an uneven distribution between classes and will need to be resampled in order to handle this.\n",
    "\n",
    "Luckily in our case, we already have balanced classes!\n",
    "\n",
    "##### Let's do a quick visualization of this!"
   ]
  },
  {
   "cell_type": "code",
   "execution_count": 31,
   "id": "f5836ba0",
   "metadata": {},
   "outputs": [
    {
     "data": {
      "image/png": "[encoded data removed]",
      "text/plain": [
       "<Figure size 640x480 with 1 Axes>"
      ]
     },
     "metadata": {},
     "output_type": "display_data"
    },
    {
     "data": {
      "image/png": "[encoded data removed]",
      "text/plain": [
       "<Figure size 640x480 with 1 Axes>"
      ]
     },
     "metadata": {},
     "output_type": "display_data"
    }
   ],
   "source": [
    "# Data Visualization Analysis\n",
    "label_data = df['CLASS_LABEL'].value_counts()\n",
    "\n",
    "# Bar Plot\n",
    "plt.bar(label_data.index, label_data.values)\n",
    "plt.xlabel('URL Class')\n",
    "plt.ylabel('Occurrences')\n",
    "plt.title('Occurrences of Phishing vs Legitimate URL')\n",
    "plt.show()\n",
    "\n",
    "# Pie Plot\n",
    "plt.pie(label_data, labels=label_data.index, autopct='%1.1f%%', startangle=90)\n",
    "plt.title('Occurrences of Phishing vs Legitimate URL')\n",
    "plt.show()"
   ]
  },
  {
   "cell_type": "markdown",
   "id": "825aa785",
   "metadata": {},
   "source": [
    "Next, let's run the ```df.corr()['CLASS_LABEL']``` method to obtain numerical, pairwise correlation values between the feature columns to the target column. In our case, the target being the 'CLASS_LABEL' column. "
   ]
  },
  {
   "cell_type": "code",
   "execution_count": 32,
   "id": "c8aca4a8",
   "metadata": {},
   "outputs": [
    {
     "data": {
      "text/plain": [
       "id                                    -86.602541\n",
       "NumDots                                29.411137\n",
       "SubdomainLevel                          4.313235\n",
       "PathLevel                              22.945039\n",
       "UrlLength                              -7.449306\n",
       "NumDash                               -37.223492\n",
       "NumDashInHostname                      15.044434\n",
       "AtSymbol                               -1.732311\n",
       "TildeSymbol                             9.586372\n",
       "NumUnderscore                          -9.886921\n",
       "NumPercent                             -6.846490\n",
       "NumQueryComponents                    -14.739070\n",
       "NumAmpersand                           -8.144632\n",
       "NumHash                                 4.801356\n",
       "NumNumericChars                         1.912160\n",
       "NoHttps                                -7.221881\n",
       "RandomString                           -8.530842\n",
       "IpAddress                              13.229141\n",
       "DomainInSubdomains                     10.045238\n",
       "DomainInPaths                         -11.820117\n",
       "HttpsInHostname                              NaN\n",
       "HostnameLength                         16.915689\n",
       "PathLength                             -7.612475\n",
       "QueryLength                            -8.052456\n",
       "DoubleSlashInPath                       2.334384\n",
       "NumSensitiveWords                      25.520807\n",
       "EmbeddedBrandName                      14.178981\n",
       "PctExtHyperlinks                       25.972792\n",
       "PctExtResourceUrls                     -2.192216\n",
       "ExtFavicon                              6.914029\n",
       "InsecureForms                          31.637952\n",
       "RelativeFormAction                     -8.258927\n",
       "ExtFormAction                         -10.516391\n",
       "AbnormalFormAction                    -14.507341\n",
       "PctNullSelfRedirectHyperlinks          34.280619\n",
       "FrequentDomainNameMismatch             46.395606\n",
       "FakeLinkInStatusBar                    -1.487336\n",
       "RightClickDisabled                      7.489972\n",
       "PopUpWindow                            -6.730796\n",
       "SubmitInfoToEmail                     -35.763495\n",
       "IframeOrFrame                         -23.523277\n",
       "MissingTitle                           11.669345\n",
       "ImagesOnlyInForm                       -0.116492\n",
       "SubdomainLevelRT                       -7.579879\n",
       "UrlLengthRT                            16.951321\n",
       "PctExtResourceUrlsRT                    5.208896\n",
       "AbnormalExtFormActionR                 18.579902\n",
       "ExtMetaScriptLinkRT                    11.115036\n",
       "PctExtNullSelfRedirectHyperlinksRT    -54.054477\n",
       "CLASS_LABEL                           100.000000\n",
       "Name: CLASS_LABEL, dtype: float64"
      ]
     },
     "execution_count": 32,
     "metadata": {},
     "output_type": "execute_result"
    }
   ],
   "source": [
    "# Provide us correlation values\n",
    "df.corr()['CLASS_LABEL'] * 100"
   ]
  },
  {
   "cell_type": "markdown",
   "id": "96d365e1",
   "metadata": {},
   "source": [
    "The positive values here imply a positive correlation to the target, while the negative values imply a negative correlation to the target. The magnitude of the values imply how strong of a correlation there is to the target. \n",
    "\n",
    "Preprocessing is always a crucial step to make sure we can draw meaningful analyses from the data. Now, we can begin applying our classification models!"
   ]
  },
  {
   "cell_type": "markdown",
   "id": "e24f6b14",
   "metadata": {},
   "source": [
    "### Dummy Classifier Model\n",
    "\n",
    "The Dummy Classifier is the baseline model for classification from the sklearn library. Baseline models like the Dummy Classifier are frequently used in binary classification problems as they are simplisitic/easy to implement, providing us with a better understanding of the data and a benchmark for evaluating more complex classification models. \n",
    "\n",
    "Dummy Classifiers work by using a predetermined strategy to analyze the training data and make predictions. By default, its strategy is to predict the most frequent class observed in the training data.\n",
    "\n",
    "If you would like to read more about the Dummy Classifier, take a look at sklearn's documentation here: https://scikit-learn.org/stable/modules/generated/sklearn.dummy.DummyClassifier.html\n",
    "\n",
    "There is a general procedure for working with classifier models:\n",
    "1. Read the data\n",
    "2. Create training and testing data for both your features (X) and target variable (y). The target variable in this case would be a categorical variable (classes).\n",
    "3. Next step is to create the classifier object. This could be a dummy classifier, logistic regression, K-nearest neighbours, SVMs (support vector machines), and more.\n",
    "4. Fit the classifier.\n",
    "5. Predict on new examples (X_test).\n",
    "6. Score the model, by comparing the predictions from X_test using your model against true values of the y_test.\n",
    "\n",
    "Let's take a look at how we would approach these steps one-by-one using a Dummy Classifier! We have already read the data into our Python environment, so let's begin at step 2!"
   ]
  },
  {
   "cell_type": "markdown",
   "id": "c38bc9f8",
   "metadata": {},
   "source": [
    "#### Step 2:\n",
    "\n",
    "We separate our features and target column, then use the train_test_split module from sklearn to split 80% of our data for training and 20% of our data for testing."
   ]
  },
  {
   "cell_type": "code",
   "execution_count": 33,
   "id": "8f81b66d",
   "metadata": {},
   "outputs": [],
   "source": [
    "from sklearn.model_selection import train_test_split\n",
    "\n",
    "# Performing a train-test split on the data for our model to use\n",
    "X = feats_df\n",
    "y = df['CLASS_LABEL']\n",
    "X_train, X_test, y_train, y_test = train_test_split(X, y, test_size=0.2, random_state=42)"
   ]
  },
  {
   "cell_type": "markdown",
   "id": "9bd279bb",
   "metadata": {},
   "source": [
    "#### Step 3 & 4:\n",
    "\n",
    "Upon importing the classification model we would like to use into our Python environment, we create an object for it and fit our training data. This is how we would do so with the Dummy Classifier model:"
   ]
  },
  {
   "cell_type": "code",
   "execution_count": 34,
   "id": "3150c635",
   "metadata": {},
   "outputs": [
    {
     "data": {
      "text/html": [
       "<style>#sk-container-id-5 {color: black;background-color: white;}#sk-container-id-5 pre{padding: 0;}#sk-container-id-5 div.sk-toggleable {background-color: white;}#sk-container-id-5 label.sk-toggleable__label {cursor: pointer;display: block;width: 100%;margin-bottom: 0;padding: 0.3em;box-sizing: border-box;text-align: center;}#sk-container-id-5 label.sk-toggleable__label-arrow:before {content: \"▸\";float: left;margin-right: 0.25em;color: #696969;}#sk-container-id-5 label.sk-toggleable__label-arrow:hover:before {color: black;}#sk-container-id-5 div.sk-estimator:hover label.sk-toggleable__label-arrow:before {color: black;}#sk-container-id-5 div.sk-toggleable__content {max-height: 0;max-width: 0;overflow: hidden;text-align: left;background-color: #f0f8ff;}#sk-container-id-5 div.sk-toggleable__content pre {margin: 0.2em;color: black;border-radius: 0.25em;background-color: #f0f8ff;}#sk-container-id-5 input.sk-toggleable__control:checked~div.sk-toggleable__content {max-height: 200px;max-width: 100%;overflow: auto;}#sk-container-id-5 input.sk-toggleable__control:checked~label.sk-toggleable__label-arrow:before {content: \"▾\";}#sk-container-id-5 div.sk-estimator input.sk-toggleable__control:checked~label.sk-toggleable__label {background-color: #d4ebff;}#sk-container-id-5 div.sk-label input.sk-toggleable__control:checked~label.sk-toggleable__label {background-color: #d4ebff;}#sk-container-id-5 input.sk-hidden--visually {border: 0;clip: rect(1px 1px 1px 1px);clip: rect(1px, 1px, 1px, 1px);height: 1px;margin: -1px;overflow: hidden;padding: 0;position: absolute;width: 1px;}#sk-container-id-5 div.sk-estimator {font-family: monospace;background-color: #f0f8ff;border: 1px dotted black;border-radius: 0.25em;box-sizing: border-box;margin-bottom: 0.5em;}#sk-container-id-5 div.sk-estimator:hover {background-color: #d4ebff;}#sk-container-id-5 div.sk-parallel-item::after {content: \"\";width: 100%;border-bottom: 1px solid gray;flex-grow: 1;}#sk-container-id-5 div.sk-label:hover label.sk-toggleable__label {background-color: #d4ebff;}#sk-container-id-5 div.sk-serial::before {content: \"\";position: absolute;border-left: 1px solid gray;box-sizing: border-box;top: 0;bottom: 0;left: 50%;z-index: 0;}#sk-container-id-5 div.sk-serial {display: flex;flex-direction: column;align-items: center;background-color: white;padding-right: 0.2em;padding-left: 0.2em;position: relative;}#sk-container-id-5 div.sk-item {position: relative;z-index: 1;}#sk-container-id-5 div.sk-parallel {display: flex;align-items: stretch;justify-content: center;background-color: white;position: relative;}#sk-container-id-5 div.sk-item::before, #sk-container-id-5 div.sk-parallel-item::before {content: \"\";position: absolute;border-left: 1px solid gray;box-sizing: border-box;top: 0;bottom: 0;left: 50%;z-index: -1;}#sk-container-id-5 div.sk-parallel-item {display: flex;flex-direction: column;z-index: 1;position: relative;background-color: white;}#sk-container-id-5 div.sk-parallel-item:first-child::after {align-self: flex-end;width: 50%;}#sk-container-id-5 div.sk-parallel-item:last-child::after {align-self: flex-start;width: 50%;}#sk-container-id-5 div.sk-parallel-item:only-child::after {width: 0;}#sk-container-id-5 div.sk-dashed-wrapped {border: 1px dashed gray;margin: 0 0.4em 0.5em 0.4em;box-sizing: border-box;padding-bottom: 0.4em;background-color: white;}#sk-container-id-5 div.sk-label label {font-family: monospace;font-weight: bold;display: inline-block;line-height: 1.2em;}#sk-container-id-5 div.sk-label-container {text-align: center;}#sk-container-id-5 div.sk-container {/* jupyter's `normalize.less` sets `[hidden] { display: none; }` but bootstrap.min.css set `[hidden] { display: none !important; }` so we also need the `!important` here to be able to override the default hidden behavior on the sphinx rendered scikit-learn.org. See: https://github.com/scikit-learn/scikit-learn/issues/21755 */display: inline-block !important;position: relative;}#sk-container-id-5 div.sk-text-repr-fallback {display: none;}</style><div id=\"sk-container-id-5\" class=\"sk-top-container\"><div class=\"sk-text-repr-fallback\"><pre>DummyClassifier()</pre><b>In a Jupyter environment, please rerun this cell to show the HTML representation or trust the notebook. <br />On GitHub, the HTML representation is unable to render, please try loading this page with nbviewer.org.</b></div><div class=\"sk-container\" hidden><div class=\"sk-item\"><div class=\"sk-estimator sk-toggleable\"><input class=\"sk-toggleable__control sk-hidden--visually\" id=\"sk-estimator-id-7\" type=\"checkbox\" checked><label for=\"sk-estimator-id-7\" class=\"sk-toggleable__label sk-toggleable__label-arrow\">DummyClassifier</label><div class=\"sk-toggleable__content\"><pre>DummyClassifier()</pre></div></div></div></div></div>"
      ],
      "text/plain": [
       "DummyClassifier()"
      ]
     },
     "execution_count": 34,
     "metadata": {},
     "output_type": "execute_result"
    }
   ],
   "source": [
    "# Import the Dummy Classifier \n",
    "from sklearn.dummy import DummyClassifier \n",
    "\n",
    "# Creating/Fitting Object for Dummy Classifier Model\n",
    "dummy_clf = DummyClassifier()\n",
    "dummy_clf.fit(X_train, y_train)"
   ]
  },
  {
   "cell_type": "markdown",
   "id": "1813ef1a",
   "metadata": {},
   "source": [
    "#### Step 5 & 6:\n",
    "\n",
    "Now that our model has learned from the training data, we can use our X_test data to make predictions and then compare it to our y_test data to evaluate how accurate our model really was. Using ```model.score()``` will automate this whole process and evaluate the R^2 score, a measure of variance, to calculate the accuracy rate."
   ]
  },
  {
   "cell_type": "code",
   "execution_count": 35,
   "id": "592f1631",
   "metadata": {},
   "outputs": [
    {
     "name": "stdout",
     "output_type": "stream",
     "text": [
      "The accuracy of the model on the training data: 0.494\n"
     ]
    }
   ],
   "source": [
    "# Making Predictions + Evaluating Performance\n",
    "print(\"The accuracy of the model on the training data: %0.3f\" % (dummy_clf.score(X_test, y_test)))"
   ]
  },
  {
   "cell_type": "markdown",
   "id": "c68a0cd9",
   "metadata": {},
   "source": [
    "We see that this classification model is able to predict phishing links with an accuracy of 49.4%. Though this is rather low, it makes sense as our Dummy Classifier model wants to predict the majority class from the training data, but since both classes are evenly distributed, we essentially have a random guess."
   ]
  },
  {
   "cell_type": "markdown",
   "id": "3329e611",
   "metadata": {},
   "source": [
    "### Logistic Regression Model\n",
    "\n",
    "Logistic Regression is another statistical analysis method that is used to predict the probability of a binary outcome (true/false, yes/no, etc.) based on the input variables that are passed in. Though it is called \"regression\", this algorithm is used in conducting classification tasks. It fits a logistic/sigmoid curve to the data, modelling the probability of an input belonging to a class and mapping the range between 0 and 1. By tuning the parameters through training, the logistic regression model will attempt to minimize the differences between our predictions and the actual testing data. \n",
    "\n",
    "This method works by summing each input features' associated weight (impact on outcome probability) and comparing it to a threshold value (commonly set as 0.5 in binary classification). If the total weight value is above the threshold, the logistic regression model determines that it is part of the positive class (phishing link, in our case) and if it is below the threshold, the model determines that it is part of the negative class (legitimate link, in our case).\n",
    "\n",
    "You can read more about logistic regression from sklearn's documentation here: https://scikit-learn.org/stable/modules/generated/sklearn.linear_model.LogisticRegression.html\n",
    "\n",
    "Let's try to follow the procedure to working with classifier models again, this time implementing the Logistic Regression model!"
   ]
  },
  {
   "cell_type": "markdown",
   "id": "5464d1f6",
   "metadata": {},
   "source": [
    "#### Step 2:\n",
    "\n",
    "We can accomplish this in the same way as we did for the Dummy Classifier. Let's perform an 80% split for the training data and 20% split for the testing data again."
   ]
  },
  {
   "cell_type": "code",
   "execution_count": 36,
   "id": "b3a225b9",
   "metadata": {},
   "outputs": [],
   "source": [
    "# Performing a train-test split on the data for our model to use\n",
    "X = feats_df\n",
    "y = df['CLASS_LABEL']\n",
    "X_train, X_test, y_train, y_test = train_test_split(X, y, test_size=0.2, random_state=42)"
   ]
  },
  {
   "cell_type": "markdown",
   "id": "7094bcea",
   "metadata": {},
   "source": [
    "#### Step 3 & 4:\n",
    "\n",
    "This time importing the Logistic Regression module from sklearn, let's create an object for the model and fit our testing data to it."
   ]
  },
  {
   "cell_type": "code",
   "execution_count": 37,
   "id": "658aadda",
   "metadata": {},
   "outputs": [
    {
     "data": {
      "text/html": [
       "<style>#sk-container-id-6 {color: black;background-color: white;}#sk-container-id-6 pre{padding: 0;}#sk-container-id-6 div.sk-toggleable {background-color: white;}#sk-container-id-6 label.sk-toggleable__label {cursor: pointer;display: block;width: 100%;margin-bottom: 0;padding: 0.3em;box-sizing: border-box;text-align: center;}#sk-container-id-6 label.sk-toggleable__label-arrow:before {content: \"▸\";float: left;margin-right: 0.25em;color: #696969;}#sk-container-id-6 label.sk-toggleable__label-arrow:hover:before {color: black;}#sk-container-id-6 div.sk-estimator:hover label.sk-toggleable__label-arrow:before {color: black;}#sk-container-id-6 div.sk-toggleable__content {max-height: 0;max-width: 0;overflow: hidden;text-align: left;background-color: #f0f8ff;}#sk-container-id-6 div.sk-toggleable__content pre {margin: 0.2em;color: black;border-radius: 0.25em;background-color: #f0f8ff;}#sk-container-id-6 input.sk-toggleable__control:checked~div.sk-toggleable__content {max-height: 200px;max-width: 100%;overflow: auto;}#sk-container-id-6 input.sk-toggleable__control:checked~label.sk-toggleable__label-arrow:before {content: \"▾\";}#sk-container-id-6 div.sk-estimator input.sk-toggleable__control:checked~label.sk-toggleable__label {background-color: #d4ebff;}#sk-container-id-6 div.sk-label input.sk-toggleable__control:checked~label.sk-toggleable__label {background-color: #d4ebff;}#sk-container-id-6 input.sk-hidden--visually {border: 0;clip: rect(1px 1px 1px 1px);clip: rect(1px, 1px, 1px, 1px);height: 1px;margin: -1px;overflow: hidden;padding: 0;position: absolute;width: 1px;}#sk-container-id-6 div.sk-estimator {font-family: monospace;background-color: #f0f8ff;border: 1px dotted black;border-radius: 0.25em;box-sizing: border-box;margin-bottom: 0.5em;}#sk-container-id-6 div.sk-estimator:hover {background-color: #d4ebff;}#sk-container-id-6 div.sk-parallel-item::after {content: \"\";width: 100%;border-bottom: 1px solid gray;flex-grow: 1;}#sk-container-id-6 div.sk-label:hover label.sk-toggleable__label {background-color: #d4ebff;}#sk-container-id-6 div.sk-serial::before {content: \"\";position: absolute;border-left: 1px solid gray;box-sizing: border-box;top: 0;bottom: 0;left: 50%;z-index: 0;}#sk-container-id-6 div.sk-serial {display: flex;flex-direction: column;align-items: center;background-color: white;padding-right: 0.2em;padding-left: 0.2em;position: relative;}#sk-container-id-6 div.sk-item {position: relative;z-index: 1;}#sk-container-id-6 div.sk-parallel {display: flex;align-items: stretch;justify-content: center;background-color: white;position: relative;}#sk-container-id-6 div.sk-item::before, #sk-container-id-6 div.sk-parallel-item::before {content: \"\";position: absolute;border-left: 1px solid gray;box-sizing: border-box;top: 0;bottom: 0;left: 50%;z-index: -1;}#sk-container-id-6 div.sk-parallel-item {display: flex;flex-direction: column;z-index: 1;position: relative;background-color: white;}#sk-container-id-6 div.sk-parallel-item:first-child::after {align-self: flex-end;width: 50%;}#sk-container-id-6 div.sk-parallel-item:last-child::after {align-self: flex-start;width: 50%;}#sk-container-id-6 div.sk-parallel-item:only-child::after {width: 0;}#sk-container-id-6 div.sk-dashed-wrapped {border: 1px dashed gray;margin: 0 0.4em 0.5em 0.4em;box-sizing: border-box;padding-bottom: 0.4em;background-color: white;}#sk-container-id-6 div.sk-label label {font-family: monospace;font-weight: bold;display: inline-block;line-height: 1.2em;}#sk-container-id-6 div.sk-label-container {text-align: center;}#sk-container-id-6 div.sk-container {/* jupyter's `normalize.less` sets `[hidden] { display: none; }` but bootstrap.min.css set `[hidden] { display: none !important; }` so we also need the `!important` here to be able to override the default hidden behavior on the sphinx rendered scikit-learn.org. See: https://github.com/scikit-learn/scikit-learn/issues/21755 */display: inline-block !important;position: relative;}#sk-container-id-6 div.sk-text-repr-fallback {display: none;}</style><div id=\"sk-container-id-6\" class=\"sk-top-container\"><div class=\"sk-text-repr-fallback\"><pre>LogisticRegression(max_iter=2000)</pre><b>In a Jupyter environment, please rerun this cell to show the HTML representation or trust the notebook. <br />On GitHub, the HTML representation is unable to render, please try loading this page with nbviewer.org.</b></div><div class=\"sk-container\" hidden><div class=\"sk-item\"><div class=\"sk-estimator sk-toggleable\"><input class=\"sk-toggleable__control sk-hidden--visually\" id=\"sk-estimator-id-8\" type=\"checkbox\" checked><label for=\"sk-estimator-id-8\" class=\"sk-toggleable__label sk-toggleable__label-arrow\">LogisticRegression</label><div class=\"sk-toggleable__content\"><pre>LogisticRegression(max_iter=2000)</pre></div></div></div></div></div>"
      ],
      "text/plain": [
       "LogisticRegression(max_iter=2000)"
      ]
     },
     "execution_count": 37,
     "metadata": {},
     "output_type": "execute_result"
    }
   ],
   "source": [
    "# Import the Logistic Regression\n",
    "from sklearn.linear_model import LogisticRegression\n",
    "\n",
    "# Creating/Fitting Object for Logistic Regression Model \n",
    "lr_clf = LogisticRegression(max_iter=2000)\n",
    "lr_clf.fit(X_train, y_train)"
   ]
  },
  {
   "cell_type": "markdown",
   "id": "34adb0d3",
   "metadata": {},
   "source": [
    "#### Step 5 & 6:\n",
    "\n",
    "Running ```.score``` will automate the process of making predictions and evaluating the accuracy rate. Let's run this to see how this model compares to the last."
   ]
  },
  {
   "cell_type": "code",
   "execution_count": 38,
   "id": "e430d6ec",
   "metadata": {},
   "outputs": [
    {
     "name": "stdout",
     "output_type": "stream",
     "text": [
      "The accuracy of the model on the training data: 0.938\n"
     ]
    }
   ],
   "source": [
    "# Making Predictions + Evaluating Performance\n",
    "print(\"The accuracy of the model on the training data: %0.3f\" % (lr_clf.score(X_test,y_test)))"
   ]
  },
  {
   "cell_type": "markdown",
   "id": "55efac3e",
   "metadata": {},
   "source": [
    "The Logistic Regression model seems to be much better than the Dummy Classifier model! Using the Logistic Regression model to classify phishing links from legitimate ones yields an accuracy rate of 93.8%."
   ]
  },
  {
   "cell_type": "markdown",
   "id": "c9b87e19",
   "metadata": {},
   "source": [
    "### K-Neighbors Classifier Model\n",
    "\n",
    "The K-Neighbors Classifier is a voting-style algorithm from sklearn that makes predictions for the classification of an input based on the classes of its k-nearest neighboring data points in the training data. The class that seems to appear most frequently out of these k-nearest neighbors is assigned to be the predicted class of the data input in question. It essentially functions through the idea that similar data points tend to belong to similar classes. \n",
    "\n",
    "By default, KNeighborsClassifier() uses 5 neighbors for queries, but you can modify the number of neighbors this algorithm considers by editing the n_neighbors parameter (e.g. model = KNeighborsClassifier(n_neighbors = 3)). It's a good idea to try playing around with this parameter to see how it changes the model performance, but make sure you consider an odd amount of neighbors to avoid ties! \n",
    "\n",
    "Additionally, keep in mind that having a small k value (e.g. n_neighbors=1) can lead to overfitting, which means that the model is over-sensitive to noise/outliers in the data and misses the pattern for predicting new data. Vice versa, having a k value too large can lead to underfitting, which causes the model to overly generalize the patterns in the data, missing some of the crucial variations that help make accurate predictions about the pattern for predicting new data.\n",
    "\n",
    "Using this link, you can read more about the K-Neighbors Classifier from the sklearn documentation if you are curious: https://scikit-learn.org/stable/modules/generated/sklearn.neighbors.KNeighborsClassifier.html\n",
    "\n",
    "Like the other classification models seen before, the K-Neighbors Classifier will also follow the same general procedure for working with classifier models. Let's try to implement this!"
   ]
  },
  {
   "cell_type": "markdown",
   "id": "d30f6b2b",
   "metadata": {},
   "source": [
    "#### Step 2:"
   ]
  },
  {
   "cell_type": "code",
   "execution_count": 39,
   "id": "b60d9ad7",
   "metadata": {},
   "outputs": [],
   "source": [
    "# Performing a train-test split on the data for our model to use\n",
    "X = feats_df\n",
    "y = df['CLASS_LABEL']\n",
    "X_train, X_test, y_train, y_test = train_test_split(X, y, test_size=0.2, random_state=42)"
   ]
  },
  {
   "cell_type": "markdown",
   "id": "45fea7b4",
   "metadata": {},
   "source": [
    "#### Step 3 & 4:"
   ]
  },
  {
   "cell_type": "code",
   "execution_count": 40,
   "id": "2c427073",
   "metadata": {},
   "outputs": [
    {
     "data": {
      "text/html": [
       "<style>#sk-container-id-7 {color: black;background-color: white;}#sk-container-id-7 pre{padding: 0;}#sk-container-id-7 div.sk-toggleable {background-color: white;}#sk-container-id-7 label.sk-toggleable__label {cursor: pointer;display: block;width: 100%;margin-bottom: 0;padding: 0.3em;box-sizing: border-box;text-align: center;}#sk-container-id-7 label.sk-toggleable__label-arrow:before {content: \"▸\";float: left;margin-right: 0.25em;color: #696969;}#sk-container-id-7 label.sk-toggleable__label-arrow:hover:before {color: black;}#sk-container-id-7 div.sk-estimator:hover label.sk-toggleable__label-arrow:before {color: black;}#sk-container-id-7 div.sk-toggleable__content {max-height: 0;max-width: 0;overflow: hidden;text-align: left;background-color: #f0f8ff;}#sk-container-id-7 div.sk-toggleable__content pre {margin: 0.2em;color: black;border-radius: 0.25em;background-color: #f0f8ff;}#sk-container-id-7 input.sk-toggleable__control:checked~div.sk-toggleable__content {max-height: 200px;max-width: 100%;overflow: auto;}#sk-container-id-7 input.sk-toggleable__control:checked~label.sk-toggleable__label-arrow:before {content: \"▾\";}#sk-container-id-7 div.sk-estimator input.sk-toggleable__control:checked~label.sk-toggleable__label {background-color: #d4ebff;}#sk-container-id-7 div.sk-label input.sk-toggleable__control:checked~label.sk-toggleable__label {background-color: #d4ebff;}#sk-container-id-7 input.sk-hidden--visually {border: 0;clip: rect(1px 1px 1px 1px);clip: rect(1px, 1px, 1px, 1px);height: 1px;margin: -1px;overflow: hidden;padding: 0;position: absolute;width: 1px;}#sk-container-id-7 div.sk-estimator {font-family: monospace;background-color: #f0f8ff;border: 1px dotted black;border-radius: 0.25em;box-sizing: border-box;margin-bottom: 0.5em;}#sk-container-id-7 div.sk-estimator:hover {background-color: #d4ebff;}#sk-container-id-7 div.sk-parallel-item::after {content: \"\";width: 100%;border-bottom: 1px solid gray;flex-grow: 1;}#sk-container-id-7 div.sk-label:hover label.sk-toggleable__label {background-color: #d4ebff;}#sk-container-id-7 div.sk-serial::before {content: \"\";position: absolute;border-left: 1px solid gray;box-sizing: border-box;top: 0;bottom: 0;left: 50%;z-index: 0;}#sk-container-id-7 div.sk-serial {display: flex;flex-direction: column;align-items: center;background-color: white;padding-right: 0.2em;padding-left: 0.2em;position: relative;}#sk-container-id-7 div.sk-item {position: relative;z-index: 1;}#sk-container-id-7 div.sk-parallel {display: flex;align-items: stretch;justify-content: center;background-color: white;position: relative;}#sk-container-id-7 div.sk-item::before, #sk-container-id-7 div.sk-parallel-item::before {content: \"\";position: absolute;border-left: 1px solid gray;box-sizing: border-box;top: 0;bottom: 0;left: 50%;z-index: -1;}#sk-container-id-7 div.sk-parallel-item {display: flex;flex-direction: column;z-index: 1;position: relative;background-color: white;}#sk-container-id-7 div.sk-parallel-item:first-child::after {align-self: flex-end;width: 50%;}#sk-container-id-7 div.sk-parallel-item:last-child::after {align-self: flex-start;width: 50%;}#sk-container-id-7 div.sk-parallel-item:only-child::after {width: 0;}#sk-container-id-7 div.sk-dashed-wrapped {border: 1px dashed gray;margin: 0 0.4em 0.5em 0.4em;box-sizing: border-box;padding-bottom: 0.4em;background-color: white;}#sk-container-id-7 div.sk-label label {font-family: monospace;font-weight: bold;display: inline-block;line-height: 1.2em;}#sk-container-id-7 div.sk-label-container {text-align: center;}#sk-container-id-7 div.sk-container {/* jupyter's `normalize.less` sets `[hidden] { display: none; }` but bootstrap.min.css set `[hidden] { display: none !important; }` so we also need the `!important` here to be able to override the default hidden behavior on the sphinx rendered scikit-learn.org. See: https://github.com/scikit-learn/scikit-learn/issues/21755 */display: inline-block !important;position: relative;}#sk-container-id-7 div.sk-text-repr-fallback {display: none;}</style><div id=\"sk-container-id-7\" class=\"sk-top-container\"><div class=\"sk-text-repr-fallback\"><pre>KNeighborsClassifier(n_neighbors=7)</pre><b>In a Jupyter environment, please rerun this cell to show the HTML representation or trust the notebook. <br />On GitHub, the HTML representation is unable to render, please try loading this page with nbviewer.org.</b></div><div class=\"sk-container\" hidden><div class=\"sk-item\"><div class=\"sk-estimator sk-toggleable\"><input class=\"sk-toggleable__control sk-hidden--visually\" id=\"sk-estimator-id-9\" type=\"checkbox\" checked><label for=\"sk-estimator-id-9\" class=\"sk-toggleable__label sk-toggleable__label-arrow\">KNeighborsClassifier</label><div class=\"sk-toggleable__content\"><pre>KNeighborsClassifier(n_neighbors=7)</pre></div></div></div></div></div>"
      ],
      "text/plain": [
       "KNeighborsClassifier(n_neighbors=7)"
      ]
     },
     "execution_count": 40,
     "metadata": {},
     "output_type": "execute_result"
    }
   ],
   "source": [
    "# Import the K-Neighbors Classifier Model\n",
    "from sklearn.neighbors import KNeighborsClassifier\n",
    "\n",
    "# Creating/Fitting Object for K-Neighbors Classifier Model \n",
    "knn_clf = KNeighborsClassifier(n_neighbors=7) # Try playing with the n_neighbors parameter\n",
    "knn_clf.fit(X_train, y_train)"
   ]
  },
  {
   "cell_type": "markdown",
   "id": "9f49fcaa",
   "metadata": {},
   "source": [
    "#### Step 5 & 6:"
   ]
  },
  {
   "cell_type": "code",
   "execution_count": 41,
   "id": "04e4d345",
   "metadata": {},
   "outputs": [
    {
     "name": "stdout",
     "output_type": "stream",
     "text": [
      "The accuracy of the model on the training data: 0.864\n"
     ]
    }
   ],
   "source": [
    "# Making Predictions + Evaluating Performance\n",
    "print(\"The accuracy of the model on the training data: %0.3f\" % (knn_clf.score(X_test,y_test)))"
   ]
  },
  {
   "cell_type": "markdown",
   "id": "0441d30f",
   "metadata": {},
   "source": [
    "The K-Neighbors Classifier model with n_neighbors=7 is able to distinguish between phishing URLs and legitimate URLs with an accuracy of 86.4%! This is much better than the Dummy Classifier, but slightly worse than the Logistic Regression model!"
   ]
  },
  {
   "cell_type": "markdown",
   "id": "762fa8fb",
   "metadata": {},
   "source": [
    "#### Optimizing n_neighbors using GridSearchCV!\n",
    "\n",
    "Rather than manually adjusting and tuning the n_neighbors parameter for the K-Neighbors Classifier model, we can use techniques such as GridSearchCV to optimize the n_neighbors value so that it yields the highest accuracy rate. \n",
    "\n",
    "GridSearchCV is a cross-validation algorithm that works by retraining our model several times on a range of parameter values specified by the user. In doing so, we can see how that parameter affects our classification model and find the values for that parameter that maximize the accuracy.\n",
    "\n",
    "For example, since we want to find the optimal n_neighbors value in our problem, we will set a range of values for this parameter using numpy. Then, we will use the GridSearchCV algorithm to determine which n_neighbors value yields the best results like so:"
   ]
  },
  {
   "cell_type": "code",
   "execution_count": 42,
   "id": "012f0e4f",
   "metadata": {},
   "outputs": [],
   "source": [
    "# Importing Python libraries needed for GridSearchCV\n",
    "import numpy as np\n",
    "from sklearn.model_selection import GridSearchCV"
   ]
  },
  {
   "cell_type": "code",
   "execution_count": 43,
   "id": "775a967c",
   "metadata": {},
   "outputs": [],
   "source": [
    "# Create new instance of the KNeighborsClassifier model\n",
    "knn2 = KNeighborsClassifier()\n",
    "\n",
    "# Setting range of n_neighbors values to try\n",
    "param_grid = {'n_neighbors': np.arange(1, 25)}"
   ]
  },
  {
   "cell_type": "code",
   "execution_count": 44,
   "id": "1cca86e3",
   "metadata": {},
   "outputs": [
    {
     "data": {
      "text/html": [
       "<style>#sk-container-id-8 {color: black;background-color: white;}#sk-container-id-8 pre{padding: 0;}#sk-container-id-8 div.sk-toggleable {background-color: white;}#sk-container-id-8 label.sk-toggleable__label {cursor: pointer;display: block;width: 100%;margin-bottom: 0;padding: 0.3em;box-sizing: border-box;text-align: center;}#sk-container-id-8 label.sk-toggleable__label-arrow:before {content: \"▸\";float: left;margin-right: 0.25em;color: #696969;}#sk-container-id-8 label.sk-toggleable__label-arrow:hover:before {color: black;}#sk-container-id-8 div.sk-estimator:hover label.sk-toggleable__label-arrow:before {color: black;}#sk-container-id-8 div.sk-toggleable__content {max-height: 0;max-width: 0;overflow: hidden;text-align: left;background-color: #f0f8ff;}#sk-container-id-8 div.sk-toggleable__content pre {margin: 0.2em;color: black;border-radius: 0.25em;background-color: #f0f8ff;}#sk-container-id-8 input.sk-toggleable__control:checked~div.sk-toggleable__content {max-height: 200px;max-width: 100%;overflow: auto;}#sk-container-id-8 input.sk-toggleable__control:checked~label.sk-toggleable__label-arrow:before {content: \"▾\";}#sk-container-id-8 div.sk-estimator input.sk-toggleable__control:checked~label.sk-toggleable__label {background-color: #d4ebff;}#sk-container-id-8 div.sk-label input.sk-toggleable__control:checked~label.sk-toggleable__label {background-color: #d4ebff;}#sk-container-id-8 input.sk-hidden--visually {border: 0;clip: rect(1px 1px 1px 1px);clip: rect(1px, 1px, 1px, 1px);height: 1px;margin: -1px;overflow: hidden;padding: 0;position: absolute;width: 1px;}#sk-container-id-8 div.sk-estimator {font-family: monospace;background-color: #f0f8ff;border: 1px dotted black;border-radius: 0.25em;box-sizing: border-box;margin-bottom: 0.5em;}#sk-container-id-8 div.sk-estimator:hover {background-color: #d4ebff;}#sk-container-id-8 div.sk-parallel-item::after {content: \"\";width: 100%;border-bottom: 1px solid gray;flex-grow: 1;}#sk-container-id-8 div.sk-label:hover label.sk-toggleable__label {background-color: #d4ebff;}#sk-container-id-8 div.sk-serial::before {content: \"\";position: absolute;border-left: 1px solid gray;box-sizing: border-box;top: 0;bottom: 0;left: 50%;z-index: 0;}#sk-container-id-8 div.sk-serial {display: flex;flex-direction: column;align-items: center;background-color: white;padding-right: 0.2em;padding-left: 0.2em;position: relative;}#sk-container-id-8 div.sk-item {position: relative;z-index: 1;}#sk-container-id-8 div.sk-parallel {display: flex;align-items: stretch;justify-content: center;background-color: white;position: relative;}#sk-container-id-8 div.sk-item::before, #sk-container-id-8 div.sk-parallel-item::before {content: \"\";position: absolute;border-left: 1px solid gray;box-sizing: border-box;top: 0;bottom: 0;left: 50%;z-index: -1;}#sk-container-id-8 div.sk-parallel-item {display: flex;flex-direction: column;z-index: 1;position: relative;background-color: white;}#sk-container-id-8 div.sk-parallel-item:first-child::after {align-self: flex-end;width: 50%;}#sk-container-id-8 div.sk-parallel-item:last-child::after {align-self: flex-start;width: 50%;}#sk-container-id-8 div.sk-parallel-item:only-child::after {width: 0;}#sk-container-id-8 div.sk-dashed-wrapped {border: 1px dashed gray;margin: 0 0.4em 0.5em 0.4em;box-sizing: border-box;padding-bottom: 0.4em;background-color: white;}#sk-container-id-8 div.sk-label label {font-family: monospace;font-weight: bold;display: inline-block;line-height: 1.2em;}#sk-container-id-8 div.sk-label-container {text-align: center;}#sk-container-id-8 div.sk-container {/* jupyter's `normalize.less` sets `[hidden] { display: none; }` but bootstrap.min.css set `[hidden] { display: none !important; }` so we also need the `!important` here to be able to override the default hidden behavior on the sphinx rendered scikit-learn.org. See: https://github.com/scikit-learn/scikit-learn/issues/21755 */display: inline-block !important;position: relative;}#sk-container-id-8 div.sk-text-repr-fallback {display: none;}</style><div id=\"sk-container-id-8\" class=\"sk-top-container\"><div class=\"sk-text-repr-fallback\"><pre>GridSearchCV(cv=5, estimator=KNeighborsClassifier(),\n",
       "             param_grid={&#x27;n_neighbors&#x27;: array([ 1,  2,  3,  4,  5,  6,  7,  8,  9, 10, 11, 12, 13, 14, 15, 16, 17,\n",
       "       18, 19, 20, 21, 22, 23, 24])})</pre><b>In a Jupyter environment, please rerun this cell to show the HTML representation or trust the notebook. <br />On GitHub, the HTML representation is unable to render, please try loading this page with nbviewer.org.</b></div><div class=\"sk-container\" hidden><div class=\"sk-item sk-dashed-wrapped\"><div class=\"sk-label-container\"><div class=\"sk-label sk-toggleable\"><input class=\"sk-toggleable__control sk-hidden--visually\" id=\"sk-estimator-id-10\" type=\"checkbox\" ><label for=\"sk-estimator-id-10\" class=\"sk-toggleable__label sk-toggleable__label-arrow\">GridSearchCV</label><div class=\"sk-toggleable__content\"><pre>GridSearchCV(cv=5, estimator=KNeighborsClassifier(),\n",
       "             param_grid={&#x27;n_neighbors&#x27;: array([ 1,  2,  3,  4,  5,  6,  7,  8,  9, 10, 11, 12, 13, 14, 15, 16, 17,\n",
       "       18, 19, 20, 21, 22, 23, 24])})</pre></div></div></div><div class=\"sk-parallel\"><div class=\"sk-parallel-item\"><div class=\"sk-item\"><div class=\"sk-label-container\"><div class=\"sk-label sk-toggleable\"><input class=\"sk-toggleable__control sk-hidden--visually\" id=\"sk-estimator-id-11\" type=\"checkbox\" ><label for=\"sk-estimator-id-11\" class=\"sk-toggleable__label sk-toggleable__label-arrow\">estimator: KNeighborsClassifier</label><div class=\"sk-toggleable__content\"><pre>KNeighborsClassifier()</pre></div></div></div><div class=\"sk-serial\"><div class=\"sk-item\"><div class=\"sk-estimator sk-toggleable\"><input class=\"sk-toggleable__control sk-hidden--visually\" id=\"sk-estimator-id-12\" type=\"checkbox\" ><label for=\"sk-estimator-id-12\" class=\"sk-toggleable__label sk-toggleable__label-arrow\">KNeighborsClassifier</label><div class=\"sk-toggleable__content\"><pre>KNeighborsClassifier()</pre></div></div></div></div></div></div></div></div></div></div>"
      ],
      "text/plain": [
       "GridSearchCV(cv=5, estimator=KNeighborsClassifier(),\n",
       "             param_grid={'n_neighbors': array([ 1,  2,  3,  4,  5,  6,  7,  8,  9, 10, 11, 12, 13, 14, 15, 16, 17,\n",
       "       18, 19, 20, 21, 22, 23, 24])})"
      ]
     },
     "execution_count": 44,
     "metadata": {},
     "output_type": "execute_result"
    }
   ],
   "source": [
    "# Applying GridSearchCV to KNeighborsClassifier for n_neighbors 1-25\n",
    "knn_gscv = GridSearchCV(knn2, param_grid, cv=5)\n",
    "knn_gscv.fit(X,y) # X = feats_df, y = df['CLASS_LABEL']"
   ]
  },
  {
   "cell_type": "code",
   "execution_count": 45,
   "id": "6576048f",
   "metadata": {},
   "outputs": [
    {
     "data": {
      "text/plain": [
       "{'n_neighbors': 3}"
      ]
     },
     "execution_count": 45,
     "metadata": {},
     "output_type": "execute_result"
    }
   ],
   "source": [
    "knn_gscv.best_params_"
   ]
  },
  {
   "cell_type": "markdown",
   "id": "49e78818",
   "metadata": {},
   "source": [
    "We can see that GridSearchCV determined n_neighbors=3 to be the optimal parameter value for the K-Neighbors Classifier. "
   ]
  },
  {
   "cell_type": "code",
   "execution_count": 46,
   "id": "1b95250d",
   "metadata": {},
   "outputs": [
    {
     "name": "stdout",
     "output_type": "stream",
     "text": [
      "The accuracy of the model on the training data: 0.868\n"
     ]
    }
   ],
   "source": [
    "# Creating/Fitting Object for K-Neighbors Classifier Model \n",
    "knn_clf = KNeighborsClassifier(n_neighbors=3) # Try playing with the n_neighbors parameter\n",
    "knn_clf.fit(X_train, y_train)\n",
    "\n",
    "# Making Predictions + Evaluating Performance\n",
    "print(\"The accuracy of the model on the training data: %0.3f\" % (knn_clf.score(X_test,y_test)))"
   ]
  },
  {
   "cell_type": "markdown",
   "id": "7ed2f8ac",
   "metadata": {},
   "source": [
    "Using the optimal value for n_neighbors found by the GridSearchCV algorithm, the accuracy rate of our K-Neighbors Classifier model has now increased to 86.8%! "
   ]
  },
  {
   "cell_type": "markdown",
   "id": "beb4785b",
   "metadata": {},
   "source": [
    "### Your turn! Linear Support Vector Classifier (SVC) Model\n",
    "\n",
    "Using what you've learned by following along with the other classification models above, do you think you can try implementing one on your own? Let's try the Support Vector Machine - more specifically the Linear Support Vector Classifier model!\n",
    "\n",
    "When configured with a linear kernel: ```SVC(kernel='linear')```, the SVC model will attempt to find a straight-line decision boundary, known as a hyperplane, that best separates the classes based on the input features. It does this by using its algorithm to maximize the margin (separation) between the positive and negative class data points closest to the hyperplane. In our case, the positive and negative class correspond to phishing and legitimate links, respectively. The data points that help optimize the margin are called support vectors, hence the name of the model.  \n",
    "\n",
    "If you would like, you can read more about Support Vector Machines/Classification from sklearn's documentation here: https://scikit-learn.org/stable/modules/generated/sklearn.svm.SVC.html\n",
    "\n",
    "Give it a try on your own first and you can take a look at the answer key after by uncommenting the code block below! How does the Linear SVC model compare to some of the other models we tried? Which model gave us the best results?\n",
    "\n",
    "It is important to try a variety of models and update parameters as needed to achieve a classification model that makes predictions as accurately as possible."
   ]
  },
  {
   "cell_type": "code",
   "execution_count": 47,
   "id": "66665be7",
   "metadata": {},
   "outputs": [],
   "source": [
    "# Import the Support Vector Classifier Model\n",
    "from sklearn.svm import SVC"
   ]
  },
  {
   "cell_type": "code",
   "execution_count": 48,
   "id": "6736676c",
   "metadata": {},
   "outputs": [],
   "source": [
    "# Answer Key - Uncomment code below to see the results!\n",
    "\n",
    "# # Performing a train-test split on the data for our model to use\n",
    "# X = feats_df\n",
    "# y = df['CLASS_LABEL']\n",
    "# X_train, X_test, y_train, y_test = train_test_split(X, y, test_size=0.2, random_state=42)\n",
    "\n",
    "# # Creating/Fitting Object for Support Vector Classifier Model \n",
    "# sv_clf = SVC(kernel='linear')\n",
    "# sv_clf.fit(X_train, y_train)\n",
    "\n",
    "# # Making Predictions + Evaluating Performance\n",
    "# print(\"The accuracy of the model on the training data: %0.3f\" % (sv_clf.score(X_test,y_test)))"
   ]
  },
  {
   "cell_type": "markdown",
   "id": "ac749486",
   "metadata": {},
   "source": [
    "Classification is an important technique used by data analysts to help categorize data based on a set of input features and determine relationships between variables. This type of analysis can be useful in various applications of IoT data. In this notebook for example, you saw how anti-phishing researchers use classification techniques to detect and prevent phishing attempts. "
   ]
  }
 ],
 "metadata": {
  "kernelspec": {
   "display_name": "Python 3 (ipykernel)",
   "language": "python",
   "name": "python3"
  },
  "language_info": {
   "codemirror_mode": {
    "name": "ipython",
    "version": 3
   },
   "file_extension": ".py",
   "mimetype": "text/x-python",
   "name": "python",
   "nbconvert_exporter": "python",
   "pygments_lexer": "ipython3",
   "version": "3.10.9"
  }
 },
 "nbformat": 4,
 "nbformat_minor": 5
}
