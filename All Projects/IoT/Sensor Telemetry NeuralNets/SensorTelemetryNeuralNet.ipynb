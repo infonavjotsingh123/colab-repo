{
 "cells": [
  {
   "cell_type": "markdown",
   "id": "15c2b571",
   "metadata": {},
   "source": [
    "# Python Workshop: Neural Networks in IoT Sensor Data\n",
    "\n",
    "### Firstly, what are Neural Networks?\n",
    "\n",
    "Neural networks (NN) are a branch of fundamentally important, yet complex models in machine learning and deep learning. The concept of NNs are greatly inspired by the structure of the human brain and they work very similarly to how our human brains would when trying to understand patterns from data. \n",
    "\n",
    "Neural networks are interesting because they are able to perform tasks that typical machine learning models could not. They can learn things like speech/language, process images, and even play games! They are powerful computer tools that we can use to our advantage in analyzing data.\n",
    "\n",
    "NNs consist of interconnected nodes/artificial neurons, organized into input, output and hidden layers. The output and hidden layers take in the input neurons, apply the corresponding weights, sum them together, and pass the result to the activation function. The activation function is used to determine the output of each neuron based on the weighted sum of the inputs. During training, these input weights are continually adjusted through a process called backpropagation, which iteratively optimizes the NNs performance on the given task and allows for more accurate and robust predictions.\n",
    "\n",
    "As such, NNs are characteristically proficient at learning complex patterns and correlations from data, making them particularly effective in solving tasks with large datasets, as well.\n",
    "\n",
    "In summary, a neural network is composed of the following:\n",
    "1. Input Layer: The first layer, which maps the features from the data into respective input layers (one column = one input layer)\n",
    "2. Hidden Layer: The layer responsible for computational learning of the NN. Though the input/output layers are determined automatically, we are able to program our hidden layer to meet our problem specifications and optimize our model.\n",
    "3. Output Layer: The final layer, which is used to predict the target output(s) of the NN. No outgoing connections.\n",
    "4. Weights & Bias: Weights are used to interpret the significance of an input feature on the target value of the neural network. Biases are used to offset the result of the neural network towards the positive/negative side.\n",
    "5. Activation Function: The activation function is used to compute the output based on the weighted sum of the inputs.\n",
    "6. Loss Function: Determines the discrepancy between the predicted output of the NN and the target values in the training data. Iteratively gives feedback to the NN such that changes can be made to the weights to minimize the loss/error."
   ]
  },
  {
   "cell_type": "code",
   "execution_count": 45,
   "id": "9c349de4",
   "metadata": {},
   "outputs": [],
   "source": [
    "# Loading in some basic Python libraries\n",
    "import pandas as pd\n",
    "import numpy as np\n",
    "import matplotlib.pyplot as plt\n",
    "from sklearn.preprocessing import OneHotEncoder, StandardScaler\n",
    "from sklearn.model_selection import train_test_split\n",
    "from sklearn.neural_network import MLPClassifier, MLPRegressor\n",
    "from sklearn.metrics import classification_report"
   ]
  },
  {
   "cell_type": "markdown",
   "id": "62d38b82",
   "metadata": {},
   "source": [
    "### What dataset will we be using?\n",
    "\n",
    "This dataset describes environmental sensor telemetry data. Sensor telemetry is a valuable tool used by researchers/scientists/engineers to monitor and understand physical environments by collecting and analyzing data in real time.\n",
    "The data comes from a series of three identical, custom-built, breadboard-based sensor arrays, each connected to a Raspberry Pi microprocessor. Each of these three IoT devices were placed in varied environmental conditions:\n",
    "\n",
    "                           | device            | environmental conditions                 |\n",
    "                           |-------------------|------------------------------------------|\n",
    "                           | 00:0f:00:70:91:0a | stable conditions, cooler and more humid |\n",
    "                           | 1c:bf:ce:15:ec:4d | highly variable temperature and humidity |\n",
    "                           | b8:27:eb:bf:9d:51 | stable conditions, warmer and dryer      |\n",
    "\n",
    "The features generated from the sensors include the temperature, humidity, carbon monoxide (CO), liquid petroleum gas (LPG), smoke, light, and motion of their environment. Each IoT device collected readings from the sensors on a regular interval. The timestamp of each reading is also included in the dataset.\n",
    "\n",
    "If you would like to read more and access this dataset for yourself, you can find it through this link: https://www.kaggle.com/datasets/garystafford/environmental-sensor-data-132k"
   ]
  },
  {
   "cell_type": "code",
   "execution_count": 46,
   "id": "81707a9a",
   "metadata": {
    "scrolled": true
   },
   "outputs": [
    {
     "data": {
      "text/html": [
       "<div>\n",
       "<style scoped>\n",
       "    .dataframe tbody tr th:only-of-type {\n",
       "        vertical-align: middle;\n",
       "    }\n",
       "\n",
       "    .dataframe tbody tr th {\n",
       "        vertical-align: top;\n",
       "    }\n",
       "\n",
       "    .dataframe thead th {\n",
       "        text-align: right;\n",
       "    }\n",
       "</style>\n",
       "<table border=\"1\" class=\"dataframe\">\n",
       "  <thead>\n",
       "    <tr style=\"text-align: right;\">\n",
       "      <th></th>\n",
       "      <th>device</th>\n",
       "      <th>co</th>\n",
       "      <th>humidity</th>\n",
       "      <th>light</th>\n",
       "      <th>lpg</th>\n",
       "      <th>motion</th>\n",
       "      <th>smoke</th>\n",
       "      <th>temp</th>\n",
       "    </tr>\n",
       "    <tr>\n",
       "      <th>ts</th>\n",
       "      <th></th>\n",
       "      <th></th>\n",
       "      <th></th>\n",
       "      <th></th>\n",
       "      <th></th>\n",
       "      <th></th>\n",
       "      <th></th>\n",
       "      <th></th>\n",
       "    </tr>\n",
       "  </thead>\n",
       "  <tbody>\n",
       "    <tr>\n",
       "      <th>1.594512e+09</th>\n",
       "      <td>b8:27:eb:bf:9d:51</td>\n",
       "      <td>0.004956</td>\n",
       "      <td>51.000000</td>\n",
       "      <td>False</td>\n",
       "      <td>0.007651</td>\n",
       "      <td>False</td>\n",
       "      <td>0.020411</td>\n",
       "      <td>22.700000</td>\n",
       "    </tr>\n",
       "    <tr>\n",
       "      <th>1.594512e+09</th>\n",
       "      <td>00:0f:00:70:91:0a</td>\n",
       "      <td>0.002840</td>\n",
       "      <td>76.000000</td>\n",
       "      <td>False</td>\n",
       "      <td>0.005114</td>\n",
       "      <td>False</td>\n",
       "      <td>0.013275</td>\n",
       "      <td>19.700001</td>\n",
       "    </tr>\n",
       "    <tr>\n",
       "      <th>1.594512e+09</th>\n",
       "      <td>b8:27:eb:bf:9d:51</td>\n",
       "      <td>0.004976</td>\n",
       "      <td>50.900000</td>\n",
       "      <td>False</td>\n",
       "      <td>0.007673</td>\n",
       "      <td>False</td>\n",
       "      <td>0.020475</td>\n",
       "      <td>22.600000</td>\n",
       "    </tr>\n",
       "    <tr>\n",
       "      <th>1.594512e+09</th>\n",
       "      <td>1c:bf:ce:15:ec:4d</td>\n",
       "      <td>0.004403</td>\n",
       "      <td>76.800003</td>\n",
       "      <td>True</td>\n",
       "      <td>0.007023</td>\n",
       "      <td>False</td>\n",
       "      <td>0.018628</td>\n",
       "      <td>27.000000</td>\n",
       "    </tr>\n",
       "    <tr>\n",
       "      <th>1.594512e+09</th>\n",
       "      <td>b8:27:eb:bf:9d:51</td>\n",
       "      <td>0.004967</td>\n",
       "      <td>50.900000</td>\n",
       "      <td>False</td>\n",
       "      <td>0.007664</td>\n",
       "      <td>False</td>\n",
       "      <td>0.020448</td>\n",
       "      <td>22.600000</td>\n",
       "    </tr>\n",
       "  </tbody>\n",
       "</table>\n",
       "</div>"
      ],
      "text/plain": [
       "                         device        co   humidity  light       lpg  motion  \\\n",
       "ts                                                                              \n",
       "1.594512e+09  b8:27:eb:bf:9d:51  0.004956  51.000000  False  0.007651   False   \n",
       "1.594512e+09  00:0f:00:70:91:0a  0.002840  76.000000  False  0.005114   False   \n",
       "1.594512e+09  b8:27:eb:bf:9d:51  0.004976  50.900000  False  0.007673   False   \n",
       "1.594512e+09  1c:bf:ce:15:ec:4d  0.004403  76.800003   True  0.007023   False   \n",
       "1.594512e+09  b8:27:eb:bf:9d:51  0.004967  50.900000  False  0.007664   False   \n",
       "\n",
       "                 smoke       temp  \n",
       "ts                                 \n",
       "1.594512e+09  0.020411  22.700000  \n",
       "1.594512e+09  0.013275  19.700001  \n",
       "1.594512e+09  0.020475  22.600000  \n",
       "1.594512e+09  0.018628  27.000000  \n",
       "1.594512e+09  0.020448  22.600000  "
      ]
     },
     "execution_count": 46,
     "metadata": {},
     "output_type": "execute_result"
    }
   ],
   "source": [
    "# Reading the csv dataset into our Python environment\n",
    "df = pd.read_csv('iot_telemetry_data.csv', index_col='ts')\n",
    "df.head() # Only first few rows of data for viewing clarity"
   ]
  },
  {
   "cell_type": "markdown",
   "id": "8aa7710d",
   "metadata": {},
   "source": [
    "Let's see what we can find out about our dataset using ```.info``` and ```.describe```!"
   ]
  },
  {
   "cell_type": "code",
   "execution_count": 47,
   "id": "1a6a2cd2",
   "metadata": {},
   "outputs": [
    {
     "name": "stdout",
     "output_type": "stream",
     "text": [
      "<class 'pandas.core.frame.DataFrame'>\n",
      "Float64Index: 405184 entries, 1594512094.3859746 to 1595203417.2643125\n",
      "Data columns (total 8 columns):\n",
      " #   Column    Non-Null Count   Dtype  \n",
      "---  ------    --------------   -----  \n",
      " 0   device    405184 non-null  object \n",
      " 1   co        405184 non-null  float64\n",
      " 2   humidity  405184 non-null  float64\n",
      " 3   light     405184 non-null  bool   \n",
      " 4   lpg       405184 non-null  float64\n",
      " 5   motion    405184 non-null  bool   \n",
      " 6   smoke     405184 non-null  float64\n",
      " 7   temp      405184 non-null  float64\n",
      "dtypes: bool(2), float64(5), object(1)\n",
      "memory usage: 22.4+ MB\n",
      "None\n"
     ]
    }
   ],
   "source": [
    "# Concise Dataset Summary\n",
    "print(df.info())"
   ]
  },
  {
   "cell_type": "markdown",
   "id": "a4e84faf",
   "metadata": {},
   "source": [
    "In our dataset, there are:\n",
    "- 8 columns and 405184 rows\n",
    "- 5 float64 columns, 2 boolean  columns and 1 object column\n",
    "- no missing values from any columns! Each column has 405184 non-null values!"
   ]
  },
  {
   "cell_type": "code",
   "execution_count": 48,
   "id": "c8b6f653",
   "metadata": {
    "scrolled": true
   },
   "outputs": [
    {
     "name": "stdout",
     "output_type": "stream",
     "text": [
      "                  co       humidity            lpg          smoke  \\\n",
      "count  405184.000000  405184.000000  405184.000000  405184.000000   \n",
      "mean        0.004639      60.511694       0.007237       0.019264   \n",
      "std         0.001250      11.366489       0.001444       0.004086   \n",
      "min         0.001171       1.100000       0.002693       0.006692   \n",
      "25%         0.003919      51.000000       0.006456       0.017024   \n",
      "50%         0.004812      54.900000       0.007489       0.019950   \n",
      "75%         0.005409      74.300003       0.008150       0.021838   \n",
      "max         0.014420      99.900002       0.016567       0.046590   \n",
      "\n",
      "                temp  \n",
      "count  405184.000000  \n",
      "mean       22.453987  \n",
      "std         2.698347  \n",
      "min         0.000000  \n",
      "25%        19.900000  \n",
      "50%        22.200000  \n",
      "75%        23.600000  \n",
      "max        30.600000  \n"
     ]
    }
   ],
   "source": [
    "# Descriptive Statistics Analysis\n",
    "print(df.describe())"
   ]
  },
  {
   "cell_type": "markdown",
   "id": "cc1789f0",
   "metadata": {},
   "source": [
    "Provided above are descriptive statistics, summarizing the count, mean, std, min, max, etc. of the numerical columns in our dataset. These statistics can help us identify patterns and detect any outliers in the data that may be overly affecting our neural network's results. "
   ]
  },
  {
   "cell_type": "markdown",
   "id": "c6e15558",
   "metadata": {},
   "source": [
    "### Preprocessing for Neural Network\n",
    "\n",
    "When working with neural networks, there are some requirements of the features in the dataset:\n",
    "- all data must be numeric\n",
    "- all data must be scaled\n",
    "\n",
    "In doing this, we are able to ensure that the neural network algorithm that is able to interpret the data and draw meaningful inferences. \n",
    "\n",
    "Let's start by performing a binary encoding on the light and motion columns, such that they display 1s and 0s rather than True and False. "
   ]
  },
  {
   "cell_type": "code",
   "execution_count": 49,
   "id": "566db7cb",
   "metadata": {},
   "outputs": [
    {
     "data": {
      "text/html": [
       "<div>\n",
       "<style scoped>\n",
       "    .dataframe tbody tr th:only-of-type {\n",
       "        vertical-align: middle;\n",
       "    }\n",
       "\n",
       "    .dataframe tbody tr th {\n",
       "        vertical-align: top;\n",
       "    }\n",
       "\n",
       "    .dataframe thead th {\n",
       "        text-align: right;\n",
       "    }\n",
       "</style>\n",
       "<table border=\"1\" class=\"dataframe\">\n",
       "  <thead>\n",
       "    <tr style=\"text-align: right;\">\n",
       "      <th></th>\n",
       "      <th>device</th>\n",
       "      <th>co</th>\n",
       "      <th>humidity</th>\n",
       "      <th>light</th>\n",
       "      <th>lpg</th>\n",
       "      <th>motion</th>\n",
       "      <th>smoke</th>\n",
       "      <th>temp</th>\n",
       "    </tr>\n",
       "    <tr>\n",
       "      <th>ts</th>\n",
       "      <th></th>\n",
       "      <th></th>\n",
       "      <th></th>\n",
       "      <th></th>\n",
       "      <th></th>\n",
       "      <th></th>\n",
       "      <th></th>\n",
       "      <th></th>\n",
       "    </tr>\n",
       "  </thead>\n",
       "  <tbody>\n",
       "    <tr>\n",
       "      <th>1.594512e+09</th>\n",
       "      <td>b8:27:eb:bf:9d:51</td>\n",
       "      <td>0.004956</td>\n",
       "      <td>51.000000</td>\n",
       "      <td>0</td>\n",
       "      <td>0.007651</td>\n",
       "      <td>0</td>\n",
       "      <td>0.020411</td>\n",
       "      <td>22.700000</td>\n",
       "    </tr>\n",
       "    <tr>\n",
       "      <th>1.594512e+09</th>\n",
       "      <td>00:0f:00:70:91:0a</td>\n",
       "      <td>0.002840</td>\n",
       "      <td>76.000000</td>\n",
       "      <td>0</td>\n",
       "      <td>0.005114</td>\n",
       "      <td>0</td>\n",
       "      <td>0.013275</td>\n",
       "      <td>19.700001</td>\n",
       "    </tr>\n",
       "    <tr>\n",
       "      <th>1.594512e+09</th>\n",
       "      <td>b8:27:eb:bf:9d:51</td>\n",
       "      <td>0.004976</td>\n",
       "      <td>50.900000</td>\n",
       "      <td>0</td>\n",
       "      <td>0.007673</td>\n",
       "      <td>0</td>\n",
       "      <td>0.020475</td>\n",
       "      <td>22.600000</td>\n",
       "    </tr>\n",
       "    <tr>\n",
       "      <th>1.594512e+09</th>\n",
       "      <td>1c:bf:ce:15:ec:4d</td>\n",
       "      <td>0.004403</td>\n",
       "      <td>76.800003</td>\n",
       "      <td>1</td>\n",
       "      <td>0.007023</td>\n",
       "      <td>0</td>\n",
       "      <td>0.018628</td>\n",
       "      <td>27.000000</td>\n",
       "    </tr>\n",
       "    <tr>\n",
       "      <th>1.594512e+09</th>\n",
       "      <td>b8:27:eb:bf:9d:51</td>\n",
       "      <td>0.004967</td>\n",
       "      <td>50.900000</td>\n",
       "      <td>0</td>\n",
       "      <td>0.007664</td>\n",
       "      <td>0</td>\n",
       "      <td>0.020448</td>\n",
       "      <td>22.600000</td>\n",
       "    </tr>\n",
       "  </tbody>\n",
       "</table>\n",
       "</div>"
      ],
      "text/plain": [
       "                         device        co   humidity  light       lpg  motion  \\\n",
       "ts                                                                              \n",
       "1.594512e+09  b8:27:eb:bf:9d:51  0.004956  51.000000      0  0.007651       0   \n",
       "1.594512e+09  00:0f:00:70:91:0a  0.002840  76.000000      0  0.005114       0   \n",
       "1.594512e+09  b8:27:eb:bf:9d:51  0.004976  50.900000      0  0.007673       0   \n",
       "1.594512e+09  1c:bf:ce:15:ec:4d  0.004403  76.800003      1  0.007023       0   \n",
       "1.594512e+09  b8:27:eb:bf:9d:51  0.004967  50.900000      0  0.007664       0   \n",
       "\n",
       "                 smoke       temp  \n",
       "ts                                 \n",
       "1.594512e+09  0.020411  22.700000  \n",
       "1.594512e+09  0.013275  19.700001  \n",
       "1.594512e+09  0.020475  22.600000  \n",
       "1.594512e+09  0.018628  27.000000  \n",
       "1.594512e+09  0.020448  22.600000  "
      ]
     },
     "execution_count": 49,
     "metadata": {},
     "output_type": "execute_result"
    }
   ],
   "source": [
    "df[['light','motion']] = df[['light','motion']].astype(int)\n",
    "df.head()"
   ]
  },
  {
   "cell_type": "markdown",
   "id": "054a1596",
   "metadata": {},
   "source": [
    "As mentioned in the dataset description, there are three IoT devices (placed in varying environmental conditions) that are generating this sensor data:\n",
    "- Device name: 00:0f:00:70:91:0a\n",
    "- Device name: 1c:bf:ce:15:ec:4d\t\n",
    "- Device name: b8:27:eb:bf:9d:51\n",
    "\n",
    "We can also map these categorical device names to be labelled numerically as device 0, 1, and 2, respectively."
   ]
  },
  {
   "cell_type": "code",
   "execution_count": 50,
   "id": "00cb0888",
   "metadata": {},
   "outputs": [
    {
     "data": {
      "text/html": [
       "<div>\n",
       "<style scoped>\n",
       "    .dataframe tbody tr th:only-of-type {\n",
       "        vertical-align: middle;\n",
       "    }\n",
       "\n",
       "    .dataframe tbody tr th {\n",
       "        vertical-align: top;\n",
       "    }\n",
       "\n",
       "    .dataframe thead th {\n",
       "        text-align: right;\n",
       "    }\n",
       "</style>\n",
       "<table border=\"1\" class=\"dataframe\">\n",
       "  <thead>\n",
       "    <tr style=\"text-align: right;\">\n",
       "      <th></th>\n",
       "      <th>device</th>\n",
       "      <th>co</th>\n",
       "      <th>humidity</th>\n",
       "      <th>light</th>\n",
       "      <th>lpg</th>\n",
       "      <th>motion</th>\n",
       "      <th>smoke</th>\n",
       "      <th>temp</th>\n",
       "    </tr>\n",
       "    <tr>\n",
       "      <th>ts</th>\n",
       "      <th></th>\n",
       "      <th></th>\n",
       "      <th></th>\n",
       "      <th></th>\n",
       "      <th></th>\n",
       "      <th></th>\n",
       "      <th></th>\n",
       "      <th></th>\n",
       "    </tr>\n",
       "  </thead>\n",
       "  <tbody>\n",
       "    <tr>\n",
       "      <th>1.594512e+09</th>\n",
       "      <td>2</td>\n",
       "      <td>0.004956</td>\n",
       "      <td>51.000000</td>\n",
       "      <td>0</td>\n",
       "      <td>0.007651</td>\n",
       "      <td>0</td>\n",
       "      <td>0.020411</td>\n",
       "      <td>22.700000</td>\n",
       "    </tr>\n",
       "    <tr>\n",
       "      <th>1.594512e+09</th>\n",
       "      <td>0</td>\n",
       "      <td>0.002840</td>\n",
       "      <td>76.000000</td>\n",
       "      <td>0</td>\n",
       "      <td>0.005114</td>\n",
       "      <td>0</td>\n",
       "      <td>0.013275</td>\n",
       "      <td>19.700001</td>\n",
       "    </tr>\n",
       "    <tr>\n",
       "      <th>1.594512e+09</th>\n",
       "      <td>2</td>\n",
       "      <td>0.004976</td>\n",
       "      <td>50.900000</td>\n",
       "      <td>0</td>\n",
       "      <td>0.007673</td>\n",
       "      <td>0</td>\n",
       "      <td>0.020475</td>\n",
       "      <td>22.600000</td>\n",
       "    </tr>\n",
       "    <tr>\n",
       "      <th>1.594512e+09</th>\n",
       "      <td>1</td>\n",
       "      <td>0.004403</td>\n",
       "      <td>76.800003</td>\n",
       "      <td>1</td>\n",
       "      <td>0.007023</td>\n",
       "      <td>0</td>\n",
       "      <td>0.018628</td>\n",
       "      <td>27.000000</td>\n",
       "    </tr>\n",
       "    <tr>\n",
       "      <th>1.594512e+09</th>\n",
       "      <td>2</td>\n",
       "      <td>0.004967</td>\n",
       "      <td>50.900000</td>\n",
       "      <td>0</td>\n",
       "      <td>0.007664</td>\n",
       "      <td>0</td>\n",
       "      <td>0.020448</td>\n",
       "      <td>22.600000</td>\n",
       "    </tr>\n",
       "  </tbody>\n",
       "</table>\n",
       "</div>"
      ],
      "text/plain": [
       "              device        co   humidity  light       lpg  motion     smoke  \\\n",
       "ts                                                                             \n",
       "1.594512e+09       2  0.004956  51.000000      0  0.007651       0  0.020411   \n",
       "1.594512e+09       0  0.002840  76.000000      0  0.005114       0  0.013275   \n",
       "1.594512e+09       2  0.004976  50.900000      0  0.007673       0  0.020475   \n",
       "1.594512e+09       1  0.004403  76.800003      1  0.007023       0  0.018628   \n",
       "1.594512e+09       2  0.004967  50.900000      0  0.007664       0  0.020448   \n",
       "\n",
       "                   temp  \n",
       "ts                       \n",
       "1.594512e+09  22.700000  \n",
       "1.594512e+09  19.700001  \n",
       "1.594512e+09  22.600000  \n",
       "1.594512e+09  27.000000  \n",
       "1.594512e+09  22.600000  "
      ]
     },
     "execution_count": 50,
     "metadata": {},
     "output_type": "execute_result"
    }
   ],
   "source": [
    "df['device'] = pd.Categorical(df['device'])\n",
    "df['device'] = df['device'].cat.codes\n",
    "df.head()"
   ]
  },
  {
   "cell_type": "markdown",
   "id": "1999fe33",
   "metadata": {},
   "source": [
    "Now that our data has been transformed to be numerical, all that's left for preprocessing is to scale the data. We can do this using the StandardScaler from the sklearn.preprocessing library, which will transform each numerical feature in the data to have a mean of 0 and a standard deviation of 1. Doing so allows our neural network to regularize the features and reduce the effect of potential overfitting or instability."
   ]
  },
  {
   "cell_type": "code",
   "execution_count": 51,
   "id": "2fae9910",
   "metadata": {},
   "outputs": [
    {
     "data": {
      "text/html": [
       "<div>\n",
       "<style scoped>\n",
       "    .dataframe tbody tr th:only-of-type {\n",
       "        vertical-align: middle;\n",
       "    }\n",
       "\n",
       "    .dataframe tbody tr th {\n",
       "        vertical-align: top;\n",
       "    }\n",
       "\n",
       "    .dataframe thead th {\n",
       "        text-align: right;\n",
       "    }\n",
       "</style>\n",
       "<table border=\"1\" class=\"dataframe\">\n",
       "  <thead>\n",
       "    <tr style=\"text-align: right;\">\n",
       "      <th></th>\n",
       "      <th>device</th>\n",
       "      <th>co</th>\n",
       "      <th>humidity</th>\n",
       "      <th>light</th>\n",
       "      <th>lpg</th>\n",
       "      <th>motion</th>\n",
       "      <th>smoke</th>\n",
       "      <th>temp</th>\n",
       "    </tr>\n",
       "    <tr>\n",
       "      <th>ts</th>\n",
       "      <th></th>\n",
       "      <th></th>\n",
       "      <th></th>\n",
       "      <th></th>\n",
       "      <th></th>\n",
       "      <th></th>\n",
       "      <th></th>\n",
       "      <th></th>\n",
       "    </tr>\n",
       "  </thead>\n",
       "  <tbody>\n",
       "    <tr>\n",
       "      <th>1.594512e+09</th>\n",
       "      <td>2</td>\n",
       "      <td>0.253670</td>\n",
       "      <td>-0.836820</td>\n",
       "      <td>0</td>\n",
       "      <td>0.286471</td>\n",
       "      <td>0</td>\n",
       "      <td>0.280867</td>\n",
       "      <td>0.091172</td>\n",
       "    </tr>\n",
       "    <tr>\n",
       "      <th>1.594512e+09</th>\n",
       "      <td>0</td>\n",
       "      <td>-1.438976</td>\n",
       "      <td>1.362631</td>\n",
       "      <td>0</td>\n",
       "      <td>-1.469927</td>\n",
       "      <td>0</td>\n",
       "      <td>-1.465637</td>\n",
       "      <td>-1.020621</td>\n",
       "    </tr>\n",
       "    <tr>\n",
       "      <th>1.594512e+09</th>\n",
       "      <td>2</td>\n",
       "      <td>0.269729</td>\n",
       "      <td>-0.845618</td>\n",
       "      <td>0</td>\n",
       "      <td>0.301986</td>\n",
       "      <td>0</td>\n",
       "      <td>0.296495</td>\n",
       "      <td>0.054112</td>\n",
       "    </tr>\n",
       "    <tr>\n",
       "      <th>1.594512e+09</th>\n",
       "      <td>1</td>\n",
       "      <td>-0.188651</td>\n",
       "      <td>1.433013</td>\n",
       "      <td>1</td>\n",
       "      <td>-0.148041</td>\n",
       "      <td>0</td>\n",
       "      <td>-0.155499</td>\n",
       "      <td>1.684742</td>\n",
       "    </tr>\n",
       "    <tr>\n",
       "      <th>1.594512e+09</th>\n",
       "      <td>2</td>\n",
       "      <td>0.262810</td>\n",
       "      <td>-0.845618</td>\n",
       "      <td>0</td>\n",
       "      <td>0.295303</td>\n",
       "      <td>0</td>\n",
       "      <td>0.289763</td>\n",
       "      <td>0.054112</td>\n",
       "    </tr>\n",
       "  </tbody>\n",
       "</table>\n",
       "</div>"
      ],
      "text/plain": [
       "              device        co  humidity  light       lpg  motion     smoke  \\\n",
       "ts                                                                            \n",
       "1.594512e+09       2  0.253670 -0.836820      0  0.286471       0  0.280867   \n",
       "1.594512e+09       0 -1.438976  1.362631      0 -1.469927       0 -1.465637   \n",
       "1.594512e+09       2  0.269729 -0.845618      0  0.301986       0  0.296495   \n",
       "1.594512e+09       1 -0.188651  1.433013      1 -0.148041       0 -0.155499   \n",
       "1.594512e+09       2  0.262810 -0.845618      0  0.295303       0  0.289763   \n",
       "\n",
       "                  temp  \n",
       "ts                      \n",
       "1.594512e+09  0.091172  \n",
       "1.594512e+09 -1.020621  \n",
       "1.594512e+09  0.054112  \n",
       "1.594512e+09  1.684742  \n",
       "1.594512e+09  0.054112  "
      ]
     },
     "execution_count": 51,
     "metadata": {},
     "output_type": "execute_result"
    }
   ],
   "source": [
    "scaler = StandardScaler()\n",
    "df[['co','humidity','lpg','smoke','temp']] = scaler.fit_transform(df[['co','humidity','lpg','smoke','temp']])\n",
    "df.head()"
   ]
  },
  {
   "cell_type": "markdown",
   "id": "1601d8f9",
   "metadata": {},
   "source": [
    "### Implementing the Neural Network: MLPRegressor\n",
    "\n",
    "The sklearn library offers base NN modules like the MLP. MLP stands for multi-layer perceptron and is just another name for feedforward neural networks (a type of supervised neural network, note that there are unsupervised neural networks, as well!). Since MLPs are supervised, we are able to use them to perform classification or regression tasks.\n",
    "\n",
    "For our purposes, let's implement the MLPRegressor() to make predictions about the temperature column from our IoT sensor telemetry dataset.\n",
    "\n",
    "Let's start by performing a train-test split on the data. We will allocate 80% of the data to training the MLPRegressor and 20% for testing it with \"new\" data points. "
   ]
  },
  {
   "cell_type": "code",
   "execution_count": 52,
   "id": "486b66f0",
   "metadata": {},
   "outputs": [],
   "source": [
    "X = df.drop(columns=['temp'])\n",
    "y = df['temp']\n",
    "X_train, X_test, y_train, y_test = train_test_split(X, y, test_size=0.2, random_state=42)"
   ]
  },
  {
   "cell_type": "markdown",
   "id": "2adf5726",
   "metadata": {},
   "source": [
    "The parameters defined in the MLPRegressor are very important to take note of. \n",
    "\n",
    "As mentioned before, the input/output layers are predetermined, but we do have some control over our NN's hidden layer. The ```hidden_layer_sizes``` parameter controls how many hidden layers we wish to create within our NN. Increasing the complexity of the hidden layers may give better accuracy results, but will also lead to significantly greater runtimes. Make sure to choose an argument that best matches the problem at hand. \n",
    "\n",
    "Also, using the ```max_iter``` and ```learning_rate_init``` parameters, we are able to solve any ```ConvergenceWarning``` errors, which means our NN was not able to find an optimal solution within the given step limit. ```max_iter``` is quite self-explanatory and it limits the amount of iterations that are allowed for the NN to converge. We could also adjust the ```learning_rate_init``` parameter which changes the step-size of the weights in each iteration of the training process. Setting this argument too large, however, may lead to the model jumping over the optimal value for an input neuron's weight. We need to find a balance where our NN is able to learn quick enough to converge within the given limit of iterations, but not that it misses the best input weight configuration.\n",
    "\n",
    "| Parameter | Definition |\n",
    "|:--------:|:--------:|\n",
    "|  hidden_layer_sizes  |  Defines hidden layer with neurons specified as parameter   |\n",
    "|  max_iter   |  Max steps allowed for the neural network to converge  |\n",
    "|  learning_rate_init   |  Controls the step-size in updating the feature weights   |\n",
    "\n",
    "This is how we can define a basic MLPRegressor model to start:"
   ]
  },
  {
   "cell_type": "code",
   "execution_count": 53,
   "id": "a009eefb",
   "metadata": {},
   "outputs": [],
   "source": [
    "NNR = MLPRegressor(\n",
    "    hidden_layer_sizes=(100), \n",
    "    max_iter=200,\n",
    "    learning_rate_init=0.003,\n",
    "    random_state=42\n",
    "    )"
   ]
  },
  {
   "cell_type": "code",
   "execution_count": 54,
   "id": "b7ebc8ef",
   "metadata": {},
   "outputs": [
    {
     "data": {
      "text/html": [
       "<style>#sk-container-id-3 {color: black;background-color: white;}#sk-container-id-3 pre{padding: 0;}#sk-container-id-3 div.sk-toggleable {background-color: white;}#sk-container-id-3 label.sk-toggleable__label {cursor: pointer;display: block;width: 100%;margin-bottom: 0;padding: 0.3em;box-sizing: border-box;text-align: center;}#sk-container-id-3 label.sk-toggleable__label-arrow:before {content: \"▸\";float: left;margin-right: 0.25em;color: #696969;}#sk-container-id-3 label.sk-toggleable__label-arrow:hover:before {color: black;}#sk-container-id-3 div.sk-estimator:hover label.sk-toggleable__label-arrow:before {color: black;}#sk-container-id-3 div.sk-toggleable__content {max-height: 0;max-width: 0;overflow: hidden;text-align: left;background-color: #f0f8ff;}#sk-container-id-3 div.sk-toggleable__content pre {margin: 0.2em;color: black;border-radius: 0.25em;background-color: #f0f8ff;}#sk-container-id-3 input.sk-toggleable__control:checked~div.sk-toggleable__content {max-height: 200px;max-width: 100%;overflow: auto;}#sk-container-id-3 input.sk-toggleable__control:checked~label.sk-toggleable__label-arrow:before {content: \"▾\";}#sk-container-id-3 div.sk-estimator input.sk-toggleable__control:checked~label.sk-toggleable__label {background-color: #d4ebff;}#sk-container-id-3 div.sk-label input.sk-toggleable__control:checked~label.sk-toggleable__label {background-color: #d4ebff;}#sk-container-id-3 input.sk-hidden--visually {border: 0;clip: rect(1px 1px 1px 1px);clip: rect(1px, 1px, 1px, 1px);height: 1px;margin: -1px;overflow: hidden;padding: 0;position: absolute;width: 1px;}#sk-container-id-3 div.sk-estimator {font-family: monospace;background-color: #f0f8ff;border: 1px dotted black;border-radius: 0.25em;box-sizing: border-box;margin-bottom: 0.5em;}#sk-container-id-3 div.sk-estimator:hover {background-color: #d4ebff;}#sk-container-id-3 div.sk-parallel-item::after {content: \"\";width: 100%;border-bottom: 1px solid gray;flex-grow: 1;}#sk-container-id-3 div.sk-label:hover label.sk-toggleable__label {background-color: #d4ebff;}#sk-container-id-3 div.sk-serial::before {content: \"\";position: absolute;border-left: 1px solid gray;box-sizing: border-box;top: 0;bottom: 0;left: 50%;z-index: 0;}#sk-container-id-3 div.sk-serial {display: flex;flex-direction: column;align-items: center;background-color: white;padding-right: 0.2em;padding-left: 0.2em;position: relative;}#sk-container-id-3 div.sk-item {position: relative;z-index: 1;}#sk-container-id-3 div.sk-parallel {display: flex;align-items: stretch;justify-content: center;background-color: white;position: relative;}#sk-container-id-3 div.sk-item::before, #sk-container-id-3 div.sk-parallel-item::before {content: \"\";position: absolute;border-left: 1px solid gray;box-sizing: border-box;top: 0;bottom: 0;left: 50%;z-index: -1;}#sk-container-id-3 div.sk-parallel-item {display: flex;flex-direction: column;z-index: 1;position: relative;background-color: white;}#sk-container-id-3 div.sk-parallel-item:first-child::after {align-self: flex-end;width: 50%;}#sk-container-id-3 div.sk-parallel-item:last-child::after {align-self: flex-start;width: 50%;}#sk-container-id-3 div.sk-parallel-item:only-child::after {width: 0;}#sk-container-id-3 div.sk-dashed-wrapped {border: 1px dashed gray;margin: 0 0.4em 0.5em 0.4em;box-sizing: border-box;padding-bottom: 0.4em;background-color: white;}#sk-container-id-3 div.sk-label label {font-family: monospace;font-weight: bold;display: inline-block;line-height: 1.2em;}#sk-container-id-3 div.sk-label-container {text-align: center;}#sk-container-id-3 div.sk-container {/* jupyter's `normalize.less` sets `[hidden] { display: none; }` but bootstrap.min.css set `[hidden] { display: none !important; }` so we also need the `!important` here to be able to override the default hidden behavior on the sphinx rendered scikit-learn.org. See: https://github.com/scikit-learn/scikit-learn/issues/21755 */display: inline-block !important;position: relative;}#sk-container-id-3 div.sk-text-repr-fallback {display: none;}</style><div id=\"sk-container-id-3\" class=\"sk-top-container\"><div class=\"sk-text-repr-fallback\"><pre>MLPRegressor(hidden_layer_sizes=100, learning_rate_init=0.003, random_state=42)</pre><b>In a Jupyter environment, please rerun this cell to show the HTML representation or trust the notebook. <br />On GitHub, the HTML representation is unable to render, please try loading this page with nbviewer.org.</b></div><div class=\"sk-container\" hidden><div class=\"sk-item\"><div class=\"sk-estimator sk-toggleable\"><input class=\"sk-toggleable__control sk-hidden--visually\" id=\"sk-estimator-id-3\" type=\"checkbox\" checked><label for=\"sk-estimator-id-3\" class=\"sk-toggleable__label sk-toggleable__label-arrow\">MLPRegressor</label><div class=\"sk-toggleable__content\"><pre>MLPRegressor(hidden_layer_sizes=100, learning_rate_init=0.003, random_state=42)</pre></div></div></div></div></div>"
      ],
      "text/plain": [
       "MLPRegressor(hidden_layer_sizes=100, learning_rate_init=0.003, random_state=42)"
      ]
     },
     "execution_count": 54,
     "metadata": {},
     "output_type": "execute_result"
    }
   ],
   "source": [
    "NNR.fit(X_train, y_train)"
   ]
  },
  {
   "cell_type": "markdown",
   "id": "7f16b1d0",
   "metadata": {},
   "source": [
    "Using the ```.score``` method, we can evaluate the performance of our MLPRegressor model. By default, this will calculate the R-squared score, a measure of the correlation between the input features and the target (temperature column, in our case)."
   ]
  },
  {
   "cell_type": "code",
   "execution_count": 55,
   "id": "2396fe18",
   "metadata": {},
   "outputs": [
    {
     "data": {
      "text/plain": [
       "0.9109385193067144"
      ]
     },
     "execution_count": 55,
     "metadata": {},
     "output_type": "execute_result"
    }
   ],
   "source": [
    "NNR.score(X_test, y_test)"
   ]
  },
  {
   "cell_type": "markdown",
   "id": "758ef561",
   "metadata": {},
   "source": [
    "Using our parameters, we were able to obtain a MLPRegressor model with a 91.1% R-squared score! This is generally a very high accuracy rate for a simple neural network model such as this one, which may suggest that this data might have been artificially simulated or generated. Regardless, I hope this example was able to showcase how a neural network can be implemented to make meaningful predictions from any type of IoT data.\n",
    "\n",
    "As an exercise, try playing around with some of the MLPRegressor model's parameters and see how that affects the R-squared score of the model."
   ]
  },
  {
   "cell_type": "markdown",
   "id": "f20b8dc3",
   "metadata": {},
   "source": [
    "### Comparing R-squared with other Regressor Models"
   ]
  },
  {
   "cell_type": "code",
   "execution_count": 56,
   "id": "4921b8e0",
   "metadata": {},
   "outputs": [
    {
     "name": "stdout",
     "output_type": "stream",
     "text": [
      "Linear Regression: R-squared score = 0.7864\n",
      "K-Neighbors Regression: R-squared score = 0.9312\n",
      "Decision Tree Regression: R-squared score = 0.9260\n"
     ]
    }
   ],
   "source": [
    "from sklearn.linear_model import LinearRegression\n",
    "from sklearn.neighbors import KNeighborsRegressor\n",
    "from sklearn.tree import DecisionTreeRegressor\n",
    "\n",
    "regressors = [\n",
    "    (\"Linear Regression\", LinearRegression()),\n",
    "    (\"K-Neighbors Regression\", KNeighborsRegressor()),\n",
    "    (\"Decision Tree Regression\", DecisionTreeRegressor())\n",
    "]\n",
    "\n",
    "for name, model in regressors:\n",
    "    model.fit(X_train, y_train)\n",
    "    score = model.score(X_test, y_test)\n",
    "    print(f\"{name}: R-squared score = {score:.4f}\")"
   ]
  },
  {
   "cell_type": "markdown",
   "id": "ccc62277",
   "metadata": {},
   "source": [
    "We can see that the MLPRegressor's prediction of the temperature column yields significantly greater results than the LinearRegression(), as expected! However, even with tuned parameters, our simple MLPRegressor model's R-squared score falls just short of the K-Neighbors and Decision Tree Regressors. This may be the case because the variables in our dataset are all quite simply correlated, while the NN really exceeds in determining more complex patterns."
   ]
  },
  {
   "cell_type": "markdown",
   "id": "af951de7",
   "metadata": {},
   "source": [
    "### Introspecting our Neural Network Model\n",
    "\n",
    "#### How many input neurons are in our Neural Network?\n",
    "\n",
    "Recall that the number of input neurons directly corresponds to the number of features in our dataset."
   ]
  },
  {
   "cell_type": "code",
   "execution_count": 57,
   "id": "d6e930ad",
   "metadata": {},
   "outputs": [
    {
     "name": "stdout",
     "output_type": "stream",
     "text": [
      "(405184, 7)\n"
     ]
    }
   ],
   "source": [
    "print(X.shape)"
   ]
  },
  {
   "cell_type": "markdown",
   "id": "cc63dc91",
   "metadata": {},
   "source": [
    "#### How many output neurons are in our Neural Network?"
   ]
  },
  {
   "cell_type": "code",
   "execution_count": 58,
   "id": "fa1bbbc9",
   "metadata": {},
   "outputs": [
    {
     "data": {
      "text/plain": [
       "1"
      ]
     },
     "execution_count": 58,
     "metadata": {},
     "output_type": "execute_result"
    }
   ],
   "source": [
    "NNR.n_outputs_"
   ]
  },
  {
   "cell_type": "markdown",
   "id": "99a8cdd1",
   "metadata": {},
   "source": [
    "Since we are only attempting to predict the temperature column as a single continuous value, there is only one output neuron in our neural network.\n",
    "\n",
    "#### How many iterations did it take for our neural network to make this prediction about the target column?"
   ]
  },
  {
   "cell_type": "code",
   "execution_count": 59,
   "id": "46862a46",
   "metadata": {},
   "outputs": [
    {
     "data": {
      "text/plain": [
       "44"
      ]
     },
     "execution_count": 59,
     "metadata": {},
     "output_type": "execute_result"
    }
   ],
   "source": [
    "num_iters = NNR.n_iter_\n",
    "num_iters"
   ]
  },
  {
   "cell_type": "markdown",
   "id": "9196f5b2",
   "metadata": {},
   "source": [
    "Feel free to go back to the MLPRegressor model we defined above and change the ```max_iter``` parameter to be more suitable!\n",
    "\n",
    "#### Understanding the Weights in our Neural Network"
   ]
  },
  {
   "cell_type": "code",
   "execution_count": 60,
   "id": "cfa29d0e",
   "metadata": {
    "scrolled": false
   },
   "outputs": [
    {
     "data": {
      "text/plain": [
       "[array([[-2.94022663e-001,  2.27255855e-001,  1.97705814e-002,\n",
       "          5.93242229e-003, -6.14524374e-001, -6.39652835e-001,\n",
       "         -1.15169207e+000, -1.49804871e-315, -2.43873672e-001,\n",
       "          8.64703957e-002, -1.41725204e+000, -1.49275480e+000,\n",
       "          9.17030515e-002, -4.59192806e-001, -3.75886449e-001,\n",
       "         -4.14266927e-001,  1.02608460e-315, -1.20874408e-315,\n",
       "         -5.31696458e-001,  1.47161770e-315, -1.19910928e-315,\n",
       "         -3.75669810e-316, -8.38295519e-001, -1.57126634e-002,\n",
       "          1.45836168e-315,  9.74714203e-316, -9.41234624e-001,\n",
       "          3.09341462e-002, -4.70632380e-001, -4.03444821e-001,\n",
       "          2.42032823e-003,  1.38588001e-127, -6.46925637e-001,\n",
       "         -4.13111426e-002,  4.71163765e-001, -1.13502590e-315,\n",
       "          1.00108406e-316, -1.26872413e+000,  4.35407346e-316,\n",
       "         -8.79378451e-001, -2.47183217e-001,  3.16989900e-001,\n",
       "         -4.80528845e-001, -1.29480997e-315, -2.31647477e+000,\n",
       "          9.69493200e-002, -2.79273099e-001, -4.21820457e-002,\n",
       "          1.08901531e-002, -1.80115078e+000,  1.29365148e-001,\n",
       "         -3.50503603e-316,  7.13059761e-001,  1.41987359e-001,\n",
       "          1.47423129e-001,  9.34416035e-316, -4.21337403e-001,\n",
       "         -9.51167324e-001,  9.13131939e-316, -1.19536384e+000,\n",
       "         -1.19848424e+000, -5.97287175e-001,  1.82358053e-001,\n",
       "         -1.86130631e+000, -2.53582070e-001,  6.99261954e-002,\n",
       "         -8.44407728e-001, -1.38524820e-315, -9.36282203e-001,\n",
       "         -7.27741868e-316,  9.59302203e-002, -8.86918597e-001,\n",
       "         -1.24178326e+000, -1.74171849e-001,  1.69793106e-001,\n",
       "          1.98118269e-001,  6.99268292e-316, -7.20303224e-001,\n",
       "         -1.30411801e-001, -9.25943305e-001,  6.06210822e-001,\n",
       "          9.89054967e-316, -2.09775068e+000, -6.80397902e-001,\n",
       "         -9.74317233e-002, -1.91258012e-003, -9.35244244e-001,\n",
       "          8.02765418e-003,  1.51074296e-001, -1.33676509e-315,\n",
       "         -2.79086885e-001, -1.27543564e-315,  1.75055432e-001,\n",
       "         -1.14928744e+000, -5.02172572e-001,  8.01038256e-316,\n",
       "          4.57248788e-316, -5.43852978e-002, -1.17279865e+000,\n",
       "         -4.42322401e-001],\n",
       "        [-4.74228094e-001,  3.59755233e-002, -6.39390794e-001,\n",
       "          7.40492501e-002, -2.24306102e-001,  4.11861199e-001,\n",
       "         -3.08606641e-001,  1.35813424e-315,  2.49240524e-001,\n",
       "         -5.76900729e-001, -1.84949474e-001, -4.08981623e-001,\n",
       "          6.81678586e-001, -2.02626577e-001,  4.37264546e-001,\n",
       "          6.37667324e-001,  1.01215608e-315, -1.05823728e-315,\n",
       "          4.89070805e-001, -3.52695629e-316,  1.47407335e-315,\n",
       "          1.14328461e-315, -4.34958935e-001, -6.37275458e-001,\n",
       "         -2.56959051e-316,  2.18598115e-316,  9.59183378e-002,\n",
       "          7.33184357e-001, -7.69919811e-001, -5.35180959e-001,\n",
       "         -4.34440640e-001,  1.52666675e-081, -6.30354912e-001,\n",
       "         -2.32956771e-002, -1.11682086e-001, -1.15273574e-315,\n",
       "         -1.22665340e-315,  1.60396510e-001,  5.31573791e-316,\n",
       "          6.52641332e-002, -3.24546745e-001,  4.93855060e-002,\n",
       "         -3.83102381e-001,  1.41584182e-315,  2.77755429e-002,\n",
       "          1.02729816e-001, -5.34544763e-002,  4.95596249e-001,\n",
       "          1.84995998e-001,  5.43376257e-001,  1.03687244e-001,\n",
       "         -1.51429067e-315, -3.65929036e-001,  5.75244277e-001,\n",
       "          2.77844153e-001, -2.24276994e-316, -3.43054649e-001,\n",
       "          6.60153603e-002, -1.04452212e-315,  2.04378360e-001,\n",
       "         -2.30910493e-001,  2.32202058e-001, -2.74921350e-001,\n",
       "         -4.33951993e-002, -6.04347616e-001,  4.10848784e-001,\n",
       "          5.43736437e-002, -1.04659910e-315, -2.33703082e-001,\n",
       "         -7.99063485e-316, -4.02932417e-001, -2.21884332e-001,\n",
       "         -1.18687509e-001, -5.63055775e-001,  6.88024703e-001,\n",
       "          3.06560032e-001,  5.31904207e-316, -7.05541547e-001,\n",
       "          7.38782597e-001, -1.10283400e-001,  4.81259534e-001,\n",
       "         -1.29373164e-315,  1.54771426e-001, -3.47086730e-001,\n",
       "          5.21413045e-001, -2.17526497e-004,  3.02971202e-001,\n",
       "         -4.91830737e-001,  2.57111775e-001, -1.28724469e-315,\n",
       "         -7.58796656e-001,  1.48296552e-315,  5.37419606e-001,\n",
       "          8.13078057e-001, -9.14422113e-001, -6.19475119e-316,\n",
       "          1.04386967e-315,  8.43777925e-001,  1.43315607e-001,\n",
       "          6.66459026e-001],\n",
       "        [ 3.68106124e-001, -7.95311229e-001, -1.44419027e+000,\n",
       "          1.66184843e+000,  6.56095285e-001, -2.06053744e-001,\n",
       "         -1.72899414e+000, -2.34610995e-316, -1.31134793e+000,\n",
       "         -1.21110930e+000, -6.68212628e-001, -1.10952610e+000,\n",
       "         -1.55736617e-001, -1.25220449e+000,  1.70335529e-002,\n",
       "         -1.10029397e+000, -1.39800316e-315,  1.04790655e-315,\n",
       "          6.05449816e-001,  7.30806355e-316, -7.55550506e-316,\n",
       "          8.84376439e-316, -4.15748780e-001,  2.91155535e-001,\n",
       "          5.44442358e-316, -2.38128243e-316,  6.81461328e-001,\n",
       "          1.78135675e-001,  1.07928821e-001,  3.67343985e-001,\n",
       "          5.92387339e-001, -2.72175682e-097,  2.82212370e-001,\n",
       "         -6.28582854e-001, -3.88763807e-001, -1.06275901e-315,\n",
       "          1.20932013e-315, -1.17479504e+000,  7.40231171e-316,\n",
       "          4.77055514e-001,  3.54302813e-001,  1.30290610e+000,\n",
       "          6.21074414e-001,  7.65023622e-316, -1.10937396e+000,\n",
       "          9.57662498e-001,  8.23425817e-001,  8.30920658e-001,\n",
       "          1.29405407e+000, -2.78585813e-002, -1.21829181e-001,\n",
       "         -5.46313567e-316,  8.51579051e-001, -5.06162581e-001,\n",
       "         -1.05786281e+000, -2.16039171e-316,  7.30212580e-001,\n",
       "          4.35348689e-001,  1.07074711e-315, -1.81740893e+000,\n",
       "          6.04700423e-001,  9.91471079e-001, -1.34306102e+000,\n",
       "         -5.71583390e-001,  6.01364053e-001,  1.27369881e+000,\n",
       "          1.12474673e+000, -1.24654496e-315,  5.48429688e-001,\n",
       "          1.36810853e-315,  3.31967684e-001,  8.62547758e-001,\n",
       "          7.07749748e-001,  2.86358422e-001,  3.14866566e-001,\n",
       "         -2.59012657e-001,  1.18046064e-315, -2.22525868e+000,\n",
       "          5.30626017e-002,  8.34138012e-001,  1.19473383e+000,\n",
       "          2.97067004e-316, -1.20699237e+000, -1.31367978e+000,\n",
       "         -1.03101471e+000, -8.69601912e-006, -6.84909245e-001,\n",
       "          3.29792978e-001, -2.96865512e-001, -1.03658033e-315,\n",
       "         -8.43178974e-001, -9.91734898e-316,  8.94847956e-001,\n",
       "         -1.88860418e-001, -1.70926438e-001, -1.07313639e-315,\n",
       "         -4.02389562e-316, -5.50364341e-001,  8.03467883e-001,\n",
       "         -1.19224476e-001],\n",
       "        [-1.52699607e-001,  8.26448346e-002, -3.94285042e-001,\n",
       "          1.56531494e-001,  6.15337143e-002, -8.61498742e-002,\n",
       "          6.14935343e-001,  8.56214697e-316,  2.81003251e-001,\n",
       "          1.88519794e-002, -7.28441582e-001, -9.66489641e-001,\n",
       "          2.65776493e-001,  1.04644989e+000,  7.87869558e-001,\n",
       "          2.33443951e-001,  3.75032564e-316,  1.11254719e-315,\n",
       "          4.97946410e-001,  7.15843241e-316, -1.43765181e-315,\n",
       "          7.15287926e-316,  6.71480032e-001, -5.17573469e-001,\n",
       "         -4.73256747e-316,  9.38122659e-316,  7.06283063e-001,\n",
       "          5.83891159e-001, -2.06509775e-001, -2.87352673e-001,\n",
       "         -4.67435140e-001,  1.22574122e-121, -3.29195344e-001,\n",
       "          2.35034866e-001,  3.45035013e-001,  1.41000843e-315,\n",
       "          8.28347384e-316,  3.51993425e-001, -1.10731888e-315,\n",
       "         -1.00578360e-003, -4.20110288e-001, -3.20049346e-001,\n",
       "         -2.71904587e-001, -3.09865014e-316, -1.49309470e-001,\n",
       "          1.85989396e-001,  1.64501123e-002, -8.59295449e-001,\n",
       "          8.38163295e-001,  1.71809604e+000,  1.21753201e-001,\n",
       "         -2.07142457e-316, -1.03816959e-002,  1.30504651e-001,\n",
       "         -3.19689864e-001,  1.10914002e-315, -3.05510103e-001,\n",
       "          6.34859762e-001, -6.60961604e-316,  3.23418980e-001,\n",
       "         -3.13811001e-001,  4.78052133e-001,  4.66276751e-001,\n",
       "          4.65034981e-001, -7.41744824e-002,  5.37731043e-001,\n",
       "          4.21305828e-001,  1.45755738e-315,  5.15274619e-001,\n",
       "         -1.06583292e-315, -6.99685886e-001,  2.52757391e-001,\n",
       "         -2.84078386e-001,  1.26749918e-002,  4.40993207e-001,\n",
       "          5.05620718e-001, -9.46908579e-317, -2.14398777e-001,\n",
       "          1.61719660e-001,  3.17709489e-001,  6.39242627e-001,\n",
       "         -1.27458018e-315,  1.19039138e-001,  9.49419474e-001,\n",
       "          2.30087587e-001,  8.17666275e-006, -4.43435510e-001,\n",
       "         -6.21769321e-001,  5.59820439e-001, -1.50141788e-315,\n",
       "          5.62016448e-001, -7.16680411e-316,  3.37883684e-001,\n",
       "          1.06461461e+000, -3.72110502e-001, -9.28696276e-316,\n",
       "          1.49031213e-315,  1.73925146e-001,  5.95009355e-001,\n",
       "         -8.62599602e-001],\n",
       "        [-5.15005153e-001,  3.37518597e-001, -3.56859815e-001,\n",
       "          1.23087092e-001, -3.81888217e-001,  6.87650853e-001,\n",
       "         -5.86845587e-002, -6.30610924e-316,  5.19236767e-001,\n",
       "         -4.28470199e-001, -1.80932490e-001,  2.22092833e-001,\n",
       "          8.18436451e-001,  2.93641002e-002,  4.24062385e-001,\n",
       "          3.72941834e-001, -7.20312524e-316,  1.06470323e-315,\n",
       "          5.93783328e-001,  1.43341467e-315,  1.09507686e-315,\n",
       "          1.11349265e-315, -4.45062944e-001, -3.60919557e-001,\n",
       "         -1.34184949e-315, -8.59722474e-316,  1.46510895e-001,\n",
       "          9.18790153e-001, -6.77426226e-001, -6.12364808e-001,\n",
       "         -4.49140472e-001,  1.04051010e-085, -2.92534617e-001,\n",
       "          8.76795113e-004, -3.95837039e-001,  1.05492875e-315,\n",
       "         -1.33862234e-315,  3.63778029e-001,  1.43505016e-315,\n",
       "         -4.51861289e-001, -6.37401057e-001,  1.82208629e-001,\n",
       "         -3.23356046e-001, -9.08221816e-316,  1.26437872e-001,\n",
       "          5.33790902e-001,  1.16294313e-001,  4.58499610e-001,\n",
       "          3.93219913e-001,  4.32496318e-001,  1.93702180e-001,\n",
       "          1.31533881e-315, -1.41859711e-001,  7.42318103e-001,\n",
       "          1.70688018e-002,  1.12691042e-315, -5.40129473e-001,\n",
       "          1.48545456e-001, -8.50727505e-316, -2.79563664e-001,\n",
       "         -4.38156542e-001,  5.44581077e-001, -2.24891561e-001,\n",
       "          1.88881864e-001, -7.92465212e-002,  2.90628087e-001,\n",
       "          2.78566245e-001, -2.60976872e-316, -2.63384393e-001,\n",
       "          5.51580144e-316, -6.08105038e-001,  4.34495642e-001,\n",
       "         -4.39868362e-001, -3.44130039e-001,  7.95235567e-001,\n",
       "          8.07014347e-001, -1.40468217e-315, -7.81217754e-002,\n",
       "          8.99744560e-001,  2.67376265e-001,  7.61555471e-001,\n",
       "          6.70389617e-316, -5.73951441e-002,  4.85744252e-001,\n",
       "          6.33897721e-001,  1.83415281e-004, -7.47871830e-002,\n",
       "         -5.19423220e-001,  6.04418020e-001,  2.54106672e-316,\n",
       "         -6.09297677e-001, -1.48579686e-315,  2.25921472e-001,\n",
       "          5.02209985e-001, -9.44060918e-001,  1.10554228e-315,\n",
       "         -1.46376474e-315,  4.16513158e-001,  4.21380809e-001,\n",
       "          8.79273539e-001],\n",
       "        [-3.83406353e-002,  2.77855779e-001,  2.72445452e-002,\n",
       "         -2.83775352e-003, -3.39519352e-002, -5.68280486e-002,\n",
       "          9.92524996e-002,  1.25126405e-315,  1.07411426e-001,\n",
       "         -9.99942821e-002,  5.41834717e-001, -4.66184874e-316,\n",
       "          6.46461090e-001, -9.85354904e-002,  4.19059225e-002,\n",
       "          5.48302387e-002, -3.92205011e-316, -1.19115514e-315,\n",
       "         -2.10057031e-001,  5.07395082e-316,  1.13632605e-315,\n",
       "         -6.19340635e-317,  6.47715120e-002, -5.36899163e-003,\n",
       "          1.05396662e-315,  6.00709676e-316,  2.42798552e-001,\n",
       "         -1.38000079e+000, -2.56548701e-001,  1.43821110e-002,\n",
       "         -3.08747288e-001, -1.12135480e-285, -1.72615527e-002,\n",
       "          3.95795510e-002, -6.23048998e-002,  2.73545922e-316,\n",
       "         -1.21666788e-315, -4.04982126e-001,  5.68312966e-316,\n",
       "         -2.08137884e-001,  1.29751305e-002,  2.20035438e-002,\n",
       "          1.38237504e-001, -2.69552765e-316,  2.88367729e-002,\n",
       "          5.40243066e-002,  1.58649273e-001,  4.49067345e-001,\n",
       "          1.38305088e-001, -1.89524784e-002,  7.94052742e-004,\n",
       "          1.05726921e-315, -7.32202073e-001, -2.85287006e-002,\n",
       "          3.23626143e-001, -1.27909674e-315,  1.81304187e-001,\n",
       "          9.40369079e-002,  4.29921711e-316,  7.43531895e-002,\n",
       "         -2.17507862e-001,  3.16921931e-001, -2.63983363e-001,\n",
       "         -4.05616119e-002, -3.25955258e-001, -9.55765508e-002,\n",
       "          3.77920914e-001,  9.82946290e-316, -2.72518831e-001,\n",
       "         -3.00982746e-316,  6.41610998e-003,  1.48198182e-001,\n",
       "         -3.19677759e-001, -6.84535510e-003,  2.45038176e-001,\n",
       "          5.58265288e-002, -1.03463608e-315,  1.35464944e-001,\n",
       "          7.39531884e-002, -4.23270995e-001,  1.22958371e-001,\n",
       "         -1.20163721e-315,  5.52879423e-002,  3.18555790e-001,\n",
       "          8.20013730e-003,  1.57016693e-109,  1.37483905e-315,\n",
       "          9.49341583e-003, -6.16529521e-003, -5.14664957e-316,\n",
       "         -8.42935588e-002, -2.49937356e-316, -7.72308088e-002,\n",
       "         -3.43924722e-002, -1.65266104e-001,  8.68837654e-316,\n",
       "         -1.04650297e-315, -7.96119098e-003,  5.44723789e-002,\n",
       "          4.94483809e-001],\n",
       "        [-4.68699447e-001,  1.73461256e-002, -5.44745284e-001,\n",
       "         -2.03991435e-001, -4.99326274e-001,  4.93298999e-001,\n",
       "         -1.97844169e-001, -7.27900992e-316,  3.37622178e-001,\n",
       "         -1.78342819e-001, -2.80810733e-001,  1.03854833e-001,\n",
       "          6.47385567e-001, -2.65974196e-001,  5.33938145e-001,\n",
       "          6.04966187e-001, -1.52800489e-315,  1.22763604e-317,\n",
       "          6.20989985e-001,  1.28858785e-315, -8.39464483e-316,\n",
       "          3.32541219e-316, -3.35003585e-001, -3.86225788e-001,\n",
       "          7.79400542e-316,  7.57916562e-316,  1.15817919e-001,\n",
       "          8.24993291e-001, -8.09371773e-001, -5.71185853e-001,\n",
       "         -2.05326995e-001, -9.23309610e-085, -3.64030939e-001,\n",
       "          1.75132401e-001, -4.08015689e-001,  6.97803516e-316,\n",
       "          4.22590691e-316,  6.98519899e-002, -9.06258142e-316,\n",
       "         -2.93056969e-001, -6.88501710e-001, -9.16864733e-002,\n",
       "         -4.23406196e-001,  6.45552675e-316, -1.66016223e-001,\n",
       "          5.03961914e-001, -6.55453201e-002,  4.50644514e-001,\n",
       "          5.71321324e-001,  6.24071757e-001, -1.07505226e-001,\n",
       "          8.68672068e-316, -8.51839638e-002,  6.70211641e-001,\n",
       "          1.43412916e-001, -1.09492008e-315, -4.35268298e-001,\n",
       "          6.03748323e-002,  1.33623012e-315, -2.62791154e-002,\n",
       "         -3.07939156e-001,  6.47494068e-001, -2.90578449e-001,\n",
       "         -5.12877772e-003, -5.06019535e-001,  1.74586682e-001,\n",
       "          2.19105017e-001, -1.09263833e-315, -2.57797614e-001,\n",
       "         -6.66451577e-316, -5.54596139e-001,  3.63438316e-001,\n",
       "         -4.02010888e-001, -4.96875177e-001,  7.13867349e-001,\n",
       "          7.84022852e-001, -1.16571787e-315, -2.52963610e-001,\n",
       "          8.76388228e-001,  3.93686893e-001,  8.26354011e-001,\n",
       "          1.19618035e-315, -1.93341938e-001,  3.35989022e-001,\n",
       "          8.01739298e-001, -3.94615065e-005,  1.62705753e-001,\n",
       "         -5.40876233e-001,  4.94834662e-001, -1.40960922e-315,\n",
       "         -6.66018175e-001, -8.56546072e-316,  3.35342310e-001,\n",
       "          5.43810998e-001, -1.09037186e+000,  1.30107618e-315,\n",
       "         -1.31559559e-315,  6.59196251e-001, -6.72168589e-003,\n",
       "          6.24569228e-001]]),\n",
       " array([[ 2.24644821e-001],\n",
       "        [-2.43321094e-001],\n",
       "        [-1.11429884e+000],\n",
       "        [ 1.04068742e+000],\n",
       "        [-4.14454334e-001],\n",
       "        [ 5.51319876e-001],\n",
       "        [ 2.06369335e+000],\n",
       "        [-4.40348205e-316],\n",
       "        [ 4.43498814e-001],\n",
       "        [-3.80197562e-001],\n",
       "        [ 2.42270273e-001],\n",
       "        [ 1.18651058e+000],\n",
       "        [-4.47687878e-001],\n",
       "        [ 7.93939777e-001],\n",
       "        [ 3.58313286e-001],\n",
       "        [ 6.29270366e-001],\n",
       "        [-1.49194088e-315],\n",
       "        [-7.23048270e-316],\n",
       "        [-5.17788601e-001],\n",
       "        [-1.33349616e-280],\n",
       "        [-7.00149799e-316],\n",
       "        [ 6.01289175e-316],\n",
       "        [-5.70013056e-001],\n",
       "        [-3.41447189e-001],\n",
       "        [ 1.33045449e-315],\n",
       "        [ 4.28263226e-316],\n",
       "        [-2.18371252e-001],\n",
       "        [-5.15115243e-001],\n",
       "        [ 5.10002159e-001],\n",
       "        [-3.99146501e-001],\n",
       "        [-3.63488003e-001],\n",
       "        [-1.00855925e-010],\n",
       "        [-4.26403564e-001],\n",
       "        [-1.40057774e-001],\n",
       "        [-1.71170929e-001],\n",
       "        [ 1.24322625e-315],\n",
       "        [-1.08220530e-315],\n",
       "        [-7.12837069e-001],\n",
       "        [ 9.29550966e-317],\n",
       "        [ 2.81626992e-001],\n",
       "        [-5.10823458e-001],\n",
       "        [ 7.44932617e-001],\n",
       "        [-3.76713117e-001],\n",
       "        [ 1.05882325e-315],\n",
       "        [-9.85744213e-001],\n",
       "        [ 4.65863160e-001],\n",
       "        [-6.75413463e-001],\n",
       "        [ 6.88807730e-001],\n",
       "        [ 7.60603469e-001],\n",
       "        [ 8.32400059e-001],\n",
       "        [-2.43602876e-002],\n",
       "        [-8.74354955e-316],\n",
       "        [-3.51228492e-001],\n",
       "        [ 4.49009330e-001],\n",
       "        [-4.56058701e-001],\n",
       "        [ 4.06667365e-316],\n",
       "        [-4.95868610e-001],\n",
       "        [-1.07030460e-001],\n",
       "        [-7.75889954e-316],\n",
       "        [-2.06265174e+000],\n",
       "        [ 4.32081114e-001],\n",
       "        [-5.43422745e-001],\n",
       "        [-5.11519856e-001],\n",
       "        [-1.22952086e+000],\n",
       "        [-3.96180090e-001],\n",
       "        [ 1.08186314e+000],\n",
       "        [-8.33438133e-001],\n",
       "        [-1.01136287e-315],\n",
       "        [ 6.10959756e-001],\n",
       "        [-1.64651112e-316],\n",
       "        [-3.62517979e-001],\n",
       "        [-5.80715479e-001],\n",
       "        [ 3.83647641e-001],\n",
       "        [ 2.13295691e-001],\n",
       "        [-5.03210852e-001],\n",
       "        [-6.17640931e-001],\n",
       "        [ 3.38370551e-316],\n",
       "        [ 2.13061655e+000],\n",
       "        [-6.01957110e-001],\n",
       "        [-5.76609619e-001],\n",
       "        [-9.53073808e-001],\n",
       "        [-1.12181654e-315],\n",
       "        [-1.56625269e+000],\n",
       "        [-1.33815132e+000],\n",
       "        [ 7.56750987e-001],\n",
       "        [ 1.09033216e-003],\n",
       "        [ 2.56490802e-002],\n",
       "        [-4.29741236e-001],\n",
       "        [-2.40947402e-001],\n",
       "        [-1.00526319e-315],\n",
       "        [ 7.66049202e-001],\n",
       "        [-1.31921523e-315],\n",
       "        [ 4.53409302e-001],\n",
       "        [ 8.17216360e-001],\n",
       "        [ 9.69360504e-001],\n",
       "        [ 1.29272737e-315],\n",
       "        [-9.26880062e-316],\n",
       "        [ 7.72056306e-001],\n",
       "        [-8.21842906e-001],\n",
       "        [-6.74964955e-001]])]"
      ]
     },
     "execution_count": 60,
     "metadata": {},
     "output_type": "execute_result"
    }
   ],
   "source": [
    "weights = NNR.coefs_\n",
    "weights"
   ]
  },
  {
   "cell_type": "code",
   "execution_count": 66,
   "id": "6182d543",
   "metadata": {},
   "outputs": [
    {
     "data": {
      "text/plain": [
       "2"
      ]
     },
     "execution_count": 66,
     "metadata": {},
     "output_type": "execute_result"
    }
   ],
   "source": [
    "len(weights)"
   ]
  },
  {
   "cell_type": "markdown",
   "id": "dd15636e",
   "metadata": {},
   "source": [
    "As you can see, there are two main arrays shown. ```weights[0]``` is responsible for the weights from the input layer to hidden layer, and ```weights[1]``` is for the hidden layer to the output layer.\n",
    "\n",
    "The number of sub-arrays within ```weights[0]``` represents the number of input neurons, and the number of elements within each sub-array represents the number of hidden neurons. We defined our MLPRegressor to have 7 features and a hidden_layer_sizes of 100. Does this check out?\n",
    "\n",
    "Also in taking a look at ```weights[1]```, we see that we have 100 sub-arrays with 1 element each. Since we have our hidden_layer_sizes to be 100, and we only have one output neuron (temperature column), this matches up!"
   ]
  },
  {
   "cell_type": "markdown",
   "id": "e061df56",
   "metadata": {},
   "source": [
    "#### Loss Curve for MLPRegressor\n",
    "\n",
    "The loss curve is a graphical respresentation of the neural network's errors over the course of its training period. At each iteration of the model, the loss function calculates the differences between the NN's predicted output and the actual target value. As the neural network model (MLPRegressor in our case) learns the best weights for each of the features, we should see the loss value decrease until the model reaches convergence. "
   ]
  },
  {
   "cell_type": "code",
   "execution_count": 61,
   "id": "45149697",
   "metadata": {},
   "outputs": [
    {
     "name": "stdout",
     "output_type": "stream",
     "text": [
      "[0.06938455277772503, 0.05556011389101311, 0.05316916274543732, 0.05168287559982579, 0.04963829231773575, 0.048757676813733664, 0.047539503275319604, 0.04696990920124732, 0.04649686356663884, 0.04611270615750879, 0.045855286033228325, 0.04556472026991299, 0.04539778036229684, 0.04493249869294282, 0.04499761179857567, 0.04482849645206061, 0.04474123229607674, 0.044480451914458, 0.044639751847872264, 0.04434228301187969, 0.04431867609180059, 0.044188959004264845, 0.044043039320498, 0.04404555036236652, 0.04398897664796545, 0.04400735488372841, 0.043815755102754386, 0.04375086312997488, 0.043758065984060075, 0.043618056367726976, 0.04358420983844569, 0.043644478010988, 0.043406725971517617, 0.043510110887484264, 0.043355618225656985, 0.043624243985468755, 0.04327960165620418, 0.04339381066369281, 0.04330452907832872, 0.043249761410645626, 0.04317867779043174, 0.043306923060669585, 0.04322267540615008, 0.043232207911955506]\n"
     ]
    }
   ],
   "source": [
    "loss_curve = NNR.loss_curve_\n",
    "print(loss_curve)"
   ]
  },
  {
   "cell_type": "code",
   "execution_count": 62,
   "id": "550cc409",
   "metadata": {},
   "outputs": [
    {
     "name": "stdout",
     "output_type": "stream",
     "text": [
      "True\n"
     ]
    }
   ],
   "source": [
    "# Checking that loss function calculated at every iteration\n",
    "print(len(loss_curve) == num_iters)"
   ]
  },
  {
   "cell_type": "code",
   "execution_count": 63,
   "id": "2cb5d74e",
   "metadata": {
    "scrolled": false
   },
   "outputs": [
    {
     "data": {
      "text/plain": [
       "<Axes: >"
      ]
     },
     "execution_count": 63,
     "metadata": {},
     "output_type": "execute_result"
    },
    {
     "data": {
      "image/png": "[encoded data removed]",
      "text/plain": [
       "<Figure size 640x480 with 1 Axes>"
      ]
     },
     "metadata": {},
     "output_type": "display_data"
    }
   ],
   "source": [
    "# Plotting loss curve\n",
    "pd.Series(loss_curve).plot.line()"
   ]
  },
  {
   "cell_type": "code",
   "execution_count": 64,
   "id": "31f4f625",
   "metadata": {},
   "outputs": [
    {
     "data": {
      "text/plain": [
       "<Axes: >"
      ]
     },
     "execution_count": 64,
     "metadata": {},
     "output_type": "execute_result"
    },
    {
     "data": {
      "image/png": "[encoded data removed]",
      "text/plain": [
       "<Figure size 640x480 with 1 Axes>"
      ]
     },
     "metadata": {},
     "output_type": "display_data"
    }
   ],
   "source": [
    "# Plotting last few iterations only\n",
    "pd.Series(loss_curve[-20:]).plot.line()"
   ]
  },
  {
   "cell_type": "markdown",
   "id": "51fb7b0c",
   "metadata": {},
   "source": [
    "#### How exactly does the NN determine a convergence point?\n",
    "\n",
    "The two key parameters that determine the convergence of a NN are: ```tol``` and ```n_iter_no_change```."
   ]
  },
  {
   "cell_type": "code",
   "execution_count": 65,
   "id": "0f1660fa",
   "metadata": {},
   "outputs": [
    {
     "name": "stdout",
     "output_type": "stream",
     "text": [
      "0.0001\n",
      "10\n"
     ]
    }
   ],
   "source": [
    "print(NNR.tol)\n",
    "print(NNR.n_iter_no_change)"
   ]
  },
  {
   "cell_type": "markdown",
   "id": "50e77f2f",
   "metadata": {},
   "source": [
    "We can see from the plots above that the loss value is continually improving as the MLPRegressor is trained. Basically, if the loss is not improved by the amount ```tol``` for a ```n_iter_no_change```  number of iterations, then the NN model is considered to have reached convergence and the training process concludes.\n",
    "\n",
    "### Your turn!\n",
    "\n",
    "This time, on your own, try implementing a basic MLPRegressor to predict the ```humidity``` column from our IoT sensor telemetry dataset. This process will follow closely along with the example we showcased using the temperature column, so feel free to refer above for hints and clarification!\n",
    "\n",
    "Start by:\n",
    "1. Performing a train-test split on the data\n",
    "2. Creating a MLPRegressor model and fitting training data\n",
    "3. Testing and getting R-squared score\n",
    "4. Introspecting + Viewing Loss Curve"
   ]
  },
  {
   "cell_type": "code",
   "execution_count": null,
   "id": "33cbf77a",
   "metadata": {},
   "outputs": [],
   "source": []
  }
 ],
 "metadata": {
  "kernelspec": {
   "display_name": "Python 3 (ipykernel)",
   "language": "python",
   "name": "python3"
  },
  "language_info": {
   "codemirror_mode": {
    "name": "ipython",
    "version": 3
   },
   "file_extension": ".py",
   "mimetype": "text/x-python",
   "name": "python",
   "nbconvert_exporter": "python",
   "pygments_lexer": "ipython3",
   "version": "3.10.9"
  }
 },
 "nbformat": 4,
 "nbformat_minor": 5
}
