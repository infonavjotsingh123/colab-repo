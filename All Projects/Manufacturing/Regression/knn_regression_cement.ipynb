{
 "cells": [
  {
   "cell_type": "markdown",
   "id": "c389e975-8130-4b43-9c83-6c22747ac1e2",
   "metadata": {},
   "source": [
    "### Supervised K-NN Regression on Cement Manufacturing Data "
   ]
  },
  {
   "cell_type": "code",
   "execution_count": 1,
   "id": "635688fc-4b78-46ac-8050-984cce055ed4",
   "metadata": {
    "tags": []
   },
   "outputs": [],
   "source": [
    "# Load in the necessary Python libraries. We will be using pandas, numpy and matplotlib (for now). \n",
    "import pandas as pd\n",
    "import os\n",
    "import numpy as np\n",
    "import matplotlib.pyplot as plt\n",
    "import seaborn as sns\n",
    "from sklearn.preprocessing import StandardScaler\n",
    "from sklearn.neighbors import KNeighborsRegressor\n",
    "from sklearn.pipeline import make_pipeline\n",
    "from sklearn.metrics import mean_squared_error\n",
    "\n",
    "from sklearn.model_selection import cross_val_score, cross_validate, train_test_split, GridSearchCV"
   ]
  },
  {
   "cell_type": "markdown",
   "id": "51e1ace5-ace9-49dc-93ba-6595590397f5",
   "metadata": {},
   "source": [
    "### What dataset will we be using?\n",
    "We will be working with a civil manufacturing dataset talking about cement production. \n",
    "<br></br>\n",
    "Cement manufacturing is crucial for modern construction and infrastructure development. It provides the essential binding agent used in concrete, which is the primary building material for roads, bridges, buildings, and other structures. Cement production involves transforming raw materials like limestone, clay, and minerals through a complex chemical process, resulting in a durable and versatile material that forms the foundation of urban and industrial growth. The availability of cement supports economic progress by enabling the creation of resilient structures that facilitate commerce, transportation, housing, and overall societal development.\n",
    "<br></br>\n",
    "This dataset in particular aims to analyze the concrete compressive strength, measured in MPa (megapascals), for a given mixture. The mixture is a function of age and various ingredients, such as cement, blast furnace slag, fly ash, water, superplasticizer, coarse aggregate, and fine aggregate.\n",
    "<br></br>\n",
    "If you would like to access this dataset from the source, you can find it here: \n",
    "https://www.kaggle.com/datasets/vinayakshanawad/cement-manufacturing-concrete-dataset"
   ]
  },
  {
   "cell_type": "code",
   "execution_count": 2,
   "id": "db54fe46-c563-4505-a5ba-1a7b8dd2a316",
   "metadata": {
    "tags": []
   },
   "outputs": [
    {
     "data": {
      "text/html": [
       "<div>\n",
       "<style scoped>\n",
       "    .dataframe tbody tr th:only-of-type {\n",
       "        vertical-align: middle;\n",
       "    }\n",
       "\n",
       "    .dataframe tbody tr th {\n",
       "        vertical-align: top;\n",
       "    }\n",
       "\n",
       "    .dataframe thead th {\n",
       "        text-align: right;\n",
       "    }\n",
       "</style>\n",
       "<table border=\"1\" class=\"dataframe\">\n",
       "  <thead>\n",
       "    <tr style=\"text-align: right;\">\n",
       "      <th></th>\n",
       "      <th>cement</th>\n",
       "      <th>slag</th>\n",
       "      <th>ash</th>\n",
       "      <th>water</th>\n",
       "      <th>superplastic</th>\n",
       "      <th>coarseagg</th>\n",
       "      <th>fineagg</th>\n",
       "      <th>age</th>\n",
       "      <th>strength</th>\n",
       "    </tr>\n",
       "  </thead>\n",
       "  <tbody>\n",
       "    <tr>\n",
       "      <th>0</th>\n",
       "      <td>141.3</td>\n",
       "      <td>212.0</td>\n",
       "      <td>0.0</td>\n",
       "      <td>203.5</td>\n",
       "      <td>0.0</td>\n",
       "      <td>971.8</td>\n",
       "      <td>748.5</td>\n",
       "      <td>28</td>\n",
       "      <td>29.89</td>\n",
       "    </tr>\n",
       "    <tr>\n",
       "      <th>1</th>\n",
       "      <td>168.9</td>\n",
       "      <td>42.2</td>\n",
       "      <td>124.3</td>\n",
       "      <td>158.3</td>\n",
       "      <td>10.8</td>\n",
       "      <td>1080.8</td>\n",
       "      <td>796.2</td>\n",
       "      <td>14</td>\n",
       "      <td>23.51</td>\n",
       "    </tr>\n",
       "    <tr>\n",
       "      <th>2</th>\n",
       "      <td>250.0</td>\n",
       "      <td>0.0</td>\n",
       "      <td>95.7</td>\n",
       "      <td>187.4</td>\n",
       "      <td>5.5</td>\n",
       "      <td>956.9</td>\n",
       "      <td>861.2</td>\n",
       "      <td>28</td>\n",
       "      <td>29.22</td>\n",
       "    </tr>\n",
       "    <tr>\n",
       "      <th>3</th>\n",
       "      <td>266.0</td>\n",
       "      <td>114.0</td>\n",
       "      <td>0.0</td>\n",
       "      <td>228.0</td>\n",
       "      <td>0.0</td>\n",
       "      <td>932.0</td>\n",
       "      <td>670.0</td>\n",
       "      <td>28</td>\n",
       "      <td>45.85</td>\n",
       "    </tr>\n",
       "    <tr>\n",
       "      <th>4</th>\n",
       "      <td>154.8</td>\n",
       "      <td>183.4</td>\n",
       "      <td>0.0</td>\n",
       "      <td>193.3</td>\n",
       "      <td>9.1</td>\n",
       "      <td>1047.4</td>\n",
       "      <td>696.7</td>\n",
       "      <td>28</td>\n",
       "      <td>18.29</td>\n",
       "    </tr>\n",
       "    <tr>\n",
       "      <th>...</th>\n",
       "      <td>...</td>\n",
       "      <td>...</td>\n",
       "      <td>...</td>\n",
       "      <td>...</td>\n",
       "      <td>...</td>\n",
       "      <td>...</td>\n",
       "      <td>...</td>\n",
       "      <td>...</td>\n",
       "      <td>...</td>\n",
       "    </tr>\n",
       "    <tr>\n",
       "      <th>1025</th>\n",
       "      <td>135.0</td>\n",
       "      <td>0.0</td>\n",
       "      <td>166.0</td>\n",
       "      <td>180.0</td>\n",
       "      <td>10.0</td>\n",
       "      <td>961.0</td>\n",
       "      <td>805.0</td>\n",
       "      <td>28</td>\n",
       "      <td>13.29</td>\n",
       "    </tr>\n",
       "    <tr>\n",
       "      <th>1026</th>\n",
       "      <td>531.3</td>\n",
       "      <td>0.0</td>\n",
       "      <td>0.0</td>\n",
       "      <td>141.8</td>\n",
       "      <td>28.2</td>\n",
       "      <td>852.1</td>\n",
       "      <td>893.7</td>\n",
       "      <td>3</td>\n",
       "      <td>41.30</td>\n",
       "    </tr>\n",
       "    <tr>\n",
       "      <th>1027</th>\n",
       "      <td>276.4</td>\n",
       "      <td>116.0</td>\n",
       "      <td>90.3</td>\n",
       "      <td>179.6</td>\n",
       "      <td>8.9</td>\n",
       "      <td>870.1</td>\n",
       "      <td>768.3</td>\n",
       "      <td>28</td>\n",
       "      <td>44.28</td>\n",
       "    </tr>\n",
       "    <tr>\n",
       "      <th>1028</th>\n",
       "      <td>342.0</td>\n",
       "      <td>38.0</td>\n",
       "      <td>0.0</td>\n",
       "      <td>228.0</td>\n",
       "      <td>0.0</td>\n",
       "      <td>932.0</td>\n",
       "      <td>670.0</td>\n",
       "      <td>270</td>\n",
       "      <td>55.06</td>\n",
       "    </tr>\n",
       "    <tr>\n",
       "      <th>1029</th>\n",
       "      <td>540.0</td>\n",
       "      <td>0.0</td>\n",
       "      <td>0.0</td>\n",
       "      <td>173.0</td>\n",
       "      <td>0.0</td>\n",
       "      <td>1125.0</td>\n",
       "      <td>613.0</td>\n",
       "      <td>7</td>\n",
       "      <td>52.61</td>\n",
       "    </tr>\n",
       "  </tbody>\n",
       "</table>\n",
       "<p>1030 rows × 9 columns</p>\n",
       "</div>"
      ],
      "text/plain": [
       "      cement   slag    ash  water  superplastic  coarseagg  fineagg  age  \\\n",
       "0      141.3  212.0    0.0  203.5           0.0      971.8    748.5   28   \n",
       "1      168.9   42.2  124.3  158.3          10.8     1080.8    796.2   14   \n",
       "2      250.0    0.0   95.7  187.4           5.5      956.9    861.2   28   \n",
       "3      266.0  114.0    0.0  228.0           0.0      932.0    670.0   28   \n",
       "4      154.8  183.4    0.0  193.3           9.1     1047.4    696.7   28   \n",
       "...      ...    ...    ...    ...           ...        ...      ...  ...   \n",
       "1025   135.0    0.0  166.0  180.0          10.0      961.0    805.0   28   \n",
       "1026   531.3    0.0    0.0  141.8          28.2      852.1    893.7    3   \n",
       "1027   276.4  116.0   90.3  179.6           8.9      870.1    768.3   28   \n",
       "1028   342.0   38.0    0.0  228.0           0.0      932.0    670.0  270   \n",
       "1029   540.0    0.0    0.0  173.0           0.0     1125.0    613.0    7   \n",
       "\n",
       "      strength  \n",
       "0        29.89  \n",
       "1        23.51  \n",
       "2        29.22  \n",
       "3        45.85  \n",
       "4        18.29  \n",
       "...        ...  \n",
       "1025     13.29  \n",
       "1026     41.30  \n",
       "1027     44.28  \n",
       "1028     55.06  \n",
       "1029     52.61  \n",
       "\n",
       "[1030 rows x 9 columns]"
      ]
     },
     "execution_count": 2,
     "metadata": {},
     "output_type": "execute_result"
    }
   ],
   "source": [
    "data = pd.read_csv('../data/concrete.csv')\n",
    "data"
   ]
  },
  {
   "cell_type": "markdown",
   "id": "d6d37977-922b-43a2-b459-087cd15f559f",
   "metadata": {},
   "source": [
    "Here are some attribute information, provided by the people who collected this data:\n",
    "\n",
    "- Attribute Information\n",
    "- Cement : measured in kg in a m3 mixture\n",
    "- Blast : measured in kg in a m3 mixture\n",
    "- Fly ash : measured in kg in a m3 mixture\n",
    "- Water : measured in kg in a m3 mixture\n",
    "- Superplasticizer : measured in kg in a m3 mixture\n",
    "- Coarse Aggregate : measured in kg in a m3 mixture\n",
    "- Fine Aggregate : measured in kg in a m3 mixture\n",
    "- Age : day (1~365)\n",
    "- Concrete compressive strength measured in MPa"
   ]
  },
  {
   "cell_type": "markdown",
   "id": "16fedb55-4112-40eb-9109-fe6ec2862928",
   "metadata": {},
   "source": [
    "### Let's get a quick summary rundown of our concrete data! This can be done using the ```.info()``` function. "
   ]
  },
  {
   "cell_type": "code",
   "execution_count": 3,
   "id": "8ccad39c-3f94-4320-acab-420713fb33fa",
   "metadata": {
    "tags": []
   },
   "outputs": [
    {
     "name": "stdout",
     "output_type": "stream",
     "text": [
      "<class 'pandas.core.frame.DataFrame'>\n",
      "RangeIndex: 1030 entries, 0 to 1029\n",
      "Data columns (total 9 columns):\n",
      " #   Column        Non-Null Count  Dtype  \n",
      "---  ------        --------------  -----  \n",
      " 0   cement        1030 non-null   float64\n",
      " 1   slag          1030 non-null   float64\n",
      " 2   ash           1030 non-null   float64\n",
      " 3   water         1030 non-null   float64\n",
      " 4   superplastic  1030 non-null   float64\n",
      " 5   coarseagg     1030 non-null   float64\n",
      " 6   fineagg       1030 non-null   float64\n",
      " 7   age           1030 non-null   int64  \n",
      " 8   strength      1030 non-null   float64\n",
      "dtypes: float64(8), int64(1)\n",
      "memory usage: 72.5 KB\n"
     ]
    }
   ],
   "source": [
    "data.info()"
   ]
  },
  {
   "cell_type": "markdown",
   "id": "8552b10b-b505-422f-a9a0-963a5b7fe440",
   "metadata": {},
   "source": [
    "### What does the above summary tell us about our concrete dataset?\n",
    "- It contains 8 feature variables, 1 output variable (strength), and 1030 rows.\n",
    "- There are 8 float64 columns and 1 int64 columns.\n",
    "- All columns are quantitative, making it suitable for a regression task.\n",
    "- There are no columns with missing values"
   ]
  },
  {
   "cell_type": "code",
   "execution_count": 4,
   "id": "5d3fe8cd-d215-4770-a0a8-03bde8b72282",
   "metadata": {
    "tags": []
   },
   "outputs": [],
   "source": [
    "X = data[['cement','slag','ash','water']]\n",
    "\n",
    "y = data['strength']\n"
   ]
  },
  {
   "cell_type": "code",
   "execution_count": 5,
   "id": "459b3ce0-ac67-441a-a768-f50e6734a854",
   "metadata": {
    "tags": []
   },
   "outputs": [],
   "source": [
    "X_train, X_test, y_train, y_test = train_test_split(X,y,test_size=0.25, random_state=42)"
   ]
  },
  {
   "cell_type": "markdown",
   "id": "5740ec3d-500c-478b-98cf-36e3d34fbeed",
   "metadata": {},
   "source": [
    "Now that we have split our data, let's perform some scaling on our numerical data. Scaling is important because it ensures the columns with larger numerical values do not overpower/dominate the other columns with smaller values when it comes to distance calculations. When we scale our feature variables, we are ensuring that all the features contribute equally, therefore leading to unbiased results and confidence in finding the similar datapoints. "
   ]
  },
  {
   "cell_type": "code",
   "execution_count": 6,
   "id": "167ae568-c145-4859-885a-8a115c399d83",
   "metadata": {
    "tags": []
   },
   "outputs": [],
   "source": [
    "scaler = StandardScaler()\n",
    "\n",
    "X_train = scaler.fit_transform(X_train)\n",
    "X_test = scaler.fit_transform(X_test)"
   ]
  },
  {
   "cell_type": "markdown",
   "id": "96ff51a1-f052-4d2c-8ae8-06ba617c346a",
   "metadata": {},
   "source": [
    "You may be wondering why we are only scaling the X dataset, and not the y (response variable). This is because the response variable is not involved in distance calculations, but rather based off the input variables. \n",
    "\n",
    "The way that the algorithm works is that the response/target of the unknown datapoint is estimated based off the averaging/weight average of the response values of the nearest neighbours, and that sense of \"nearest\" is based off the input feature values of those neighbours. \n",
    "\n",
    "Scaling the response variable won't affect the knn calculation process, and could actually introduce unnecessary complexity.  "
   ]
  },
  {
   "attachments": {
    "95862472-0dce-46cc-b6b9-b50db35374d9.png": {
     "image/png": "[encoded data removed]"
    }
   },
   "cell_type": "markdown",
   "id": "271a2341-5413-41ce-89cc-5d40e046e3e3",
   "metadata": {},
   "source": [
    "Building off what was said regarding how the \"nearest\" point is calculated, let's examine that a bit further!\n",
    "\n",
    "There are actually different ways how we can calculate the distance between points. Some popular examples include Euclidean, Manhattan, and Hamming distances. The form that we'll be using is the Euclidean distance. \n",
    "\n",
    "The Euclidean distance is calculated as the square root of the sum of the squared differences between a new point (x) and an existing point (y). \n",
    "\n",
    "The Euclidean distance formula is as follows:\n",
    "\n",
    "<img src=\"attachment:95862472-0dce-46cc-b6b9-b50db35374d9.png\" alt=\"Image\" width=\"300\">\n",
    "<!-- ![image.png](attachment:95862472-0dce-46cc-b6b9-b50db35374d9.png) -->"
   ]
  },
  {
   "cell_type": "code",
   "execution_count": 7,
   "id": "4acf772b-4033-4278-92ba-b8b185223ab0",
   "metadata": {},
   "outputs": [
    {
     "name": "stdout",
     "output_type": "stream",
     "text": [
      "RMSE value for k= 1 is: 17.084954837018028 with index  0\n",
      "RMSE value for k= 2 is: 14.535796038499859 with index  1\n",
      "RMSE value for k= 3 is: 13.44512771450161 with index  2\n",
      "RMSE value for k= 4 is: 13.252602018898697 with index  3\n",
      "RMSE value for k= 5 is: 12.892959392900325 with index  4\n",
      "RMSE value for k= 6 is: 12.846067256136475 with index  5\n",
      "RMSE value for k= 7 is: 12.696522924016229 with index  6\n",
      "RMSE value for k= 8 is: 12.609205690942323 with index  7\n",
      "RMSE value for k= 9 is: 12.701957456702813 with index  8\n",
      "RMSE value for k= 10 is: 12.496903608897586 with index  9\n",
      "RMSE value for k= 11 is: 12.463124079592045 with index  10\n",
      "RMSE value for k= 12 is: 12.542764308505044 with index  11\n",
      "RMSE value for k= 13 is: 12.458735137562131 with index  12\n",
      "RMSE value for k= 14 is: 12.472461796252494 with index  13\n",
      "RMSE value for k= 15 is: 12.44148646127398 with index  14\n",
      "RMSE value for k= 16 is: 12.339560425860073 with index  15\n",
      "RMSE value for k= 17 is: 12.414304598645636 with index  16\n",
      "RMSE value for k= 18 is: 12.426809438271029 with index  17\n",
      "RMSE value for k= 19 is: 12.420925061538469 with index  18\n",
      "RMSE value for k= 20 is: 12.439184929187256 with index  19\n"
     ]
    }
   ],
   "source": [
    "rmse_val = [] #to store rmse values for different k\n",
    "k_value = 20\n",
    "\n",
    "for K in range(1, k_value+1):\n",
    "    model = KNeighborsRegressor(n_neighbors = K)\n",
    "\n",
    "    model.fit(X_train, y_train)  #fit the model\n",
    "    pred=model.predict(X_test) #make prediction on test set\n",
    "    error = np.sqrt(mean_squared_error(y_test,pred)) #calculate rmse\n",
    "    rmse_val.append(error) #store rmse values\n",
    "    print('RMSE value for k=' , K , 'is:', error, 'with index ' , K-1)\n"
   ]
  },
  {
   "cell_type": "code",
   "execution_count": 8,
   "id": "eeee3332-515a-43e3-b7bb-bddcf79d3c90",
   "metadata": {
    "tags": []
   },
   "outputs": [
    {
     "data": {
      "text/plain": [
       "[17.084954837018028,\n",
       " 14.535796038499859,\n",
       " 13.44512771450161,\n",
       " 13.252602018898697,\n",
       " 12.892959392900325,\n",
       " 12.846067256136475,\n",
       " 12.696522924016229,\n",
       " 12.609205690942323,\n",
       " 12.701957456702813,\n",
       " 12.496903608897586,\n",
       " 12.463124079592045,\n",
       " 12.542764308505044,\n",
       " 12.458735137562131,\n",
       " 12.472461796252494,\n",
       " 12.44148646127398,\n",
       " 12.339560425860073,\n",
       " 12.414304598645636,\n",
       " 12.426809438271029,\n",
       " 12.420925061538469,\n",
       " 12.439184929187256]"
      ]
     },
     "execution_count": 8,
     "metadata": {},
     "output_type": "execute_result"
    }
   ],
   "source": [
    "rmse_val"
   ]
  },
  {
   "cell_type": "code",
   "execution_count": 9,
   "id": "d72c3ea3-41c9-489c-bfa3-33107ecad17a",
   "metadata": {
    "tags": []
   },
   "outputs": [
    {
     "data": {
      "text/html": [
       "<div>\n",
       "<style scoped>\n",
       "    .dataframe tbody tr th:only-of-type {\n",
       "        vertical-align: middle;\n",
       "    }\n",
       "\n",
       "    .dataframe tbody tr th {\n",
       "        vertical-align: top;\n",
       "    }\n",
       "\n",
       "    .dataframe thead th {\n",
       "        text-align: right;\n",
       "    }\n",
       "</style>\n",
       "<table border=\"1\" class=\"dataframe\">\n",
       "  <thead>\n",
       "    <tr style=\"text-align: right;\">\n",
       "      <th></th>\n",
       "      <th>0</th>\n",
       "    </tr>\n",
       "  </thead>\n",
       "  <tbody>\n",
       "    <tr>\n",
       "      <th>1</th>\n",
       "      <td>17.084955</td>\n",
       "    </tr>\n",
       "    <tr>\n",
       "      <th>2</th>\n",
       "      <td>14.535796</td>\n",
       "    </tr>\n",
       "    <tr>\n",
       "      <th>3</th>\n",
       "      <td>13.445128</td>\n",
       "    </tr>\n",
       "    <tr>\n",
       "      <th>4</th>\n",
       "      <td>13.252602</td>\n",
       "    </tr>\n",
       "    <tr>\n",
       "      <th>5</th>\n",
       "      <td>12.892959</td>\n",
       "    </tr>\n",
       "    <tr>\n",
       "      <th>6</th>\n",
       "      <td>12.846067</td>\n",
       "    </tr>\n",
       "    <tr>\n",
       "      <th>7</th>\n",
       "      <td>12.696523</td>\n",
       "    </tr>\n",
       "    <tr>\n",
       "      <th>8</th>\n",
       "      <td>12.609206</td>\n",
       "    </tr>\n",
       "    <tr>\n",
       "      <th>9</th>\n",
       "      <td>12.701957</td>\n",
       "    </tr>\n",
       "    <tr>\n",
       "      <th>10</th>\n",
       "      <td>12.496904</td>\n",
       "    </tr>\n",
       "    <tr>\n",
       "      <th>11</th>\n",
       "      <td>12.463124</td>\n",
       "    </tr>\n",
       "    <tr>\n",
       "      <th>12</th>\n",
       "      <td>12.542764</td>\n",
       "    </tr>\n",
       "    <tr>\n",
       "      <th>13</th>\n",
       "      <td>12.458735</td>\n",
       "    </tr>\n",
       "    <tr>\n",
       "      <th>14</th>\n",
       "      <td>12.472462</td>\n",
       "    </tr>\n",
       "    <tr>\n",
       "      <th>15</th>\n",
       "      <td>12.441486</td>\n",
       "    </tr>\n",
       "    <tr>\n",
       "      <th>16</th>\n",
       "      <td>12.339560</td>\n",
       "    </tr>\n",
       "    <tr>\n",
       "      <th>17</th>\n",
       "      <td>12.414305</td>\n",
       "    </tr>\n",
       "    <tr>\n",
       "      <th>18</th>\n",
       "      <td>12.426809</td>\n",
       "    </tr>\n",
       "    <tr>\n",
       "      <th>19</th>\n",
       "      <td>12.420925</td>\n",
       "    </tr>\n",
       "    <tr>\n",
       "      <th>20</th>\n",
       "      <td>12.439185</td>\n",
       "    </tr>\n",
       "  </tbody>\n",
       "</table>\n",
       "</div>"
      ],
      "text/plain": [
       "            0\n",
       "1   17.084955\n",
       "2   14.535796\n",
       "3   13.445128\n",
       "4   13.252602\n",
       "5   12.892959\n",
       "6   12.846067\n",
       "7   12.696523\n",
       "8   12.609206\n",
       "9   12.701957\n",
       "10  12.496904\n",
       "11  12.463124\n",
       "12  12.542764\n",
       "13  12.458735\n",
       "14  12.472462\n",
       "15  12.441486\n",
       "16  12.339560\n",
       "17  12.414305\n",
       "18  12.426809\n",
       "19  12.420925\n",
       "20  12.439185"
      ]
     },
     "execution_count": 9,
     "metadata": {},
     "output_type": "execute_result"
    }
   ],
   "source": [
    "curve = pd.DataFrame(rmse_val) #elbow curve \n",
    "\n",
    "curve.index += 1\n",
    "\n",
    "curve"
   ]
  },
  {
   "cell_type": "code",
   "execution_count": 10,
   "id": "5f8cf04a-0748-4bfb-8ef3-ee2b1c0c5199",
   "metadata": {
    "tags": []
   },
   "outputs": [
    {
     "data": {
      "text/plain": [
       "<AxesSubplot: title={'center': 'Different Number of Neighbours and their RMSE Value'}, xlabel='K Neighbours', ylabel='RMSE (root mean squared error) value'>"
      ]
     },
     "execution_count": 10,
     "metadata": {},
     "output_type": "execute_result"
    },
    {
     "data": {
      "image/png": "[encoded data removed]",
      "text/plain": [
       "<Figure size 640x480 with 1 Axes>"
      ]
     },
     "metadata": {},
     "output_type": "display_data"
    }
   ],
   "source": [
    "curve.plot(title='Different Number of Neighbours and their RMSE Value',\n",
    "          xlabel=\"K Neighbours\" , ylabel=\"RMSE (root mean squared error) value\",\n",
    "          legend=False, \n",
    "          xticks=range(1,21))"
   ]
  },
  {
   "cell_type": "markdown",
   "id": "68c49409-e325-49be-b1a0-ccd3e082eaba",
   "metadata": {
    "tags": []
   },
   "source": [
    "From our plot, we can see that k=18 would be an ideal value, because it is the lowest value. \n",
    "\n",
    "At k=18, the RMSE is approximately 12.370883869534156.\n",
    "\n",
    "To verify, let's actually run some code and find the index of the minimum value."
   ]
  },
  {
   "cell_type": "code",
   "execution_count": 11,
   "id": "7759acb6-56a5-4169-801a-f085b77e13a6",
   "metadata": {
    "tags": []
   },
   "outputs": [
    {
     "data": {
      "text/plain": [
       "12.339560425860073"
      ]
     },
     "execution_count": 11,
     "metadata": {},
     "output_type": "execute_result"
    }
   ],
   "source": [
    "# rmse_val.index(min(rmse_val))\n",
    "(min(rmse_val))\n"
   ]
  },
  {
   "cell_type": "markdown",
   "id": "d55b3944-4051-4ad1-bbaa-9a38140c3eb9",
   "metadata": {
    "tags": []
   },
   "source": [
    "### GridSearch CV\n",
    "\n",
    "Listing out all the k values might seem complex and repetitive, and it's also quite tedious to plot out the elbow curve everytime and try to obtain a value from it. This method always has the possibility of human error when selecting which value to take. \n",
    "\n",
    "\n",
    "Another way of determing which k value to use GridSearch CV, which is an algorithm that allows us to find the best parameter value, also known as hyperparameters. \n",
    "\n",
    "Hyperparameters are parameters that are set before the learning process and can significantly influence a model's performance.\n",
    "\n",
    "In GridSearchCV, you specify a grid of possible values for the hyperparameters you want to tune. The algorithm then evaluates all possible combinations of these values using cross-validation, where the dataset is divided into multiple subsets for training and testing. For each combination, the model's performance is measured and compared using a scoring metric.\n",
    "\n",
    "Once all combinations are tested, GridSearchCV returns the hyperparameter values that produced the best performance on the validation data. This helps automate the process of finding optimal hyperparameters, saving time and reducing the risk of manual selection bias.\n",
    "\n",
    "GridSearchCV is an essential tool for improving a model's accuracy and generalization by fine-tuning hyperparameters in a systematic manner."
   ]
  },
  {
   "cell_type": "code",
   "execution_count": 12,
   "id": "8210845f-251f-4723-9852-c5e217cf75d2",
   "metadata": {
    "tags": []
   },
   "outputs": [
    {
     "data": {
      "text/plain": [
       "[1, 2, 3, 4, 5, 6, 7, 8, 9, 10, 11, 12, 13, 14, 15, 16, 17, 18, 19, 20]"
      ]
     },
     "execution_count": 12,
     "metadata": {},
     "output_type": "execute_result"
    }
   ],
   "source": [
    "list(range(1,21))"
   ]
  },
  {
   "cell_type": "code",
   "execution_count": 13,
   "id": "9de1067c-1be4-4181-8cdc-be0fbbacd861",
   "metadata": {
    "tags": []
   },
   "outputs": [
    {
     "data": {
      "text/plain": [
       "{'n_neighbors': 15}"
      ]
     },
     "execution_count": 13,
     "metadata": {},
     "output_type": "execute_result"
    }
   ],
   "source": [
    "from sklearn.model_selection import GridSearchCV\n",
    "params = {'n_neighbors': list(range(1,21))}\n",
    "\n",
    "knn = KNeighborsRegressor()\n",
    "\n",
    "model = GridSearchCV(knn, params)\n",
    "model.fit(X_train,y_train)\n",
    "model.best_params_"
   ]
  },
  {
   "cell_type": "code",
   "execution_count": 14,
   "id": "5d9184c1-9d75-45b1-a431-82c6c18a93c3",
   "metadata": {
    "tags": []
   },
   "outputs": [
    {
     "name": "stdout",
     "output_type": "stream",
     "text": [
      "12.609205690942323\n"
     ]
    }
   ],
   "source": [
    "clf = KNeighborsRegressor(n_neighbors = 8)\n",
    "\n",
    "clf.fit(X_train, y_train)\n",
    "\n",
    "y_pred = clf.predict(X_test)\n",
    "\n",
    "print(np.sqrt(mean_squared_error(y_test, y_pred)))"
   ]
  }
 ],
 "metadata": {
  "kernelspec": {
   "display_name": "Python 3 (ipykernel)",
   "language": "python",
   "name": "python3"
  },
  "language_info": {
   "codemirror_mode": {
    "name": "ipython",
    "version": 3
   },
   "file_extension": ".py",
   "mimetype": "text/x-python",
   "name": "python",
   "nbconvert_exporter": "python",
   "pygments_lexer": "ipython3",
   "version": "3.10.0"
  }
 },
 "nbformat": 4,
 "nbformat_minor": 5
}
