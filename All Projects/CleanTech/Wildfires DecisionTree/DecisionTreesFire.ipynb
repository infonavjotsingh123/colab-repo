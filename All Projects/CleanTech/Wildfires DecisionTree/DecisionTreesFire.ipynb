{
 "cells": [
  {
   "cell_type": "markdown",
   "id": "4a82dfe9-d3d7-46ea-ab2c-e602b666b4e5",
   "metadata": {},
   "source": [
    "# Exploration of Decision Trees on Clean Tech Data"
   ]
  },
  {
   "attachments": {
    "17c64b12-372f-43e5-a528-d21bbf0e08db.png": {
     "image/png": "[encoded data removed]"
    }
   },
   "cell_type": "markdown",
   "id": "7df4f487-a5f3-415a-a170-b71dfcc64a1e",
   "metadata": {},
   "source": [
    "Decision trees are a popular machine learning algorithm used for both classification and regression tasks. They are simple yet powerful models that mimic the decision-making process we use in our everyday lives. \n",
    "\n",
    "Imagine you want to make a decision, and you have a set of features or attributes that can help you make that decision. A decision tree takes a similar approach. It starts with a root node that represents the entire dataset and selects the most important feature to split the data. This splitting is done based on certain criteria, such as reducing uncertainty or maximizing information gain.\n",
    "\n",
    "The dataset is divided into subsets at each node based on the chosen feature. Each subset is associated with a branch representing a different value of the feature. This process is repeated recursively for each subset until a certain stopping condition is met, such as reaching a maximum depth or having a minimum number of samples in a leaf node.\n",
    "\n",
    "The goal of a decision tree is to create a tree-like structure where the internal nodes represent the decision rules based on the selected features, and the leaf nodes represent the final predicted outcome or class label.\n",
    "\n",
    "During the training phase, the decision tree learns the best splitting rules from the training data, considering different features and their thresholds. This process is often guided by metrics like Gini impurity or entropy, which measure the purity of the classes within each subset.\n",
    "\n",
    "Once the decision tree is built, it can be used for prediction by traversing the tree from the root to the appropriate leaf node based on the feature values of the input data. The predicted outcome or class label associated with that leaf node is then assigned to the new data point.\n",
    "\n",
    "Decision trees have several advantages, such as interpretability, as the decision rules are easy to understand and visualize. They can handle both numerical and categorical features and can capture non-linear relationships. However, decision trees can be prone to overfitting, meaning they may perform well on the training data but struggle with generalization to unseen data. Techniques like pruning and ensemble methods, such as random forests or gradient boosting, can help mitigate this issue.\n",
    "\n",
    "![image.png](attachment:17c64b12-372f-43e5-a528-d21bbf0e08db.png)"
   ]
  },
  {
   "cell_type": "markdown",
   "id": "f9856ed9-3498-49cc-b620-2c5423665971",
   "metadata": {},
   "source": [
    "When it comes to working with tree-related structures in machine learning, there are a few key terms you need to know:\n",
    "\n",
    "\n",
    "- Root node: represents the first condition to check or question to ask\n",
    "- Branch: connects a node (condition) to the next node (condition) in the tree. Each branch typically represents either true or false.\n",
    "- Internal node: represents conditions within the tree\n",
    "- Leaf node: represents the predicted class/value when the path from root to the leaf node is followed.\n",
    "- Tree depth: the number of edges on the path from the root node to the farthest away leaf node.\n",
    "\n",
    "When looking at the decision tree example above, we have:\n",
    "- Root node is Age < 30\n",
    "- There are 6 branches\n",
    "- 2 internal nodes (Eat's a lot of pizzas, and Exercises in the morning)\n",
    "- Has a tree depth of 2"
   ]
  },
  {
   "cell_type": "markdown",
   "id": "ed9cf634-3f2b-4eb1-b67b-0d51c10483ec",
   "metadata": {},
   "source": [
    "### Classification vs Regression for Decision Trees "
   ]
  },
  {
   "cell_type": "markdown",
   "id": "53cdabe0-53b1-4baa-87b4-964c32206196",
   "metadata": {},
   "source": [
    "We can use decision trees for both classification and regression problems. While the general idea of using nodes and branches with T/F conditions remains the same, the criteria in which they make those decisions differ. \n",
    "\n",
    "Let's take a deeper look into how classification decision trees differ from regression decision trees:\n",
    "Decision trees can be used for both regression and classification tasks, but there are some key differences in how they are constructed and the output they produce.\n",
    "\n",
    "1. Output:\n",
    "   - In classification, decision trees produce discrete class labels as output. Each leaf node represents a specific class label, and the prediction is made based on the majority class within that leaf node.\n",
    "   - For regression, decision trees produce continuous numerical values as output. The output at each leaf node represents the predicted numerical value based on the training data.\n",
    "\n",
    "2. Splitting Criteria:\n",
    "   - Decision trees for classification use Gini impurity to measure the impurity or uncertainty of the class labels within each subset of the data. \n",
    "   - Decision trees for regression use criteria such as mean squared error or mean absolute error to measure the error or variance of the target variable. This criteria aims to minimize the error or variance of the predicted values within each subset.\n",
    "\n",
    "3. Handling Outliers:\n",
    "   - Outliers affect regression decision trees more greatly than classification ones.\n",
    "\n",
    "4. Evaluation Metrics:\n",
    "   - Classification decision trees are evaluated using metrics such as accuracy, precision, recall, and F1 score, which compare the predicted class labels to the true class labels.\n",
    "   - Regression decision trees are evaluated using metrics such as mean squared error, mean absolute error, or R-squared, which measure the difference between the predicted values and the actual target values.\n",
    "\n",
    "Despite these differences, both decision trees for regression and classification share the general structure of recursively splitting the data based on feature values and constructing a tree-like model. They are intuitive, interpretable, and can handle both numerical and categorical features."
   ]
  },
  {
   "cell_type": "markdown",
   "id": "82e1b2a6-f64b-47ce-87e9-144cd5ac7b00",
   "metadata": {},
   "source": [
    "# Decision tree example using code:\n",
    "\n",
    "Let's take a look at a simple example of creating a decision tree model and visualizing it.\n",
    "\n",
    "We will be using the iris dataset, already pre-loaded by the sklearn library."
   ]
  },
  {
   "cell_type": "code",
   "execution_count": 2,
   "id": "81b204c6-6105-4ae9-84f0-d7b2f997586e",
   "metadata": {
    "tags": []
   },
   "outputs": [],
   "source": [
    "from matplotlib import pyplot as plt\n",
    "from sklearn import datasets\n",
    "from sklearn.tree import DecisionTreeClassifier \n",
    "from sklearn import tree"
   ]
  },
  {
   "cell_type": "code",
   "execution_count": 3,
   "id": "6710ad3f-5b75-4ff2-9722-6a37ae5799a1",
   "metadata": {
    "tags": []
   },
   "outputs": [],
   "source": [
    "iris = datasets.load_iris()\n",
    "# iris"
   ]
  },
  {
   "cell_type": "markdown",
   "id": "b4f000af-1dea-4928-a394-948f3832fa9b",
   "metadata": {},
   "source": [
    "If we were to output iris, you would see that it's a dictionary-like structure. We obtain our data and feature names through different ways."
   ]
  },
  {
   "cell_type": "code",
   "execution_count": 4,
   "id": "148471b1-4344-41a7-96cd-1a29c846427c",
   "metadata": {
    "tags": []
   },
   "outputs": [
    {
     "data": {
      "text/plain": [
       "array([[5.1, 3.5, 1.4, 0.2],\n",
       "       [4.9, 3. , 1.4, 0.2],\n",
       "       [4.7, 3.2, 1.3, 0.2],\n",
       "       [4.6, 3.1, 1.5, 0.2],\n",
       "       [5. , 3.6, 1.4, 0.2],\n",
       "       [5.4, 3.9, 1.7, 0.4],\n",
       "       [4.6, 3.4, 1.4, 0.3],\n",
       "       [5. , 3.4, 1.5, 0.2],\n",
       "       [4.4, 2.9, 1.4, 0.2],\n",
       "       [4.9, 3.1, 1.5, 0.1]])"
      ]
     },
     "execution_count": 4,
     "metadata": {},
     "output_type": "execute_result"
    }
   ],
   "source": [
    "X = iris['data']\n",
    "y = iris['target']\n",
    "\n",
    "X[0:10] # This is just an array of numbers, we need to access our column names differently. "
   ]
  },
  {
   "cell_type": "markdown",
   "id": "515a7565-8c22-4d70-8183-005effdde094",
   "metadata": {},
   "source": [
    "To obtain our column names, we do the following:"
   ]
  },
  {
   "cell_type": "code",
   "execution_count": 5,
   "id": "d1feef18-daee-4b6d-a852-bc8d0a805879",
   "metadata": {
    "tags": []
   },
   "outputs": [
    {
     "name": "stdout",
     "output_type": "stream",
     "text": [
      "['sepal length (cm)', 'sepal width (cm)', 'petal length (cm)', 'petal width (cm)']\n",
      "['setosa' 'versicolor' 'virginica']\n"
     ]
    }
   ],
   "source": [
    "columnNames = iris['feature_names']\n",
    "targetNames = iris['target_names']\n",
    "\n",
    "print(columnNames) # predictor/input variables\n",
    "print(targetNames) # categories of target variable"
   ]
  },
  {
   "cell_type": "markdown",
   "id": "28937f6b-64d2-4309-ae9b-1e98b7a7e0c8",
   "metadata": {},
   "source": [
    "# Initializing Decision Tree\n",
    "\n",
    "Creating a decision tree model is easy! We just state the DecisionTreeClassifier function from sklearn, and set a random state (to ensure consistent results when reproduced). "
   ]
  },
  {
   "cell_type": "code",
   "execution_count": 6,
   "id": "f520daac-9db4-4e30-a3ed-1fb141b06c37",
   "metadata": {
    "tags": []
   },
   "outputs": [],
   "source": [
    "clf = DecisionTreeClassifier(random_state=42)\n",
    "model = clf.fit(X, y)"
   ]
  },
  {
   "cell_type": "markdown",
   "id": "39a6edf9-0a34-4a11-93ea-f6f3783b9076",
   "metadata": {},
   "source": [
    "To create a visualization of our decision tree, we perform the following"
   ]
  },
  {
   "cell_type": "code",
   "execution_count": 7,
   "id": "d53bcf08-dd9e-499c-9130-4a32ed0592cf",
   "metadata": {
    "tags": []
   },
   "outputs": [
    {
     "data": {
      "image/png": "[encoded data removed]",
      "text/plain": [
       "<Figure size 2500x2000 with 1 Axes>"
      ]
     },
     "metadata": {},
     "output_type": "display_data"
    }
   ],
   "source": [
    "fig = plt.figure(figsize=(25,20))\n",
    "ans = tree.plot_tree(clf, \n",
    "                   feature_names=columnNames,  \n",
    "                   class_names=targetNames,\n",
    "                   filled=True)"
   ]
  },
  {
   "cell_type": "markdown",
   "id": "d9b88df3-e11b-4fdc-b382-a03b7a9e723b",
   "metadata": {},
   "source": [
    "### What dataset will we be using?\n",
    "We will be working with a dataset about environmental conditions scraped from CIMIS weather stations using a selenium chromedriver. With California's wildfires setting records in 2020, it is worthwhile to explore factors that may contribute to creating at risk environments.\n",
    "<br></br>\n",
    "In 2020, California experienced devastating forest fires that wreaked havoc across the state. These fires were some of the most severe and destructive in the state's history, resulting in widespread destruction of forests, wildlife habitats, and communities. The fire season was particularly intense, with a combination of factors including high temperatures, prolonged drought, strong winds, and dry vegetation contributing to the rapid spread of flames. The flames engulfed millions of acres of land, causing the displacement of thousands of residents and resulting in the loss of numerous homes and infrastructure. Tragically, the fires also claimed lives, both among firefighters bravely battling the blazes and among civilians caught in the path of destruction. The environmental and ecological impacts were substantial, with long-term consequences for air quality, biodiversity, and the delicate balance of ecosystems. The 2020 forest fires in California served as a stark reminder of the urgent need for comprehensive strategies to mitigate the effects of climate change and improve fire management practices to protect lives, property, and the invaluable natural resources that make California such a unique and cherished place.\n",
    "<br></br>\n",
    "Through this dataset, we can answer questions like \"what kind of weather conditions increases the likelihood of a forest fire happening?\" \n",
    "<br></br>\n",
    "If you would like to access this dataset from the source, you can find it here: https://www.kaggle.com/datasets/chelseazaloumis/cimis-dataset-with-fire-target"
   ]
  },
  {
   "cell_type": "code",
   "execution_count": 8,
   "id": "b810ac7e-aff6-430c-85f5-0f86031be5f8",
   "metadata": {},
   "outputs": [],
   "source": [
    "# Load in the necessary Python libraries. We will be using pandas, numpy and matplotlib (for now). \n",
    "import pandas as pd\n",
    "import os\n",
    "import numpy as np\n",
    "import matplotlib.pyplot as plt\n",
    "import seaborn as sns\n",
    "from sklearn.model_selection import train_test_split\n",
    "from sklearn.linear_model import LogisticRegressionCV\n",
    "from sklearn.linear_model import LogisticRegression\n",
    "from sklearn.preprocessing import StandardScaler, OneHotEncoder\n",
    "from sklearn.impute import SimpleImputer\n",
    "from sklearn.pipeline import make_pipeline\n",
    "# from sklearn.metrics import balanced_accuracy_score, accuracy_score, classification_report, plot_confusion_matrix\n",
    "from sklearn.metrics import balanced_accuracy_score, accuracy_score, classification_report, ConfusionMatrixDisplay, confusion_matrix\n",
    "from sklearn.tree import DecisionTreeClassifier, plot_tree\n",
    "from sklearn.compose import ColumnTransformer, make_column_transformer\n",
    "from sklearn.ensemble import RandomForestClassifier\n",
    "\n",
    "from sklearn.model_selection import cross_val_score, cross_validate, train_test_split"
   ]
  },
  {
   "cell_type": "code",
   "execution_count": 9,
   "id": "e76ebce2-80e7-4cd6-a221-661a0da183ab",
   "metadata": {
    "tags": []
   },
   "outputs": [
    {
     "data": {
      "text/html": [
       "<div>\n",
       "<style scoped>\n",
       "    .dataframe tbody tr th:only-of-type {\n",
       "        vertical-align: middle;\n",
       "    }\n",
       "\n",
       "    .dataframe tbody tr th {\n",
       "        vertical-align: top;\n",
       "    }\n",
       "\n",
       "    .dataframe thead th {\n",
       "        text-align: right;\n",
       "    }\n",
       "</style>\n",
       "<table border=\"1\" class=\"dataframe\">\n",
       "  <thead>\n",
       "    <tr style=\"text-align: right;\">\n",
       "      <th></th>\n",
       "      <th>Stn Id</th>\n",
       "      <th>Stn Name</th>\n",
       "      <th>CIMIS Region</th>\n",
       "      <th>Date</th>\n",
       "      <th>ETo (in)</th>\n",
       "      <th>Precip (in)</th>\n",
       "      <th>Sol Rad (Ly/day)</th>\n",
       "      <th>Avg Vap Pres (mBars)</th>\n",
       "      <th>Max Air Temp (F)</th>\n",
       "      <th>Min Air Temp (F)</th>\n",
       "      <th>Avg Air Temp (F)</th>\n",
       "      <th>Max Rel Hum (%)</th>\n",
       "      <th>Min Rel Hum (%)</th>\n",
       "      <th>Avg Rel Hum (%)</th>\n",
       "      <th>Dew Point (F)</th>\n",
       "      <th>Avg Wind Speed (mph)</th>\n",
       "      <th>Wind Run (miles)</th>\n",
       "      <th>Avg Soil Temp (F)</th>\n",
       "      <th>Target</th>\n",
       "    </tr>\n",
       "  </thead>\n",
       "  <tbody>\n",
       "    <tr>\n",
       "      <th>0</th>\n",
       "      <td>2</td>\n",
       "      <td>FivePoints</td>\n",
       "      <td>San Joaquin Valley</td>\n",
       "      <td>1/1/2018</td>\n",
       "      <td>0.06</td>\n",
       "      <td>0.00</td>\n",
       "      <td>219.0</td>\n",
       "      <td>7.3</td>\n",
       "      <td>63.4</td>\n",
       "      <td>35.3</td>\n",
       "      <td>47.8</td>\n",
       "      <td>82.0</td>\n",
       "      <td>46.0</td>\n",
       "      <td>65.0</td>\n",
       "      <td>36.6</td>\n",
       "      <td>3.3</td>\n",
       "      <td>78.3</td>\n",
       "      <td>51.1</td>\n",
       "      <td>0</td>\n",
       "    </tr>\n",
       "    <tr>\n",
       "      <th>1</th>\n",
       "      <td>2</td>\n",
       "      <td>FivePoints</td>\n",
       "      <td>San Joaquin Valley</td>\n",
       "      <td>1/2/2018</td>\n",
       "      <td>0.04</td>\n",
       "      <td>0.00</td>\n",
       "      <td>127.0</td>\n",
       "      <td>7.4</td>\n",
       "      <td>59.8</td>\n",
       "      <td>37.7</td>\n",
       "      <td>47.2</td>\n",
       "      <td>80.0</td>\n",
       "      <td>52.0</td>\n",
       "      <td>67.0</td>\n",
       "      <td>36.7</td>\n",
       "      <td>3.1</td>\n",
       "      <td>74.5</td>\n",
       "      <td>51.3</td>\n",
       "      <td>0</td>\n",
       "    </tr>\n",
       "    <tr>\n",
       "      <th>2</th>\n",
       "      <td>2</td>\n",
       "      <td>FivePoints</td>\n",
       "      <td>San Joaquin Valley</td>\n",
       "      <td>1/3/2018</td>\n",
       "      <td>0.04</td>\n",
       "      <td>0.00</td>\n",
       "      <td>125.0</td>\n",
       "      <td>8.4</td>\n",
       "      <td>61.1</td>\n",
       "      <td>37.3</td>\n",
       "      <td>49.9</td>\n",
       "      <td>79.0</td>\n",
       "      <td>49.0</td>\n",
       "      <td>68.0</td>\n",
       "      <td>39.9</td>\n",
       "      <td>4.5</td>\n",
       "      <td>107.5</td>\n",
       "      <td>51.3</td>\n",
       "      <td>0</td>\n",
       "    </tr>\n",
       "    <tr>\n",
       "      <th>3</th>\n",
       "      <td>2</td>\n",
       "      <td>FivePoints</td>\n",
       "      <td>San Joaquin Valley</td>\n",
       "      <td>1/4/2018</td>\n",
       "      <td>0.07</td>\n",
       "      <td>0.01</td>\n",
       "      <td>219.0</td>\n",
       "      <td>11.6</td>\n",
       "      <td>69.2</td>\n",
       "      <td>48.7</td>\n",
       "      <td>56.8</td>\n",
       "      <td>94.0</td>\n",
       "      <td>52.0</td>\n",
       "      <td>74.0</td>\n",
       "      <td>48.5</td>\n",
       "      <td>5.8</td>\n",
       "      <td>140.2</td>\n",
       "      <td>53.0</td>\n",
       "      <td>0</td>\n",
       "    </tr>\n",
       "    <tr>\n",
       "      <th>4</th>\n",
       "      <td>2</td>\n",
       "      <td>FivePoints</td>\n",
       "      <td>San Joaquin Valley</td>\n",
       "      <td>1/5/2018</td>\n",
       "      <td>0.07</td>\n",
       "      <td>0.00</td>\n",
       "      <td>239.0</td>\n",
       "      <td>12.7</td>\n",
       "      <td>73.8</td>\n",
       "      <td>47.5</td>\n",
       "      <td>59.8</td>\n",
       "      <td>94.0</td>\n",
       "      <td>49.0</td>\n",
       "      <td>72.0</td>\n",
       "      <td>50.8</td>\n",
       "      <td>4.2</td>\n",
       "      <td>101.4</td>\n",
       "      <td>54.4</td>\n",
       "      <td>0</td>\n",
       "    </tr>\n",
       "  </tbody>\n",
       "</table>\n",
       "</div>"
      ],
      "text/plain": [
       "   Stn Id    Stn Name        CIMIS Region      Date  ETo (in)  Precip (in)  \\\n",
       "0       2  FivePoints  San Joaquin Valley  1/1/2018      0.06         0.00   \n",
       "1       2  FivePoints  San Joaquin Valley  1/2/2018      0.04         0.00   \n",
       "2       2  FivePoints  San Joaquin Valley  1/3/2018      0.04         0.00   \n",
       "3       2  FivePoints  San Joaquin Valley  1/4/2018      0.07         0.01   \n",
       "4       2  FivePoints  San Joaquin Valley  1/5/2018      0.07         0.00   \n",
       "\n",
       "   Sol Rad (Ly/day)  Avg Vap Pres (mBars)  Max Air Temp (F)  Min Air Temp (F)  \\\n",
       "0             219.0                   7.3              63.4              35.3   \n",
       "1             127.0                   7.4              59.8              37.7   \n",
       "2             125.0                   8.4              61.1              37.3   \n",
       "3             219.0                  11.6              69.2              48.7   \n",
       "4             239.0                  12.7              73.8              47.5   \n",
       "\n",
       "   Avg Air Temp (F)  Max Rel Hum (%)  Min Rel Hum (%)  Avg Rel Hum (%)  \\\n",
       "0              47.8             82.0             46.0             65.0   \n",
       "1              47.2             80.0             52.0             67.0   \n",
       "2              49.9             79.0             49.0             68.0   \n",
       "3              56.8             94.0             52.0             74.0   \n",
       "4              59.8             94.0             49.0             72.0   \n",
       "\n",
       "   Dew Point (F)  Avg Wind Speed (mph)  Wind Run (miles)  Avg Soil Temp (F)  \\\n",
       "0           36.6                   3.3              78.3               51.1   \n",
       "1           36.7                   3.1              74.5               51.3   \n",
       "2           39.9                   4.5             107.5               51.3   \n",
       "3           48.5                   5.8             140.2               53.0   \n",
       "4           50.8                   4.2             101.4               54.4   \n",
       "\n",
       "   Target  \n",
       "0       0  \n",
       "1       0  \n",
       "2       0  \n",
       "3       0  \n",
       "4       0  "
      ]
     },
     "execution_count": 9,
     "metadata": {},
     "output_type": "execute_result"
    }
   ],
   "source": [
    "# Go into the data folder, and read in the csv dataset into the Python workspace. \n",
    "# Then, name that item \"data\".\n",
    "data = pd.read_csv('../data/all_conditions.csv')\n",
    "data.head() # print out only the first few rows, for easy viewing."
   ]
  },
  {
   "cell_type": "markdown",
   "id": "1df5a60a-2ae4-42ed-ab06-4820913d3ff5",
   "metadata": {},
   "source": [
    "Let's take a detailed look at our dataset using the ```info()``` function."
   ]
  },
  {
   "cell_type": "code",
   "execution_count": 10,
   "id": "d68be2c1-7f90-497e-9f0f-6febdd4fd19a",
   "metadata": {
    "tags": []
   },
   "outputs": [
    {
     "name": "stdout",
     "output_type": "stream",
     "text": [
      "<class 'pandas.core.frame.DataFrame'>\n",
      "RangeIndex: 128125 entries, 0 to 128124\n",
      "Data columns (total 19 columns):\n",
      " #   Column                Non-Null Count   Dtype  \n",
      "---  ------                --------------   -----  \n",
      " 0   Stn Id                128125 non-null  int64  \n",
      " 1   Stn Name              128125 non-null  object \n",
      " 2   CIMIS Region          128125 non-null  object \n",
      " 3   Date                  128125 non-null  object \n",
      " 4   ETo (in)              128042 non-null  float64\n",
      " 5   Precip (in)           128125 non-null  float64\n",
      " 6   Sol Rad (Ly/day)      128125 non-null  float64\n",
      " 7   Avg Vap Pres (mBars)  128125 non-null  float64\n",
      " 8   Max Air Temp (F)      128122 non-null  float64\n",
      " 9   Min Air Temp (F)      128124 non-null  float64\n",
      " 10  Avg Air Temp (F)      128120 non-null  float64\n",
      " 11  Max Rel Hum (%)       128125 non-null  float64\n",
      " 12  Min Rel Hum (%)       128125 non-null  float64\n",
      " 13  Avg Rel Hum (%)       128112 non-null  float64\n",
      " 14  Dew Point (F)         128112 non-null  float64\n",
      " 15  Avg Wind Speed (mph)  128125 non-null  float64\n",
      " 16  Wind Run (miles)      128125 non-null  float64\n",
      " 17  Avg Soil Temp (F)     128105 non-null  float64\n",
      " 18  Target                128125 non-null  int64  \n",
      "dtypes: float64(14), int64(2), object(3)\n",
      "memory usage: 18.6+ MB\n"
     ]
    }
   ],
   "source": [
    "data.info()"
   ]
  },
  {
   "cell_type": "markdown",
   "id": "f5cdb6ab-7cb5-47c8-ad55-0e329bbcc348",
   "metadata": {},
   "source": [
    "### What does info() tell us?\n",
    "\n",
    "We have 14 float columns and 2 int columns. We also have 3 object columns. This dataset contains a total of 128125 rows. \n",
    "\n",
    "Additionally, it appears some columns have null values. Let's execute the following code to quickly obtain which columns have missing values."
   ]
  },
  {
   "cell_type": "code",
   "execution_count": 11,
   "id": "2c6d2ac1-fafc-4a90-b4b6-3f63deb2efc3",
   "metadata": {
    "tags": []
   },
   "outputs": [],
   "source": [
    "# data.sort_values(\"Avg Soil Temp (F)\")"
   ]
  },
  {
   "cell_type": "code",
   "execution_count": 12,
   "id": "120be00b-ce87-4570-b335-913de9b8b86c",
   "metadata": {
    "tags": []
   },
   "outputs": [
    {
     "data": {
      "text/plain": [
       "['ETo (in)',\n",
       " 'Max Air Temp (F)',\n",
       " 'Min Air Temp (F)',\n",
       " 'Avg Air Temp (F)',\n",
       " 'Avg Rel Hum (%)',\n",
       " 'Dew Point (F)',\n",
       " 'Avg Soil Temp (F)']"
      ]
     },
     "execution_count": 12,
     "metadata": {},
     "output_type": "execute_result"
    }
   ],
   "source": [
    "data.columns[data.isna().any()].tolist()"
   ]
  },
  {
   "cell_type": "markdown",
   "id": "abcf81a8-d014-4751-a4a4-4ea81e6fbe52",
   "metadata": {},
   "source": [
    "So, it appears that there's 7 columns with missing values. We will address this later."
   ]
  },
  {
   "cell_type": "code",
   "execution_count": null,
   "id": "878f44f1-3891-42e1-a711-67428cae1e5b",
   "metadata": {},
   "outputs": [],
   "source": []
  },
  {
   "cell_type": "code",
   "execution_count": 13,
   "id": "4772bc8a-cf73-4d47-aece-44eddd1dd470",
   "metadata": {
    "tags": []
   },
   "outputs": [],
   "source": [
    "# We will handle NA values a different way.\n",
    "\n",
    "# print(data.info())\n",
    "# data.dropna(inplace=True)\n",
    "# print(data.info())"
   ]
  },
  {
   "cell_type": "markdown",
   "id": "6009c3d1-564e-4944-a478-94d8ed4960e7",
   "metadata": {},
   "source": []
  },
  {
   "cell_type": "code",
   "execution_count": null,
   "id": "77c5a3bd-ebd2-49ad-9ad5-2f4328db3169",
   "metadata": {},
   "outputs": [],
   "source": []
  },
  {
   "cell_type": "code",
   "execution_count": null,
   "id": "8053c25c-96f7-4a42-81eb-59acda91338f",
   "metadata": {},
   "outputs": [],
   "source": []
  },
  {
   "cell_type": "code",
   "execution_count": 14,
   "id": "1e89836b-160e-4a5b-aaed-ec1484b4262a",
   "metadata": {
    "tags": []
   },
   "outputs": [],
   "source": [
    "\n",
    "# If you wish to plot data, take the first 700 rows\n",
    "X = data.iloc[:,[4,5,6,7,10,13,14,15,16,17]] # We are going to select ETo (evapotranspiration), Precipitation, Solar radiation, avg vapor pressure, avg air temperature, dew point, average wind speed, and avg soil temperature.\n",
    "\n",
    "# X = data.drop(columns=['Target'])\n",
    "# 'Stn Name', 'CIMIS Region' , 'Date'\n",
    "\n",
    "y = data['Target'][:]"
   ]
  },
  {
   "cell_type": "code",
   "execution_count": 15,
   "id": "a4277465-7b10-45e6-aedf-8e68404b0834",
   "metadata": {
    "tags": []
   },
   "outputs": [
    {
     "data": {
      "text/html": [
       "<div>\n",
       "<style scoped>\n",
       "    .dataframe tbody tr th:only-of-type {\n",
       "        vertical-align: middle;\n",
       "    }\n",
       "\n",
       "    .dataframe tbody tr th {\n",
       "        vertical-align: top;\n",
       "    }\n",
       "\n",
       "    .dataframe thead th {\n",
       "        text-align: right;\n",
       "    }\n",
       "</style>\n",
       "<table border=\"1\" class=\"dataframe\">\n",
       "  <thead>\n",
       "    <tr style=\"text-align: right;\">\n",
       "      <th></th>\n",
       "      <th>ETo (in)</th>\n",
       "      <th>Precip (in)</th>\n",
       "      <th>Sol Rad (Ly/day)</th>\n",
       "      <th>Avg Vap Pres (mBars)</th>\n",
       "      <th>Avg Air Temp (F)</th>\n",
       "      <th>Avg Rel Hum (%)</th>\n",
       "      <th>Dew Point (F)</th>\n",
       "      <th>Avg Wind Speed (mph)</th>\n",
       "      <th>Wind Run (miles)</th>\n",
       "      <th>Avg Soil Temp (F)</th>\n",
       "    </tr>\n",
       "  </thead>\n",
       "  <tbody>\n",
       "    <tr>\n",
       "      <th>0</th>\n",
       "      <td>0.06</td>\n",
       "      <td>0.00</td>\n",
       "      <td>219.0</td>\n",
       "      <td>7.3</td>\n",
       "      <td>47.8</td>\n",
       "      <td>65.0</td>\n",
       "      <td>36.6</td>\n",
       "      <td>3.3</td>\n",
       "      <td>78.3</td>\n",
       "      <td>51.1</td>\n",
       "    </tr>\n",
       "    <tr>\n",
       "      <th>1</th>\n",
       "      <td>0.04</td>\n",
       "      <td>0.00</td>\n",
       "      <td>127.0</td>\n",
       "      <td>7.4</td>\n",
       "      <td>47.2</td>\n",
       "      <td>67.0</td>\n",
       "      <td>36.7</td>\n",
       "      <td>3.1</td>\n",
       "      <td>74.5</td>\n",
       "      <td>51.3</td>\n",
       "    </tr>\n",
       "    <tr>\n",
       "      <th>2</th>\n",
       "      <td>0.04</td>\n",
       "      <td>0.00</td>\n",
       "      <td>125.0</td>\n",
       "      <td>8.4</td>\n",
       "      <td>49.9</td>\n",
       "      <td>68.0</td>\n",
       "      <td>39.9</td>\n",
       "      <td>4.5</td>\n",
       "      <td>107.5</td>\n",
       "      <td>51.3</td>\n",
       "    </tr>\n",
       "    <tr>\n",
       "      <th>3</th>\n",
       "      <td>0.07</td>\n",
       "      <td>0.01</td>\n",
       "      <td>219.0</td>\n",
       "      <td>11.6</td>\n",
       "      <td>56.8</td>\n",
       "      <td>74.0</td>\n",
       "      <td>48.5</td>\n",
       "      <td>5.8</td>\n",
       "      <td>140.2</td>\n",
       "      <td>53.0</td>\n",
       "    </tr>\n",
       "    <tr>\n",
       "      <th>4</th>\n",
       "      <td>0.07</td>\n",
       "      <td>0.00</td>\n",
       "      <td>239.0</td>\n",
       "      <td>12.7</td>\n",
       "      <td>59.8</td>\n",
       "      <td>72.0</td>\n",
       "      <td>50.8</td>\n",
       "      <td>4.2</td>\n",
       "      <td>101.4</td>\n",
       "      <td>54.4</td>\n",
       "    </tr>\n",
       "    <tr>\n",
       "      <th>...</th>\n",
       "      <td>...</td>\n",
       "      <td>...</td>\n",
       "      <td>...</td>\n",
       "      <td>...</td>\n",
       "      <td>...</td>\n",
       "      <td>...</td>\n",
       "      <td>...</td>\n",
       "      <td>...</td>\n",
       "      <td>...</td>\n",
       "      <td>...</td>\n",
       "    </tr>\n",
       "    <tr>\n",
       "      <th>128120</th>\n",
       "      <td>0.14</td>\n",
       "      <td>0.00</td>\n",
       "      <td>420.0</td>\n",
       "      <td>15.4</td>\n",
       "      <td>66.3</td>\n",
       "      <td>70.0</td>\n",
       "      <td>56.2</td>\n",
       "      <td>3.4</td>\n",
       "      <td>81.7</td>\n",
       "      <td>69.4</td>\n",
       "    </tr>\n",
       "    <tr>\n",
       "      <th>128121</th>\n",
       "      <td>0.15</td>\n",
       "      <td>0.00</td>\n",
       "      <td>430.0</td>\n",
       "      <td>15.1</td>\n",
       "      <td>66.0</td>\n",
       "      <td>69.0</td>\n",
       "      <td>55.7</td>\n",
       "      <td>2.7</td>\n",
       "      <td>64.2</td>\n",
       "      <td>69.0</td>\n",
       "    </tr>\n",
       "    <tr>\n",
       "      <th>128122</th>\n",
       "      <td>0.15</td>\n",
       "      <td>0.00</td>\n",
       "      <td>445.0</td>\n",
       "      <td>16.2</td>\n",
       "      <td>68.0</td>\n",
       "      <td>69.0</td>\n",
       "      <td>57.6</td>\n",
       "      <td>3.3</td>\n",
       "      <td>78.2</td>\n",
       "      <td>69.0</td>\n",
       "    </tr>\n",
       "    <tr>\n",
       "      <th>128123</th>\n",
       "      <td>0.16</td>\n",
       "      <td>0.00</td>\n",
       "      <td>447.0</td>\n",
       "      <td>16.6</td>\n",
       "      <td>70.4</td>\n",
       "      <td>65.0</td>\n",
       "      <td>58.3</td>\n",
       "      <td>3.3</td>\n",
       "      <td>78.1</td>\n",
       "      <td>69.5</td>\n",
       "    </tr>\n",
       "    <tr>\n",
       "      <th>128124</th>\n",
       "      <td>0.14</td>\n",
       "      <td>0.00</td>\n",
       "      <td>395.0</td>\n",
       "      <td>16.1</td>\n",
       "      <td>68.4</td>\n",
       "      <td>68.0</td>\n",
       "      <td>57.4</td>\n",
       "      <td>4.0</td>\n",
       "      <td>96.7</td>\n",
       "      <td>70.5</td>\n",
       "    </tr>\n",
       "  </tbody>\n",
       "</table>\n",
       "<p>128125 rows × 10 columns</p>\n",
       "</div>"
      ],
      "text/plain": [
       "        ETo (in)  Precip (in)  Sol Rad (Ly/day)  Avg Vap Pres (mBars)  \\\n",
       "0           0.06         0.00             219.0                   7.3   \n",
       "1           0.04         0.00             127.0                   7.4   \n",
       "2           0.04         0.00             125.0                   8.4   \n",
       "3           0.07         0.01             219.0                  11.6   \n",
       "4           0.07         0.00             239.0                  12.7   \n",
       "...          ...          ...               ...                   ...   \n",
       "128120      0.14         0.00             420.0                  15.4   \n",
       "128121      0.15         0.00             430.0                  15.1   \n",
       "128122      0.15         0.00             445.0                  16.2   \n",
       "128123      0.16         0.00             447.0                  16.6   \n",
       "128124      0.14         0.00             395.0                  16.1   \n",
       "\n",
       "        Avg Air Temp (F)  Avg Rel Hum (%)  Dew Point (F)  \\\n",
       "0                   47.8             65.0           36.6   \n",
       "1                   47.2             67.0           36.7   \n",
       "2                   49.9             68.0           39.9   \n",
       "3                   56.8             74.0           48.5   \n",
       "4                   59.8             72.0           50.8   \n",
       "...                  ...              ...            ...   \n",
       "128120              66.3             70.0           56.2   \n",
       "128121              66.0             69.0           55.7   \n",
       "128122              68.0             69.0           57.6   \n",
       "128123              70.4             65.0           58.3   \n",
       "128124              68.4             68.0           57.4   \n",
       "\n",
       "        Avg Wind Speed (mph)  Wind Run (miles)  Avg Soil Temp (F)  \n",
       "0                        3.3              78.3               51.1  \n",
       "1                        3.1              74.5               51.3  \n",
       "2                        4.5             107.5               51.3  \n",
       "3                        5.8             140.2               53.0  \n",
       "4                        4.2             101.4               54.4  \n",
       "...                      ...               ...                ...  \n",
       "128120                   3.4              81.7               69.4  \n",
       "128121                   2.7              64.2               69.0  \n",
       "128122                   3.3              78.2               69.0  \n",
       "128123                   3.3              78.1               69.5  \n",
       "128124                   4.0              96.7               70.5  \n",
       "\n",
       "[128125 rows x 10 columns]"
      ]
     },
     "execution_count": 15,
     "metadata": {},
     "output_type": "execute_result"
    }
   ],
   "source": [
    "X"
   ]
  },
  {
   "cell_type": "markdown",
   "id": "ce7bda77-be45-4335-8366-9124c92a5756",
   "metadata": {},
   "source": [
    "It appears many of our columns are in imperial units. Let's perform some conversions and turn them into metric units. "
   ]
  },
  {
   "cell_type": "code",
   "execution_count": 16,
   "id": "98606f3c-84a3-4f54-a04b-7df6fbb74cf2",
   "metadata": {
    "tags": []
   },
   "outputs": [],
   "source": [
    "def imperialToMetric(df):\n",
    "    inchTomm = ['ETo (mm)', 'Precip (mm)']\n",
    "    FtoC = ['Avg Air Temp (C)' , 'Dew Point (C)' , 'Avg Soil Temp (C)']\n",
    "    milesToKm = ['Avg Wind Speed (kph)', 'Wind Run (kilometers)']\n",
    "    \n",
    "    for col in df:\n",
    "        if col in inchTomm:\n",
    "            df[col] *= 25.4\n",
    "        elif col in FtoC:\n",
    "            df[col] = (df[col]-32) * 5/9\n",
    "        elif col in milesToKm:\n",
    "            df[col] *= 1.6093440006147\n",
    "        else:\n",
    "            pass\n"
   ]
  },
  {
   "cell_type": "code",
   "execution_count": 17,
   "id": "0f7b4e84-f9be-450a-b0a8-562af9177c6d",
   "metadata": {
    "tags": []
   },
   "outputs": [
    {
     "data": {
      "text/html": [
       "<div>\n",
       "<style scoped>\n",
       "    .dataframe tbody tr th:only-of-type {\n",
       "        vertical-align: middle;\n",
       "    }\n",
       "\n",
       "    .dataframe tbody tr th {\n",
       "        vertical-align: top;\n",
       "    }\n",
       "\n",
       "    .dataframe thead th {\n",
       "        text-align: right;\n",
       "    }\n",
       "</style>\n",
       "<table border=\"1\" class=\"dataframe\">\n",
       "  <thead>\n",
       "    <tr style=\"text-align: right;\">\n",
       "      <th></th>\n",
       "      <th>ETo (mm)</th>\n",
       "      <th>Precip (mm)</th>\n",
       "      <th>Sol Rad (Ly/day)</th>\n",
       "      <th>Avg Vap Pres (mBars)</th>\n",
       "      <th>Avg Air Temp (C)</th>\n",
       "      <th>Avg Rel Hum (%)</th>\n",
       "      <th>Dew Point (C)</th>\n",
       "      <th>Avg Wind Speed (kph)</th>\n",
       "      <th>Wind Run (kilometers)</th>\n",
       "      <th>Avg Soil Temp (C)</th>\n",
       "    </tr>\n",
       "  </thead>\n",
       "  <tbody>\n",
       "    <tr>\n",
       "      <th>0</th>\n",
       "      <td>1.524</td>\n",
       "      <td>0.000</td>\n",
       "      <td>219.0</td>\n",
       "      <td>7.3</td>\n",
       "      <td>8.777778</td>\n",
       "      <td>65.0</td>\n",
       "      <td>2.555556</td>\n",
       "      <td>5.310835</td>\n",
       "      <td>126.011635</td>\n",
       "      <td>10.611111</td>\n",
       "    </tr>\n",
       "    <tr>\n",
       "      <th>1</th>\n",
       "      <td>1.016</td>\n",
       "      <td>0.000</td>\n",
       "      <td>127.0</td>\n",
       "      <td>7.4</td>\n",
       "      <td>8.444444</td>\n",
       "      <td>67.0</td>\n",
       "      <td>2.611111</td>\n",
       "      <td>4.988966</td>\n",
       "      <td>119.896128</td>\n",
       "      <td>10.722222</td>\n",
       "    </tr>\n",
       "    <tr>\n",
       "      <th>2</th>\n",
       "      <td>1.016</td>\n",
       "      <td>0.000</td>\n",
       "      <td>125.0</td>\n",
       "      <td>8.4</td>\n",
       "      <td>9.944444</td>\n",
       "      <td>68.0</td>\n",
       "      <td>4.388889</td>\n",
       "      <td>7.242048</td>\n",
       "      <td>173.004480</td>\n",
       "      <td>10.722222</td>\n",
       "    </tr>\n",
       "    <tr>\n",
       "      <th>3</th>\n",
       "      <td>1.778</td>\n",
       "      <td>0.254</td>\n",
       "      <td>219.0</td>\n",
       "      <td>11.6</td>\n",
       "      <td>13.777778</td>\n",
       "      <td>74.0</td>\n",
       "      <td>9.166667</td>\n",
       "      <td>9.334195</td>\n",
       "      <td>225.630029</td>\n",
       "      <td>11.666667</td>\n",
       "    </tr>\n",
       "    <tr>\n",
       "      <th>4</th>\n",
       "      <td>1.778</td>\n",
       "      <td>0.000</td>\n",
       "      <td>239.0</td>\n",
       "      <td>12.7</td>\n",
       "      <td>15.444444</td>\n",
       "      <td>72.0</td>\n",
       "      <td>10.444444</td>\n",
       "      <td>6.759245</td>\n",
       "      <td>163.187482</td>\n",
       "      <td>12.444444</td>\n",
       "    </tr>\n",
       "    <tr>\n",
       "      <th>...</th>\n",
       "      <td>...</td>\n",
       "      <td>...</td>\n",
       "      <td>...</td>\n",
       "      <td>...</td>\n",
       "      <td>...</td>\n",
       "      <td>...</td>\n",
       "      <td>...</td>\n",
       "      <td>...</td>\n",
       "      <td>...</td>\n",
       "      <td>...</td>\n",
       "    </tr>\n",
       "    <tr>\n",
       "      <th>128120</th>\n",
       "      <td>3.556</td>\n",
       "      <td>0.000</td>\n",
       "      <td>420.0</td>\n",
       "      <td>15.4</td>\n",
       "      <td>19.055556</td>\n",
       "      <td>70.0</td>\n",
       "      <td>13.444444</td>\n",
       "      <td>5.471770</td>\n",
       "      <td>131.483405</td>\n",
       "      <td>20.777778</td>\n",
       "    </tr>\n",
       "    <tr>\n",
       "      <th>128121</th>\n",
       "      <td>3.810</td>\n",
       "      <td>0.000</td>\n",
       "      <td>430.0</td>\n",
       "      <td>15.1</td>\n",
       "      <td>18.888889</td>\n",
       "      <td>69.0</td>\n",
       "      <td>13.166667</td>\n",
       "      <td>4.345229</td>\n",
       "      <td>103.319885</td>\n",
       "      <td>20.555556</td>\n",
       "    </tr>\n",
       "    <tr>\n",
       "      <th>128122</th>\n",
       "      <td>3.810</td>\n",
       "      <td>0.000</td>\n",
       "      <td>445.0</td>\n",
       "      <td>16.2</td>\n",
       "      <td>20.000000</td>\n",
       "      <td>69.0</td>\n",
       "      <td>14.222222</td>\n",
       "      <td>5.310835</td>\n",
       "      <td>125.850701</td>\n",
       "      <td>20.555556</td>\n",
       "    </tr>\n",
       "    <tr>\n",
       "      <th>128123</th>\n",
       "      <td>4.064</td>\n",
       "      <td>0.000</td>\n",
       "      <td>447.0</td>\n",
       "      <td>16.6</td>\n",
       "      <td>21.333333</td>\n",
       "      <td>65.0</td>\n",
       "      <td>14.611111</td>\n",
       "      <td>5.310835</td>\n",
       "      <td>125.689766</td>\n",
       "      <td>20.833333</td>\n",
       "    </tr>\n",
       "    <tr>\n",
       "      <th>128124</th>\n",
       "      <td>3.556</td>\n",
       "      <td>0.000</td>\n",
       "      <td>395.0</td>\n",
       "      <td>16.1</td>\n",
       "      <td>20.222222</td>\n",
       "      <td>68.0</td>\n",
       "      <td>14.111111</td>\n",
       "      <td>6.437376</td>\n",
       "      <td>155.623565</td>\n",
       "      <td>21.388889</td>\n",
       "    </tr>\n",
       "  </tbody>\n",
       "</table>\n",
       "<p>128125 rows × 10 columns</p>\n",
       "</div>"
      ],
      "text/plain": [
       "        ETo (mm)  Precip (mm)  Sol Rad (Ly/day)  Avg Vap Pres (mBars)  \\\n",
       "0          1.524        0.000             219.0                   7.3   \n",
       "1          1.016        0.000             127.0                   7.4   \n",
       "2          1.016        0.000             125.0                   8.4   \n",
       "3          1.778        0.254             219.0                  11.6   \n",
       "4          1.778        0.000             239.0                  12.7   \n",
       "...          ...          ...               ...                   ...   \n",
       "128120     3.556        0.000             420.0                  15.4   \n",
       "128121     3.810        0.000             430.0                  15.1   \n",
       "128122     3.810        0.000             445.0                  16.2   \n",
       "128123     4.064        0.000             447.0                  16.6   \n",
       "128124     3.556        0.000             395.0                  16.1   \n",
       "\n",
       "        Avg Air Temp (C)  Avg Rel Hum (%)  Dew Point (C)  \\\n",
       "0               8.777778             65.0       2.555556   \n",
       "1               8.444444             67.0       2.611111   \n",
       "2               9.944444             68.0       4.388889   \n",
       "3              13.777778             74.0       9.166667   \n",
       "4              15.444444             72.0      10.444444   \n",
       "...                  ...              ...            ...   \n",
       "128120         19.055556             70.0      13.444444   \n",
       "128121         18.888889             69.0      13.166667   \n",
       "128122         20.000000             69.0      14.222222   \n",
       "128123         21.333333             65.0      14.611111   \n",
       "128124         20.222222             68.0      14.111111   \n",
       "\n",
       "        Avg Wind Speed (kph)  Wind Run (kilometers)  Avg Soil Temp (C)  \n",
       "0                   5.310835             126.011635          10.611111  \n",
       "1                   4.988966             119.896128          10.722222  \n",
       "2                   7.242048             173.004480          10.722222  \n",
       "3                   9.334195             225.630029          11.666667  \n",
       "4                   6.759245             163.187482          12.444444  \n",
       "...                      ...                    ...                ...  \n",
       "128120              5.471770             131.483405          20.777778  \n",
       "128121              4.345229             103.319885          20.555556  \n",
       "128122              5.310835             125.850701          20.555556  \n",
       "128123              5.310835             125.689766          20.833333  \n",
       "128124              6.437376             155.623565          21.388889  \n",
       "\n",
       "[128125 rows x 10 columns]"
      ]
     },
     "execution_count": 17,
     "metadata": {},
     "output_type": "execute_result"
    }
   ],
   "source": [
    "X = X.copy() # This is to address SettingWithValue error\n",
    "X.rename(columns={'ETo (in)':'ETo (mm)', 'Precip (in)':'Precip (mm)', 'Avg Air Temp (F)':'Avg Air Temp (C)', 'Dew Point (F)':'Dew Point (C)', 'Avg Wind Speed (mph)':'Avg Wind Speed (kph)', 'Wind Run (miles)':'Wind Run (kilometers)', 'Avg Soil Temp (F)':'Avg Soil Temp (C)'}, inplace=True)\n",
    "\n",
    "imperialToMetric(X)\n",
    "\n",
    "# X['ETo (mm)'] *= 25.4\n",
    "# X['Precip (mm)'] *= 25.4\n",
    "\n",
    "# X['Avg Air Temp (C)'] = (X['Avg Air Temp (C)'] - 32) * 5/9\n",
    "# X['Dew Point (C)'] = (X['Dew Point (C)'] - 32) * 5/9\n",
    "# X['Avg Soil Temp (C)'] = (X['Avg Soil Temp (C)'] - 32) * 5/9\n",
    "\n",
    "# X['Avg Wind Speed (kph)'] *= 1.6093440006147\n",
    "# X['Wind Run (kilometers)'] *= 1.6093440006147\n",
    "\n",
    "X"
   ]
  },
  {
   "cell_type": "code",
   "execution_count": null,
   "id": "77a37a7b-a04f-42bd-9b64-ce60520d6690",
   "metadata": {},
   "outputs": [],
   "source": []
  },
  {
   "cell_type": "code",
   "execution_count": null,
   "id": "91c17953-54e6-4f0c-98ff-90bedcaddd9b",
   "metadata": {},
   "outputs": [],
   "source": []
  },
  {
   "cell_type": "code",
   "execution_count": 18,
   "id": "27575f4f-ffc5-493e-a553-b573a0321422",
   "metadata": {
    "tags": []
   },
   "outputs": [
    {
     "data": {
      "text/plain": [
       "['ETo (mm)',\n",
       " 'Precip (mm)',\n",
       " 'Sol Rad (Ly/day)',\n",
       " 'Avg Vap Pres (mBars)',\n",
       " 'Avg Air Temp (C)',\n",
       " 'Avg Rel Hum (%)',\n",
       " 'Dew Point (C)',\n",
       " 'Avg Wind Speed (kph)',\n",
       " 'Wind Run (kilometers)',\n",
       " 'Avg Soil Temp (C)']"
      ]
     },
     "execution_count": 18,
     "metadata": {},
     "output_type": "execute_result"
    }
   ],
   "source": [
    "feature_names = list(X.columns.values)\n",
    "target_name = y.name\n",
    "\n",
    "feature_names\n",
    "\n",
    "# X = X.to_numpy()\n",
    "# y = y.to_numpy()\n",
    "\n",
    "# print(type(X))\n",
    "# print(type(y))\n",
    "\n",
    "# print(feature_names)\n",
    "# print(target_name)\n",
    "\n",
    "# print(len(X))\n",
    "# print(len(y))\n",
    "\n",
    "# print(X)\n",
    "# print(y)"
   ]
  },
  {
   "cell_type": "code",
   "execution_count": null,
   "id": "41c24fe7-ba5d-4587-86a5-d5cf54a20c98",
   "metadata": {},
   "outputs": [],
   "source": []
  },
  {
   "cell_type": "markdown",
   "id": "df9d06c0-0a41-428e-89ac-f52ac9de0741",
   "metadata": {},
   "source": [
    "Now, let's create a train-test split on our data. \n",
    "\n",
    "We will create a training and testing set for both our input features (X) and our output features (y)."
   ]
  },
  {
   "cell_type": "code",
   "execution_count": 19,
   "id": "9f7ddf2d-2847-4bc7-9bb5-fcc1c17c7c96",
   "metadata": {
    "tags": []
   },
   "outputs": [],
   "source": [
    "X_train, X_test, y_train, y_test = train_test_split(X, y, test_size=0.2, random_state=42)"
   ]
  },
  {
   "cell_type": "markdown",
   "id": "53e1e466-dd46-4b3f-9cd1-46b128c251df",
   "metadata": {},
   "source": [
    "Before we continue any further, let's check to see if our X_train contains any missing values (we most likely do, as we saw earlier)."
   ]
  },
  {
   "cell_type": "code",
   "execution_count": 20,
   "id": "383cb201-564a-433f-ad90-74ed18a21f67",
   "metadata": {
    "tags": []
   },
   "outputs": [
    {
     "data": {
      "text/plain": [
       "True"
      ]
     },
     "execution_count": 20,
     "metadata": {},
     "output_type": "execute_result"
    }
   ],
   "source": [
    "np.isnan(X_train.to_numpy()).any()"
   ]
  },
  {
   "cell_type": "markdown",
   "id": "9dea3e0b-1952-447b-860c-70ff141bad54",
   "metadata": {},
   "source": [
    "Our X_train (and most likely X_test) contain missing data. Let's see how an imputer can solve this problem."
   ]
  },
  {
   "cell_type": "code",
   "execution_count": 21,
   "id": "9b5f4021-8055-4e38-b472-7524268529f0",
   "metadata": {
    "tags": []
   },
   "outputs": [],
   "source": [
    "imputer = SimpleImputer(strategy=\"mean\")\n",
    "imputer.fit(X_train)\n",
    "X_train_imp = imputer.transform(X_train)\n",
    "X_test_imp = imputer.transform(X_test) # We are applying the imputation to X_test as well, not just X_train"
   ]
  },
  {
   "cell_type": "markdown",
   "id": "c293135a-0085-43d2-8c97-d6e22f3f7f33",
   "metadata": {},
   "source": [
    "Our SimpleImputer replaces each NA value within a numerical column with the average of that column. The average is computed by using whatever numbers it can, excluding NA values of course. \n",
    "\n",
    "Let's verify that we no longer have an NA values."
   ]
  },
  {
   "cell_type": "code",
   "execution_count": 22,
   "id": "9b63b791-7a2b-4d6f-b933-1985673d9f4d",
   "metadata": {
    "tags": []
   },
   "outputs": [
    {
     "data": {
      "text/plain": [
       "False"
      ]
     },
     "execution_count": 22,
     "metadata": {},
     "output_type": "execute_result"
    }
   ],
   "source": [
    "np.isnan(X_train_imp).any()"
   ]
  },
  {
   "cell_type": "markdown",
   "id": "70af5c48-640e-47cd-beb0-9b5e6be93d90",
   "metadata": {},
   "source": [
    "Great! Our SimpleImputer did its job nicely."
   ]
  },
  {
   "cell_type": "code",
   "execution_count": null,
   "id": "65ca22dc-3763-4830-beaa-3487136be3eb",
   "metadata": {
    "tags": []
   },
   "outputs": [],
   "source": []
  },
  {
   "cell_type": "markdown",
   "id": "50754853-b9db-41ca-9d1d-548aaa74ba55",
   "metadata": {},
   "source": [
    "### Now, let's use a decision tree:"
   ]
  },
  {
   "cell_type": "code",
   "execution_count": 23,
   "id": "8c457797-6542-417e-8d52-d6e080df55bd",
   "metadata": {
    "tags": []
   },
   "outputs": [
    {
     "name": "stdout",
     "output_type": "stream",
     "text": [
      "Accuracy using first method of predicting then using accuracy_score function: 0.9457560975609756\n",
      "Accuracy using second method of directly using .score function: 0.9457560975609756\n"
     ]
    }
   ],
   "source": [
    "clf = DecisionTreeClassifier(random_state=42)\n",
    "clf.fit(X_train_imp, y_train)\n",
    "\n",
    "\n",
    "# Method 1\n",
    "y_pred = clf.predict(X_test_imp)\n",
    "accuracy = accuracy_score(y_test, y_pred)\n",
    "print(\"Accuracy using first method of predicting then using accuracy_score function:\", accuracy)\n",
    "\n",
    "# Method 2\n",
    "print(\"Accuracy using second method of directly using .score function:\", clf.score(X_test_imp, y_test))\n",
    "\n",
    "# plot_tree(clf)\n"
   ]
  },
  {
   "cell_type": "code",
   "execution_count": null,
   "id": "1399398b-c840-4af7-8966-e7c4c2f0b7d5",
   "metadata": {},
   "outputs": [],
   "source": []
  },
  {
   "cell_type": "code",
   "execution_count": null,
   "id": "0e47e918-d726-4c34-bff6-2914c556a07c",
   "metadata": {},
   "outputs": [],
   "source": []
  },
  {
   "cell_type": "code",
   "execution_count": null,
   "id": "c6cce027-02ca-45a0-8b1b-8849a9a2f978",
   "metadata": {
    "tags": []
   },
   "outputs": [],
   "source": []
  },
  {
   "attachments": {
    "a1fda9aa-fcf6-42de-ad2d-d30184ec3347.png": {
     "image/png": "[encoded data removed]"
    }
   },
   "cell_type": "markdown",
   "id": "c4b57570-0f4e-468e-8fbe-5078923a8aae",
   "metadata": {
    "tags": []
   },
   "source": [
    "### Random Forest Model\n",
    "\n",
    "Simply put, random forests are just many decision trees combined together. The word \"random\" in random forests comes from the fact that randomly created decision trees make up the random forest. \n",
    "\n",
    "We utilize multiple instances of decision trees because most of the time, a single tree is not sufficient for producing meaningful results. A single decision tree has a high risk of overfitting. However, if we average out the results by employing more trees, we can reduce the amount of overfitting overall.  \n",
    "\n",
    "In summrary, random forests just combine the output of multiple randomly created decision trees and from there, generates the final answer. Random forests are a popular example of an ensemble model. In ML, ensembles combine multiple ML models to create more powerful models.  \n",
    "\n",
    "The following illustration demonstrates how random forests work:\n",
    "\n",
    "![image.png](attachment:a1fda9aa-fcf6-42de-ad2d-d30184ec3347.png)\n"
   ]
  },
  {
   "cell_type": "markdown",
   "id": "477ec06d-127d-4013-9d54-cf9ff5472a11",
   "metadata": {},
   "source": [
    "Previously, we used SimpleImputer on numerical columns only, and we set the strategy to **mean**. \n",
    "\n",
    "Let's say we want to introduce a categorical variable, CIMIS Region. Let's see how we can use pipelines and column transformers to apply one-hot encoding onto this categorical variable, while also applying imputation to our numerical variables that we used before. "
   ]
  },
  {
   "cell_type": "code",
   "execution_count": 19,
   "id": "b66ac732-a406-437f-8510-398040b81115",
   "metadata": {
    "tags": []
   },
   "outputs": [
    {
     "data": {
      "text/html": [
       "<div>\n",
       "<style scoped>\n",
       "    .dataframe tbody tr th:only-of-type {\n",
       "        vertical-align: middle;\n",
       "    }\n",
       "\n",
       "    .dataframe tbody tr th {\n",
       "        vertical-align: top;\n",
       "    }\n",
       "\n",
       "    .dataframe thead th {\n",
       "        text-align: right;\n",
       "    }\n",
       "</style>\n",
       "<table border=\"1\" class=\"dataframe\">\n",
       "  <thead>\n",
       "    <tr style=\"text-align: right;\">\n",
       "      <th></th>\n",
       "      <th>CIMIS Region</th>\n",
       "      <th>ETo (in)</th>\n",
       "      <th>Precip (in)</th>\n",
       "      <th>Sol Rad (Ly/day)</th>\n",
       "      <th>Avg Vap Pres (mBars)</th>\n",
       "      <th>Avg Air Temp (F)</th>\n",
       "      <th>Avg Rel Hum (%)</th>\n",
       "      <th>Dew Point (F)</th>\n",
       "      <th>Avg Wind Speed (mph)</th>\n",
       "      <th>Wind Run (miles)</th>\n",
       "      <th>Avg Soil Temp (F)</th>\n",
       "      <th>Target</th>\n",
       "    </tr>\n",
       "  </thead>\n",
       "  <tbody>\n",
       "    <tr>\n",
       "      <th>0</th>\n",
       "      <td>San Joaquin Valley</td>\n",
       "      <td>0.06</td>\n",
       "      <td>0.00</td>\n",
       "      <td>219.0</td>\n",
       "      <td>7.3</td>\n",
       "      <td>47.8</td>\n",
       "      <td>65.0</td>\n",
       "      <td>36.6</td>\n",
       "      <td>3.3</td>\n",
       "      <td>78.3</td>\n",
       "      <td>51.1</td>\n",
       "      <td>0</td>\n",
       "    </tr>\n",
       "    <tr>\n",
       "      <th>1</th>\n",
       "      <td>San Joaquin Valley</td>\n",
       "      <td>0.04</td>\n",
       "      <td>0.00</td>\n",
       "      <td>127.0</td>\n",
       "      <td>7.4</td>\n",
       "      <td>47.2</td>\n",
       "      <td>67.0</td>\n",
       "      <td>36.7</td>\n",
       "      <td>3.1</td>\n",
       "      <td>74.5</td>\n",
       "      <td>51.3</td>\n",
       "      <td>0</td>\n",
       "    </tr>\n",
       "    <tr>\n",
       "      <th>2</th>\n",
       "      <td>San Joaquin Valley</td>\n",
       "      <td>0.04</td>\n",
       "      <td>0.00</td>\n",
       "      <td>125.0</td>\n",
       "      <td>8.4</td>\n",
       "      <td>49.9</td>\n",
       "      <td>68.0</td>\n",
       "      <td>39.9</td>\n",
       "      <td>4.5</td>\n",
       "      <td>107.5</td>\n",
       "      <td>51.3</td>\n",
       "      <td>0</td>\n",
       "    </tr>\n",
       "    <tr>\n",
       "      <th>3</th>\n",
       "      <td>San Joaquin Valley</td>\n",
       "      <td>0.07</td>\n",
       "      <td>0.01</td>\n",
       "      <td>219.0</td>\n",
       "      <td>11.6</td>\n",
       "      <td>56.8</td>\n",
       "      <td>74.0</td>\n",
       "      <td>48.5</td>\n",
       "      <td>5.8</td>\n",
       "      <td>140.2</td>\n",
       "      <td>53.0</td>\n",
       "      <td>0</td>\n",
       "    </tr>\n",
       "    <tr>\n",
       "      <th>4</th>\n",
       "      <td>San Joaquin Valley</td>\n",
       "      <td>0.07</td>\n",
       "      <td>0.00</td>\n",
       "      <td>239.0</td>\n",
       "      <td>12.7</td>\n",
       "      <td>59.8</td>\n",
       "      <td>72.0</td>\n",
       "      <td>50.8</td>\n",
       "      <td>4.2</td>\n",
       "      <td>101.4</td>\n",
       "      <td>54.4</td>\n",
       "      <td>0</td>\n",
       "    </tr>\n",
       "  </tbody>\n",
       "</table>\n",
       "</div>"
      ],
      "text/plain": [
       "         CIMIS Region  ETo (in)  Precip (in)  Sol Rad (Ly/day)  \\\n",
       "0  San Joaquin Valley      0.06         0.00             219.0   \n",
       "1  San Joaquin Valley      0.04         0.00             127.0   \n",
       "2  San Joaquin Valley      0.04         0.00             125.0   \n",
       "3  San Joaquin Valley      0.07         0.01             219.0   \n",
       "4  San Joaquin Valley      0.07         0.00             239.0   \n",
       "\n",
       "   Avg Vap Pres (mBars)  Avg Air Temp (F)  Avg Rel Hum (%)  Dew Point (F)  \\\n",
       "0                   7.3              47.8             65.0           36.6   \n",
       "1                   7.4              47.2             67.0           36.7   \n",
       "2                   8.4              49.9             68.0           39.9   \n",
       "3                  11.6              56.8             74.0           48.5   \n",
       "4                  12.7              59.8             72.0           50.8   \n",
       "\n",
       "   Avg Wind Speed (mph)  Wind Run (miles)  Avg Soil Temp (F)  Target  \n",
       "0                   3.3              78.3               51.1       0  \n",
       "1                   3.1              74.5               51.3       0  \n",
       "2                   4.5             107.5               51.3       0  \n",
       "3                   5.8             140.2               53.0       0  \n",
       "4                   4.2             101.4               54.4       0  "
      ]
     },
     "execution_count": 19,
     "metadata": {},
     "output_type": "execute_result"
    }
   ],
   "source": [
    "data = pd.read_csv('../data/all_conditions.csv').iloc[:,[2,4,5,6,7,10,13,14,15,16,17,-1]] # This time, we're including a categorical variable (CIMIS Region)\n",
    "# data.head() # print out only the first few rows, for easy viewing.\n",
    "data.head()"
   ]
  },
  {
   "cell_type": "code",
   "execution_count": 20,
   "id": "3ca5a34a-7675-4429-b251-0a1719764c0f",
   "metadata": {
    "tags": []
   },
   "outputs": [
    {
     "data": {
      "text/html": [
       "<div>\n",
       "<style scoped>\n",
       "    .dataframe tbody tr th:only-of-type {\n",
       "        vertical-align: middle;\n",
       "    }\n",
       "\n",
       "    .dataframe tbody tr th {\n",
       "        vertical-align: top;\n",
       "    }\n",
       "\n",
       "    .dataframe thead th {\n",
       "        text-align: right;\n",
       "    }\n",
       "</style>\n",
       "<table border=\"1\" class=\"dataframe\">\n",
       "  <thead>\n",
       "    <tr style=\"text-align: right;\">\n",
       "      <th></th>\n",
       "      <th>CIMIS Region</th>\n",
       "      <th>ETo (mm)</th>\n",
       "      <th>Precip (mm)</th>\n",
       "      <th>Sol Rad (Ly/day)</th>\n",
       "      <th>Avg Vap Pres (mBars)</th>\n",
       "      <th>Avg Air Temp (C)</th>\n",
       "      <th>Avg Rel Hum (%)</th>\n",
       "      <th>Dew Point (C)</th>\n",
       "      <th>Avg Wind Speed (kph)</th>\n",
       "      <th>Wind Run (kilometers)</th>\n",
       "      <th>Avg Soil Temp (C)</th>\n",
       "      <th>Target</th>\n",
       "    </tr>\n",
       "  </thead>\n",
       "  <tbody>\n",
       "    <tr>\n",
       "      <th>0</th>\n",
       "      <td>San Joaquin Valley</td>\n",
       "      <td>0.06</td>\n",
       "      <td>0.00</td>\n",
       "      <td>219.0</td>\n",
       "      <td>7.3</td>\n",
       "      <td>47.8</td>\n",
       "      <td>65.0</td>\n",
       "      <td>36.6</td>\n",
       "      <td>3.3</td>\n",
       "      <td>78.3</td>\n",
       "      <td>51.1</td>\n",
       "      <td>0</td>\n",
       "    </tr>\n",
       "    <tr>\n",
       "      <th>1</th>\n",
       "      <td>San Joaquin Valley</td>\n",
       "      <td>0.04</td>\n",
       "      <td>0.00</td>\n",
       "      <td>127.0</td>\n",
       "      <td>7.4</td>\n",
       "      <td>47.2</td>\n",
       "      <td>67.0</td>\n",
       "      <td>36.7</td>\n",
       "      <td>3.1</td>\n",
       "      <td>74.5</td>\n",
       "      <td>51.3</td>\n",
       "      <td>0</td>\n",
       "    </tr>\n",
       "    <tr>\n",
       "      <th>2</th>\n",
       "      <td>San Joaquin Valley</td>\n",
       "      <td>0.04</td>\n",
       "      <td>0.00</td>\n",
       "      <td>125.0</td>\n",
       "      <td>8.4</td>\n",
       "      <td>49.9</td>\n",
       "      <td>68.0</td>\n",
       "      <td>39.9</td>\n",
       "      <td>4.5</td>\n",
       "      <td>107.5</td>\n",
       "      <td>51.3</td>\n",
       "      <td>0</td>\n",
       "    </tr>\n",
       "    <tr>\n",
       "      <th>3</th>\n",
       "      <td>San Joaquin Valley</td>\n",
       "      <td>0.07</td>\n",
       "      <td>0.01</td>\n",
       "      <td>219.0</td>\n",
       "      <td>11.6</td>\n",
       "      <td>56.8</td>\n",
       "      <td>74.0</td>\n",
       "      <td>48.5</td>\n",
       "      <td>5.8</td>\n",
       "      <td>140.2</td>\n",
       "      <td>53.0</td>\n",
       "      <td>0</td>\n",
       "    </tr>\n",
       "    <tr>\n",
       "      <th>4</th>\n",
       "      <td>San Joaquin Valley</td>\n",
       "      <td>0.07</td>\n",
       "      <td>0.00</td>\n",
       "      <td>239.0</td>\n",
       "      <td>12.7</td>\n",
       "      <td>59.8</td>\n",
       "      <td>72.0</td>\n",
       "      <td>50.8</td>\n",
       "      <td>4.2</td>\n",
       "      <td>101.4</td>\n",
       "      <td>54.4</td>\n",
       "      <td>0</td>\n",
       "    </tr>\n",
       "    <tr>\n",
       "      <th>...</th>\n",
       "      <td>...</td>\n",
       "      <td>...</td>\n",
       "      <td>...</td>\n",
       "      <td>...</td>\n",
       "      <td>...</td>\n",
       "      <td>...</td>\n",
       "      <td>...</td>\n",
       "      <td>...</td>\n",
       "      <td>...</td>\n",
       "      <td>...</td>\n",
       "      <td>...</td>\n",
       "      <td>...</td>\n",
       "    </tr>\n",
       "    <tr>\n",
       "      <th>128120</th>\n",
       "      <td>San Joaquin Valley</td>\n",
       "      <td>0.14</td>\n",
       "      <td>0.00</td>\n",
       "      <td>420.0</td>\n",
       "      <td>15.4</td>\n",
       "      <td>66.3</td>\n",
       "      <td>70.0</td>\n",
       "      <td>56.2</td>\n",
       "      <td>3.4</td>\n",
       "      <td>81.7</td>\n",
       "      <td>69.4</td>\n",
       "      <td>1</td>\n",
       "    </tr>\n",
       "    <tr>\n",
       "      <th>128121</th>\n",
       "      <td>San Joaquin Valley</td>\n",
       "      <td>0.15</td>\n",
       "      <td>0.00</td>\n",
       "      <td>430.0</td>\n",
       "      <td>15.1</td>\n",
       "      <td>66.0</td>\n",
       "      <td>69.0</td>\n",
       "      <td>55.7</td>\n",
       "      <td>2.7</td>\n",
       "      <td>64.2</td>\n",
       "      <td>69.0</td>\n",
       "      <td>1</td>\n",
       "    </tr>\n",
       "    <tr>\n",
       "      <th>128122</th>\n",
       "      <td>San Joaquin Valley</td>\n",
       "      <td>0.15</td>\n",
       "      <td>0.00</td>\n",
       "      <td>445.0</td>\n",
       "      <td>16.2</td>\n",
       "      <td>68.0</td>\n",
       "      <td>69.0</td>\n",
       "      <td>57.6</td>\n",
       "      <td>3.3</td>\n",
       "      <td>78.2</td>\n",
       "      <td>69.0</td>\n",
       "      <td>1</td>\n",
       "    </tr>\n",
       "    <tr>\n",
       "      <th>128123</th>\n",
       "      <td>San Joaquin Valley</td>\n",
       "      <td>0.16</td>\n",
       "      <td>0.00</td>\n",
       "      <td>447.0</td>\n",
       "      <td>16.6</td>\n",
       "      <td>70.4</td>\n",
       "      <td>65.0</td>\n",
       "      <td>58.3</td>\n",
       "      <td>3.3</td>\n",
       "      <td>78.1</td>\n",
       "      <td>69.5</td>\n",
       "      <td>1</td>\n",
       "    </tr>\n",
       "    <tr>\n",
       "      <th>128124</th>\n",
       "      <td>San Joaquin Valley</td>\n",
       "      <td>0.14</td>\n",
       "      <td>0.00</td>\n",
       "      <td>395.0</td>\n",
       "      <td>16.1</td>\n",
       "      <td>68.4</td>\n",
       "      <td>68.0</td>\n",
       "      <td>57.4</td>\n",
       "      <td>4.0</td>\n",
       "      <td>96.7</td>\n",
       "      <td>70.5</td>\n",
       "      <td>1</td>\n",
       "    </tr>\n",
       "  </tbody>\n",
       "</table>\n",
       "<p>128125 rows × 12 columns</p>\n",
       "</div>"
      ],
      "text/plain": [
       "              CIMIS Region  ETo (mm)  Precip (mm)  Sol Rad (Ly/day)  \\\n",
       "0       San Joaquin Valley      0.06         0.00             219.0   \n",
       "1       San Joaquin Valley      0.04         0.00             127.0   \n",
       "2       San Joaquin Valley      0.04         0.00             125.0   \n",
       "3       San Joaquin Valley      0.07         0.01             219.0   \n",
       "4       San Joaquin Valley      0.07         0.00             239.0   \n",
       "...                    ...       ...          ...               ...   \n",
       "128120  San Joaquin Valley      0.14         0.00             420.0   \n",
       "128121  San Joaquin Valley      0.15         0.00             430.0   \n",
       "128122  San Joaquin Valley      0.15         0.00             445.0   \n",
       "128123  San Joaquin Valley      0.16         0.00             447.0   \n",
       "128124  San Joaquin Valley      0.14         0.00             395.0   \n",
       "\n",
       "        Avg Vap Pres (mBars)  Avg Air Temp (C)  Avg Rel Hum (%)  \\\n",
       "0                        7.3              47.8             65.0   \n",
       "1                        7.4              47.2             67.0   \n",
       "2                        8.4              49.9             68.0   \n",
       "3                       11.6              56.8             74.0   \n",
       "4                       12.7              59.8             72.0   \n",
       "...                      ...               ...              ...   \n",
       "128120                  15.4              66.3             70.0   \n",
       "128121                  15.1              66.0             69.0   \n",
       "128122                  16.2              68.0             69.0   \n",
       "128123                  16.6              70.4             65.0   \n",
       "128124                  16.1              68.4             68.0   \n",
       "\n",
       "        Dew Point (C)  Avg Wind Speed (kph)  Wind Run (kilometers)  \\\n",
       "0                36.6                   3.3                   78.3   \n",
       "1                36.7                   3.1                   74.5   \n",
       "2                39.9                   4.5                  107.5   \n",
       "3                48.5                   5.8                  140.2   \n",
       "4                50.8                   4.2                  101.4   \n",
       "...               ...                   ...                    ...   \n",
       "128120           56.2                   3.4                   81.7   \n",
       "128121           55.7                   2.7                   64.2   \n",
       "128122           57.6                   3.3                   78.2   \n",
       "128123           58.3                   3.3                   78.1   \n",
       "128124           57.4                   4.0                   96.7   \n",
       "\n",
       "        Avg Soil Temp (C)  Target  \n",
       "0                    51.1       0  \n",
       "1                    51.3       0  \n",
       "2                    51.3       0  \n",
       "3                    53.0       0  \n",
       "4                    54.4       0  \n",
       "...                   ...     ...  \n",
       "128120               69.4       1  \n",
       "128121               69.0       1  \n",
       "128122               69.0       1  \n",
       "128123               69.5       1  \n",
       "128124               70.5       1  \n",
       "\n",
       "[128125 rows x 12 columns]"
      ]
     },
     "execution_count": 20,
     "metadata": {},
     "output_type": "execute_result"
    }
   ],
   "source": [
    "data = data.copy() # This is to address SettingWithValue error\n",
    "data.rename(columns={'ETo (in)':'ETo (mm)', 'Precip (in)':'Precip (mm)', 'Avg Air Temp (F)':'Avg Air Temp (C)', 'Dew Point (F)':'Dew Point (C)', 'Avg Wind Speed (mph)':'Avg Wind Speed (kph)', 'Wind Run (miles)':'Wind Run (kilometers)', 'Avg Soil Temp (F)':'Avg Soil Temp (C)'}, inplace=True)\n",
    "data"
   ]
  },
  {
   "cell_type": "code",
   "execution_count": 21,
   "id": "bcc46aca-968f-4e8c-85de-2f6f64623932",
   "metadata": {
    "tags": []
   },
   "outputs": [
    {
     "data": {
      "text/html": [
       "<div>\n",
       "<style scoped>\n",
       "    .dataframe tbody tr th:only-of-type {\n",
       "        vertical-align: middle;\n",
       "    }\n",
       "\n",
       "    .dataframe tbody tr th {\n",
       "        vertical-align: top;\n",
       "    }\n",
       "\n",
       "    .dataframe thead th {\n",
       "        text-align: right;\n",
       "    }\n",
       "</style>\n",
       "<table border=\"1\" class=\"dataframe\">\n",
       "  <thead>\n",
       "    <tr style=\"text-align: right;\">\n",
       "      <th></th>\n",
       "      <th>CIMIS Region</th>\n",
       "      <th>ETo (mm)</th>\n",
       "      <th>Precip (mm)</th>\n",
       "      <th>Sol Rad (Ly/day)</th>\n",
       "      <th>Avg Vap Pres (mBars)</th>\n",
       "      <th>Avg Air Temp (C)</th>\n",
       "      <th>Avg Rel Hum (%)</th>\n",
       "      <th>Dew Point (C)</th>\n",
       "      <th>Avg Wind Speed (kph)</th>\n",
       "      <th>Wind Run (kilometers)</th>\n",
       "      <th>Avg Soil Temp (C)</th>\n",
       "      <th>Target</th>\n",
       "    </tr>\n",
       "  </thead>\n",
       "  <tbody>\n",
       "    <tr>\n",
       "      <th>0</th>\n",
       "      <td>San Joaquin Valley</td>\n",
       "      <td>1.524</td>\n",
       "      <td>0.000</td>\n",
       "      <td>219.0</td>\n",
       "      <td>7.3</td>\n",
       "      <td>8.777778</td>\n",
       "      <td>65.0</td>\n",
       "      <td>2.555556</td>\n",
       "      <td>5.310835</td>\n",
       "      <td>126.011635</td>\n",
       "      <td>10.611111</td>\n",
       "      <td>0</td>\n",
       "    </tr>\n",
       "    <tr>\n",
       "      <th>1</th>\n",
       "      <td>San Joaquin Valley</td>\n",
       "      <td>1.016</td>\n",
       "      <td>0.000</td>\n",
       "      <td>127.0</td>\n",
       "      <td>7.4</td>\n",
       "      <td>8.444444</td>\n",
       "      <td>67.0</td>\n",
       "      <td>2.611111</td>\n",
       "      <td>4.988966</td>\n",
       "      <td>119.896128</td>\n",
       "      <td>10.722222</td>\n",
       "      <td>0</td>\n",
       "    </tr>\n",
       "    <tr>\n",
       "      <th>2</th>\n",
       "      <td>San Joaquin Valley</td>\n",
       "      <td>1.016</td>\n",
       "      <td>0.000</td>\n",
       "      <td>125.0</td>\n",
       "      <td>8.4</td>\n",
       "      <td>9.944444</td>\n",
       "      <td>68.0</td>\n",
       "      <td>4.388889</td>\n",
       "      <td>7.242048</td>\n",
       "      <td>173.004480</td>\n",
       "      <td>10.722222</td>\n",
       "      <td>0</td>\n",
       "    </tr>\n",
       "    <tr>\n",
       "      <th>3</th>\n",
       "      <td>San Joaquin Valley</td>\n",
       "      <td>1.778</td>\n",
       "      <td>0.254</td>\n",
       "      <td>219.0</td>\n",
       "      <td>11.6</td>\n",
       "      <td>13.777778</td>\n",
       "      <td>74.0</td>\n",
       "      <td>9.166667</td>\n",
       "      <td>9.334195</td>\n",
       "      <td>225.630029</td>\n",
       "      <td>11.666667</td>\n",
       "      <td>0</td>\n",
       "    </tr>\n",
       "    <tr>\n",
       "      <th>4</th>\n",
       "      <td>San Joaquin Valley</td>\n",
       "      <td>1.778</td>\n",
       "      <td>0.000</td>\n",
       "      <td>239.0</td>\n",
       "      <td>12.7</td>\n",
       "      <td>15.444444</td>\n",
       "      <td>72.0</td>\n",
       "      <td>10.444444</td>\n",
       "      <td>6.759245</td>\n",
       "      <td>163.187482</td>\n",
       "      <td>12.444444</td>\n",
       "      <td>0</td>\n",
       "    </tr>\n",
       "    <tr>\n",
       "      <th>...</th>\n",
       "      <td>...</td>\n",
       "      <td>...</td>\n",
       "      <td>...</td>\n",
       "      <td>...</td>\n",
       "      <td>...</td>\n",
       "      <td>...</td>\n",
       "      <td>...</td>\n",
       "      <td>...</td>\n",
       "      <td>...</td>\n",
       "      <td>...</td>\n",
       "      <td>...</td>\n",
       "      <td>...</td>\n",
       "    </tr>\n",
       "    <tr>\n",
       "      <th>128120</th>\n",
       "      <td>San Joaquin Valley</td>\n",
       "      <td>3.556</td>\n",
       "      <td>0.000</td>\n",
       "      <td>420.0</td>\n",
       "      <td>15.4</td>\n",
       "      <td>19.055556</td>\n",
       "      <td>70.0</td>\n",
       "      <td>13.444444</td>\n",
       "      <td>5.471770</td>\n",
       "      <td>131.483405</td>\n",
       "      <td>20.777778</td>\n",
       "      <td>1</td>\n",
       "    </tr>\n",
       "    <tr>\n",
       "      <th>128121</th>\n",
       "      <td>San Joaquin Valley</td>\n",
       "      <td>3.810</td>\n",
       "      <td>0.000</td>\n",
       "      <td>430.0</td>\n",
       "      <td>15.1</td>\n",
       "      <td>18.888889</td>\n",
       "      <td>69.0</td>\n",
       "      <td>13.166667</td>\n",
       "      <td>4.345229</td>\n",
       "      <td>103.319885</td>\n",
       "      <td>20.555556</td>\n",
       "      <td>1</td>\n",
       "    </tr>\n",
       "    <tr>\n",
       "      <th>128122</th>\n",
       "      <td>San Joaquin Valley</td>\n",
       "      <td>3.810</td>\n",
       "      <td>0.000</td>\n",
       "      <td>445.0</td>\n",
       "      <td>16.2</td>\n",
       "      <td>20.000000</td>\n",
       "      <td>69.0</td>\n",
       "      <td>14.222222</td>\n",
       "      <td>5.310835</td>\n",
       "      <td>125.850701</td>\n",
       "      <td>20.555556</td>\n",
       "      <td>1</td>\n",
       "    </tr>\n",
       "    <tr>\n",
       "      <th>128123</th>\n",
       "      <td>San Joaquin Valley</td>\n",
       "      <td>4.064</td>\n",
       "      <td>0.000</td>\n",
       "      <td>447.0</td>\n",
       "      <td>16.6</td>\n",
       "      <td>21.333333</td>\n",
       "      <td>65.0</td>\n",
       "      <td>14.611111</td>\n",
       "      <td>5.310835</td>\n",
       "      <td>125.689766</td>\n",
       "      <td>20.833333</td>\n",
       "      <td>1</td>\n",
       "    </tr>\n",
       "    <tr>\n",
       "      <th>128124</th>\n",
       "      <td>San Joaquin Valley</td>\n",
       "      <td>3.556</td>\n",
       "      <td>0.000</td>\n",
       "      <td>395.0</td>\n",
       "      <td>16.1</td>\n",
       "      <td>20.222222</td>\n",
       "      <td>68.0</td>\n",
       "      <td>14.111111</td>\n",
       "      <td>6.437376</td>\n",
       "      <td>155.623565</td>\n",
       "      <td>21.388889</td>\n",
       "      <td>1</td>\n",
       "    </tr>\n",
       "  </tbody>\n",
       "</table>\n",
       "<p>128125 rows × 12 columns</p>\n",
       "</div>"
      ],
      "text/plain": [
       "              CIMIS Region  ETo (mm)  Precip (mm)  Sol Rad (Ly/day)  \\\n",
       "0       San Joaquin Valley     1.524        0.000             219.0   \n",
       "1       San Joaquin Valley     1.016        0.000             127.0   \n",
       "2       San Joaquin Valley     1.016        0.000             125.0   \n",
       "3       San Joaquin Valley     1.778        0.254             219.0   \n",
       "4       San Joaquin Valley     1.778        0.000             239.0   \n",
       "...                    ...       ...          ...               ...   \n",
       "128120  San Joaquin Valley     3.556        0.000             420.0   \n",
       "128121  San Joaquin Valley     3.810        0.000             430.0   \n",
       "128122  San Joaquin Valley     3.810        0.000             445.0   \n",
       "128123  San Joaquin Valley     4.064        0.000             447.0   \n",
       "128124  San Joaquin Valley     3.556        0.000             395.0   \n",
       "\n",
       "        Avg Vap Pres (mBars)  Avg Air Temp (C)  Avg Rel Hum (%)  \\\n",
       "0                        7.3          8.777778             65.0   \n",
       "1                        7.4          8.444444             67.0   \n",
       "2                        8.4          9.944444             68.0   \n",
       "3                       11.6         13.777778             74.0   \n",
       "4                       12.7         15.444444             72.0   \n",
       "...                      ...               ...              ...   \n",
       "128120                  15.4         19.055556             70.0   \n",
       "128121                  15.1         18.888889             69.0   \n",
       "128122                  16.2         20.000000             69.0   \n",
       "128123                  16.6         21.333333             65.0   \n",
       "128124                  16.1         20.222222             68.0   \n",
       "\n",
       "        Dew Point (C)  Avg Wind Speed (kph)  Wind Run (kilometers)  \\\n",
       "0            2.555556              5.310835             126.011635   \n",
       "1            2.611111              4.988966             119.896128   \n",
       "2            4.388889              7.242048             173.004480   \n",
       "3            9.166667              9.334195             225.630029   \n",
       "4           10.444444              6.759245             163.187482   \n",
       "...               ...                   ...                    ...   \n",
       "128120      13.444444              5.471770             131.483405   \n",
       "128121      13.166667              4.345229             103.319885   \n",
       "128122      14.222222              5.310835             125.850701   \n",
       "128123      14.611111              5.310835             125.689766   \n",
       "128124      14.111111              6.437376             155.623565   \n",
       "\n",
       "        Avg Soil Temp (C)  Target  \n",
       "0               10.611111       0  \n",
       "1               10.722222       0  \n",
       "2               10.722222       0  \n",
       "3               11.666667       0  \n",
       "4               12.444444       0  \n",
       "...                   ...     ...  \n",
       "128120          20.777778       1  \n",
       "128121          20.555556       1  \n",
       "128122          20.555556       1  \n",
       "128123          20.833333       1  \n",
       "128124          21.388889       1  \n",
       "\n",
       "[128125 rows x 12 columns]"
      ]
     },
     "execution_count": 21,
     "metadata": {},
     "output_type": "execute_result"
    }
   ],
   "source": [
    "# Let's use the function we defined earlier onto this dataset, to convert units of measurements from imperial to metric.\n",
    "\n",
    "imperialToMetric(data)\n",
    "data"
   ]
  },
  {
   "cell_type": "code",
   "execution_count": 22,
   "id": "95895257-3991-4799-92ec-374d7bb805e2",
   "metadata": {
    "tags": []
   },
   "outputs": [
    {
     "data": {
      "text/plain": [
       "San Joaquin Valley              24094\n",
       "San Francisco Bay               12195\n",
       "Los Angeles Basin               12114\n",
       "South Coast Valleys             12048\n",
       "Monterey Bay                    11788\n",
       "Sacramento Valley               11541\n",
       "Central Coast Valleys            9851\n",
       "Imperial/Coachella Valley        9327\n",
       "North Coast Valleys              6742\n",
       "Northeast Plateau                6705\n",
       "Sierra Foothill                  4835\n",
       "San Bernardino                   4715\n",
       "Bishop                           1727\n",
       "Eastern Sierra Basin & Range      443\n",
       "Name: CIMIS Region, dtype: int64"
      ]
     },
     "execution_count": 22,
     "metadata": {},
     "output_type": "execute_result"
    }
   ],
   "source": [
    "data['CIMIS Region'].value_counts()"
   ]
  },
  {
   "cell_type": "code",
   "execution_count": 23,
   "id": "3ecef3a0-bea0-479c-80c9-81660c0601ed",
   "metadata": {
    "tags": []
   },
   "outputs": [],
   "source": [
    "X = data.drop(columns=[\"Target\"])\n",
    "\n",
    "y = data[\"Target\"]"
   ]
  },
  {
   "cell_type": "code",
   "execution_count": 24,
   "id": "c5d31fb8-0fd4-4664-89e8-206cefdb5bcb",
   "metadata": {
    "tags": []
   },
   "outputs": [],
   "source": [
    "X_train, X_test, y_train, y_test = train_test_split(X, y, test_size=0.2, random_state=42)"
   ]
  },
  {
   "cell_type": "code",
   "execution_count": null,
   "id": "84fa4efc-4621-4576-9265-76a7a9cbb53f",
   "metadata": {},
   "outputs": [],
   "source": []
  },
  {
   "cell_type": "code",
   "execution_count": 25,
   "id": "fb975b29-d2b8-427c-8544-29ac0fe9d208",
   "metadata": {
    "tags": []
   },
   "outputs": [
    {
     "data": {
      "text/plain": [
       "['ETo (mm)',\n",
       " 'Precip (mm)',\n",
       " 'Sol Rad (Ly/day)',\n",
       " 'Avg Vap Pres (mBars)',\n",
       " 'Avg Air Temp (C)',\n",
       " 'Avg Rel Hum (%)',\n",
       " 'Dew Point (C)',\n",
       " 'Avg Wind Speed (kph)',\n",
       " 'Wind Run (kilometers)',\n",
       " 'Avg Soil Temp (C)']"
      ]
     },
     "execution_count": 25,
     "metadata": {},
     "output_type": "execute_result"
    }
   ],
   "source": [
    "numeric_features = list(X_train.iloc[:, 1:].columns.values)\n",
    "categorical_features = ['CIMIS Region']\n",
    "numeric_features"
   ]
  },
  {
   "cell_type": "code",
   "execution_count": 26,
   "id": "d649296b-15ed-442f-b62c-650409cd54f1",
   "metadata": {
    "tags": []
   },
   "outputs": [
    {
     "data": {
      "text/html": [
       "<style>#sk-container-id-1 {color: black;background-color: white;}#sk-container-id-1 pre{padding: 0;}#sk-container-id-1 div.sk-toggleable {background-color: white;}#sk-container-id-1 label.sk-toggleable__label {cursor: pointer;display: block;width: 100%;margin-bottom: 0;padding: 0.3em;box-sizing: border-box;text-align: center;}#sk-container-id-1 label.sk-toggleable__label-arrow:before {content: \"▸\";float: left;margin-right: 0.25em;color: #696969;}#sk-container-id-1 label.sk-toggleable__label-arrow:hover:before {color: black;}#sk-container-id-1 div.sk-estimator:hover label.sk-toggleable__label-arrow:before {color: black;}#sk-container-id-1 div.sk-toggleable__content {max-height: 0;max-width: 0;overflow: hidden;text-align: left;background-color: #f0f8ff;}#sk-container-id-1 div.sk-toggleable__content pre {margin: 0.2em;color: black;border-radius: 0.25em;background-color: #f0f8ff;}#sk-container-id-1 input.sk-toggleable__control:checked~div.sk-toggleable__content {max-height: 200px;max-width: 100%;overflow: auto;}#sk-container-id-1 input.sk-toggleable__control:checked~label.sk-toggleable__label-arrow:before {content: \"▾\";}#sk-container-id-1 div.sk-estimator input.sk-toggleable__control:checked~label.sk-toggleable__label {background-color: #d4ebff;}#sk-container-id-1 div.sk-label input.sk-toggleable__control:checked~label.sk-toggleable__label {background-color: #d4ebff;}#sk-container-id-1 input.sk-hidden--visually {border: 0;clip: rect(1px 1px 1px 1px);clip: rect(1px, 1px, 1px, 1px);height: 1px;margin: -1px;overflow: hidden;padding: 0;position: absolute;width: 1px;}#sk-container-id-1 div.sk-estimator {font-family: monospace;background-color: #f0f8ff;border: 1px dotted black;border-radius: 0.25em;box-sizing: border-box;margin-bottom: 0.5em;}#sk-container-id-1 div.sk-estimator:hover {background-color: #d4ebff;}#sk-container-id-1 div.sk-parallel-item::after {content: \"\";width: 100%;border-bottom: 1px solid gray;flex-grow: 1;}#sk-container-id-1 div.sk-label:hover label.sk-toggleable__label {background-color: #d4ebff;}#sk-container-id-1 div.sk-serial::before {content: \"\";position: absolute;border-left: 1px solid gray;box-sizing: border-box;top: 0;bottom: 0;left: 50%;z-index: 0;}#sk-container-id-1 div.sk-serial {display: flex;flex-direction: column;align-items: center;background-color: white;padding-right: 0.2em;padding-left: 0.2em;position: relative;}#sk-container-id-1 div.sk-item {position: relative;z-index: 1;}#sk-container-id-1 div.sk-parallel {display: flex;align-items: stretch;justify-content: center;background-color: white;position: relative;}#sk-container-id-1 div.sk-item::before, #sk-container-id-1 div.sk-parallel-item::before {content: \"\";position: absolute;border-left: 1px solid gray;box-sizing: border-box;top: 0;bottom: 0;left: 50%;z-index: -1;}#sk-container-id-1 div.sk-parallel-item {display: flex;flex-direction: column;z-index: 1;position: relative;background-color: white;}#sk-container-id-1 div.sk-parallel-item:first-child::after {align-self: flex-end;width: 50%;}#sk-container-id-1 div.sk-parallel-item:last-child::after {align-self: flex-start;width: 50%;}#sk-container-id-1 div.sk-parallel-item:only-child::after {width: 0;}#sk-container-id-1 div.sk-dashed-wrapped {border: 1px dashed gray;margin: 0 0.4em 0.5em 0.4em;box-sizing: border-box;padding-bottom: 0.4em;background-color: white;}#sk-container-id-1 div.sk-label label {font-family: monospace;font-weight: bold;display: inline-block;line-height: 1.2em;}#sk-container-id-1 div.sk-label-container {text-align: center;}#sk-container-id-1 div.sk-container {/* jupyter's `normalize.less` sets `[hidden] { display: none; }` but bootstrap.min.css set `[hidden] { display: none !important; }` so we also need the `!important` here to be able to override the default hidden behavior on the sphinx rendered scikit-learn.org. See: https://github.com/scikit-learn/scikit-learn/issues/21755 */display: inline-block !important;position: relative;}#sk-container-id-1 div.sk-text-repr-fallback {display: none;}</style><div id=\"sk-container-id-1\" class=\"sk-top-container\"><div class=\"sk-text-repr-fallback\"><pre>ColumnTransformer(transformers=[(&#x27;pipeline&#x27;,\n",
       "                                 Pipeline(steps=[(&#x27;simpleimputer&#x27;,\n",
       "                                                  SimpleImputer()),\n",
       "                                                 (&#x27;standardscaler&#x27;,\n",
       "                                                  StandardScaler())]),\n",
       "                                 [&#x27;ETo (mm)&#x27;, &#x27;Precip (mm)&#x27;, &#x27;Sol Rad (Ly/day)&#x27;,\n",
       "                                  &#x27;Avg Vap Pres (mBars)&#x27;, &#x27;Avg Air Temp (C)&#x27;,\n",
       "                                  &#x27;Avg Rel Hum (%)&#x27;, &#x27;Dew Point (C)&#x27;,\n",
       "                                  &#x27;Avg Wind Speed (kph)&#x27;,\n",
       "                                  &#x27;Wind Run (kilometers)&#x27;,\n",
       "                                  &#x27;Avg Soil Temp (C)&#x27;]),\n",
       "                                (&#x27;onehotencoder&#x27;,\n",
       "                                 OneHotEncoder(handle_unknown=&#x27;ignore&#x27;,\n",
       "                                               sparse_output=False),\n",
       "                                 [&#x27;CIMIS Region&#x27;])])</pre><b>In a Jupyter environment, please rerun this cell to show the HTML representation or trust the notebook. <br />On GitHub, the HTML representation is unable to render, please try loading this page with nbviewer.org.</b></div><div class=\"sk-container\" hidden><div class=\"sk-item sk-dashed-wrapped\"><div class=\"sk-label-container\"><div class=\"sk-label sk-toggleable\"><input class=\"sk-toggleable__control sk-hidden--visually\" id=\"sk-estimator-id-1\" type=\"checkbox\" ><label for=\"sk-estimator-id-1\" class=\"sk-toggleable__label sk-toggleable__label-arrow\">ColumnTransformer</label><div class=\"sk-toggleable__content\"><pre>ColumnTransformer(transformers=[(&#x27;pipeline&#x27;,\n",
       "                                 Pipeline(steps=[(&#x27;simpleimputer&#x27;,\n",
       "                                                  SimpleImputer()),\n",
       "                                                 (&#x27;standardscaler&#x27;,\n",
       "                                                  StandardScaler())]),\n",
       "                                 [&#x27;ETo (mm)&#x27;, &#x27;Precip (mm)&#x27;, &#x27;Sol Rad (Ly/day)&#x27;,\n",
       "                                  &#x27;Avg Vap Pres (mBars)&#x27;, &#x27;Avg Air Temp (C)&#x27;,\n",
       "                                  &#x27;Avg Rel Hum (%)&#x27;, &#x27;Dew Point (C)&#x27;,\n",
       "                                  &#x27;Avg Wind Speed (kph)&#x27;,\n",
       "                                  &#x27;Wind Run (kilometers)&#x27;,\n",
       "                                  &#x27;Avg Soil Temp (C)&#x27;]),\n",
       "                                (&#x27;onehotencoder&#x27;,\n",
       "                                 OneHotEncoder(handle_unknown=&#x27;ignore&#x27;,\n",
       "                                               sparse_output=False),\n",
       "                                 [&#x27;CIMIS Region&#x27;])])</pre></div></div></div><div class=\"sk-parallel\"><div class=\"sk-parallel-item\"><div class=\"sk-item\"><div class=\"sk-label-container\"><div class=\"sk-label sk-toggleable\"><input class=\"sk-toggleable__control sk-hidden--visually\" id=\"sk-estimator-id-2\" type=\"checkbox\" ><label for=\"sk-estimator-id-2\" class=\"sk-toggleable__label sk-toggleable__label-arrow\">pipeline</label><div class=\"sk-toggleable__content\"><pre>[&#x27;ETo (mm)&#x27;, &#x27;Precip (mm)&#x27;, &#x27;Sol Rad (Ly/day)&#x27;, &#x27;Avg Vap Pres (mBars)&#x27;, &#x27;Avg Air Temp (C)&#x27;, &#x27;Avg Rel Hum (%)&#x27;, &#x27;Dew Point (C)&#x27;, &#x27;Avg Wind Speed (kph)&#x27;, &#x27;Wind Run (kilometers)&#x27;, &#x27;Avg Soil Temp (C)&#x27;]</pre></div></div></div><div class=\"sk-serial\"><div class=\"sk-item\"><div class=\"sk-serial\"><div class=\"sk-item\"><div class=\"sk-estimator sk-toggleable\"><input class=\"sk-toggleable__control sk-hidden--visually\" id=\"sk-estimator-id-3\" type=\"checkbox\" ><label for=\"sk-estimator-id-3\" class=\"sk-toggleable__label sk-toggleable__label-arrow\">SimpleImputer</label><div class=\"sk-toggleable__content\"><pre>SimpleImputer()</pre></div></div></div><div class=\"sk-item\"><div class=\"sk-estimator sk-toggleable\"><input class=\"sk-toggleable__control sk-hidden--visually\" id=\"sk-estimator-id-4\" type=\"checkbox\" ><label for=\"sk-estimator-id-4\" class=\"sk-toggleable__label sk-toggleable__label-arrow\">StandardScaler</label><div class=\"sk-toggleable__content\"><pre>StandardScaler()</pre></div></div></div></div></div></div></div></div><div class=\"sk-parallel-item\"><div class=\"sk-item\"><div class=\"sk-label-container\"><div class=\"sk-label sk-toggleable\"><input class=\"sk-toggleable__control sk-hidden--visually\" id=\"sk-estimator-id-5\" type=\"checkbox\" ><label for=\"sk-estimator-id-5\" class=\"sk-toggleable__label sk-toggleable__label-arrow\">onehotencoder</label><div class=\"sk-toggleable__content\"><pre>[&#x27;CIMIS Region&#x27;]</pre></div></div></div><div class=\"sk-serial\"><div class=\"sk-item\"><div class=\"sk-estimator sk-toggleable\"><input class=\"sk-toggleable__control sk-hidden--visually\" id=\"sk-estimator-id-6\" type=\"checkbox\" ><label for=\"sk-estimator-id-6\" class=\"sk-toggleable__label sk-toggleable__label-arrow\">OneHotEncoder</label><div class=\"sk-toggleable__content\"><pre>OneHotEncoder(handle_unknown=&#x27;ignore&#x27;, sparse_output=False)</pre></div></div></div></div></div></div></div></div></div></div>"
      ],
      "text/plain": [
       "ColumnTransformer(transformers=[('pipeline',\n",
       "                                 Pipeline(steps=[('simpleimputer',\n",
       "                                                  SimpleImputer()),\n",
       "                                                 ('standardscaler',\n",
       "                                                  StandardScaler())]),\n",
       "                                 ['ETo (mm)', 'Precip (mm)', 'Sol Rad (Ly/day)',\n",
       "                                  'Avg Vap Pres (mBars)', 'Avg Air Temp (C)',\n",
       "                                  'Avg Rel Hum (%)', 'Dew Point (C)',\n",
       "                                  'Avg Wind Speed (kph)',\n",
       "                                  'Wind Run (kilometers)',\n",
       "                                  'Avg Soil Temp (C)']),\n",
       "                                ('onehotencoder',\n",
       "                                 OneHotEncoder(handle_unknown='ignore',\n",
       "                                               sparse_output=False),\n",
       "                                 ['CIMIS Region'])])"
      ]
     },
     "execution_count": 26,
     "metadata": {},
     "output_type": "execute_result"
    }
   ],
   "source": [
    "numeric_transformer = make_pipeline(\n",
    "    SimpleImputer(strategy=\"mean\"),\n",
    "    StandardScaler()\n",
    ")\n",
    "\n",
    "# Instead of creating another pipeline for just one transformation, we can initialize it in the column transformer directly!\n",
    "# categorical_transformer = make_pipeline(\n",
    "#     OneHotEncoder(handle_unknown=\"ignore\", sparse=False)\n",
    "# )\n",
    "\n",
    "ct = make_column_transformer(\n",
    "    (numeric_transformer, numeric_features),\n",
    "    (OneHotEncoder(handle_unknown=\"ignore\", sparse_output=False), categorical_features),\n",
    ")\n",
    "\n",
    "ct"
   ]
  },
  {
   "cell_type": "markdown",
   "id": "14510e15-a64e-415d-8b9b-195117cf3e15",
   "metadata": {},
   "source": [
    "Now, in order for us to actually apply these transformations that we stated in our column transformer, we need to apply the ```fit_transform``` function. \n",
    "More specifially, ```fit_transform``` ensures that each transformer is applied to the specified columns, and resulting transformations are concatenated horizontally (this especially applies to one-hot encoding) \n",
    "\n",
    "An advantage here is that we can assemble our transformations into a single object, and that way we can ensure we're applying the same operations to all splits of the data. \n",
    "Otherwise, for example, we might apply scaling to X_train and X_test, but forgot to apply imputation onto X_test. \n",
    "We need to apply these transformations onto our X (input) data.\n",
    "\n"
   ]
  },
  {
   "cell_type": "code",
   "execution_count": 27,
   "id": "210f5882-c47a-4175-890b-a5e73c28785d",
   "metadata": {},
   "outputs": [
    {
     "name": "stdout",
     "output_type": "stream",
     "text": [
      "<class 'numpy.ndarray'>\n"
     ]
    },
    {
     "data": {
      "text/plain": [
       "array([[-1.12959927, -0.18850644, -1.20977362, ...,  1.        ,\n",
       "         0.        ,  0.        ],\n",
       "       [-1.36036892, -0.18850644, -1.67360301, ...,  1.        ,\n",
       "         0.        ,  0.        ],\n",
       "       [-1.36036892, -0.18850644, -1.68368626, ...,  1.        ,\n",
       "         0.        ,  0.        ],\n",
       "       ...,\n",
       "       [-0.09113583, -0.18850644, -0.07036663, ...,  1.        ,\n",
       "         0.        ,  0.        ],\n",
       "       [ 0.024249  , -0.18850644, -0.06028338, ...,  1.        ,\n",
       "         0.        ,  0.        ],\n",
       "       [-0.20652065, -0.18850644, -0.32244782, ...,  1.        ,\n",
       "         0.        ,  0.        ]])"
      ]
     },
     "execution_count": 27,
     "metadata": {},
     "output_type": "execute_result"
    }
   ],
   "source": [
    "transformedX = ct.fit_transform(X)\n",
    "\n",
    "print(type(transformedX))\n",
    "transformedX"
   ]
  },
  {
   "cell_type": "markdown",
   "id": "cb1e16e8-fbbb-4c20-b289-e949a5c5bb00",
   "metadata": {},
   "source": [
    "Notice that the returned object after ```fit_transform``` is **not** a dataframe, but a numpy array instead. \n",
    "\n",
    "This insinuates that there are no column names, and we need to find a way to address this. "
   ]
  },
  {
   "cell_type": "markdown",
   "id": "9a12268d-a781-484e-8e33-054f0b888752",
   "metadata": {},
   "source": [
    "So can we turn our transformed data into a dataframe?\n",
    "We have added more columns through the use of one-hot encoding. This means the original columns won't map nicely onto our transformed data."
   ]
  },
  {
   "cell_type": "code",
   "execution_count": 28,
   "id": "42b57d1a-f9ff-49f4-ada1-0d40884261e8",
   "metadata": {
    "tags": []
   },
   "outputs": [
    {
     "name": "stdout",
     "output_type": "stream",
     "text": [
      "(128125, 24)\n",
      "(128125, 11)\n"
     ]
    }
   ],
   "source": [
    "print(transformedX.shape)\n",
    "print(X.shape)"
   ]
  },
  {
   "cell_type": "markdown",
   "id": "3a4f4557-43fc-4e37-9d16-66960605a4d4",
   "metadata": {},
   "source": [
    "Let's create new column names for the transformed data. "
   ]
  },
  {
   "cell_type": "code",
   "execution_count": 29,
   "id": "0daa8ad9-cbea-4809-93a2-97416516ecea",
   "metadata": {},
   "outputs": [
    {
     "data": {
      "text/plain": [
       "{'pipeline': Pipeline(steps=[('simpleimputer', SimpleImputer()),\n",
       "                 ('standardscaler', StandardScaler())]),\n",
       " 'onehotencoder': OneHotEncoder(handle_unknown='ignore', sparse_output=False)}"
      ]
     },
     "execution_count": 29,
     "metadata": {},
     "output_type": "execute_result"
    }
   ],
   "source": [
    "ct.named_transformers_"
   ]
  },
  {
   "cell_type": "markdown",
   "id": "2be376f6-ad01-4bc6-aefa-b63551b391c6",
   "metadata": {},
   "source": [
    "Interesting... it appears we are able to treat 'onehotencoder' as a key in a dictionary. \n",
    "\n",
    "We might be able to extract feature names through this way. "
   ]
  },
  {
   "cell_type": "code",
   "execution_count": 30,
   "id": "3e07d618-afac-41e3-8855-c5c46ba37f17",
   "metadata": {},
   "outputs": [
    {
     "data": {
      "text/plain": [
       "['ETo (mm)',\n",
       " 'Precip (mm)',\n",
       " 'Sol Rad (Ly/day)',\n",
       " 'Avg Vap Pres (mBars)',\n",
       " 'Avg Air Temp (C)',\n",
       " 'Avg Rel Hum (%)',\n",
       " 'Dew Point (C)',\n",
       " 'Avg Wind Speed (kph)',\n",
       " 'Wind Run (kilometers)',\n",
       " 'Avg Soil Temp (C)',\n",
       " 'CIMIS Region_Bishop',\n",
       " 'CIMIS Region_Central Coast Valleys',\n",
       " 'CIMIS Region_Eastern Sierra Basin & Range',\n",
       " 'CIMIS Region_Imperial/Coachella Valley',\n",
       " 'CIMIS Region_Los Angeles Basin',\n",
       " 'CIMIS Region_Monterey Bay',\n",
       " 'CIMIS Region_North Coast Valleys',\n",
       " 'CIMIS Region_Northeast Plateau',\n",
       " 'CIMIS Region_Sacramento Valley',\n",
       " 'CIMIS Region_San Bernardino',\n",
       " 'CIMIS Region_San Francisco Bay',\n",
       " 'CIMIS Region_San Joaquin Valley',\n",
       " 'CIMIS Region_Sierra Foothill',\n",
       " 'CIMIS Region_South Coast Valleys']"
      ]
     },
     "execution_count": 30,
     "metadata": {},
     "output_type": "execute_result"
    }
   ],
   "source": [
    "column_names = (\n",
    "    numeric_features + ct.named_transformers_[\"onehotencoder\"].get_feature_names_out().tolist()\n",
    ")\n",
    "\n",
    "\n",
    "column_names"
   ]
  },
  {
   "cell_type": "code",
   "execution_count": 31,
   "id": "637d9d87-5374-4c7e-8b55-85f40461fb47",
   "metadata": {
    "tags": []
   },
   "outputs": [
    {
     "data": {
      "text/html": [
       "<div>\n",
       "<style scoped>\n",
       "    .dataframe tbody tr th:only-of-type {\n",
       "        vertical-align: middle;\n",
       "    }\n",
       "\n",
       "    .dataframe tbody tr th {\n",
       "        vertical-align: top;\n",
       "    }\n",
       "\n",
       "    .dataframe thead th {\n",
       "        text-align: right;\n",
       "    }\n",
       "</style>\n",
       "<table border=\"1\" class=\"dataframe\">\n",
       "  <thead>\n",
       "    <tr style=\"text-align: right;\">\n",
       "      <th></th>\n",
       "      <th>ETo (mm)</th>\n",
       "      <th>Precip (mm)</th>\n",
       "      <th>Sol Rad (Ly/day)</th>\n",
       "      <th>Avg Vap Pres (mBars)</th>\n",
       "      <th>Avg Air Temp (C)</th>\n",
       "      <th>Avg Rel Hum (%)</th>\n",
       "      <th>Dew Point (C)</th>\n",
       "      <th>Avg Wind Speed (kph)</th>\n",
       "      <th>Wind Run (kilometers)</th>\n",
       "      <th>Avg Soil Temp (C)</th>\n",
       "      <th>...</th>\n",
       "      <th>CIMIS Region_Los Angeles Basin</th>\n",
       "      <th>CIMIS Region_Monterey Bay</th>\n",
       "      <th>CIMIS Region_North Coast Valleys</th>\n",
       "      <th>CIMIS Region_Northeast Plateau</th>\n",
       "      <th>CIMIS Region_Sacramento Valley</th>\n",
       "      <th>CIMIS Region_San Bernardino</th>\n",
       "      <th>CIMIS Region_San Francisco Bay</th>\n",
       "      <th>CIMIS Region_San Joaquin Valley</th>\n",
       "      <th>CIMIS Region_Sierra Foothill</th>\n",
       "      <th>CIMIS Region_South Coast Valleys</th>\n",
       "    </tr>\n",
       "  </thead>\n",
       "  <tbody>\n",
       "    <tr>\n",
       "      <th>0</th>\n",
       "      <td>-1.129599</td>\n",
       "      <td>-0.188506</td>\n",
       "      <td>-1.209774</td>\n",
       "      <td>-0.970593</td>\n",
       "      <td>-1.080682</td>\n",
       "      <td>0.178845</td>\n",
       "      <td>-0.854683</td>\n",
       "      <td>-0.496616</td>\n",
       "      <td>-0.514962</td>\n",
       "      <td>-1.096361</td>\n",
       "      <td>...</td>\n",
       "      <td>0.0</td>\n",
       "      <td>0.0</td>\n",
       "      <td>0.0</td>\n",
       "      <td>0.0</td>\n",
       "      <td>0.0</td>\n",
       "      <td>0.0</td>\n",
       "      <td>0.0</td>\n",
       "      <td>1.0</td>\n",
       "      <td>0.0</td>\n",
       "      <td>0.0</td>\n",
       "    </tr>\n",
       "    <tr>\n",
       "      <th>1</th>\n",
       "      <td>-1.360369</td>\n",
       "      <td>-0.188506</td>\n",
       "      <td>-1.673603</td>\n",
       "      <td>-0.946237</td>\n",
       "      <td>-1.129121</td>\n",
       "      <td>0.277503</td>\n",
       "      <td>-0.845531</td>\n",
       "      <td>-0.594564</td>\n",
       "      <td>-0.592513</td>\n",
       "      <td>-1.077620</td>\n",
       "      <td>...</td>\n",
       "      <td>0.0</td>\n",
       "      <td>0.0</td>\n",
       "      <td>0.0</td>\n",
       "      <td>0.0</td>\n",
       "      <td>0.0</td>\n",
       "      <td>0.0</td>\n",
       "      <td>0.0</td>\n",
       "      <td>1.0</td>\n",
       "      <td>0.0</td>\n",
       "      <td>0.0</td>\n",
       "    </tr>\n",
       "    <tr>\n",
       "      <th>2</th>\n",
       "      <td>-1.360369</td>\n",
       "      <td>-0.188506</td>\n",
       "      <td>-1.683686</td>\n",
       "      <td>-0.702682</td>\n",
       "      <td>-0.911143</td>\n",
       "      <td>0.326832</td>\n",
       "      <td>-0.552678</td>\n",
       "      <td>0.091070</td>\n",
       "      <td>0.080960</td>\n",
       "      <td>-1.077620</td>\n",
       "      <td>...</td>\n",
       "      <td>0.0</td>\n",
       "      <td>0.0</td>\n",
       "      <td>0.0</td>\n",
       "      <td>0.0</td>\n",
       "      <td>0.0</td>\n",
       "      <td>0.0</td>\n",
       "      <td>0.0</td>\n",
       "      <td>1.0</td>\n",
       "      <td>0.0</td>\n",
       "      <td>0.0</td>\n",
       "    </tr>\n",
       "    <tr>\n",
       "      <th>3</th>\n",
       "      <td>-1.014214</td>\n",
       "      <td>-0.139240</td>\n",
       "      <td>-1.209774</td>\n",
       "      <td>0.076697</td>\n",
       "      <td>-0.354090</td>\n",
       "      <td>0.622806</td>\n",
       "      <td>0.234366</td>\n",
       "      <td>0.727730</td>\n",
       "      <td>0.748311</td>\n",
       "      <td>-0.918318</td>\n",
       "      <td>...</td>\n",
       "      <td>0.0</td>\n",
       "      <td>0.0</td>\n",
       "      <td>0.0</td>\n",
       "      <td>0.0</td>\n",
       "      <td>0.0</td>\n",
       "      <td>0.0</td>\n",
       "      <td>0.0</td>\n",
       "      <td>1.0</td>\n",
       "      <td>0.0</td>\n",
       "      <td>0.0</td>\n",
       "    </tr>\n",
       "    <tr>\n",
       "      <th>4</th>\n",
       "      <td>-1.014214</td>\n",
       "      <td>-0.188506</td>\n",
       "      <td>-1.108941</td>\n",
       "      <td>0.344609</td>\n",
       "      <td>-0.111892</td>\n",
       "      <td>0.524148</td>\n",
       "      <td>0.444855</td>\n",
       "      <td>-0.055851</td>\n",
       "      <td>-0.043530</td>\n",
       "      <td>-0.787128</td>\n",
       "      <td>...</td>\n",
       "      <td>0.0</td>\n",
       "      <td>0.0</td>\n",
       "      <td>0.0</td>\n",
       "      <td>0.0</td>\n",
       "      <td>0.0</td>\n",
       "      <td>0.0</td>\n",
       "      <td>0.0</td>\n",
       "      <td>1.0</td>\n",
       "      <td>0.0</td>\n",
       "      <td>0.0</td>\n",
       "    </tr>\n",
       "  </tbody>\n",
       "</table>\n",
       "<p>5 rows × 24 columns</p>\n",
       "</div>"
      ],
      "text/plain": [
       "   ETo (mm)  Precip (mm)  Sol Rad (Ly/day)  Avg Vap Pres (mBars)  \\\n",
       "0 -1.129599    -0.188506         -1.209774             -0.970593   \n",
       "1 -1.360369    -0.188506         -1.673603             -0.946237   \n",
       "2 -1.360369    -0.188506         -1.683686             -0.702682   \n",
       "3 -1.014214    -0.139240         -1.209774              0.076697   \n",
       "4 -1.014214    -0.188506         -1.108941              0.344609   \n",
       "\n",
       "   Avg Air Temp (C)  Avg Rel Hum (%)  Dew Point (C)  Avg Wind Speed (kph)  \\\n",
       "0         -1.080682         0.178845      -0.854683             -0.496616   \n",
       "1         -1.129121         0.277503      -0.845531             -0.594564   \n",
       "2         -0.911143         0.326832      -0.552678              0.091070   \n",
       "3         -0.354090         0.622806       0.234366              0.727730   \n",
       "4         -0.111892         0.524148       0.444855             -0.055851   \n",
       "\n",
       "   Wind Run (kilometers)  Avg Soil Temp (C)  ...  \\\n",
       "0              -0.514962          -1.096361  ...   \n",
       "1              -0.592513          -1.077620  ...   \n",
       "2               0.080960          -1.077620  ...   \n",
       "3               0.748311          -0.918318  ...   \n",
       "4              -0.043530          -0.787128  ...   \n",
       "\n",
       "   CIMIS Region_Los Angeles Basin  CIMIS Region_Monterey Bay  \\\n",
       "0                             0.0                        0.0   \n",
       "1                             0.0                        0.0   \n",
       "2                             0.0                        0.0   \n",
       "3                             0.0                        0.0   \n",
       "4                             0.0                        0.0   \n",
       "\n",
       "   CIMIS Region_North Coast Valleys  CIMIS Region_Northeast Plateau  \\\n",
       "0                               0.0                             0.0   \n",
       "1                               0.0                             0.0   \n",
       "2                               0.0                             0.0   \n",
       "3                               0.0                             0.0   \n",
       "4                               0.0                             0.0   \n",
       "\n",
       "   CIMIS Region_Sacramento Valley  CIMIS Region_San Bernardino  \\\n",
       "0                             0.0                          0.0   \n",
       "1                             0.0                          0.0   \n",
       "2                             0.0                          0.0   \n",
       "3                             0.0                          0.0   \n",
       "4                             0.0                          0.0   \n",
       "\n",
       "   CIMIS Region_San Francisco Bay  CIMIS Region_San Joaquin Valley  \\\n",
       "0                             0.0                              1.0   \n",
       "1                             0.0                              1.0   \n",
       "2                             0.0                              1.0   \n",
       "3                             0.0                              1.0   \n",
       "4                             0.0                              1.0   \n",
       "\n",
       "   CIMIS Region_Sierra Foothill  CIMIS Region_South Coast Valleys  \n",
       "0                           0.0                               0.0  \n",
       "1                           0.0                               0.0  \n",
       "2                           0.0                               0.0  \n",
       "3                           0.0                               0.0  \n",
       "4                           0.0                               0.0  \n",
       "\n",
       "[5 rows x 24 columns]"
      ]
     },
     "execution_count": 31,
     "metadata": {},
     "output_type": "execute_result"
    }
   ],
   "source": [
    "transformedX = pd.DataFrame(transformedX, columns=column_names)\n",
    "transformedX.head()"
   ]
  },
  {
   "cell_type": "markdown",
   "id": "e06841a2-5501-4617-a0e7-23338a41019e",
   "metadata": {
    "tags": []
   },
   "source": [
    "Great! We have successfully constructed an X (input) dataset with various transformations applied.\n",
    "\n",
    "More specifically, we applied:\n",
    "- imputation\n",
    "- scaling\n",
    "- one-hot encoding"
   ]
  },
  {
   "cell_type": "code",
   "execution_count": null,
   "id": "4218ae5a-cf74-416f-afe9-458b29f063db",
   "metadata": {
    "tags": []
   },
   "outputs": [],
   "source": []
  },
  {
   "cell_type": "markdown",
   "id": "b3c7f3e5-98ac-4e9f-a40b-d97755887134",
   "metadata": {},
   "source": [
    "We're almost done! Let's combine our transformations represented by our CT with a RandomForestClassifier. \n",
    "\n",
    "Afterward, we will fit our combined pipeline onto our training data to complete the model. "
   ]
  },
  {
   "cell_type": "code",
   "execution_count": 32,
   "id": "1c9ffcb9-bb89-46e5-84b1-eb095425aecc",
   "metadata": {
    "tags": []
   },
   "outputs": [
    {
     "data": {
      "text/html": [
       "<style>#sk-container-id-2 {color: black;background-color: white;}#sk-container-id-2 pre{padding: 0;}#sk-container-id-2 div.sk-toggleable {background-color: white;}#sk-container-id-2 label.sk-toggleable__label {cursor: pointer;display: block;width: 100%;margin-bottom: 0;padding: 0.3em;box-sizing: border-box;text-align: center;}#sk-container-id-2 label.sk-toggleable__label-arrow:before {content: \"▸\";float: left;margin-right: 0.25em;color: #696969;}#sk-container-id-2 label.sk-toggleable__label-arrow:hover:before {color: black;}#sk-container-id-2 div.sk-estimator:hover label.sk-toggleable__label-arrow:before {color: black;}#sk-container-id-2 div.sk-toggleable__content {max-height: 0;max-width: 0;overflow: hidden;text-align: left;background-color: #f0f8ff;}#sk-container-id-2 div.sk-toggleable__content pre {margin: 0.2em;color: black;border-radius: 0.25em;background-color: #f0f8ff;}#sk-container-id-2 input.sk-toggleable__control:checked~div.sk-toggleable__content {max-height: 200px;max-width: 100%;overflow: auto;}#sk-container-id-2 input.sk-toggleable__control:checked~label.sk-toggleable__label-arrow:before {content: \"▾\";}#sk-container-id-2 div.sk-estimator input.sk-toggleable__control:checked~label.sk-toggleable__label {background-color: #d4ebff;}#sk-container-id-2 div.sk-label input.sk-toggleable__control:checked~label.sk-toggleable__label {background-color: #d4ebff;}#sk-container-id-2 input.sk-hidden--visually {border: 0;clip: rect(1px 1px 1px 1px);clip: rect(1px, 1px, 1px, 1px);height: 1px;margin: -1px;overflow: hidden;padding: 0;position: absolute;width: 1px;}#sk-container-id-2 div.sk-estimator {font-family: monospace;background-color: #f0f8ff;border: 1px dotted black;border-radius: 0.25em;box-sizing: border-box;margin-bottom: 0.5em;}#sk-container-id-2 div.sk-estimator:hover {background-color: #d4ebff;}#sk-container-id-2 div.sk-parallel-item::after {content: \"\";width: 100%;border-bottom: 1px solid gray;flex-grow: 1;}#sk-container-id-2 div.sk-label:hover label.sk-toggleable__label {background-color: #d4ebff;}#sk-container-id-2 div.sk-serial::before {content: \"\";position: absolute;border-left: 1px solid gray;box-sizing: border-box;top: 0;bottom: 0;left: 50%;z-index: 0;}#sk-container-id-2 div.sk-serial {display: flex;flex-direction: column;align-items: center;background-color: white;padding-right: 0.2em;padding-left: 0.2em;position: relative;}#sk-container-id-2 div.sk-item {position: relative;z-index: 1;}#sk-container-id-2 div.sk-parallel {display: flex;align-items: stretch;justify-content: center;background-color: white;position: relative;}#sk-container-id-2 div.sk-item::before, #sk-container-id-2 div.sk-parallel-item::before {content: \"\";position: absolute;border-left: 1px solid gray;box-sizing: border-box;top: 0;bottom: 0;left: 50%;z-index: -1;}#sk-container-id-2 div.sk-parallel-item {display: flex;flex-direction: column;z-index: 1;position: relative;background-color: white;}#sk-container-id-2 div.sk-parallel-item:first-child::after {align-self: flex-end;width: 50%;}#sk-container-id-2 div.sk-parallel-item:last-child::after {align-self: flex-start;width: 50%;}#sk-container-id-2 div.sk-parallel-item:only-child::after {width: 0;}#sk-container-id-2 div.sk-dashed-wrapped {border: 1px dashed gray;margin: 0 0.4em 0.5em 0.4em;box-sizing: border-box;padding-bottom: 0.4em;background-color: white;}#sk-container-id-2 div.sk-label label {font-family: monospace;font-weight: bold;display: inline-block;line-height: 1.2em;}#sk-container-id-2 div.sk-label-container {text-align: center;}#sk-container-id-2 div.sk-container {/* jupyter's `normalize.less` sets `[hidden] { display: none; }` but bootstrap.min.css set `[hidden] { display: none !important; }` so we also need the `!important` here to be able to override the default hidden behavior on the sphinx rendered scikit-learn.org. See: https://github.com/scikit-learn/scikit-learn/issues/21755 */display: inline-block !important;position: relative;}#sk-container-id-2 div.sk-text-repr-fallback {display: none;}</style><div id=\"sk-container-id-2\" class=\"sk-top-container\"><div class=\"sk-text-repr-fallback\"><pre>Pipeline(steps=[(&#x27;columntransformer&#x27;,\n",
       "                 ColumnTransformer(transformers=[(&#x27;pipeline&#x27;,\n",
       "                                                  Pipeline(steps=[(&#x27;simpleimputer&#x27;,\n",
       "                                                                   SimpleImputer()),\n",
       "                                                                  (&#x27;standardscaler&#x27;,\n",
       "                                                                   StandardScaler())]),\n",
       "                                                  [&#x27;ETo (mm)&#x27;, &#x27;Precip (mm)&#x27;,\n",
       "                                                   &#x27;Sol Rad (Ly/day)&#x27;,\n",
       "                                                   &#x27;Avg Vap Pres (mBars)&#x27;,\n",
       "                                                   &#x27;Avg Air Temp (C)&#x27;,\n",
       "                                                   &#x27;Avg Rel Hum (%)&#x27;,\n",
       "                                                   &#x27;Dew Point (C)&#x27;,\n",
       "                                                   &#x27;Avg Wind Speed (kph)&#x27;,\n",
       "                                                   &#x27;Wind Run (kilometers)&#x27;,\n",
       "                                                   &#x27;Avg Soil Temp (C)&#x27;]),\n",
       "                                                 (&#x27;onehotencoder&#x27;,\n",
       "                                                  OneHotEncoder(handle_unknown=&#x27;ignore&#x27;,\n",
       "                                                                sparse_output=False),\n",
       "                                                  [&#x27;CIMIS Region&#x27;])])),\n",
       "                (&#x27;randomforestclassifier&#x27;,\n",
       "                 RandomForestClassifier(random_state=42))])</pre><b>In a Jupyter environment, please rerun this cell to show the HTML representation or trust the notebook. <br />On GitHub, the HTML representation is unable to render, please try loading this page with nbviewer.org.</b></div><div class=\"sk-container\" hidden><div class=\"sk-item sk-dashed-wrapped\"><div class=\"sk-label-container\"><div class=\"sk-label sk-toggleable\"><input class=\"sk-toggleable__control sk-hidden--visually\" id=\"sk-estimator-id-7\" type=\"checkbox\" ><label for=\"sk-estimator-id-7\" class=\"sk-toggleable__label sk-toggleable__label-arrow\">Pipeline</label><div class=\"sk-toggleable__content\"><pre>Pipeline(steps=[(&#x27;columntransformer&#x27;,\n",
       "                 ColumnTransformer(transformers=[(&#x27;pipeline&#x27;,\n",
       "                                                  Pipeline(steps=[(&#x27;simpleimputer&#x27;,\n",
       "                                                                   SimpleImputer()),\n",
       "                                                                  (&#x27;standardscaler&#x27;,\n",
       "                                                                   StandardScaler())]),\n",
       "                                                  [&#x27;ETo (mm)&#x27;, &#x27;Precip (mm)&#x27;,\n",
       "                                                   &#x27;Sol Rad (Ly/day)&#x27;,\n",
       "                                                   &#x27;Avg Vap Pres (mBars)&#x27;,\n",
       "                                                   &#x27;Avg Air Temp (C)&#x27;,\n",
       "                                                   &#x27;Avg Rel Hum (%)&#x27;,\n",
       "                                                   &#x27;Dew Point (C)&#x27;,\n",
       "                                                   &#x27;Avg Wind Speed (kph)&#x27;,\n",
       "                                                   &#x27;Wind Run (kilometers)&#x27;,\n",
       "                                                   &#x27;Avg Soil Temp (C)&#x27;]),\n",
       "                                                 (&#x27;onehotencoder&#x27;,\n",
       "                                                  OneHotEncoder(handle_unknown=&#x27;ignore&#x27;,\n",
       "                                                                sparse_output=False),\n",
       "                                                  [&#x27;CIMIS Region&#x27;])])),\n",
       "                (&#x27;randomforestclassifier&#x27;,\n",
       "                 RandomForestClassifier(random_state=42))])</pre></div></div></div><div class=\"sk-serial\"><div class=\"sk-item sk-dashed-wrapped\"><div class=\"sk-label-container\"><div class=\"sk-label sk-toggleable\"><input class=\"sk-toggleable__control sk-hidden--visually\" id=\"sk-estimator-id-8\" type=\"checkbox\" ><label for=\"sk-estimator-id-8\" class=\"sk-toggleable__label sk-toggleable__label-arrow\">columntransformer: ColumnTransformer</label><div class=\"sk-toggleable__content\"><pre>ColumnTransformer(transformers=[(&#x27;pipeline&#x27;,\n",
       "                                 Pipeline(steps=[(&#x27;simpleimputer&#x27;,\n",
       "                                                  SimpleImputer()),\n",
       "                                                 (&#x27;standardscaler&#x27;,\n",
       "                                                  StandardScaler())]),\n",
       "                                 [&#x27;ETo (mm)&#x27;, &#x27;Precip (mm)&#x27;, &#x27;Sol Rad (Ly/day)&#x27;,\n",
       "                                  &#x27;Avg Vap Pres (mBars)&#x27;, &#x27;Avg Air Temp (C)&#x27;,\n",
       "                                  &#x27;Avg Rel Hum (%)&#x27;, &#x27;Dew Point (C)&#x27;,\n",
       "                                  &#x27;Avg Wind Speed (kph)&#x27;,\n",
       "                                  &#x27;Wind Run (kilometers)&#x27;,\n",
       "                                  &#x27;Avg Soil Temp (C)&#x27;]),\n",
       "                                (&#x27;onehotencoder&#x27;,\n",
       "                                 OneHotEncoder(handle_unknown=&#x27;ignore&#x27;,\n",
       "                                               sparse_output=False),\n",
       "                                 [&#x27;CIMIS Region&#x27;])])</pre></div></div></div><div class=\"sk-parallel\"><div class=\"sk-parallel-item\"><div class=\"sk-item\"><div class=\"sk-label-container\"><div class=\"sk-label sk-toggleable\"><input class=\"sk-toggleable__control sk-hidden--visually\" id=\"sk-estimator-id-9\" type=\"checkbox\" ><label for=\"sk-estimator-id-9\" class=\"sk-toggleable__label sk-toggleable__label-arrow\">pipeline</label><div class=\"sk-toggleable__content\"><pre>[&#x27;ETo (mm)&#x27;, &#x27;Precip (mm)&#x27;, &#x27;Sol Rad (Ly/day)&#x27;, &#x27;Avg Vap Pres (mBars)&#x27;, &#x27;Avg Air Temp (C)&#x27;, &#x27;Avg Rel Hum (%)&#x27;, &#x27;Dew Point (C)&#x27;, &#x27;Avg Wind Speed (kph)&#x27;, &#x27;Wind Run (kilometers)&#x27;, &#x27;Avg Soil Temp (C)&#x27;]</pre></div></div></div><div class=\"sk-serial\"><div class=\"sk-item\"><div class=\"sk-serial\"><div class=\"sk-item\"><div class=\"sk-estimator sk-toggleable\"><input class=\"sk-toggleable__control sk-hidden--visually\" id=\"sk-estimator-id-10\" type=\"checkbox\" ><label for=\"sk-estimator-id-10\" class=\"sk-toggleable__label sk-toggleable__label-arrow\">SimpleImputer</label><div class=\"sk-toggleable__content\"><pre>SimpleImputer()</pre></div></div></div><div class=\"sk-item\"><div class=\"sk-estimator sk-toggleable\"><input class=\"sk-toggleable__control sk-hidden--visually\" id=\"sk-estimator-id-11\" type=\"checkbox\" ><label for=\"sk-estimator-id-11\" class=\"sk-toggleable__label sk-toggleable__label-arrow\">StandardScaler</label><div class=\"sk-toggleable__content\"><pre>StandardScaler()</pre></div></div></div></div></div></div></div></div><div class=\"sk-parallel-item\"><div class=\"sk-item\"><div class=\"sk-label-container\"><div class=\"sk-label sk-toggleable\"><input class=\"sk-toggleable__control sk-hidden--visually\" id=\"sk-estimator-id-12\" type=\"checkbox\" ><label for=\"sk-estimator-id-12\" class=\"sk-toggleable__label sk-toggleable__label-arrow\">onehotencoder</label><div class=\"sk-toggleable__content\"><pre>[&#x27;CIMIS Region&#x27;]</pre></div></div></div><div class=\"sk-serial\"><div class=\"sk-item\"><div class=\"sk-estimator sk-toggleable\"><input class=\"sk-toggleable__control sk-hidden--visually\" id=\"sk-estimator-id-13\" type=\"checkbox\" ><label for=\"sk-estimator-id-13\" class=\"sk-toggleable__label sk-toggleable__label-arrow\">OneHotEncoder</label><div class=\"sk-toggleable__content\"><pre>OneHotEncoder(handle_unknown=&#x27;ignore&#x27;, sparse_output=False)</pre></div></div></div></div></div></div></div></div><div class=\"sk-item\"><div class=\"sk-estimator sk-toggleable\"><input class=\"sk-toggleable__control sk-hidden--visually\" id=\"sk-estimator-id-14\" type=\"checkbox\" ><label for=\"sk-estimator-id-14\" class=\"sk-toggleable__label sk-toggleable__label-arrow\">RandomForestClassifier</label><div class=\"sk-toggleable__content\"><pre>RandomForestClassifier(random_state=42)</pre></div></div></div></div></div></div></div>"
      ],
      "text/plain": [
       "Pipeline(steps=[('columntransformer',\n",
       "                 ColumnTransformer(transformers=[('pipeline',\n",
       "                                                  Pipeline(steps=[('simpleimputer',\n",
       "                                                                   SimpleImputer()),\n",
       "                                                                  ('standardscaler',\n",
       "                                                                   StandardScaler())]),\n",
       "                                                  ['ETo (mm)', 'Precip (mm)',\n",
       "                                                   'Sol Rad (Ly/day)',\n",
       "                                                   'Avg Vap Pres (mBars)',\n",
       "                                                   'Avg Air Temp (C)',\n",
       "                                                   'Avg Rel Hum (%)',\n",
       "                                                   'Dew Point (C)',\n",
       "                                                   'Avg Wind Speed (kph)',\n",
       "                                                   'Wind Run (kilometers)',\n",
       "                                                   'Avg Soil Temp (C)']),\n",
       "                                                 ('onehotencoder',\n",
       "                                                  OneHotEncoder(handle_unknown='ignore',\n",
       "                                                                sparse_output=False),\n",
       "                                                  ['CIMIS Region'])])),\n",
       "                ('randomforestclassifier',\n",
       "                 RandomForestClassifier(random_state=42))])"
      ]
     },
     "execution_count": 32,
     "metadata": {},
     "output_type": "execute_result"
    }
   ],
   "source": [
    "pipe_rf = make_pipeline(\n",
    "    ct, RandomForestClassifier(random_state=42)\n",
    ")\n",
    "\n",
    "pipe_rf.fit(X_train, y_train)"
   ]
  },
  {
   "cell_type": "markdown",
   "id": "bff3a553-fa10-410b-9152-54b2ba8a90fc",
   "metadata": {},
   "source": [
    "Let's obtain a confusion matrix, which shows how many of our predictions we got right, and how many we got wrong."
   ]
  },
  {
   "cell_type": "code",
   "execution_count": 76,
   "id": "37bc3896-2742-4a39-aa48-d5af2b325e33",
   "metadata": {},
   "outputs": [],
   "source": [
    "def show_model_evaluation(model, X, y):\n",
    "    predictions = model.predict(X)\n",
    "    accuracy = accuracy_score(y, predictions)\n",
    "    balanced_accuracy = balanced_accuracy_score(y, predictions)\n",
    "\n",
    "    print(f'Accuracy:\\t\\t{accuracy:.3f}')\n",
    "    print(classification_report(y, predictions))\n",
    "    cm = confusion_matrix(y, predictions, labels=model.classes_)\n",
    "    disp = ConfusionMatrixDisplay(confusion_matrix = cm, display_labels=model.classes_)\n",
    "    disp.plot()\n"
   ]
  },
  {
   "cell_type": "code",
   "execution_count": 77,
   "id": "06cd9288-541f-429e-a0d2-0bdae49b8264",
   "metadata": {
    "tags": []
   },
   "outputs": [
    {
     "name": "stdout",
     "output_type": "stream",
     "text": [
      "Accuracy:\t\t0.973\n",
      "Balanced Accuracy:\t0.716\n",
      "              precision    recall  f1-score   support\n",
      "\n",
      "           0       0.98      1.00      0.99     24528\n",
      "           1       0.87      0.43      0.58      1097\n",
      "\n",
      "    accuracy                           0.97     25625\n",
      "   macro avg       0.92      0.72      0.78     25625\n",
      "weighted avg       0.97      0.97      0.97     25625\n",
      "\n"
     ]
    },
    {
     "data": {
      "image/png": "[encoded data removed]",
      "text/plain": [
       "<Figure size 640x480 with 2 Axes>"
      ]
     },
     "metadata": {},
     "output_type": "display_data"
    }
   ],
   "source": [
    "show_model_evaluation(pipe_rf, X_test, y_test)"
   ]
  },
  {
   "cell_type": "code",
   "execution_count": null,
   "id": "0dc48659-3acf-49dc-9e65-fd1278b211dd",
   "metadata": {},
   "outputs": [],
   "source": []
  },
  {
   "cell_type": "markdown",
   "id": "68b5d3fc-8d65-409c-91bd-a443fd5464dc",
   "metadata": {
    "tags": []
   },
   "source": [
    "For testing purposes, let's obtain the first row of our testing data, and call it ```test_example```.\n",
    "\n",
    "What does that look like?"
   ]
  },
  {
   "cell_type": "code",
   "execution_count": 33,
   "id": "95d169ff-89e4-482b-ad94-a0bc77fe4c4b",
   "metadata": {
    "tags": []
   },
   "outputs": [
    {
     "data": {
      "text/html": [
       "<div>\n",
       "<style scoped>\n",
       "    .dataframe tbody tr th:only-of-type {\n",
       "        vertical-align: middle;\n",
       "    }\n",
       "\n",
       "    .dataframe tbody tr th {\n",
       "        vertical-align: top;\n",
       "    }\n",
       "\n",
       "    .dataframe thead th {\n",
       "        text-align: right;\n",
       "    }\n",
       "</style>\n",
       "<table border=\"1\" class=\"dataframe\">\n",
       "  <thead>\n",
       "    <tr style=\"text-align: right;\">\n",
       "      <th></th>\n",
       "      <th>CIMIS Region</th>\n",
       "      <th>ETo (mm)</th>\n",
       "      <th>Precip (mm)</th>\n",
       "      <th>Sol Rad (Ly/day)</th>\n",
       "      <th>Avg Vap Pres (mBars)</th>\n",
       "      <th>Avg Air Temp (C)</th>\n",
       "      <th>Avg Rel Hum (%)</th>\n",
       "      <th>Dew Point (C)</th>\n",
       "      <th>Avg Wind Speed (kph)</th>\n",
       "      <th>Wind Run (kilometers)</th>\n",
       "      <th>Avg Soil Temp (C)</th>\n",
       "    </tr>\n",
       "  </thead>\n",
       "  <tbody>\n",
       "    <tr>\n",
       "      <th>65589</th>\n",
       "      <td>San Joaquin Valley</td>\n",
       "      <td>6.35</td>\n",
       "      <td>0.0</td>\n",
       "      <td>653.0</td>\n",
       "      <td>9.2</td>\n",
       "      <td>20.444444</td>\n",
       "      <td>38.0</td>\n",
       "      <td>5.722222</td>\n",
       "      <td>8.529523</td>\n",
       "      <td>206.317901</td>\n",
       "      <td>18.888889</td>\n",
       "    </tr>\n",
       "  </tbody>\n",
       "</table>\n",
       "</div>"
      ],
      "text/plain": [
       "             CIMIS Region  ETo (mm)  Precip (mm)  Sol Rad (Ly/day)  \\\n",
       "65589  San Joaquin Valley      6.35          0.0             653.0   \n",
       "\n",
       "       Avg Vap Pres (mBars)  Avg Air Temp (C)  Avg Rel Hum (%)  Dew Point (C)  \\\n",
       "65589                   9.2         20.444444             38.0       5.722222   \n",
       "\n",
       "       Avg Wind Speed (kph)  Wind Run (kilometers)  Avg Soil Temp (C)  \n",
       "65589              8.529523             206.317901          18.888889  "
      ]
     },
     "execution_count": 33,
     "metadata": {},
     "output_type": "execute_result"
    }
   ],
   "source": [
    "test_example = X_test.head(1)\n",
    "test_example"
   ]
  },
  {
   "cell_type": "markdown",
   "id": "4c3b6942-fb8d-4fde-97d9-a460919b006d",
   "metadata": {},
   "source": [
    "Let's apply the CT onto our test example and see how the values have changed..."
   ]
  },
  {
   "cell_type": "code",
   "execution_count": 38,
   "id": "17c89e48-432e-43d2-b8c3-32368274ae6f",
   "metadata": {
    "tags": []
   },
   "outputs": [
    {
     "data": {
      "text/html": [
       "<div>\n",
       "<style scoped>\n",
       "    .dataframe tbody tr th:only-of-type {\n",
       "        vertical-align: middle;\n",
       "    }\n",
       "\n",
       "    .dataframe tbody tr th {\n",
       "        vertical-align: top;\n",
       "    }\n",
       "\n",
       "    .dataframe thead th {\n",
       "        text-align: right;\n",
       "    }\n",
       "</style>\n",
       "<table border=\"1\" class=\"dataframe\">\n",
       "  <thead>\n",
       "    <tr style=\"text-align: right;\">\n",
       "      <th></th>\n",
       "      <th>ETo (mm)</th>\n",
       "      <th>Precip (mm)</th>\n",
       "      <th>Sol Rad (Ly/day)</th>\n",
       "      <th>Avg Vap Pres (mBars)</th>\n",
       "      <th>Avg Air Temp (C)</th>\n",
       "      <th>Avg Rel Hum (%)</th>\n",
       "      <th>Dew Point (C)</th>\n",
       "      <th>Avg Wind Speed (kph)</th>\n",
       "      <th>Wind Run (kilometers)</th>\n",
       "      <th>Avg Soil Temp (C)</th>\n",
       "      <th>...</th>\n",
       "      <th>CIMIS Region_Los Angeles Basin</th>\n",
       "      <th>CIMIS Region_Monterey Bay</th>\n",
       "      <th>CIMIS Region_North Coast Valleys</th>\n",
       "      <th>CIMIS Region_Northeast Plateau</th>\n",
       "      <th>CIMIS Region_Sacramento Valley</th>\n",
       "      <th>CIMIS Region_San Bernardino</th>\n",
       "      <th>CIMIS Region_San Francisco Bay</th>\n",
       "      <th>CIMIS Region_San Joaquin Valley</th>\n",
       "      <th>CIMIS Region_Sierra Foothill</th>\n",
       "      <th>CIMIS Region_South Coast Valleys</th>\n",
       "    </tr>\n",
       "  </thead>\n",
       "  <tbody>\n",
       "    <tr>\n",
       "      <th>0</th>\n",
       "      <td>1.061327</td>\n",
       "      <td>-0.18561</td>\n",
       "      <td>0.980114</td>\n",
       "      <td>-0.509024</td>\n",
       "      <td>0.613691</td>\n",
       "      <td>-1.152754</td>\n",
       "      <td>-0.334278</td>\n",
       "      <td>0.477973</td>\n",
       "      <td>0.498464</td>\n",
       "      <td>0.299168</td>\n",
       "      <td>...</td>\n",
       "      <td>0.0</td>\n",
       "      <td>0.0</td>\n",
       "      <td>0.0</td>\n",
       "      <td>0.0</td>\n",
       "      <td>0.0</td>\n",
       "      <td>0.0</td>\n",
       "      <td>0.0</td>\n",
       "      <td>1.0</td>\n",
       "      <td>0.0</td>\n",
       "      <td>0.0</td>\n",
       "    </tr>\n",
       "  </tbody>\n",
       "</table>\n",
       "<p>1 rows × 24 columns</p>\n",
       "</div>"
      ],
      "text/plain": [
       "   ETo (mm)  Precip (mm)  Sol Rad (Ly/day)  Avg Vap Pres (mBars)  \\\n",
       "0  1.061327     -0.18561          0.980114             -0.509024   \n",
       "\n",
       "   Avg Air Temp (C)  Avg Rel Hum (%)  Dew Point (C)  Avg Wind Speed (kph)  \\\n",
       "0          0.613691        -1.152754      -0.334278              0.477973   \n",
       "\n",
       "   Wind Run (kilometers)  Avg Soil Temp (C)  ...  \\\n",
       "0               0.498464           0.299168  ...   \n",
       "\n",
       "   CIMIS Region_Los Angeles Basin  CIMIS Region_Monterey Bay  \\\n",
       "0                             0.0                        0.0   \n",
       "\n",
       "   CIMIS Region_North Coast Valleys  CIMIS Region_Northeast Plateau  \\\n",
       "0                               0.0                             0.0   \n",
       "\n",
       "   CIMIS Region_Sacramento Valley  CIMIS Region_San Bernardino  \\\n",
       "0                             0.0                          0.0   \n",
       "\n",
       "   CIMIS Region_San Francisco Bay  CIMIS Region_San Joaquin Valley  \\\n",
       "0                             0.0                              1.0   \n",
       "\n",
       "   CIMIS Region_Sierra Foothill  CIMIS Region_South Coast Valleys  \n",
       "0                           0.0                               0.0  \n",
       "\n",
       "[1 rows x 24 columns]"
      ]
     },
     "execution_count": 38,
     "metadata": {},
     "output_type": "execute_result"
    }
   ],
   "source": [
    "transformed_example = ct.transform(test_example)\n",
    "pd.DataFrame(data=transformed_example, columns=column_names)"
   ]
  },
  {
   "cell_type": "markdown",
   "id": "fc98904f-2730-4792-8ded-f234cde89ffa",
   "metadata": {},
   "source": [
    "It appears the numerical values have been scaled (and imputed, we just can't see that) and our categorical variable CIMIS Region has been one-hot encoded, resulting in a larger number of columns being created. "
   ]
  },
  {
   "cell_type": "code",
   "execution_count": 37,
   "id": "b7aa41d0-14c2-421f-b4b4-fb7582304905",
   "metadata": {
    "tags": []
   },
   "outputs": [
    {
     "name": "stdout",
     "output_type": "stream",
     "text": [
      "Classes:  [0 1]\n",
      "Prediction by random forest:  [0]\n"
     ]
    }
   ],
   "source": [
    "print(\"Classes: \", pipe_rf.classes_) # Syntax for listing out possible classes. In our dataset, we have 0=no fire, and 1=fire. \n",
    "\n",
    "# By calling the predict() function on our model with the testing example as the parameter, output gives us \n",
    "# the value predicted by the model. \n",
    "print(\"Prediction by random forest: \", pipe_rf.predict(test_example))\n",
    "\n",
    "# transformed_example = ct.transform(test_example)\n",
    "# pd.DataFrame(data=transformed_example.flatten(), index=column_names)"
   ]
  },
  {
   "cell_type": "markdown",
   "id": "eab9a45e-fa36-48e6-b2f4-5a9074eff583",
   "metadata": {},
   "source": [
    "So we've obtained a predicted answer from our random forest model... but how can we verify if it's correct or not for this particular test example?\n",
    "Let's get the index number for our test example (which acts as a unique row ID number). "
   ]
  },
  {
   "cell_type": "code",
   "execution_count": 39,
   "id": "6bbd57af-4173-4850-ad41-f7d8ee0b894e",
   "metadata": {
    "tags": []
   },
   "outputs": [
    {
     "data": {
      "text/plain": [
       "Int64Index([65589], dtype='int64')"
      ]
     },
     "execution_count": 39,
     "metadata": {},
     "output_type": "execute_result"
    }
   ],
   "source": [
    "test_example.index"
   ]
  },
  {
   "cell_type": "markdown",
   "id": "6cd9a2b6-f993-48a2-b658-bf608bd27320",
   "metadata": {},
   "source": [
    "So, we know the index of our first X_test row is 65589. \n",
    "\n",
    "Let's go into our original dataset (which contains all input and target variables) and extract that particular row, to see if our predicted value matches that of the true, actual value directly from the dataset. "
   ]
  },
  {
   "cell_type": "code",
   "execution_count": 80,
   "id": "30f935c7-81e6-4931-8cc5-b3041a267f34",
   "metadata": {
    "tags": []
   },
   "outputs": [
    {
     "data": {
      "text/html": [
       "<div>\n",
       "<style scoped>\n",
       "    .dataframe tbody tr th:only-of-type {\n",
       "        vertical-align: middle;\n",
       "    }\n",
       "\n",
       "    .dataframe tbody tr th {\n",
       "        vertical-align: top;\n",
       "    }\n",
       "\n",
       "    .dataframe thead th {\n",
       "        text-align: right;\n",
       "    }\n",
       "</style>\n",
       "<table border=\"1\" class=\"dataframe\">\n",
       "  <thead>\n",
       "    <tr style=\"text-align: right;\">\n",
       "      <th></th>\n",
       "      <th>CIMIS Region</th>\n",
       "      <th>ETo (mm)</th>\n",
       "      <th>Precip (mm)</th>\n",
       "      <th>Sol Rad (Ly/day)</th>\n",
       "      <th>Avg Vap Pres (mBars)</th>\n",
       "      <th>Avg Air Temp (C)</th>\n",
       "      <th>Avg Rel Hum (%)</th>\n",
       "      <th>Dew Point (C)</th>\n",
       "      <th>Avg Wind Speed (kph)</th>\n",
       "      <th>Wind Run (kilometers)</th>\n",
       "      <th>Avg Soil Temp (C)</th>\n",
       "      <th>Target</th>\n",
       "    </tr>\n",
       "  </thead>\n",
       "  <tbody>\n",
       "    <tr>\n",
       "      <th>65589</th>\n",
       "      <td>San Joaquin Valley</td>\n",
       "      <td>6.35</td>\n",
       "      <td>0.0</td>\n",
       "      <td>653.0</td>\n",
       "      <td>9.2</td>\n",
       "      <td>20.444444</td>\n",
       "      <td>38.0</td>\n",
       "      <td>5.722222</td>\n",
       "      <td>8.529523</td>\n",
       "      <td>206.317901</td>\n",
       "      <td>18.888889</td>\n",
       "      <td>0</td>\n",
       "    </tr>\n",
       "  </tbody>\n",
       "</table>\n",
       "</div>"
      ],
      "text/plain": [
       "             CIMIS Region  ETo (mm)  Precip (mm)  Sol Rad (Ly/day)  \\\n",
       "65589  San Joaquin Valley      6.35          0.0             653.0   \n",
       "\n",
       "       Avg Vap Pres (mBars)  Avg Air Temp (C)  Avg Rel Hum (%)  Dew Point (C)  \\\n",
       "65589                   9.2         20.444444             38.0       5.722222   \n",
       "\n",
       "       Avg Wind Speed (kph)  Wind Run (kilometers)  Avg Soil Temp (C)  Target  \n",
       "65589              8.529523             206.317901          18.888889       0  "
      ]
     },
     "execution_count": 80,
     "metadata": {},
     "output_type": "execute_result"
    }
   ],
   "source": [
    "data.iloc[[65589]]"
   ]
  },
  {
   "cell_type": "markdown",
   "id": "118b5227-c5a6-486e-8ffb-5f7c4ec9afbd",
   "metadata": {},
   "source": [
    "Amazing! Our model predicted correctly. "
   ]
  },
  {
   "cell_type": "markdown",
   "id": "e66ef75c-06e0-4233-85b0-e093ac4efc9c",
   "metadata": {},
   "source": [
    "### Your turn!\n",
    "\n",
    "Your task now is to predict the target of a random instance from the testing set, similar to the steps I demonstrated above. Afterward, you will compare your answer with the actual true value.\n",
    "\n",
    "1. Obtain a randomized row from the testing set. (sample() might be a useful function!)\n",
    "2. Take that randomized row and make a prediction on it, using our already-created random forest model.\n",
    "3. Extract index number from testing set so you know which row to look for in the original data\n",
    "4. Compare predicted result with actual result and see if our model predicted correctly!"
   ]
  },
  {
   "cell_type": "code",
   "execution_count": 62,
   "id": "5533cd2d-77f0-42c8-aae6-9e08ad60609e",
   "metadata": {},
   "outputs": [
    {
     "data": {
      "text/html": [
       "<div>\n",
       "<style scoped>\n",
       "    .dataframe tbody tr th:only-of-type {\n",
       "        vertical-align: middle;\n",
       "    }\n",
       "\n",
       "    .dataframe tbody tr th {\n",
       "        vertical-align: top;\n",
       "    }\n",
       "\n",
       "    .dataframe thead th {\n",
       "        text-align: right;\n",
       "    }\n",
       "</style>\n",
       "<table border=\"1\" class=\"dataframe\">\n",
       "  <thead>\n",
       "    <tr style=\"text-align: right;\">\n",
       "      <th></th>\n",
       "      <th>CIMIS Region</th>\n",
       "      <th>ETo (mm)</th>\n",
       "      <th>Precip (mm)</th>\n",
       "      <th>Sol Rad (Ly/day)</th>\n",
       "      <th>Avg Vap Pres (mBars)</th>\n",
       "      <th>Avg Air Temp (C)</th>\n",
       "      <th>Avg Rel Hum (%)</th>\n",
       "      <th>Dew Point (C)</th>\n",
       "      <th>Avg Wind Speed (kph)</th>\n",
       "      <th>Wind Run (kilometers)</th>\n",
       "      <th>Avg Soil Temp (C)</th>\n",
       "    </tr>\n",
       "  </thead>\n",
       "  <tbody>\n",
       "    <tr>\n",
       "      <th>41008</th>\n",
       "      <td>South Coast Valleys</td>\n",
       "      <td>2.032</td>\n",
       "      <td>0.0</td>\n",
       "      <td>320.0</td>\n",
       "      <td>7.5</td>\n",
       "      <td>12.166667</td>\n",
       "      <td>53.0</td>\n",
       "      <td>2.888889</td>\n",
       "      <td>4.184294</td>\n",
       "      <td>102.193344</td>\n",
       "      <td>8.111111</td>\n",
       "    </tr>\n",
       "  </tbody>\n",
       "</table>\n",
       "</div>"
      ],
      "text/plain": [
       "              CIMIS Region  ETo (mm)  Precip (mm)  Sol Rad (Ly/day)  \\\n",
       "41008  South Coast Valleys     2.032          0.0             320.0   \n",
       "\n",
       "       Avg Vap Pres (mBars)  Avg Air Temp (C)  Avg Rel Hum (%)  Dew Point (C)  \\\n",
       "41008                   7.5         12.166667             53.0       2.888889   \n",
       "\n",
       "       Avg Wind Speed (kph)  Wind Run (kilometers)  Avg Soil Temp (C)  \n",
       "41008              4.184294             102.193344           8.111111  "
      ]
     },
     "execution_count": 62,
     "metadata": {},
     "output_type": "execute_result"
    }
   ],
   "source": [
    "randomized_test_example = X_test.sample()\n",
    "randomized_test_example"
   ]
  },
  {
   "cell_type": "code",
   "execution_count": 63,
   "id": "978c735e-16f5-43cb-b029-51b0e3067ec5",
   "metadata": {},
   "outputs": [
    {
     "name": "stdout",
     "output_type": "stream",
     "text": [
      "Prediction by random forest:  [0]\n",
      "Int64Index([41008], dtype='int64')\n"
     ]
    },
    {
     "data": {
      "text/html": [
       "<div>\n",
       "<style scoped>\n",
       "    .dataframe tbody tr th:only-of-type {\n",
       "        vertical-align: middle;\n",
       "    }\n",
       "\n",
       "    .dataframe tbody tr th {\n",
       "        vertical-align: top;\n",
       "    }\n",
       "\n",
       "    .dataframe thead th {\n",
       "        text-align: right;\n",
       "    }\n",
       "</style>\n",
       "<table border=\"1\" class=\"dataframe\">\n",
       "  <thead>\n",
       "    <tr style=\"text-align: right;\">\n",
       "      <th></th>\n",
       "      <th>CIMIS Region</th>\n",
       "      <th>ETo (mm)</th>\n",
       "      <th>Precip (mm)</th>\n",
       "      <th>Sol Rad (Ly/day)</th>\n",
       "      <th>Avg Vap Pres (mBars)</th>\n",
       "      <th>Avg Air Temp (C)</th>\n",
       "      <th>Avg Rel Hum (%)</th>\n",
       "      <th>Dew Point (C)</th>\n",
       "      <th>Avg Wind Speed (kph)</th>\n",
       "      <th>Wind Run (kilometers)</th>\n",
       "      <th>Avg Soil Temp (C)</th>\n",
       "      <th>Target</th>\n",
       "    </tr>\n",
       "  </thead>\n",
       "  <tbody>\n",
       "    <tr>\n",
       "      <th>41008</th>\n",
       "      <td>South Coast Valleys</td>\n",
       "      <td>2.032</td>\n",
       "      <td>0.0</td>\n",
       "      <td>320.0</td>\n",
       "      <td>7.5</td>\n",
       "      <td>12.166667</td>\n",
       "      <td>53.0</td>\n",
       "      <td>2.888889</td>\n",
       "      <td>4.184294</td>\n",
       "      <td>102.193344</td>\n",
       "      <td>8.111111</td>\n",
       "      <td>0</td>\n",
       "    </tr>\n",
       "  </tbody>\n",
       "</table>\n",
       "</div>"
      ],
      "text/plain": [
       "              CIMIS Region  ETo (mm)  Precip (mm)  Sol Rad (Ly/day)  \\\n",
       "41008  South Coast Valleys     2.032          0.0             320.0   \n",
       "\n",
       "       Avg Vap Pres (mBars)  Avg Air Temp (C)  Avg Rel Hum (%)  Dew Point (C)  \\\n",
       "41008                   7.5         12.166667             53.0       2.888889   \n",
       "\n",
       "       Avg Wind Speed (kph)  Wind Run (kilometers)  Avg Soil Temp (C)  Target  \n",
       "41008              4.184294             102.193344           8.111111       0  "
      ]
     },
     "execution_count": 63,
     "metadata": {},
     "output_type": "execute_result"
    }
   ],
   "source": [
    "print(\"Prediction by random forest: \", pipe_rf.predict(randomized_test_example))\n",
    "indexNumber = randomized_test_example.index\n",
    "print(indexNumber)\n",
    "data.iloc[[indexNumber[0]]]"
   ]
  },
  {
   "cell_type": "code",
   "execution_count": null,
   "id": "f15e6817-ff30-4051-b223-74457b92e80d",
   "metadata": {},
   "outputs": [],
   "source": []
  },
  {
   "cell_type": "markdown",
   "id": "e22d8a59-1018-46fe-9a06-02b59dbd074a",
   "metadata": {},
   "source": [
    "So now we have successfully predicted the class of a test example using our random forest model that applies transformations. \n",
    "\n",
    "But say I wanted to find out the performance of our model overall, and not just one test example. What if this test example was a fluke/we were lucky?"
   ]
  },
  {
   "cell_type": "markdown",
   "id": "037b6bae-9e80-4c4e-9187-70f36dfc872b",
   "metadata": {},
   "source": [
    "### Evaluating our Random Forest Model (Obtaining an Accuracy Score)."
   ]
  },
  {
   "cell_type": "code",
   "execution_count": 42,
   "id": "a1766bf6-a88f-4252-8993-26ba5f76c87f",
   "metadata": {},
   "outputs": [
    {
     "name": "stdout",
     "output_type": "stream",
     "text": [
      "Accuracy: 0.9730341463414635\n"
     ]
    }
   ],
   "source": [
    "# We can make predictions on the entire testing data.\n",
    "# Keep in mind we have already trained our pipe_rf model. \n",
    "y_pred = pipe_rf.predict(X_test)\n",
    "\n",
    "# Evaluate the accuracy of the classifier\n",
    "accuracy = accuracy_score(y_test, y_pred)\n",
    "print(\"Accuracy:\", accuracy)\n"
   ]
  },
  {
   "cell_type": "code",
   "execution_count": null,
   "id": "85cbff2f-ad0d-4d8a-a770-98d228a5f107",
   "metadata": {},
   "outputs": [],
   "source": []
  },
  {
   "cell_type": "code",
   "execution_count": null,
   "id": "a4448607-c752-48f3-bd55-99bb97bce7d3",
   "metadata": {},
   "outputs": [],
   "source": []
  }
 ],
 "metadata": {
  "kernelspec": {
   "display_name": "Python 3 (ipykernel)",
   "language": "python",
   "name": "python3"
  },
  "language_info": {
   "codemirror_mode": {
    "name": "ipython",
    "version": 3
   },
   "file_extension": ".py",
   "mimetype": "text/x-python",
   "name": "python",
   "nbconvert_exporter": "python",
   "pygments_lexer": "ipython3",
   "version": "3.10.0"
  }
 },
 "nbformat": 4,
 "nbformat_minor": 5
}
