{
 "cells": [
  {
   "cell_type": "code",
   "execution_count": 1,
   "id": "04773eca-aad8-4517-a09a-709b6380cb59",
   "metadata": {
    "tags": []
   },
   "outputs": [],
   "source": [
    "# Load in the necessary Python libraries. We will be using pandas, numpy and matplotlib (for now). \n",
    "import pandas as pd\n",
    "import os\n",
    "import numpy as np\n",
    "import matplotlib.pyplot as plt"
   ]
  },
  {
   "cell_type": "markdown",
   "id": "6f3f4eb7-2cf8-4ff2-8491-63f26ca40c9f",
   "metadata": {},
   "source": [
    "### What dataset will we be using?\n",
    "We will be working with a dataset talking about wind turbines. Wind power is an abundant form of renewable energy that helps to avoid 329 million metric tons of CO2 emissions every year.\n",
    "<br></br>\n",
    "Wind turbines harness the power of wind to generate electricity, using mechanical power to spin a generator. Turbines are particularly effective because they can provide electricity without burning any fuel or polluting the air. Offshore and onshore wind farms are becoming increasingly common around the world. The London Array in the United Kingdom is one such example, featuring 175 wind turbines that generate enough energy to power nearly half a million homes.\n",
    "<br></br>\n",
    "This dataset could be useful if we wish to learn more about the distribution of various specs about wind turbines. For example, we can learn where the majority of wind turbines are located (within the United States), how much electricity they generate (kilo or mega watts), the geographical coordinates of the turbines, and more!\n",
    "<br></br>\n",
    "If you would like to access this dataset from the source, you can find it here: https://corgis-edu.github.io/corgis/csv/wind_turbines/. Additionally, it can also tell you more information about what each column means, as some datasets can contain very misinformative column names!|"
   ]
  },
  {
   "cell_type": "code",
   "execution_count": 2,
   "id": "a33a7f3b-37a3-4940-bbca-090a0183b21d",
   "metadata": {
    "tags": []
   },
   "outputs": [
    {
     "data": {
      "text/plain": [
       "'C:\\\\Users\\\\TESTUSER\\\\Desktop\\\\CO-OP\\\\M2M Tech\\\\Jupyter\\\\Python-Workshops\\\\CleanTech\\\\Visualization'"
      ]
     },
     "execution_count": 2,
     "metadata": {},
     "output_type": "execute_result"
    }
   ],
   "source": [
    "import os\n",
    "\n",
    "os.getcwd()"
   ]
  },
  {
   "cell_type": "code",
   "execution_count": 3,
   "id": "1c3ff035-554d-41ea-bb5f-3db3ea823f90",
   "metadata": {
    "tags": []
   },
   "outputs": [],
   "source": [
    "# Go into the data folder, and read in the csv dataset into the Python workspace. \n",
    "# Then, name that item \"data\".\n",
    "data = pd.read_csv('../data/wind_turbines.csv')\n",
    "# data.head() # print out only the first few rows, for easy viewing."
   ]
  },
  {
   "cell_type": "markdown",
   "id": "56aec725-1ee6-4a96-a551-35d4de817912",
   "metadata": {},
   "source": [
    "### What does running ```.info()``` tell us about our EV dataset?"
   ]
  },
  {
   "cell_type": "code",
   "execution_count": 4,
   "id": "54f13841-39b4-4822-8eeb-a3bb4bb8bc0b",
   "metadata": {
    "tags": []
   },
   "outputs": [
    {
     "name": "stdout",
     "output_type": "stream",
     "text": [
      "<class 'pandas.core.frame.DataFrame'>\n",
      "RangeIndex: 63961 entries, 0 to 63960\n",
      "Data columns (total 12 columns):\n",
      " #   Column                   Non-Null Count  Dtype  \n",
      "---  ------                   --------------  -----  \n",
      " 0   Site.State               63961 non-null  object \n",
      " 1   Site.County              63961 non-null  object \n",
      " 2   Year                     63961 non-null  int64  \n",
      " 3   Turbine.Capacity         63961 non-null  int64  \n",
      " 4   Turbine.Hub_Height       63961 non-null  float64\n",
      " 5   Turbine.Rotor_Diameter   63961 non-null  float64\n",
      " 6   Turbine.Swept_Area       63961 non-null  float64\n",
      " 7   Turbine.Total_Height     63961 non-null  float64\n",
      " 8   Project.Capacity         63961 non-null  float64\n",
      " 9   Project.Number_Turbines  63961 non-null  int64  \n",
      " 10  Site.Latitude            63961 non-null  float64\n",
      " 11  Site.Longitude           63961 non-null  float64\n",
      "dtypes: float64(7), int64(3), object(2)\n",
      "memory usage: 5.9+ MB\n"
     ]
    }
   ],
   "source": [
    "data.info()"
   ]
  },
  {
   "cell_type": "markdown",
   "id": "52083965-308a-4b9d-a59f-2542af5878c2",
   "metadata": {},
   "source": [
    "- It contains 12 columns and 63961 rows.\n",
    "- There are 7 float64 columns, 3 int64 columns, and 2 object columns.\n",
    "- There are no missing values! Every single column has 63961 non-null values."
   ]
  },
  {
   "cell_type": "markdown",
   "id": "2a030633-4eb3-4235-b86e-697ada726a39",
   "metadata": {},
   "source": [
    "### Let's Execute ```.describe()``` to give us Summary Statistics about our Numerical Columns!"
   ]
  },
  {
   "cell_type": "code",
   "execution_count": 5,
   "id": "81cd3e64-2c15-4a6f-87f0-1b0a0ad099f7",
   "metadata": {
    "tags": []
   },
   "outputs": [
    {
     "data": {
      "text/html": [
       "<div>\n",
       "<style scoped>\n",
       "    .dataframe tbody tr th:only-of-type {\n",
       "        vertical-align: middle;\n",
       "    }\n",
       "\n",
       "    .dataframe tbody tr th {\n",
       "        vertical-align: top;\n",
       "    }\n",
       "\n",
       "    .dataframe thead th {\n",
       "        text-align: right;\n",
       "    }\n",
       "</style>\n",
       "<table border=\"1\" class=\"dataframe\">\n",
       "  <thead>\n",
       "    <tr style=\"text-align: right;\">\n",
       "      <th></th>\n",
       "      <th>Year</th>\n",
       "      <th>Turbine.Capacity</th>\n",
       "      <th>Turbine.Hub_Height</th>\n",
       "      <th>Turbine.Rotor_Diameter</th>\n",
       "      <th>Turbine.Swept_Area</th>\n",
       "      <th>Turbine.Total_Height</th>\n",
       "      <th>Project.Capacity</th>\n",
       "      <th>Project.Number_Turbines</th>\n",
       "      <th>Site.Latitude</th>\n",
       "      <th>Site.Longitude</th>\n",
       "    </tr>\n",
       "  </thead>\n",
       "  <tbody>\n",
       "    <tr>\n",
       "      <th>count</th>\n",
       "      <td>63961.000000</td>\n",
       "      <td>63961.000000</td>\n",
       "      <td>63961.000000</td>\n",
       "      <td>63961.000000</td>\n",
       "      <td>63961.000000</td>\n",
       "      <td>63961.000000</td>\n",
       "      <td>63961.000000</td>\n",
       "      <td>63961.000000</td>\n",
       "      <td>63961.000000</td>\n",
       "      <td>63961.000000</td>\n",
       "    </tr>\n",
       "    <tr>\n",
       "      <th>mean</th>\n",
       "      <td>2011.768593</td>\n",
       "      <td>1945.300714</td>\n",
       "      <td>80.265244</td>\n",
       "      <td>94.682148</td>\n",
       "      <td>7472.673751</td>\n",
       "      <td>127.634646</td>\n",
       "      <td>171.037738</td>\n",
       "      <td>96.923172</td>\n",
       "      <td>-99.688416</td>\n",
       "      <td>38.592440</td>\n",
       "    </tr>\n",
       "    <tr>\n",
       "      <th>std</th>\n",
       "      <td>6.444849</td>\n",
       "      <td>689.733922</td>\n",
       "      <td>12.466083</td>\n",
       "      <td>23.449221</td>\n",
       "      <td>3267.170143</td>\n",
       "      <td>22.946809</td>\n",
       "      <td>102.126002</td>\n",
       "      <td>69.180367</td>\n",
       "      <td>11.005005</td>\n",
       "      <td>5.487171</td>\n",
       "    </tr>\n",
       "    <tr>\n",
       "      <th>min</th>\n",
       "      <td>1983.000000</td>\n",
       "      <td>50.000000</td>\n",
       "      <td>22.800000</td>\n",
       "      <td>14.000000</td>\n",
       "      <td>153.940000</td>\n",
       "      <td>30.400000</td>\n",
       "      <td>0.050000</td>\n",
       "      <td>1.000000</td>\n",
       "      <td>-171.713074</td>\n",
       "      <td>13.389381</td>\n",
       "    </tr>\n",
       "    <tr>\n",
       "      <th>25%</th>\n",
       "      <td>2008.000000</td>\n",
       "      <td>1500.000000</td>\n",
       "      <td>80.000000</td>\n",
       "      <td>82.000000</td>\n",
       "      <td>5281.020000</td>\n",
       "      <td>121.000000</td>\n",
       "      <td>100.000000</td>\n",
       "      <td>56.000000</td>\n",
       "      <td>-102.597290</td>\n",
       "      <td>34.252995</td>\n",
       "    </tr>\n",
       "    <tr>\n",
       "      <th>50%</th>\n",
       "      <td>2012.000000</td>\n",
       "      <td>2000.000000</td>\n",
       "      <td>80.000000</td>\n",
       "      <td>97.000000</td>\n",
       "      <td>7389.810000</td>\n",
       "      <td>130.100000</td>\n",
       "      <td>160.000000</td>\n",
       "      <td>85.000000</td>\n",
       "      <td>-99.329704</td>\n",
       "      <td>39.316921</td>\n",
       "    </tr>\n",
       "    <tr>\n",
       "      <th>75%</th>\n",
       "      <td>2017.000000</td>\n",
       "      <td>2300.000000</td>\n",
       "      <td>85.000000</td>\n",
       "      <td>110.000000</td>\n",
       "      <td>9503.320000</td>\n",
       "      <td>144.500000</td>\n",
       "      <td>211.220000</td>\n",
       "      <td>120.000000</td>\n",
       "      <td>-94.947594</td>\n",
       "      <td>42.991066</td>\n",
       "    </tr>\n",
       "    <tr>\n",
       "      <th>max</th>\n",
       "      <td>2021.000000</td>\n",
       "      <td>6000.000000</td>\n",
       "      <td>131.000000</td>\n",
       "      <td>155.000000</td>\n",
       "      <td>18869.190000</td>\n",
       "      <td>199.600000</td>\n",
       "      <td>525.020000</td>\n",
       "      <td>460.000000</td>\n",
       "      <td>144.722656</td>\n",
       "      <td>66.839905</td>\n",
       "    </tr>\n",
       "  </tbody>\n",
       "</table>\n",
       "</div>"
      ],
      "text/plain": [
       "               Year  Turbine.Capacity  Turbine.Hub_Height  \\\n",
       "count  63961.000000      63961.000000        63961.000000   \n",
       "mean    2011.768593       1945.300714           80.265244   \n",
       "std        6.444849        689.733922           12.466083   \n",
       "min     1983.000000         50.000000           22.800000   \n",
       "25%     2008.000000       1500.000000           80.000000   \n",
       "50%     2012.000000       2000.000000           80.000000   \n",
       "75%     2017.000000       2300.000000           85.000000   \n",
       "max     2021.000000       6000.000000          131.000000   \n",
       "\n",
       "       Turbine.Rotor_Diameter  Turbine.Swept_Area  Turbine.Total_Height  \\\n",
       "count            63961.000000        63961.000000          63961.000000   \n",
       "mean                94.682148         7472.673751            127.634646   \n",
       "std                 23.449221         3267.170143             22.946809   \n",
       "min                 14.000000          153.940000             30.400000   \n",
       "25%                 82.000000         5281.020000            121.000000   \n",
       "50%                 97.000000         7389.810000            130.100000   \n",
       "75%                110.000000         9503.320000            144.500000   \n",
       "max                155.000000        18869.190000            199.600000   \n",
       "\n",
       "       Project.Capacity  Project.Number_Turbines  Site.Latitude  \\\n",
       "count      63961.000000             63961.000000   63961.000000   \n",
       "mean         171.037738                96.923172     -99.688416   \n",
       "std          102.126002                69.180367      11.005005   \n",
       "min            0.050000                 1.000000    -171.713074   \n",
       "25%          100.000000                56.000000    -102.597290   \n",
       "50%          160.000000                85.000000     -99.329704   \n",
       "75%          211.220000               120.000000     -94.947594   \n",
       "max          525.020000               460.000000     144.722656   \n",
       "\n",
       "       Site.Longitude  \n",
       "count    63961.000000  \n",
       "mean        38.592440  \n",
       "std          5.487171  \n",
       "min         13.389381  \n",
       "25%         34.252995  \n",
       "50%         39.316921  \n",
       "75%         42.991066  \n",
       "max         66.839905  "
      ]
     },
     "execution_count": 5,
     "metadata": {},
     "output_type": "execute_result"
    }
   ],
   "source": [
    "data.describe()"
   ]
  },
  {
   "cell_type": "markdown",
   "id": "03166fed-06d7-486b-b8b8-9231629e68a0",
   "metadata": {},
   "source": [
    "### Obtaining numerical summaries is great, but we won't truly understand our data until we perform some visualizations!\n",
    "Let's take a look at the diameter of the rotor and turbine capacity.\n",
    "<br>\n",
    "Before we throw our data on a plot, let's think about what it **should** look like. \n",
    "<br>\n",
    "As rotor diameter increases, should the amount of electricity generated (turbine capacity) increase or decrease?"
   ]
  },
  {
   "cell_type": "code",
   "execution_count": 6,
   "id": "73ca1dac-e290-4f9a-b5bb-c3e380803409",
   "metadata": {
    "tags": []
   },
   "outputs": [
    {
     "data": {
      "image/png": "[encoded data removed]",
      "text/plain": [
       "<Figure size 640x480 with 1 Axes>"
      ]
     },
     "metadata": {},
     "output_type": "display_data"
    }
   ],
   "source": [
    "plt.scatter(data['Turbine.Rotor_Diameter'], data['Turbine.Capacity'])\n",
    "\n",
    "plt.title(\"Turbine Capacity against Rotor Diameter\")\n",
    "plt.xlabel(\"Rotor Diameter (m)\")\n",
    "plt.ylabel(\"Turbine Capacity (KW)\")\n",
    "\n",
    "plt.show()"
   ]
  },
  {
   "cell_type": "markdown",
   "id": "f01a8d7c-96c3-4600-950c-f7e6021164b3",
   "metadata": {},
   "source": [
    "We can conclude that there is a **strong positive** relationship between rotor diameter annd turbine capacity. That is, as rotor diameter increases, so does turbine capacity!"
   ]
  },
  {
   "cell_type": "markdown",
   "id": "88c6db5b-1e37-4791-a48f-f1e6c02d5636",
   "metadata": {},
   "source": [
    "### Let's dig deeper and look at the distribution of turbines across different states!"
   ]
  },
  {
   "cell_type": "code",
   "execution_count": 7,
   "id": "778d2bb8-e3fb-4a04-935b-a4f3aed1b037",
   "metadata": {
    "tags": []
   },
   "outputs": [
    {
     "data": {
      "text/html": [
       "<div>\n",
       "<style scoped>\n",
       "    .dataframe tbody tr th:only-of-type {\n",
       "        vertical-align: middle;\n",
       "    }\n",
       "\n",
       "    .dataframe tbody tr th {\n",
       "        vertical-align: top;\n",
       "    }\n",
       "\n",
       "    .dataframe thead th {\n",
       "        text-align: right;\n",
       "    }\n",
       "</style>\n",
       "<table border=\"1\" class=\"dataframe\">\n",
       "  <thead>\n",
       "    <tr style=\"text-align: right;\">\n",
       "      <th></th>\n",
       "      <th>State</th>\n",
       "      <th>Number of Turbines</th>\n",
       "    </tr>\n",
       "  </thead>\n",
       "  <tbody>\n",
       "    <tr>\n",
       "      <th>0</th>\n",
       "      <td>TX</td>\n",
       "      <td>16306</td>\n",
       "    </tr>\n",
       "    <tr>\n",
       "      <th>1</th>\n",
       "      <td>IA</td>\n",
       "      <td>5889</td>\n",
       "    </tr>\n",
       "    <tr>\n",
       "      <th>2</th>\n",
       "      <td>OK</td>\n",
       "      <td>4556</td>\n",
       "    </tr>\n",
       "    <tr>\n",
       "      <th>3</th>\n",
       "      <td>CA</td>\n",
       "      <td>4082</td>\n",
       "    </tr>\n",
       "    <tr>\n",
       "      <th>4</th>\n",
       "      <td>KS</td>\n",
       "      <td>3479</td>\n",
       "    </tr>\n",
       "  </tbody>\n",
       "</table>\n",
       "</div>"
      ],
      "text/plain": [
       "  State  Number of Turbines\n",
       "0    TX               16306\n",
       "1    IA                5889\n",
       "2    OK                4556\n",
       "3    CA                4082\n",
       "4    KS                3479"
      ]
     },
     "execution_count": 7,
     "metadata": {},
     "output_type": "execute_result"
    }
   ],
   "source": [
    "states = data['Site.State'].value_counts().loc[lambda x : x > 500] # Retrieve only the states that have at least 500 turbines \n",
    "# print(states.index)\n",
    "# print(states.values)\n",
    "\n",
    "statesDataframe = pd.DataFrame({'State': states.index , 'Number of Turbines': states.values})\n",
    "statesDataframe.head()"
   ]
  },
  {
   "cell_type": "markdown",
   "id": "d7be064f-2518-4fd7-94f5-cb1fb9b71230",
   "metadata": {},
   "source": [
    "### Let's explore an Alternative Way of Creating a Dataframe from a Series. "
   ]
  },
  {
   "cell_type": "code",
   "execution_count": 8,
   "id": "b0f01fb9-4558-4130-bc97-a9af71e62d78",
   "metadata": {
    "tags": []
   },
   "outputs": [],
   "source": [
    "# statesDataframe2 = pd.DataFrame(states).reset_index()  \n",
    "# statesDataframe2.columns = ['State','Number of Turbines']\n",
    "# statesDataframe2.head()\n"
   ]
  },
  {
   "cell_type": "markdown",
   "id": "2af044f8-a920-4118-a882-c62ddd993bdf",
   "metadata": {},
   "source": [
    "### Creating the bar plot:"
   ]
  },
  {
   "cell_type": "code",
   "execution_count": 9,
   "id": "374f90fe-5c13-4ec5-88d5-cabc53721734",
   "metadata": {
    "tags": []
   },
   "outputs": [
    {
     "data": {
      "image/png": "[encoded data removed]",
      "text/plain": [
       "<Figure size 1200x500 with 1 Axes>"
      ]
     },
     "metadata": {},
     "output_type": "display_data"
    }
   ],
   "source": [
    "plt.figure(figsize=(12,5))\n",
    "plt.bar(statesDataframe['State'], statesDataframe['Number of Turbines'])\n",
    "\n",
    "plt.yticks(np.arange(0, statesDataframe['Number of Turbines'].max()+1000, 1000))\n",
    "\n",
    "plt.title(\"Number of turbines in each state, at least 500 turbines\")\n",
    "plt.xlabel(\"State\")\n",
    "plt.ylabel(\"Number of turbines\")\n",
    "\n",
    "plt.show()"
   ]
  },
  {
   "cell_type": "markdown",
   "id": "41e79c7a-5f70-4f20-ace9-eaedfa9f3bf4",
   "metadata": {},
   "source": [
    "As the graph suggests, Texas held the highest number of turbines, and there's quite a large gap from Texas to the next state, IA (Iowa).\n",
    "<br>\n",
    "From this graph, the reader could deduce that Texas has lots of windy areas and maybe lots of hills. This could be why there's so many wind turbines in Texas."
   ]
  },
  {
   "cell_type": "markdown",
   "id": "19628eea-cec0-4b6e-9304-1a5ae0b81d67",
   "metadata": {},
   "source": [
    "### Newer turbine = Better performance?\n",
    "Now, I want to see if the year that the turbine became operational has an impact on their electrical output. Perhaps as time goes on, turbine technology & design improves? They may become more efficient and streamlined at generating electricty. "
   ]
  },
  {
   "cell_type": "code",
   "execution_count": 10,
   "id": "01aeb040-f17f-4b07-b832-0a8354a5cccc",
   "metadata": {
    "tags": []
   },
   "outputs": [
    {
     "data": {
      "image/png": "[encoded data removed]",
      "text/plain": [
       "<Figure size 640x480 with 1 Axes>"
      ]
     },
     "metadata": {},
     "output_type": "display_data"
    }
   ],
   "source": [
    "data.head()\n",
    "operationYear = data['Year']\n",
    "turbineCapacity = data['Turbine.Capacity']\n",
    "\n",
    "plt.title(\"Turbine Electrical Output against Initial Year of Operation\")\n",
    "plt.xlabel(\"Turbine Year of Operation\")\n",
    "plt.ylabel(\"Electrical Output (KW)\")\n",
    "\n",
    "plt.scatter(operationYear, turbineCapacity, [3])\n",
    "plt.show()"
   ]
  },
  {
   "cell_type": "markdown",
   "id": "13649cf9-8de3-4bc4-afe2-88993517bdd0",
   "metadata": {},
   "source": [
    "### How can we get Electrical Output Aggregated for every Year?\n",
    "\n",
    "Let's try using Bokeh for this task!"
   ]
  },
  {
   "cell_type": "code",
   "execution_count": 11,
   "id": "9c21e1f2-3906-48c7-8d4c-e0d2f4aebbce",
   "metadata": {},
   "outputs": [
    {
     "data": {
      "text/html": [
       "<style>\n",
       "        .bk-notebook-logo {\n",
       "            display: block;\n",
       "            width: 20px;\n",
       "            height: 20px;\n",
       "            background-image: url(data:image/png;base64,iVBORw0KGgoAAAANSUhEUgAAABQAAAAUCAYAAACNiR0NAAAABHNCSVQICAgIfAhkiAAAAAlwSFlzAAALEgAACxIB0t1+/AAAABx0RVh0U29mdHdhcmUAQWRvYmUgRmlyZXdvcmtzIENTNui8sowAAAOkSURBVDiNjZRtaJVlGMd/1/08zzln5zjP1LWcU9N0NkN8m2CYjpgQYQXqSs0I84OLIC0hkEKoPtiH3gmKoiJDU7QpLgoLjLIQCpEsNJ1vqUOdO7ppbuec5+V+rj4ctwzd8IIbbi6u+8f1539dt3A78eXC7QizUF7gyV1fD1Yqg4JWz84yffhm0qkFqBogB9rM8tZdtwVsPUhWhGcFJngGeWrPzHm5oaMmkfEg1usvLFyc8jLRqDOMru7AyC8saQr7GG7f5fvDeH7Ej8CM66nIF+8yngt6HWaKh7k49Soy9nXurCi1o3qUbS3zWfrYeQDTB/Qj6kX6Ybhw4B+bOYoLKCC9H3Nu/leUTZ1JdRWkkn2ldcCamzrcf47KKXdAJllSlxAOkRgyHsGC/zRday5Qld9DyoM4/q/rUoy/CXh3jzOu3bHUVZeU+DEn8FInkPBFlu3+nW3Nw0mk6vCDiWg8CeJaxEwuHS3+z5RgY+YBR6V1Z1nxSOfoaPa4LASWxxdNp+VWTk7+4vzaou8v8PN+xo+KY2xsw6une2frhw05CTYOmQvsEhjhWjn0bmXPjpE1+kplmmkP3suftwTubK9Vq22qKmrBhpY4jvd5afdRA3wGjFAgcnTK2s4hY0/GPNIb0nErGMCRxWOOX64Z8RAC4oCXdklmEvcL8o0BfkNK4lUg9HTl+oPlQxdNo3Mg4Nv175e/1LDGzZen30MEjRUtmXSfiTVu1kK8W4txyV6BMKlbgk3lMwYCiusNy9fVfvvwMxv8Ynl6vxoByANLTWplvuj/nF9m2+PDtt1eiHPBr1oIfhCChQMBw6Aw0UulqTKZdfVvfG7VcfIqLG9bcldL/+pdWTLxLUy8Qq38heUIjh4XlzZxzQm19lLFlr8vdQ97rjZVOLf8nclzckbcD4wxXMidpX30sFd37Fv/GtwwhzhxGVAprjbg0gCAEeIgwCZyTV2Z1REEW8O4py0wsjeloKoMr6iCY6dP92H6Vw/oTyICIthibxjm/DfN9lVz8IqtqKYLUXfoKVMVQVVJOElGjrnnUt9T9wbgp8AyYKaGlqingHZU/uG2NTZSVqwHQTWkx9hxjkpWDaCg6Ckj5qebgBVbT3V3NNXMSiWSDdGV3hrtzla7J+duwPOToIg42ChPQOQjspnSlp1V+Gjdged7+8UN5CRAV7a5EdFNwCjEaBR27b3W890TE7g24NAP/mMDXRWrGoFPQI9ls/MWO2dWFAar/xcOIImbbpA3zgAAAABJRU5ErkJggg==);\n",
       "        }\n",
       "    </style>\n",
       "    <div>\n",
       "        <a href=\"https://bokeh.org\" target=\"_blank\" class=\"bk-notebook-logo\"></a>\n",
       "        <span id=\"a41ad74e-da31-4d46-9297-f28eba7f44e0\">Loading BokehJS ...</span>\n",
       "    </div>\n"
      ]
     },
     "metadata": {},
     "output_type": "display_data"
    },
    {
     "data": {
      "application/javascript": [
       "(function(root) {\n",
       "  function now() {\n",
       "    return new Date();\n",
       "  }\n",
       "\n",
       "  const force = true;\n",
       "\n",
       "  if (typeof root._bokeh_onload_callbacks === \"undefined\" || force === true) {\n",
       "    root._bokeh_onload_callbacks = [];\n",
       "    root._bokeh_is_loading = undefined;\n",
       "  }\n",
       "\n",
       "const JS_MIME_TYPE = 'application/javascript';\n",
       "  const HTML_MIME_TYPE = 'text/html';\n",
       "  const EXEC_MIME_TYPE = 'application/vnd.bokehjs_exec.v0+json';\n",
       "  const CLASS_NAME = 'output_bokeh rendered_html';\n",
       "\n",
       "  /**\n",
       "   * Render data to the DOM node\n",
       "   */\n",
       "  function render(props, node) {\n",
       "    const script = document.createElement(\"script\");\n",
       "    node.appendChild(script);\n",
       "  }\n",
       "\n",
       "  /**\n",
       "   * Handle when an output is cleared or removed\n",
       "   */\n",
       "  function handleClearOutput(event, handle) {\n",
       "    const cell = handle.cell;\n",
       "\n",
       "    const id = cell.output_area._bokeh_element_id;\n",
       "    const server_id = cell.output_area._bokeh_server_id;\n",
       "    // Clean up Bokeh references\n",
       "    if (id != null && id in Bokeh.index) {\n",
       "      Bokeh.index[id].model.document.clear();\n",
       "      delete Bokeh.index[id];\n",
       "    }\n",
       "\n",
       "    if (server_id !== undefined) {\n",
       "      // Clean up Bokeh references\n",
       "      const cmd_clean = \"from bokeh.io.state import curstate; print(curstate().uuid_to_server['\" + server_id + \"'].get_sessions()[0].document.roots[0]._id)\";\n",
       "      cell.notebook.kernel.execute(cmd_clean, {\n",
       "        iopub: {\n",
       "          output: function(msg) {\n",
       "            const id = msg.content.text.trim();\n",
       "            if (id in Bokeh.index) {\n",
       "              Bokeh.index[id].model.document.clear();\n",
       "              delete Bokeh.index[id];\n",
       "            }\n",
       "          }\n",
       "        }\n",
       "      });\n",
       "      // Destroy server and session\n",
       "      const cmd_destroy = \"import bokeh.io.notebook as ion; ion.destroy_server('\" + server_id + \"')\";\n",
       "      cell.notebook.kernel.execute(cmd_destroy);\n",
       "    }\n",
       "  }\n",
       "\n",
       "  /**\n",
       "   * Handle when a new output is added\n",
       "   */\n",
       "  function handleAddOutput(event, handle) {\n",
       "    const output_area = handle.output_area;\n",
       "    const output = handle.output;\n",
       "\n",
       "    // limit handleAddOutput to display_data with EXEC_MIME_TYPE content only\n",
       "    if ((output.output_type != \"display_data\") || (!Object.prototype.hasOwnProperty.call(output.data, EXEC_MIME_TYPE))) {\n",
       "      return\n",
       "    }\n",
       "\n",
       "    const toinsert = output_area.element.find(\".\" + CLASS_NAME.split(' ')[0]);\n",
       "\n",
       "    if (output.metadata[EXEC_MIME_TYPE][\"id\"] !== undefined) {\n",
       "      toinsert[toinsert.length - 1].firstChild.textContent = output.data[JS_MIME_TYPE];\n",
       "      // store reference to embed id on output_area\n",
       "      output_area._bokeh_element_id = output.metadata[EXEC_MIME_TYPE][\"id\"];\n",
       "    }\n",
       "    if (output.metadata[EXEC_MIME_TYPE][\"server_id\"] !== undefined) {\n",
       "      const bk_div = document.createElement(\"div\");\n",
       "      bk_div.innerHTML = output.data[HTML_MIME_TYPE];\n",
       "      const script_attrs = bk_div.children[0].attributes;\n",
       "      for (let i = 0; i < script_attrs.length; i++) {\n",
       "        toinsert[toinsert.length - 1].firstChild.setAttribute(script_attrs[i].name, script_attrs[i].value);\n",
       "        toinsert[toinsert.length - 1].firstChild.textContent = bk_div.children[0].textContent\n",
       "      }\n",
       "      // store reference to server id on output_area\n",
       "      output_area._bokeh_server_id = output.metadata[EXEC_MIME_TYPE][\"server_id\"];\n",
       "    }\n",
       "  }\n",
       "\n",
       "  function register_renderer(events, OutputArea) {\n",
       "\n",
       "    function append_mime(data, metadata, element) {\n",
       "      // create a DOM node to render to\n",
       "      const toinsert = this.create_output_subarea(\n",
       "        metadata,\n",
       "        CLASS_NAME,\n",
       "        EXEC_MIME_TYPE\n",
       "      );\n",
       "      this.keyboard_manager.register_events(toinsert);\n",
       "      // Render to node\n",
       "      const props = {data: data, metadata: metadata[EXEC_MIME_TYPE]};\n",
       "      render(props, toinsert[toinsert.length - 1]);\n",
       "      element.append(toinsert);\n",
       "      return toinsert\n",
       "    }\n",
       "\n",
       "    /* Handle when an output is cleared or removed */\n",
       "    events.on('clear_output.CodeCell', handleClearOutput);\n",
       "    events.on('delete.Cell', handleClearOutput);\n",
       "\n",
       "    /* Handle when a new output is added */\n",
       "    events.on('output_added.OutputArea', handleAddOutput);\n",
       "\n",
       "    /**\n",
       "     * Register the mime type and append_mime function with output_area\n",
       "     */\n",
       "    OutputArea.prototype.register_mime_type(EXEC_MIME_TYPE, append_mime, {\n",
       "      /* Is output safe? */\n",
       "      safe: true,\n",
       "      /* Index of renderer in `output_area.display_order` */\n",
       "      index: 0\n",
       "    });\n",
       "  }\n",
       "\n",
       "  // register the mime type if in Jupyter Notebook environment and previously unregistered\n",
       "  if (root.Jupyter !== undefined) {\n",
       "    const events = require('base/js/events');\n",
       "    const OutputArea = require('notebook/js/outputarea').OutputArea;\n",
       "\n",
       "    if (OutputArea.prototype.mime_types().indexOf(EXEC_MIME_TYPE) == -1) {\n",
       "      register_renderer(events, OutputArea);\n",
       "    }\n",
       "  }\n",
       "  if (typeof (root._bokeh_timeout) === \"undefined\" || force === true) {\n",
       "    root._bokeh_timeout = Date.now() + 5000;\n",
       "    root._bokeh_failed_load = false;\n",
       "  }\n",
       "\n",
       "  const NB_LOAD_WARNING = {'data': {'text/html':\n",
       "     \"<div style='background-color: #fdd'>\\n\"+\n",
       "     \"<p>\\n\"+\n",
       "     \"BokehJS does not appear to have successfully loaded. If loading BokehJS from CDN, this \\n\"+\n",
       "     \"may be due to a slow or bad network connection. Possible fixes:\\n\"+\n",
       "     \"</p>\\n\"+\n",
       "     \"<ul>\\n\"+\n",
       "     \"<li>re-rerun `output_notebook()` to attempt to load from CDN again, or</li>\\n\"+\n",
       "     \"<li>use INLINE resources instead, as so:</li>\\n\"+\n",
       "     \"</ul>\\n\"+\n",
       "     \"<code>\\n\"+\n",
       "     \"from bokeh.resources import INLINE\\n\"+\n",
       "     \"output_notebook(resources=INLINE)\\n\"+\n",
       "     \"</code>\\n\"+\n",
       "     \"</div>\"}};\n",
       "\n",
       "  function display_loaded() {\n",
       "    const el = document.getElementById(\"a41ad74e-da31-4d46-9297-f28eba7f44e0\");\n",
       "    if (el != null) {\n",
       "      el.textContent = \"BokehJS is loading...\";\n",
       "    }\n",
       "    if (root.Bokeh !== undefined) {\n",
       "      if (el != null) {\n",
       "        el.textContent = \"BokehJS \" + root.Bokeh.version + \" successfully loaded.\";\n",
       "      }\n",
       "    } else if (Date.now() < root._bokeh_timeout) {\n",
       "      setTimeout(display_loaded, 100)\n",
       "    }\n",
       "  }\n",
       "\n",
       "  function run_callbacks() {\n",
       "    try {\n",
       "      root._bokeh_onload_callbacks.forEach(function(callback) {\n",
       "        if (callback != null)\n",
       "          callback();\n",
       "      });\n",
       "    } finally {\n",
       "      delete root._bokeh_onload_callbacks\n",
       "    }\n",
       "    console.debug(\"Bokeh: all callbacks have finished\");\n",
       "  }\n",
       "\n",
       "  function load_libs(css_urls, js_urls, callback) {\n",
       "    if (css_urls == null) css_urls = [];\n",
       "    if (js_urls == null) js_urls = [];\n",
       "\n",
       "    root._bokeh_onload_callbacks.push(callback);\n",
       "    if (root._bokeh_is_loading > 0) {\n",
       "      console.debug(\"Bokeh: BokehJS is being loaded, scheduling callback at\", now());\n",
       "      return null;\n",
       "    }\n",
       "    if (js_urls == null || js_urls.length === 0) {\n",
       "      run_callbacks();\n",
       "      return null;\n",
       "    }\n",
       "    console.debug(\"Bokeh: BokehJS not loaded, scheduling load and callback at\", now());\n",
       "    root._bokeh_is_loading = css_urls.length + js_urls.length;\n",
       "\n",
       "    function on_load() {\n",
       "      root._bokeh_is_loading--;\n",
       "      if (root._bokeh_is_loading === 0) {\n",
       "        console.debug(\"Bokeh: all BokehJS libraries/stylesheets loaded\");\n",
       "        run_callbacks()\n",
       "      }\n",
       "    }\n",
       "\n",
       "    function on_error(url) {\n",
       "      console.error(\"failed to load \" + url);\n",
       "    }\n",
       "\n",
       "    for (let i = 0; i < css_urls.length; i++) {\n",
       "      const url = css_urls[i];\n",
       "      const element = document.createElement(\"link\");\n",
       "      element.onload = on_load;\n",
       "      element.onerror = on_error.bind(null, url);\n",
       "      element.rel = \"stylesheet\";\n",
       "      element.type = \"text/css\";\n",
       "      element.href = url;\n",
       "      console.debug(\"Bokeh: injecting link tag for BokehJS stylesheet: \", url);\n",
       "      document.body.appendChild(element);\n",
       "    }\n",
       "\n",
       "    for (let i = 0; i < js_urls.length; i++) {\n",
       "      const url = js_urls[i];\n",
       "      const element = document.createElement('script');\n",
       "      element.onload = on_load;\n",
       "      element.onerror = on_error.bind(null, url);\n",
       "      element.async = false;\n",
       "      element.src = url;\n",
       "      console.debug(\"Bokeh: injecting script tag for BokehJS library: \", url);\n",
       "      document.head.appendChild(element);\n",
       "    }\n",
       "  };\n",
       "\n",
       "  function inject_raw_css(css) {\n",
       "    const element = document.createElement(\"style\");\n",
       "    element.appendChild(document.createTextNode(css));\n",
       "    document.body.appendChild(element);\n",
       "  }\n",
       "\n",
       "  const js_urls = [\"https://cdn.bokeh.org/bokeh/release/bokeh-3.2.0.min.js\", \"https://cdn.bokeh.org/bokeh/release/bokeh-gl-3.2.0.min.js\", \"https://cdn.bokeh.org/bokeh/release/bokeh-widgets-3.2.0.min.js\", \"https://cdn.bokeh.org/bokeh/release/bokeh-tables-3.2.0.min.js\", \"https://cdn.bokeh.org/bokeh/release/bokeh-mathjax-3.2.0.min.js\"];\n",
       "  const css_urls = [];\n",
       "\n",
       "  const inline_js = [    function(Bokeh) {\n",
       "      Bokeh.set_log_level(\"info\");\n",
       "    },\n",
       "function(Bokeh) {\n",
       "    }\n",
       "  ];\n",
       "\n",
       "  function run_inline_js() {\n",
       "    if (root.Bokeh !== undefined || force === true) {\n",
       "          for (let i = 0; i < inline_js.length; i++) {\n",
       "      inline_js[i].call(root, root.Bokeh);\n",
       "    }\n",
       "if (force === true) {\n",
       "        display_loaded();\n",
       "      }} else if (Date.now() < root._bokeh_timeout) {\n",
       "      setTimeout(run_inline_js, 100);\n",
       "    } else if (!root._bokeh_failed_load) {\n",
       "      console.log(\"Bokeh: BokehJS failed to load within specified timeout.\");\n",
       "      root._bokeh_failed_load = true;\n",
       "    } else if (force !== true) {\n",
       "      const cell = $(document.getElementById(\"a41ad74e-da31-4d46-9297-f28eba7f44e0\")).parents('.cell').data().cell;\n",
       "      cell.output_area.append_execute_result(NB_LOAD_WARNING)\n",
       "    }\n",
       "  }\n",
       "\n",
       "  if (root._bokeh_is_loading === 0) {\n",
       "    console.debug(\"Bokeh: BokehJS loaded, going straight to plotting\");\n",
       "    run_inline_js();\n",
       "  } else {\n",
       "    load_libs(css_urls, js_urls, function() {\n",
       "      console.debug(\"Bokeh: BokehJS plotting callback run at\", now());\n",
       "      run_inline_js();\n",
       "    });\n",
       "  }\n",
       "}(window));"
      ],
      "application/vnd.bokehjs_load.v0+json": "(function(root) {\n  function now() {\n    return new Date();\n  }\n\n  const force = true;\n\n  if (typeof root._bokeh_onload_callbacks === \"undefined\" || force === true) {\n    root._bokeh_onload_callbacks = [];\n    root._bokeh_is_loading = undefined;\n  }\n\n\n  if (typeof (root._bokeh_timeout) === \"undefined\" || force === true) {\n    root._bokeh_timeout = Date.now() + 5000;\n    root._bokeh_failed_load = false;\n  }\n\n  const NB_LOAD_WARNING = {'data': {'text/html':\n     \"<div style='background-color: #fdd'>\\n\"+\n     \"<p>\\n\"+\n     \"BokehJS does not appear to have successfully loaded. If loading BokehJS from CDN, this \\n\"+\n     \"may be due to a slow or bad network connection. Possible fixes:\\n\"+\n     \"</p>\\n\"+\n     \"<ul>\\n\"+\n     \"<li>re-rerun `output_notebook()` to attempt to load from CDN again, or</li>\\n\"+\n     \"<li>use INLINE resources instead, as so:</li>\\n\"+\n     \"</ul>\\n\"+\n     \"<code>\\n\"+\n     \"from bokeh.resources import INLINE\\n\"+\n     \"output_notebook(resources=INLINE)\\n\"+\n     \"</code>\\n\"+\n     \"</div>\"}};\n\n  function display_loaded() {\n    const el = document.getElementById(\"a41ad74e-da31-4d46-9297-f28eba7f44e0\");\n    if (el != null) {\n      el.textContent = \"BokehJS is loading...\";\n    }\n    if (root.Bokeh !== undefined) {\n      if (el != null) {\n        el.textContent = \"BokehJS \" + root.Bokeh.version + \" successfully loaded.\";\n      }\n    } else if (Date.now() < root._bokeh_timeout) {\n      setTimeout(display_loaded, 100)\n    }\n  }\n\n  function run_callbacks() {\n    try {\n      root._bokeh_onload_callbacks.forEach(function(callback) {\n        if (callback != null)\n          callback();\n      });\n    } finally {\n      delete root._bokeh_onload_callbacks\n    }\n    console.debug(\"Bokeh: all callbacks have finished\");\n  }\n\n  function load_libs(css_urls, js_urls, callback) {\n    if (css_urls == null) css_urls = [];\n    if (js_urls == null) js_urls = [];\n\n    root._bokeh_onload_callbacks.push(callback);\n    if (root._bokeh_is_loading > 0) {\n      console.debug(\"Bokeh: BokehJS is being loaded, scheduling callback at\", now());\n      return null;\n    }\n    if (js_urls == null || js_urls.length === 0) {\n      run_callbacks();\n      return null;\n    }\n    console.debug(\"Bokeh: BokehJS not loaded, scheduling load and callback at\", now());\n    root._bokeh_is_loading = css_urls.length + js_urls.length;\n\n    function on_load() {\n      root._bokeh_is_loading--;\n      if (root._bokeh_is_loading === 0) {\n        console.debug(\"Bokeh: all BokehJS libraries/stylesheets loaded\");\n        run_callbacks()\n      }\n    }\n\n    function on_error(url) {\n      console.error(\"failed to load \" + url);\n    }\n\n    for (let i = 0; i < css_urls.length; i++) {\n      const url = css_urls[i];\n      const element = document.createElement(\"link\");\n      element.onload = on_load;\n      element.onerror = on_error.bind(null, url);\n      element.rel = \"stylesheet\";\n      element.type = \"text/css\";\n      element.href = url;\n      console.debug(\"Bokeh: injecting link tag for BokehJS stylesheet: \", url);\n      document.body.appendChild(element);\n    }\n\n    for (let i = 0; i < js_urls.length; i++) {\n      const url = js_urls[i];\n      const element = document.createElement('script');\n      element.onload = on_load;\n      element.onerror = on_error.bind(null, url);\n      element.async = false;\n      element.src = url;\n      console.debug(\"Bokeh: injecting script tag for BokehJS library: \", url);\n      document.head.appendChild(element);\n    }\n  };\n\n  function inject_raw_css(css) {\n    const element = document.createElement(\"style\");\n    element.appendChild(document.createTextNode(css));\n    document.body.appendChild(element);\n  }\n\n  const js_urls = [\"https://cdn.bokeh.org/bokeh/release/bokeh-3.2.0.min.js\", \"https://cdn.bokeh.org/bokeh/release/bokeh-gl-3.2.0.min.js\", \"https://cdn.bokeh.org/bokeh/release/bokeh-widgets-3.2.0.min.js\", \"https://cdn.bokeh.org/bokeh/release/bokeh-tables-3.2.0.min.js\", \"https://cdn.bokeh.org/bokeh/release/bokeh-mathjax-3.2.0.min.js\"];\n  const css_urls = [];\n\n  const inline_js = [    function(Bokeh) {\n      Bokeh.set_log_level(\"info\");\n    },\nfunction(Bokeh) {\n    }\n  ];\n\n  function run_inline_js() {\n    if (root.Bokeh !== undefined || force === true) {\n          for (let i = 0; i < inline_js.length; i++) {\n      inline_js[i].call(root, root.Bokeh);\n    }\nif (force === true) {\n        display_loaded();\n      }} else if (Date.now() < root._bokeh_timeout) {\n      setTimeout(run_inline_js, 100);\n    } else if (!root._bokeh_failed_load) {\n      console.log(\"Bokeh: BokehJS failed to load within specified timeout.\");\n      root._bokeh_failed_load = true;\n    } else if (force !== true) {\n      const cell = $(document.getElementById(\"a41ad74e-da31-4d46-9297-f28eba7f44e0\")).parents('.cell').data().cell;\n      cell.output_area.append_execute_result(NB_LOAD_WARNING)\n    }\n  }\n\n  if (root._bokeh_is_loading === 0) {\n    console.debug(\"Bokeh: BokehJS loaded, going straight to plotting\");\n    run_inline_js();\n  } else {\n    load_libs(css_urls, js_urls, function() {\n      console.debug(\"Bokeh: BokehJS plotting callback run at\", now());\n      run_inline_js();\n    });\n  }\n}(window));"
     },
     "metadata": {},
     "output_type": "display_data"
    }
   ],
   "source": [
    "from bokeh.plotting import figure, show\n",
    "from bokeh.io import output_notebook\n",
    "\n",
    "output_notebook()"
   ]
  },
  {
   "cell_type": "code",
   "execution_count": 12,
   "id": "4cd2d002-2786-4ff8-94d6-77b2a1ce2201",
   "metadata": {
    "tags": []
   },
   "outputs": [],
   "source": [
    "meanYearData = data[['Year', 'Turbine.Capacity']].groupby(['Year'], as_index=False).mean()\n",
    "\n",
    "year = meanYearData['Year'].astype(str)\n",
    "turbineCapacity = meanYearData['Turbine.Capacity']\n",
    "\n",
    "source = {'year':year , 'turbineCapacity':turbineCapacity}"
   ]
  },
  {
   "cell_type": "code",
   "execution_count": 13,
   "id": "fbca9898-a9f7-4de0-8580-38e93776b6e2",
   "metadata": {},
   "outputs": [],
   "source": [
    "visual = figure(title=\"Averaged Turbine Electrical Output against Year of Operation\", x_range=year, y_range=(0,turbineCapacity.max()), \n",
    "                x_axis_label = \"Turbine Year of Operation\", y_axis_label = \"Average Electrical Output (KW) (for particular year)\")"
   ]
  },
  {
   "cell_type": "code",
   "execution_count": 14,
   "id": "55de19b5-d352-4940-81da-cecc632e2332",
   "metadata": {
    "tags": []
   },
   "outputs": [],
   "source": [
    "import math\n",
    "from bokeh.models.tools import HoverTool\n",
    "\n",
    "visual.vbar(x='year', top='turbineCapacity', width=0.7, source=source)\n",
    "visual.xaxis.major_label_orientation = math.pi/2\n",
    "visual.add_tools(HoverTool(tooltips=[(\"Year\", \"@year\"), (\"turbineCapacity\", \"@turbineCapacity KW\")]))"
   ]
  },
  {
   "cell_type": "code",
   "execution_count": 15,
   "id": "4d862569-a112-413e-9cef-0fca802a310f",
   "metadata": {
    "tags": []
   },
   "outputs": [
    {
     "data": {
      "text/html": [
       "\n",
       "  <div id=\"f165b9d3-6e42-4436-bf52-c8f269e5bdbd\" data-root-id=\"p1001\" style=\"display: contents;\"></div>\n"
      ]
     },
     "metadata": {},
     "output_type": "display_data"
    },
    {
     "data": {
      "application/javascript": [
       "(function(root) {\n",
       "  function embed_document(root) {\n",
       "  const docs_json = {\"e2899ade-250b-47b0-a064-a053632f8533\":{\"version\":\"3.2.0\",\"title\":\"Bokeh Application\",\"roots\":[{\"type\":\"object\",\"name\":\"Figure\",\"id\":\"p1001\",\"attributes\":{\"x_range\":{\"type\":\"object\",\"name\":\"FactorRange\",\"id\":\"p1011\",\"attributes\":{\"factors\":[\"1983\",\"1984\",\"1985\",\"1986\",\"1988\",\"1990\",\"1992\",\"1994\",\"1995\",\"1996\",\"1997\",\"1998\",\"1999\",\"2000\",\"2001\",\"2002\",\"2003\",\"2004\",\"2005\",\"2006\",\"2007\",\"2008\",\"2009\",\"2010\",\"2011\",\"2012\",\"2013\",\"2014\",\"2015\",\"2016\",\"2017\",\"2018\",\"2019\",\"2020\",\"2021\"]}},\"y_range\":{\"type\":\"object\",\"name\":\"Range1d\",\"id\":\"p1012\",\"attributes\":{\"end\":2889.1139240506327}},\"x_scale\":{\"type\":\"object\",\"name\":\"CategoricalScale\",\"id\":\"p1013\"},\"y_scale\":{\"type\":\"object\",\"name\":\"LinearScale\",\"id\":\"p1014\"},\"title\":{\"type\":\"object\",\"name\":\"Title\",\"id\":\"p1004\",\"attributes\":{\"text\":\"Averaged Turbine Electrical Output against Year of Operation\"}},\"renderers\":[{\"type\":\"object\",\"name\":\"GlyphRenderer\",\"id\":\"p1041\",\"attributes\":{\"data_source\":{\"type\":\"object\",\"name\":\"ColumnDataSource\",\"id\":\"p1032\",\"attributes\":{\"selected\":{\"type\":\"object\",\"name\":\"Selection\",\"id\":\"p1033\",\"attributes\":{\"indices\":[],\"line_indices\":[]}},\"selection_policy\":{\"type\":\"object\",\"name\":\"UnionRenderers\",\"id\":\"p1034\"},\"data\":{\"type\":\"map\",\"entries\":[[\"year\",{\"type\":\"ndarray\",\"array\":[\"1983\",\"1984\",\"1985\",\"1986\",\"1988\",\"1990\",\"1992\",\"1994\",\"1995\",\"1996\",\"1997\",\"1998\",\"1999\",\"2000\",\"2001\",\"2002\",\"2003\",\"2004\",\"2005\",\"2006\",\"2007\",\"2008\",\"2009\",\"2010\",\"2011\",\"2012\",\"2013\",\"2014\",\"2015\",\"2016\",\"2017\",\"2018\",\"2019\",\"2020\",\"2021\"],\"shape\":[35],\"dtype\":\"object\",\"order\":\"little\"}],[\"turbineCapacity\",{\"type\":\"ndarray\",\"array\":{\"type\":\"bytes\",\"data\":\"AAAAAABAUEAAAAAAAEBQQAAAAAAAQFBA27Zt27btYkAAAAAAAABkQAAAAAAAIGxAAAAAAABwd0AAAAAAAGB9QOKOuCPuqGtAAAAAAADAgkAAAAAAAF5/QJdddtlln4ZAgGkjcLiyhkCO4ziO4zOGQOLh4eHh4YtAhdUtC75+i0CiHVetrviVQO91r3vdo5NABDJorsB+l0CHvWxPWU6ZQNecyxpe7ZlAmtmylsM4mkA1x5qmEyubQGIZlmEZ7ptA5iS+fwKinkAqBW0rM0meQBqkQRqkFZ1ABEvSvv1SnkC+ar/32VufQMCA/gL61qBAROgh9BAiokA19d/YqxejQIZBgXnN7aNAg484BFycpUBkz0BUOpKmQA==\"},\"shape\":[35],\"dtype\":\"float64\",\"order\":\"little\"}]]}}},\"view\":{\"type\":\"object\",\"name\":\"CDSView\",\"id\":\"p1042\",\"attributes\":{\"filter\":{\"type\":\"object\",\"name\":\"AllIndices\",\"id\":\"p1043\"}}},\"glyph\":{\"type\":\"object\",\"name\":\"VBar\",\"id\":\"p1038\",\"attributes\":{\"x\":{\"type\":\"field\",\"field\":\"year\"},\"width\":{\"type\":\"value\",\"value\":0.7},\"top\":{\"type\":\"field\",\"field\":\"turbineCapacity\"},\"line_color\":{\"type\":\"value\",\"value\":\"#1f77b4\"},\"fill_color\":{\"type\":\"value\",\"value\":\"#1f77b4\"}}},\"nonselection_glyph\":{\"type\":\"object\",\"name\":\"VBar\",\"id\":\"p1039\",\"attributes\":{\"x\":{\"type\":\"field\",\"field\":\"year\"},\"width\":{\"type\":\"value\",\"value\":0.7},\"top\":{\"type\":\"field\",\"field\":\"turbineCapacity\"},\"line_color\":{\"type\":\"value\",\"value\":\"#1f77b4\"},\"line_alpha\":{\"type\":\"value\",\"value\":0.1},\"fill_color\":{\"type\":\"value\",\"value\":\"#1f77b4\"},\"fill_alpha\":{\"type\":\"value\",\"value\":0.1},\"hatch_alpha\":{\"type\":\"value\",\"value\":0.1}}},\"muted_glyph\":{\"type\":\"object\",\"name\":\"VBar\",\"id\":\"p1040\",\"attributes\":{\"x\":{\"type\":\"field\",\"field\":\"year\"},\"width\":{\"type\":\"value\",\"value\":0.7},\"top\":{\"type\":\"field\",\"field\":\"turbineCapacity\"},\"line_color\":{\"type\":\"value\",\"value\":\"#1f77b4\"},\"line_alpha\":{\"type\":\"value\",\"value\":0.2},\"fill_color\":{\"type\":\"value\",\"value\":\"#1f77b4\"},\"fill_alpha\":{\"type\":\"value\",\"value\":0.2},\"hatch_alpha\":{\"type\":\"value\",\"value\":0.2}}}}}],\"toolbar\":{\"type\":\"object\",\"name\":\"Toolbar\",\"id\":\"p1010\",\"attributes\":{\"tools\":[{\"type\":\"object\",\"name\":\"PanTool\",\"id\":\"p1025\"},{\"type\":\"object\",\"name\":\"WheelZoomTool\",\"id\":\"p1026\"},{\"type\":\"object\",\"name\":\"BoxZoomTool\",\"id\":\"p1027\",\"attributes\":{\"overlay\":{\"type\":\"object\",\"name\":\"BoxAnnotation\",\"id\":\"p1028\",\"attributes\":{\"syncable\":false,\"level\":\"overlay\",\"visible\":false,\"left_units\":\"canvas\",\"right_units\":\"canvas\",\"bottom_units\":\"canvas\",\"top_units\":\"canvas\",\"line_color\":\"black\",\"line_alpha\":1.0,\"line_width\":2,\"line_dash\":[4,4],\"fill_color\":\"lightgrey\",\"fill_alpha\":0.5}}}},{\"type\":\"object\",\"name\":\"SaveTool\",\"id\":\"p1029\"},{\"type\":\"object\",\"name\":\"ResetTool\",\"id\":\"p1030\"},{\"type\":\"object\",\"name\":\"HelpTool\",\"id\":\"p1031\"},{\"type\":\"object\",\"name\":\"HoverTool\",\"id\":\"p1044\",\"attributes\":{\"renderers\":\"auto\",\"tooltips\":[[\"Year\",\"@year\"],[\"turbineCapacity\",\"@turbineCapacity KW\"]]}}]}},\"left\":[{\"type\":\"object\",\"name\":\"LinearAxis\",\"id\":\"p1020\",\"attributes\":{\"ticker\":{\"type\":\"object\",\"name\":\"BasicTicker\",\"id\":\"p1021\",\"attributes\":{\"mantissas\":[1,2,5]}},\"formatter\":{\"type\":\"object\",\"name\":\"BasicTickFormatter\",\"id\":\"p1022\"},\"axis_label\":\"Average Electrical Output (KW) (for particular year)\",\"major_label_policy\":{\"type\":\"object\",\"name\":\"AllLabels\",\"id\":\"p1023\"}}}],\"below\":[{\"type\":\"object\",\"name\":\"CategoricalAxis\",\"id\":\"p1015\",\"attributes\":{\"ticker\":{\"type\":\"object\",\"name\":\"CategoricalTicker\",\"id\":\"p1016\"},\"formatter\":{\"type\":\"object\",\"name\":\"CategoricalTickFormatter\",\"id\":\"p1017\"},\"axis_label\":\"Turbine Year of Operation\",\"major_label_orientation\":1.5707963267948966,\"major_label_policy\":{\"type\":\"object\",\"name\":\"AllLabels\",\"id\":\"p1018\"}}}],\"center\":[{\"type\":\"object\",\"name\":\"Grid\",\"id\":\"p1019\",\"attributes\":{\"axis\":{\"id\":\"p1015\"}}},{\"type\":\"object\",\"name\":\"Grid\",\"id\":\"p1024\",\"attributes\":{\"dimension\":1,\"axis\":{\"id\":\"p1020\"}}}]}}]}};\n",
       "  const render_items = [{\"docid\":\"e2899ade-250b-47b0-a064-a053632f8533\",\"roots\":{\"p1001\":\"f165b9d3-6e42-4436-bf52-c8f269e5bdbd\"},\"root_ids\":[\"p1001\"]}];\n",
       "  root.Bokeh.embed.embed_items_notebook(docs_json, render_items);\n",
       "  }\n",
       "  if (root.Bokeh !== undefined) {\n",
       "    embed_document(root);\n",
       "  } else {\n",
       "    let attempts = 0;\n",
       "    const timer = setInterval(function(root) {\n",
       "      if (root.Bokeh !== undefined) {\n",
       "        clearInterval(timer);\n",
       "        embed_document(root);\n",
       "      } else {\n",
       "        attempts++;\n",
       "        if (attempts > 100) {\n",
       "          clearInterval(timer);\n",
       "          console.log(\"Bokeh: ERROR: Unable to run BokehJS code because BokehJS library is missing\");\n",
       "        }\n",
       "      }\n",
       "    }, 10, root)\n",
       "  }\n",
       "})(window);"
      ],
      "application/vnd.bokehjs_exec.v0+json": ""
     },
     "metadata": {
      "application/vnd.bokehjs_exec.v0+json": {
       "id": "p1001"
      }
     },
     "output_type": "display_data"
    }
   ],
   "source": [
    "show(visual)"
   ]
  },
  {
   "cell_type": "code",
   "execution_count": null,
   "id": "b97102d6-a4a3-4dc9-8af4-cfdda3d0d35e",
   "metadata": {},
   "outputs": [],
   "source": []
  }
 ],
 "metadata": {
  "kernelspec": {
   "display_name": "Python 3 (ipykernel)",
   "language": "python",
   "name": "python3"
  },
  "language_info": {
   "codemirror_mode": {
    "name": "ipython",
    "version": 3
   },
   "file_extension": ".py",
   "mimetype": "text/x-python",
   "name": "python",
   "nbconvert_exporter": "python",
   "pygments_lexer": "ipython3",
   "version": "3.10.0"
  }
 },
 "nbformat": 4,
 "nbformat_minor": 5
}
