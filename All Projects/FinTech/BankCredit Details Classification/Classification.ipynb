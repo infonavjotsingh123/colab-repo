{
 "cells": [
  {
   "cell_type": "markdown",
   "id": "d9c9fb18",
   "metadata": {},
   "source": [
    "## Classification on Finance Data"
   ]
  },
  {
   "cell_type": "markdown",
   "id": "91251e3f",
   "metadata": {},
   "source": [
    "In this notebook you will learn:\n",
    "- how to clean/tidy the data\n",
    "- dealing with unbalanced classes\n",
    "- different kinds of classification models we can utilize"
   ]
  },
  {
   "cell_type": "markdown",
   "id": "7102ec75",
   "metadata": {},
   "source": [
    "### About the dataset we will be using"
   ]
  },
  {
   "cell_type": "markdown",
   "id": "b617bd52",
   "metadata": {},
   "source": [
    "Imagine you are working as a data scientist in a big corporate finance company. The company that you work for has gathered a lot of credit-related information. Companies use credit scores to make decisions whether to offer you a morgage, credit card, loans, and other credit products. They are also used to determine the interest rate and credit limit you receive. We will utilize this dataset to build some sort of classifcation model to classify the credit score. If you would like to download the dataset yourself check out this link: https://www.kaggle.com/datasets/parisrohan/credit-score-classification?resource=download"
   ]
  },
  {
   "cell_type": "code",
   "execution_count": 4,
   "id": "f4bb52c7",
   "metadata": {},
   "outputs": [
    {
     "data": {
      "text/html": [
       "<div>\n",
       "<style scoped>\n",
       "    .dataframe tbody tr th:only-of-type {\n",
       "        vertical-align: middle;\n",
       "    }\n",
       "\n",
       "    .dataframe tbody tr th {\n",
       "        vertical-align: top;\n",
       "    }\n",
       "\n",
       "    .dataframe thead th {\n",
       "        text-align: right;\n",
       "    }\n",
       "</style>\n",
       "<table border=\"1\" class=\"dataframe\">\n",
       "  <thead>\n",
       "    <tr style=\"text-align: right;\">\n",
       "      <th></th>\n",
       "      <th>ID</th>\n",
       "      <th>Customer_ID</th>\n",
       "      <th>Month</th>\n",
       "      <th>Name</th>\n",
       "      <th>Age</th>\n",
       "      <th>SSN</th>\n",
       "      <th>Occupation</th>\n",
       "      <th>Annual_Income</th>\n",
       "      <th>Monthly_Inhand_Salary</th>\n",
       "      <th>Num_Bank_Accounts</th>\n",
       "      <th>...</th>\n",
       "      <th>Num_Credit_Inquiries</th>\n",
       "      <th>Credit_Mix</th>\n",
       "      <th>Outstanding_Debt</th>\n",
       "      <th>Credit_Utilization_Ratio</th>\n",
       "      <th>Credit_History_Age</th>\n",
       "      <th>Payment_of_Min_Amount</th>\n",
       "      <th>Total_EMI_per_month</th>\n",
       "      <th>Amount_invested_monthly</th>\n",
       "      <th>Payment_Behaviour</th>\n",
       "      <th>Monthly_Balance</th>\n",
       "    </tr>\n",
       "  </thead>\n",
       "  <tbody>\n",
       "    <tr>\n",
       "      <th>0</th>\n",
       "      <td>0x160a</td>\n",
       "      <td>CUS_0xd40</td>\n",
       "      <td>September</td>\n",
       "      <td>Aaron Maashoh</td>\n",
       "      <td>23</td>\n",
       "      <td>821-00-0265</td>\n",
       "      <td>Scientist</td>\n",
       "      <td>19114.12</td>\n",
       "      <td>1824.843333</td>\n",
       "      <td>3</td>\n",
       "      <td>...</td>\n",
       "      <td>2022.0</td>\n",
       "      <td>Good</td>\n",
       "      <td>809.98</td>\n",
       "      <td>35.030402</td>\n",
       "      <td>22 Years and 9 Months</td>\n",
       "      <td>No</td>\n",
       "      <td>49.574949</td>\n",
       "      <td>236.64268203272135</td>\n",
       "      <td>Low_spent_Small_value_payments</td>\n",
       "      <td>186.26670208571772</td>\n",
       "    </tr>\n",
       "    <tr>\n",
       "      <th>1</th>\n",
       "      <td>0x160b</td>\n",
       "      <td>CUS_0xd40</td>\n",
       "      <td>October</td>\n",
       "      <td>Aaron Maashoh</td>\n",
       "      <td>24</td>\n",
       "      <td>821-00-0265</td>\n",
       "      <td>Scientist</td>\n",
       "      <td>19114.12</td>\n",
       "      <td>1824.843333</td>\n",
       "      <td>3</td>\n",
       "      <td>...</td>\n",
       "      <td>4.0</td>\n",
       "      <td>Good</td>\n",
       "      <td>809.98</td>\n",
       "      <td>33.053114</td>\n",
       "      <td>22 Years and 10 Months</td>\n",
       "      <td>No</td>\n",
       "      <td>49.574949</td>\n",
       "      <td>21.465380264657146</td>\n",
       "      <td>High_spent_Medium_value_payments</td>\n",
       "      <td>361.44400385378196</td>\n",
       "    </tr>\n",
       "    <tr>\n",
       "      <th>2</th>\n",
       "      <td>0x160c</td>\n",
       "      <td>CUS_0xd40</td>\n",
       "      <td>November</td>\n",
       "      <td>Aaron Maashoh</td>\n",
       "      <td>24</td>\n",
       "      <td>821-00-0265</td>\n",
       "      <td>Scientist</td>\n",
       "      <td>19114.12</td>\n",
       "      <td>1824.843333</td>\n",
       "      <td>3</td>\n",
       "      <td>...</td>\n",
       "      <td>4.0</td>\n",
       "      <td>Good</td>\n",
       "      <td>809.98</td>\n",
       "      <td>33.811894</td>\n",
       "      <td>NaN</td>\n",
       "      <td>No</td>\n",
       "      <td>49.574949</td>\n",
       "      <td>148.23393788500925</td>\n",
       "      <td>Low_spent_Medium_value_payments</td>\n",
       "      <td>264.67544623342997</td>\n",
       "    </tr>\n",
       "    <tr>\n",
       "      <th>3</th>\n",
       "      <td>0x160d</td>\n",
       "      <td>CUS_0xd40</td>\n",
       "      <td>December</td>\n",
       "      <td>Aaron Maashoh</td>\n",
       "      <td>24_</td>\n",
       "      <td>821-00-0265</td>\n",
       "      <td>Scientist</td>\n",
       "      <td>19114.12</td>\n",
       "      <td>NaN</td>\n",
       "      <td>3</td>\n",
       "      <td>...</td>\n",
       "      <td>4.0</td>\n",
       "      <td>Good</td>\n",
       "      <td>809.98</td>\n",
       "      <td>32.430559</td>\n",
       "      <td>23 Years and 0 Months</td>\n",
       "      <td>No</td>\n",
       "      <td>49.574949</td>\n",
       "      <td>39.08251089460281</td>\n",
       "      <td>High_spent_Medium_value_payments</td>\n",
       "      <td>343.82687322383634</td>\n",
       "    </tr>\n",
       "    <tr>\n",
       "      <th>4</th>\n",
       "      <td>0x1616</td>\n",
       "      <td>CUS_0x21b1</td>\n",
       "      <td>September</td>\n",
       "      <td>Rick Rothackerj</td>\n",
       "      <td>28</td>\n",
       "      <td>004-07-5839</td>\n",
       "      <td>_______</td>\n",
       "      <td>34847.84</td>\n",
       "      <td>3037.986667</td>\n",
       "      <td>2</td>\n",
       "      <td>...</td>\n",
       "      <td>5.0</td>\n",
       "      <td>Good</td>\n",
       "      <td>605.03</td>\n",
       "      <td>25.926822</td>\n",
       "      <td>27 Years and 3 Months</td>\n",
       "      <td>No</td>\n",
       "      <td>18.816215</td>\n",
       "      <td>39.684018417945296</td>\n",
       "      <td>High_spent_Large_value_payments</td>\n",
       "      <td>485.2984336755923</td>\n",
       "    </tr>\n",
       "  </tbody>\n",
       "</table>\n",
       "<p>5 rows × 27 columns</p>\n",
       "</div>"
      ],
      "text/plain": [
       "       ID Customer_ID      Month             Name  Age          SSN  \\\n",
       "0  0x160a   CUS_0xd40  September    Aaron Maashoh   23  821-00-0265   \n",
       "1  0x160b   CUS_0xd40    October    Aaron Maashoh   24  821-00-0265   \n",
       "2  0x160c   CUS_0xd40   November    Aaron Maashoh   24  821-00-0265   \n",
       "3  0x160d   CUS_0xd40   December    Aaron Maashoh  24_  821-00-0265   \n",
       "4  0x1616  CUS_0x21b1  September  Rick Rothackerj   28  004-07-5839   \n",
       "\n",
       "  Occupation Annual_Income  Monthly_Inhand_Salary  Num_Bank_Accounts  ...  \\\n",
       "0  Scientist      19114.12            1824.843333                  3  ...   \n",
       "1  Scientist      19114.12            1824.843333                  3  ...   \n",
       "2  Scientist      19114.12            1824.843333                  3  ...   \n",
       "3  Scientist      19114.12                    NaN                  3  ...   \n",
       "4    _______      34847.84            3037.986667                  2  ...   \n",
       "\n",
       "   Num_Credit_Inquiries  Credit_Mix Outstanding_Debt Credit_Utilization_Ratio  \\\n",
       "0                2022.0        Good           809.98                35.030402   \n",
       "1                   4.0        Good           809.98                33.053114   \n",
       "2                   4.0        Good           809.98                33.811894   \n",
       "3                   4.0        Good           809.98                32.430559   \n",
       "4                   5.0        Good           605.03                25.926822   \n",
       "\n",
       "       Credit_History_Age Payment_of_Min_Amount Total_EMI_per_month  \\\n",
       "0   22 Years and 9 Months                    No           49.574949   \n",
       "1  22 Years and 10 Months                    No           49.574949   \n",
       "2                     NaN                    No           49.574949   \n",
       "3   23 Years and 0 Months                    No           49.574949   \n",
       "4   27 Years and 3 Months                    No           18.816215   \n",
       "\n",
       "   Amount_invested_monthly                 Payment_Behaviour  \\\n",
       "0       236.64268203272135    Low_spent_Small_value_payments   \n",
       "1       21.465380264657146  High_spent_Medium_value_payments   \n",
       "2       148.23393788500925   Low_spent_Medium_value_payments   \n",
       "3        39.08251089460281  High_spent_Medium_value_payments   \n",
       "4       39.684018417945296   High_spent_Large_value_payments   \n",
       "\n",
       "      Monthly_Balance  \n",
       "0  186.26670208571772  \n",
       "1  361.44400385378196  \n",
       "2  264.67544623342997  \n",
       "3  343.82687322383634  \n",
       "4   485.2984336755923  \n",
       "\n",
       "[5 rows x 27 columns]"
      ]
     },
     "execution_count": 4,
     "metadata": {},
     "output_type": "execute_result"
    }
   ],
   "source": [
    "import pandas as pd\n",
    "\n",
    "#Lets first read this data into a dataframe that we can view\n",
    "df = pd.read_csv(\"test.csv\")\n",
    "#Lets view the first few row\n",
    "df.head()"
   ]
  },
  {
   "cell_type": "markdown",
   "id": "3335f5b2",
   "metadata": {},
   "source": [
    "### Credit Standing"
   ]
  },
  {
   "cell_type": "markdown",
   "id": "6a14fa4e",
   "metadata": {},
   "source": [
    "based on the person's credit standing we can make a very good inferenece. Each person can is either:\n",
    "\n",
    "Standing:\n",
    "- Good\n",
    "- Standard\n",
    "- Bad\n",
    "\n",
    "\n",
    "\"Credit Mix\" refers to how well a customer is managing their financial obligations, particularly their payments. It could be an important factor for assessing creditworthiness and risk for lenders and financial institutions. The binary classification of \"Good\" or \"Bad\" payment behavior is commonly used to predict whether a customer is likely to make their payments on time or have issues with payments. "
   ]
  },
  {
   "cell_type": "code",
   "execution_count": 5,
   "id": "2e5df118",
   "metadata": {},
   "outputs": [
    {
     "data": {
      "text/plain": [
       "Standard    18379\n",
       "Good        12260\n",
       "_            9805\n",
       "Bad          9556\n",
       "Name: Credit_Mix, dtype: int64"
      ]
     },
     "execution_count": 5,
     "metadata": {},
     "output_type": "execute_result"
    }
   ],
   "source": [
    "df['Credit_Mix'].value_counts()"
   ]
  },
  {
   "cell_type": "markdown",
   "id": "5edea3e4",
   "metadata": {},
   "source": [
    "It seems like there is 3800 null values in this column, to preprocess our data here we are going to need to filter this data out of this column so that our classfication is more accurate."
   ]
  },
  {
   "cell_type": "code",
   "execution_count": 6,
   "id": "f6a1c14e",
   "metadata": {},
   "outputs": [
    {
     "data": {
      "text/plain": [
       "Good    12260\n",
       "Bad      9556\n",
       "Name: Credit_Mix, dtype: int64"
      ]
     },
     "execution_count": 6,
     "metadata": {},
     "output_type": "execute_result"
    }
   ],
   "source": [
    "# lets filter our data\n",
    "filterd_df = df[df['Credit_Mix'] != \"_\"]\n",
    "filterd_df = filterd_df[filterd_df['Credit_Mix'] != \"Standard\"]\n",
    "\n",
    "filterd_df['Credit_Mix'].value_counts()"
   ]
  },
  {
   "cell_type": "markdown",
   "id": "9515a5b6",
   "metadata": {},
   "source": [
    "As you can see I have gotten rid of the 9805 \"_\"  values, alongside this I actually got rid of the standard label for now. (There is a reason for this I will show later)"
   ]
  },
  {
   "cell_type": "markdown",
   "id": "c2155db1",
   "metadata": {},
   "source": [
    "### Feature Selection"
   ]
  },
  {
   "cell_type": "markdown",
   "id": "3be40478",
   "metadata": {},
   "source": [
    "For our feature selection we will consider the following columns:\n",
    "\n",
    "- Age\n",
    "- Annual Income\n",
    "- Num_credit_card\n",
    "- Interest_Rate\n",
    "- Credit_Utilization_Ratio\n",
    "- Num_of_Delayed_Payment\n",
    "- Credit_History_Age\n",
    "- Payment_of_Min_Amount\n",
    "- Total_EMI_per_month\n",
    "- Amount_invested_monthly\n",
    "\n",
    "\n",
    "Our Target Variable is the Credit_Mix column"
   ]
  },
  {
   "cell_type": "markdown",
   "id": "4f3ca0e2",
   "metadata": {},
   "source": [
    "### Lets run .info() to see what our dataframe "
   ]
  },
  {
   "cell_type": "code",
   "execution_count": 7,
   "id": "9a56b9a0",
   "metadata": {},
   "outputs": [
    {
     "name": "stdout",
     "output_type": "stream",
     "text": [
      "<class 'pandas.core.frame.DataFrame'>\n",
      "Int64Index: 21816 entries, 0 to 49998\n",
      "Data columns (total 27 columns):\n",
      " #   Column                    Non-Null Count  Dtype  \n",
      "---  ------                    --------------  -----  \n",
      " 0   ID                        21816 non-null  object \n",
      " 1   Customer_ID               21816 non-null  object \n",
      " 2   Month                     21816 non-null  object \n",
      " 3   Name                      19617 non-null  object \n",
      " 4   Age                       21816 non-null  object \n",
      " 5   SSN                       21816 non-null  object \n",
      " 6   Occupation                21816 non-null  object \n",
      " 7   Annual_Income             21816 non-null  object \n",
      " 8   Monthly_Inhand_Salary     18573 non-null  float64\n",
      " 9   Num_Bank_Accounts         21816 non-null  int64  \n",
      " 10  Num_Credit_Card           21816 non-null  int64  \n",
      " 11  Interest_Rate             21816 non-null  int64  \n",
      " 12  Num_of_Loan               21816 non-null  object \n",
      " 13  Type_of_Loan              19233 non-null  object \n",
      " 14  Delay_from_due_date       21816 non-null  int64  \n",
      " 15  Num_of_Delayed_Payment    20264 non-null  object \n",
      " 16  Changed_Credit_Limit      21816 non-null  object \n",
      " 17  Num_Credit_Inquiries      21347 non-null  float64\n",
      " 18  Credit_Mix                21816 non-null  object \n",
      " 19  Outstanding_Debt          21816 non-null  object \n",
      " 20  Credit_Utilization_Ratio  21816 non-null  float64\n",
      " 21  Credit_History_Age        19863 non-null  object \n",
      " 22  Payment_of_Min_Amount     21816 non-null  object \n",
      " 23  Total_EMI_per_month       21816 non-null  float64\n",
      " 24  Amount_invested_monthly   20840 non-null  object \n",
      " 25  Payment_Behaviour         21816 non-null  object \n",
      " 26  Monthly_Balance           21529 non-null  object \n",
      "dtypes: float64(4), int64(4), object(19)\n",
      "memory usage: 4.7+ MB\n"
     ]
    }
   ],
   "source": [
    "filterd_df.info()"
   ]
  },
  {
   "cell_type": "markdown",
   "id": "248f21e9",
   "metadata": {},
   "source": [
    "Since there are Null rows we should get rid of those to get the best accuracy for when we go to run classification models on them"
   ]
  },
  {
   "cell_type": "code",
   "execution_count": 8,
   "id": "0fbae599",
   "metadata": {},
   "outputs": [
    {
     "data": {
      "text/html": [
       "<div>\n",
       "<style scoped>\n",
       "    .dataframe tbody tr th:only-of-type {\n",
       "        vertical-align: middle;\n",
       "    }\n",
       "\n",
       "    .dataframe tbody tr th {\n",
       "        vertical-align: top;\n",
       "    }\n",
       "\n",
       "    .dataframe thead th {\n",
       "        text-align: right;\n",
       "    }\n",
       "</style>\n",
       "<table border=\"1\" class=\"dataframe\">\n",
       "  <thead>\n",
       "    <tr style=\"text-align: right;\">\n",
       "      <th></th>\n",
       "      <th>ID</th>\n",
       "      <th>Customer_ID</th>\n",
       "      <th>Month</th>\n",
       "      <th>Name</th>\n",
       "      <th>Age</th>\n",
       "      <th>SSN</th>\n",
       "      <th>Occupation</th>\n",
       "      <th>Annual_Income</th>\n",
       "      <th>Monthly_Inhand_Salary</th>\n",
       "      <th>Num_Bank_Accounts</th>\n",
       "      <th>...</th>\n",
       "      <th>Num_Credit_Inquiries</th>\n",
       "      <th>Credit_Mix</th>\n",
       "      <th>Outstanding_Debt</th>\n",
       "      <th>Credit_Utilization_Ratio</th>\n",
       "      <th>Credit_History_Age</th>\n",
       "      <th>Payment_of_Min_Amount</th>\n",
       "      <th>Total_EMI_per_month</th>\n",
       "      <th>Amount_invested_monthly</th>\n",
       "      <th>Payment_Behaviour</th>\n",
       "      <th>Monthly_Balance</th>\n",
       "    </tr>\n",
       "  </thead>\n",
       "  <tbody>\n",
       "    <tr>\n",
       "      <th>0</th>\n",
       "      <td>0x160a</td>\n",
       "      <td>CUS_0xd40</td>\n",
       "      <td>September</td>\n",
       "      <td>Aaron Maashoh</td>\n",
       "      <td>23</td>\n",
       "      <td>821-00-0265</td>\n",
       "      <td>Scientist</td>\n",
       "      <td>19114.12</td>\n",
       "      <td>1824.843333</td>\n",
       "      <td>3</td>\n",
       "      <td>...</td>\n",
       "      <td>2022.0</td>\n",
       "      <td>Good</td>\n",
       "      <td>809.98</td>\n",
       "      <td>35.030402</td>\n",
       "      <td>22 Years and 9 Months</td>\n",
       "      <td>No</td>\n",
       "      <td>49.574949</td>\n",
       "      <td>236.64268203272135</td>\n",
       "      <td>Low_spent_Small_value_payments</td>\n",
       "      <td>186.26670208571772</td>\n",
       "    </tr>\n",
       "    <tr>\n",
       "      <th>1</th>\n",
       "      <td>0x160b</td>\n",
       "      <td>CUS_0xd40</td>\n",
       "      <td>October</td>\n",
       "      <td>Aaron Maashoh</td>\n",
       "      <td>24</td>\n",
       "      <td>821-00-0265</td>\n",
       "      <td>Scientist</td>\n",
       "      <td>19114.12</td>\n",
       "      <td>1824.843333</td>\n",
       "      <td>3</td>\n",
       "      <td>...</td>\n",
       "      <td>4.0</td>\n",
       "      <td>Good</td>\n",
       "      <td>809.98</td>\n",
       "      <td>33.053114</td>\n",
       "      <td>22 Years and 10 Months</td>\n",
       "      <td>No</td>\n",
       "      <td>49.574949</td>\n",
       "      <td>21.465380264657146</td>\n",
       "      <td>High_spent_Medium_value_payments</td>\n",
       "      <td>361.44400385378196</td>\n",
       "    </tr>\n",
       "    <tr>\n",
       "      <th>2</th>\n",
       "      <td>0x160c</td>\n",
       "      <td>CUS_0xd40</td>\n",
       "      <td>November</td>\n",
       "      <td>Aaron Maashoh</td>\n",
       "      <td>24</td>\n",
       "      <td>821-00-0265</td>\n",
       "      <td>Scientist</td>\n",
       "      <td>19114.12</td>\n",
       "      <td>1824.843333</td>\n",
       "      <td>3</td>\n",
       "      <td>...</td>\n",
       "      <td>4.0</td>\n",
       "      <td>Good</td>\n",
       "      <td>809.98</td>\n",
       "      <td>33.811894</td>\n",
       "      <td>NaN</td>\n",
       "      <td>No</td>\n",
       "      <td>49.574949</td>\n",
       "      <td>148.23393788500925</td>\n",
       "      <td>Low_spent_Medium_value_payments</td>\n",
       "      <td>264.67544623342997</td>\n",
       "    </tr>\n",
       "    <tr>\n",
       "      <th>3</th>\n",
       "      <td>0x160d</td>\n",
       "      <td>CUS_0xd40</td>\n",
       "      <td>December</td>\n",
       "      <td>Aaron Maashoh</td>\n",
       "      <td>24_</td>\n",
       "      <td>821-00-0265</td>\n",
       "      <td>Scientist</td>\n",
       "      <td>19114.12</td>\n",
       "      <td>NaN</td>\n",
       "      <td>3</td>\n",
       "      <td>...</td>\n",
       "      <td>4.0</td>\n",
       "      <td>Good</td>\n",
       "      <td>809.98</td>\n",
       "      <td>32.430559</td>\n",
       "      <td>23 Years and 0 Months</td>\n",
       "      <td>No</td>\n",
       "      <td>49.574949</td>\n",
       "      <td>39.08251089460281</td>\n",
       "      <td>High_spent_Medium_value_payments</td>\n",
       "      <td>343.82687322383634</td>\n",
       "    </tr>\n",
       "    <tr>\n",
       "      <th>4</th>\n",
       "      <td>0x1616</td>\n",
       "      <td>CUS_0x21b1</td>\n",
       "      <td>September</td>\n",
       "      <td>Rick Rothackerj</td>\n",
       "      <td>28</td>\n",
       "      <td>004-07-5839</td>\n",
       "      <td>_______</td>\n",
       "      <td>34847.84</td>\n",
       "      <td>3037.986667</td>\n",
       "      <td>2</td>\n",
       "      <td>...</td>\n",
       "      <td>5.0</td>\n",
       "      <td>Good</td>\n",
       "      <td>605.03</td>\n",
       "      <td>25.926822</td>\n",
       "      <td>27 Years and 3 Months</td>\n",
       "      <td>No</td>\n",
       "      <td>18.816215</td>\n",
       "      <td>39.684018417945296</td>\n",
       "      <td>High_spent_Large_value_payments</td>\n",
       "      <td>485.2984336755923</td>\n",
       "    </tr>\n",
       "    <tr>\n",
       "      <th>...</th>\n",
       "      <td>...</td>\n",
       "      <td>...</td>\n",
       "      <td>...</td>\n",
       "      <td>...</td>\n",
       "      <td>...</td>\n",
       "      <td>...</td>\n",
       "      <td>...</td>\n",
       "      <td>...</td>\n",
       "      <td>...</td>\n",
       "      <td>...</td>\n",
       "      <td>...</td>\n",
       "      <td>...</td>\n",
       "      <td>...</td>\n",
       "      <td>...</td>\n",
       "      <td>...</td>\n",
       "      <td>...</td>\n",
       "      <td>...</td>\n",
       "      <td>...</td>\n",
       "      <td>...</td>\n",
       "      <td>...</td>\n",
       "      <td>...</td>\n",
       "    </tr>\n",
       "    <tr>\n",
       "      <th>49995</th>\n",
       "      <td>0x25fe5</td>\n",
       "      <td>CUS_0x8600</td>\n",
       "      <td>December</td>\n",
       "      <td>Sarah McBridec</td>\n",
       "      <td>4975</td>\n",
       "      <td>031-35-0942</td>\n",
       "      <td>Architect</td>\n",
       "      <td>20002.88</td>\n",
       "      <td>1929.906667</td>\n",
       "      <td>10</td>\n",
       "      <td>...</td>\n",
       "      <td>12.0</td>\n",
       "      <td>_</td>\n",
       "      <td>3571.7</td>\n",
       "      <td>34.780553</td>\n",
       "      <td>NaN</td>\n",
       "      <td>Yes</td>\n",
       "      <td>60.964772</td>\n",
       "      <td>146.48632477751087</td>\n",
       "      <td>Low_spent_Small_value_payments</td>\n",
       "      <td>275.53956951573343</td>\n",
       "    </tr>\n",
       "    <tr>\n",
       "      <th>49996</th>\n",
       "      <td>0x25fee</td>\n",
       "      <td>CUS_0x942c</td>\n",
       "      <td>September</td>\n",
       "      <td>Nicks</td>\n",
       "      <td>25</td>\n",
       "      <td>078-73-5990</td>\n",
       "      <td>Mechanic</td>\n",
       "      <td>39628.99</td>\n",
       "      <td>NaN</td>\n",
       "      <td>4</td>\n",
       "      <td>...</td>\n",
       "      <td>7.0</td>\n",
       "      <td>Good</td>\n",
       "      <td>502.38</td>\n",
       "      <td>27.758522</td>\n",
       "      <td>31 Years and 11 Months</td>\n",
       "      <td>NM</td>\n",
       "      <td>35.104023</td>\n",
       "      <td>181.44299902757518</td>\n",
       "      <td>Low_spent_Small_value_payments</td>\n",
       "      <td>409.39456169535066</td>\n",
       "    </tr>\n",
       "    <tr>\n",
       "      <th>49997</th>\n",
       "      <td>0x25fef</td>\n",
       "      <td>CUS_0x942c</td>\n",
       "      <td>October</td>\n",
       "      <td>Nicks</td>\n",
       "      <td>25</td>\n",
       "      <td>078-73-5990</td>\n",
       "      <td>Mechanic</td>\n",
       "      <td>39628.99</td>\n",
       "      <td>3359.415833</td>\n",
       "      <td>4</td>\n",
       "      <td>...</td>\n",
       "      <td>7.0</td>\n",
       "      <td>Good</td>\n",
       "      <td>502.38</td>\n",
       "      <td>36.858542</td>\n",
       "      <td>32 Years and 0 Months</td>\n",
       "      <td>No</td>\n",
       "      <td>35.104023</td>\n",
       "      <td>__10000__</td>\n",
       "      <td>Low_spent_Large_value_payments</td>\n",
       "      <td>349.7263321025098</td>\n",
       "    </tr>\n",
       "    <tr>\n",
       "      <th>49998</th>\n",
       "      <td>0x25ff0</td>\n",
       "      <td>CUS_0x942c</td>\n",
       "      <td>November</td>\n",
       "      <td>Nicks</td>\n",
       "      <td>25</td>\n",
       "      <td>078-73-5990</td>\n",
       "      <td>Mechanic</td>\n",
       "      <td>39628.99</td>\n",
       "      <td>NaN</td>\n",
       "      <td>4</td>\n",
       "      <td>...</td>\n",
       "      <td>7.0</td>\n",
       "      <td>Good</td>\n",
       "      <td>502.38</td>\n",
       "      <td>39.139840</td>\n",
       "      <td>32 Years and 1 Months</td>\n",
       "      <td>No</td>\n",
       "      <td>35.104023</td>\n",
       "      <td>97.59857973344877</td>\n",
       "      <td>High_spent_Small_value_payments</td>\n",
       "      <td>463.23898098947717</td>\n",
       "    </tr>\n",
       "    <tr>\n",
       "      <th>49999</th>\n",
       "      <td>0x25ff1</td>\n",
       "      <td>CUS_0x942c</td>\n",
       "      <td>December</td>\n",
       "      <td>Nicks</td>\n",
       "      <td>25</td>\n",
       "      <td>078-73-5990</td>\n",
       "      <td>Mechanic</td>\n",
       "      <td>39628.99</td>\n",
       "      <td>3359.415833</td>\n",
       "      <td>4</td>\n",
       "      <td>...</td>\n",
       "      <td>7.0</td>\n",
       "      <td>_</td>\n",
       "      <td>502.38</td>\n",
       "      <td>34.108530</td>\n",
       "      <td>32 Years and 2 Months</td>\n",
       "      <td>No</td>\n",
       "      <td>35.104023</td>\n",
       "      <td>220.45787812168732</td>\n",
       "      <td>Low_spent_Medium_value_payments</td>\n",
       "      <td>360.37968260123847</td>\n",
       "    </tr>\n",
       "  </tbody>\n",
       "</table>\n",
       "<p>50000 rows × 27 columns</p>\n",
       "</div>"
      ],
      "text/plain": [
       "            ID Customer_ID      Month             Name   Age          SSN  \\\n",
       "0       0x160a   CUS_0xd40  September    Aaron Maashoh    23  821-00-0265   \n",
       "1       0x160b   CUS_0xd40    October    Aaron Maashoh    24  821-00-0265   \n",
       "2       0x160c   CUS_0xd40   November    Aaron Maashoh    24  821-00-0265   \n",
       "3       0x160d   CUS_0xd40   December    Aaron Maashoh   24_  821-00-0265   \n",
       "4       0x1616  CUS_0x21b1  September  Rick Rothackerj    28  004-07-5839   \n",
       "...        ...         ...        ...              ...   ...          ...   \n",
       "49995  0x25fe5  CUS_0x8600   December   Sarah McBridec  4975  031-35-0942   \n",
       "49996  0x25fee  CUS_0x942c  September            Nicks    25  078-73-5990   \n",
       "49997  0x25fef  CUS_0x942c    October            Nicks    25  078-73-5990   \n",
       "49998  0x25ff0  CUS_0x942c   November            Nicks    25  078-73-5990   \n",
       "49999  0x25ff1  CUS_0x942c   December            Nicks    25  078-73-5990   \n",
       "\n",
       "      Occupation Annual_Income  Monthly_Inhand_Salary  Num_Bank_Accounts  ...  \\\n",
       "0      Scientist      19114.12            1824.843333                  3  ...   \n",
       "1      Scientist      19114.12            1824.843333                  3  ...   \n",
       "2      Scientist      19114.12            1824.843333                  3  ...   \n",
       "3      Scientist      19114.12                    NaN                  3  ...   \n",
       "4        _______      34847.84            3037.986667                  2  ...   \n",
       "...          ...           ...                    ...                ...  ...   \n",
       "49995  Architect      20002.88            1929.906667                 10  ...   \n",
       "49996   Mechanic      39628.99                    NaN                  4  ...   \n",
       "49997   Mechanic      39628.99            3359.415833                  4  ...   \n",
       "49998   Mechanic      39628.99                    NaN                  4  ...   \n",
       "49999   Mechanic      39628.99            3359.415833                  4  ...   \n",
       "\n",
       "       Num_Credit_Inquiries  Credit_Mix Outstanding_Debt  \\\n",
       "0                    2022.0        Good           809.98   \n",
       "1                       4.0        Good           809.98   \n",
       "2                       4.0        Good           809.98   \n",
       "3                       4.0        Good           809.98   \n",
       "4                       5.0        Good           605.03   \n",
       "...                     ...         ...              ...   \n",
       "49995                  12.0           _           3571.7   \n",
       "49996                   7.0        Good           502.38   \n",
       "49997                   7.0        Good           502.38   \n",
       "49998                   7.0        Good           502.38   \n",
       "49999                   7.0           _           502.38   \n",
       "\n",
       "      Credit_Utilization_Ratio      Credit_History_Age Payment_of_Min_Amount  \\\n",
       "0                    35.030402   22 Years and 9 Months                    No   \n",
       "1                    33.053114  22 Years and 10 Months                    No   \n",
       "2                    33.811894                     NaN                    No   \n",
       "3                    32.430559   23 Years and 0 Months                    No   \n",
       "4                    25.926822   27 Years and 3 Months                    No   \n",
       "...                        ...                     ...                   ...   \n",
       "49995                34.780553                     NaN                   Yes   \n",
       "49996                27.758522  31 Years and 11 Months                    NM   \n",
       "49997                36.858542   32 Years and 0 Months                    No   \n",
       "49998                39.139840   32 Years and 1 Months                    No   \n",
       "49999                34.108530   32 Years and 2 Months                    No   \n",
       "\n",
       "      Total_EMI_per_month  Amount_invested_monthly  \\\n",
       "0               49.574949       236.64268203272135   \n",
       "1               49.574949       21.465380264657146   \n",
       "2               49.574949       148.23393788500925   \n",
       "3               49.574949        39.08251089460281   \n",
       "4               18.816215       39.684018417945296   \n",
       "...                   ...                      ...   \n",
       "49995           60.964772       146.48632477751087   \n",
       "49996           35.104023       181.44299902757518   \n",
       "49997           35.104023                __10000__   \n",
       "49998           35.104023        97.59857973344877   \n",
       "49999           35.104023       220.45787812168732   \n",
       "\n",
       "                      Payment_Behaviour     Monthly_Balance  \n",
       "0        Low_spent_Small_value_payments  186.26670208571772  \n",
       "1      High_spent_Medium_value_payments  361.44400385378196  \n",
       "2       Low_spent_Medium_value_payments  264.67544623342997  \n",
       "3      High_spent_Medium_value_payments  343.82687322383634  \n",
       "4       High_spent_Large_value_payments   485.2984336755923  \n",
       "...                                 ...                 ...  \n",
       "49995    Low_spent_Small_value_payments  275.53956951573343  \n",
       "49996    Low_spent_Small_value_payments  409.39456169535066  \n",
       "49997    Low_spent_Large_value_payments   349.7263321025098  \n",
       "49998   High_spent_Small_value_payments  463.23898098947717  \n",
       "49999   Low_spent_Medium_value_payments  360.37968260123847  \n",
       "\n",
       "[50000 rows x 27 columns]"
      ]
     },
     "execution_count": 8,
     "metadata": {},
     "output_type": "execute_result"
    }
   ],
   "source": [
    "filterd_df.dropna(inplace=True)\n",
    "df"
   ]
  },
  {
   "cell_type": "code",
   "execution_count": 83,
   "id": "eb31bae6",
   "metadata": {},
   "outputs": [
    {
     "name": "stdout",
     "output_type": "stream",
     "text": [
      "<class 'pandas.core.frame.DataFrame'>\n",
      "Int64Index: 40428 entries, 0 to 49999\n",
      "Data columns (total 11 columns):\n",
      " #   Column                    Non-Null Count  Dtype  \n",
      "---  ------                    --------------  -----  \n",
      " 0   Age                       40428 non-null  object \n",
      " 1   Annual_Income             40428 non-null  object \n",
      " 2   Num_Credit_Card           40428 non-null  int64  \n",
      " 3   Interest_Rate             40428 non-null  int64  \n",
      " 4   Num_of_Delayed_Payment    40428 non-null  object \n",
      " 5   Credit_Utilization_Ratio  40428 non-null  float64\n",
      " 6   Credit_History_Age        40428 non-null  object \n",
      " 7   Payment_of_Min_Amount     40428 non-null  object \n",
      " 8   Total_EMI_per_month       40428 non-null  float64\n",
      " 9   Amount_invested_monthly   40428 non-null  object \n",
      " 10  Payment_Behaviour         40428 non-null  object \n",
      "dtypes: float64(2), int64(2), object(7)\n",
      "memory usage: 3.7+ MB\n"
     ]
    }
   ],
   "source": [
    "filterd_df.info()"
   ]
  },
  {
   "cell_type": "markdown",
   "id": "e5e7c82a",
   "metadata": {},
   "source": [
    "Perfect! As you can see all rows are now matched up to each other, as you can see all of the columns and there data seem to be non-null."
   ]
  },
  {
   "cell_type": "markdown",
   "id": "35c7f04c",
   "metadata": {},
   "source": [
    "### Setting up our binary decision variable"
   ]
  },
  {
   "cell_type": "code",
   "execution_count": 13,
   "id": "2747877a",
   "metadata": {},
   "outputs": [
    {
     "name": "stdout",
     "output_type": "stream",
     "text": [
      "      Age Annual_Income  Num_Credit_Card  Interest_Rate  \\\n",
      "0      23      19114.12                4              3   \n",
      "1      24      19114.12                4              3   \n",
      "4      28      34847.84                4              6   \n",
      "5      28      34847.84                4              6   \n",
      "9      35     143162.64                5              8   \n",
      "...    ..           ...              ...            ...   \n",
      "49990  50       37188.1                4           4252   \n",
      "49992  29      20002.88                8             29   \n",
      "49993  29      20002.88                8             29   \n",
      "49994  29      20002.88                8             29   \n",
      "49997  25      39628.99                6              7   \n",
      "\n",
      "       Credit_Utilization_Ratio  \n",
      "0                     35.030402  \n",
      "1                     33.053114  \n",
      "4                     25.926822  \n",
      "5                     30.116600  \n",
      "9                     35.685836  \n",
      "...                         ...  \n",
      "49990                 25.708414  \n",
      "49992                 32.391288  \n",
      "49993                 37.528511  \n",
      "49994                 27.027812  \n",
      "49997                 36.858542  \n",
      "\n",
      "[11456 rows x 5 columns]\n"
     ]
    }
   ],
   "source": [
    "import pandas as pd\n",
    "from sklearn.model_selection import train_test_split\n",
    "from sklearn.preprocessing import StandardScaler\n",
    "from sklearn.dummy import DummyClassifier\n",
    "from sklearn.metrics import accuracy_score, confusion_matrix, classification_report\n",
    "\n",
    "# lets set up our features\n",
    "features = ['Age', 'Annual_Income', 'Num_Credit_Card', 'Interest_Rate', 'Credit_Utilization_Ratio']\n",
    "# our target variable\n",
    "target = 'Credit_Mix'\n",
    "\n",
    "X = filterd_df[features].copy()\n",
    "y = filterd_df[target]\n",
    "\n",
    "print(X)\n",
    "\n",
    "\n",
    "\n"
   ]
  },
  {
   "cell_type": "markdown",
   "id": "d4c83126",
   "metadata": {},
   "source": [
    "It seems like there are some values that have \"_\" in them, that will become a problem for our next step so lets clean up this data"
   ]
  },
  {
   "cell_type": "code",
   "execution_count": 14,
   "id": "a5ec0da9",
   "metadata": {},
   "outputs": [],
   "source": [
    "\n",
    "\n",
    "# Loop through each column\n",
    "for col in X.columns:\n",
    "    # Check if the column data type is object (string)\n",
    "    if X[col].dtype == 'object':\n",
    "        # Replace underscores with an appropriate value (e.g., empty string)\n",
    "        X[col] = X[col].str.replace('_', '')\n",
    "\n",
    "# Now the underscores are removed from the entire dataset\n"
   ]
  },
  {
   "cell_type": "markdown",
   "id": "0010874d",
   "metadata": {},
   "source": [
    "The StandardScaler is a preprocessing technique used to standardize the features by subtracting the mean and dividing by the standard deviation. This process transforms the features into a distribution with mean 0 and standard deviation 1. This is done independently for each feature."
   ]
  },
  {
   "cell_type": "code",
   "execution_count": 15,
   "id": "536632f2",
   "metadata": {},
   "outputs": [],
   "source": [
    "# Split the dataset into training and testing sets\n",
    "X_train, X_test, y_train, y_test = train_test_split(X, y, test_size=0.2, random_state=42)\n",
    "\n",
    "# initlize the standardscaler obj\n",
    "scaler = StandardScaler()\n",
    "\n",
    "#calculates the mean and standard deviation of each feature in the training set (X_train). Then, \n",
    "# it transforms the training features by subtracting the mean and dividing by the standard deviation\n",
    "X_train_scaled = scaler.fit_transform(X_train)\n",
    "\n",
    "# The same transformation is applied to the test set (X_test)\n",
    "\n",
    "X_test_scaled = scaler.transform(X_test)"
   ]
  },
  {
   "cell_type": "markdown",
   "id": "fb253781",
   "metadata": {},
   "source": [
    "### Dummy Classifcation"
   ]
  },
  {
   "cell_type": "markdown",
   "id": "1e5c0416",
   "metadata": {},
   "source": [
    "To start off we will use ```DummyClassifer``` as our first model. The ```DummyClassifier``` is sklearn's baseline model for classification\n",
    "\n",
    "The ```DummyClassifier``` is a classifier provided by scikit-learn that serves as a baseline model for binary or multiclass classification tasks. It's often used to understand how well a more complex classifier is performing compared to a simple, naive strategy. The DummyClassifier essentially provides predictions based on simple rules, making it useful for establishing a benchmark performance level."
   ]
  },
  {
   "cell_type": "code",
   "execution_count": 16,
   "id": "bd4669fa",
   "metadata": {},
   "outputs": [
    {
     "name": "stdout",
     "output_type": "stream",
     "text": [
      "Accuracy: 0.49040139616055844\n",
      "Confusion Matrix:\n",
      " [[   0 1168]\n",
      " [   0 1124]]\n",
      "Classification Report:\n",
      "               precision    recall  f1-score   support\n",
      "\n",
      "         Bad       0.00      0.00      0.00      1168\n",
      "        Good       0.49      1.00      0.66      1124\n",
      "\n",
      "    accuracy                           0.49      2292\n",
      "   macro avg       0.25      0.50      0.33      2292\n",
      "weighted avg       0.24      0.49      0.32      2292\n",
      "\n"
     ]
    },
    {
     "name": "stderr",
     "output_type": "stream",
     "text": [
      "/Users/papifrombucheon/opt/anaconda3/lib/python3.9/site-packages/sklearn/metrics/_classification.py:1318: UndefinedMetricWarning: Precision and F-score are ill-defined and being set to 0.0 in labels with no predicted samples. Use `zero_division` parameter to control this behavior.\n",
      "  _warn_prf(average, modifier, msg_start, len(result))\n",
      "/Users/papifrombucheon/opt/anaconda3/lib/python3.9/site-packages/sklearn/metrics/_classification.py:1318: UndefinedMetricWarning: Precision and F-score are ill-defined and being set to 0.0 in labels with no predicted samples. Use `zero_division` parameter to control this behavior.\n",
      "  _warn_prf(average, modifier, msg_start, len(result))\n",
      "/Users/papifrombucheon/opt/anaconda3/lib/python3.9/site-packages/sklearn/metrics/_classification.py:1318: UndefinedMetricWarning: Precision and F-score are ill-defined and being set to 0.0 in labels with no predicted samples. Use `zero_division` parameter to control this behavior.\n",
      "  _warn_prf(average, modifier, msg_start, len(result))\n"
     ]
    }
   ],
   "source": [
    "# Initialize and train the DummyClassifier\n",
    "dummy_model = DummyClassifier(strategy='most_frequent')  # This strategy predicts the most frequent class\n",
    "dummy_model.fit(X_train_scaled, y_train)\n",
    "\n",
    "# Make predictions on the test set\n",
    "y_pred = dummy_model.predict(X_test_scaled)\n",
    "\n",
    "# Evaluate the model\n",
    "accuracy = accuracy_score(y_test, y_pred)\n",
    "conf_matrix = confusion_matrix(y_test, y_pred)\n",
    "classification_rep = classification_report(y_test, y_pred)\n",
    "\n",
    "print(\"Accuracy:\", accuracy)\n",
    "print(\"Confusion Matrix:\\n\", conf_matrix)\n",
    "print(\"Classification Report:\\n\", classification_rep)"
   ]
  },
  {
   "cell_type": "markdown",
   "id": "f018dcb9",
   "metadata": {},
   "source": [
    "### What does this accuracy score mean?"
   ]
  },
  {
   "cell_type": "markdown",
   "id": "b642d26f",
   "metadata": {},
   "source": [
    "The accuracy score of ```0.4904``` essentially mean that our classifcation model correctly predicted our target value  approximately 49.04% of the time. This makes sense because the split between 'Good' and 'Bad' is quite even, so since the dummy classifer looks for the most frequent cases, it guesses wrong almost half of the time. \n",
    "\n",
    "However, this accuracy score is quite low considering that we are using a dummy classifer with binary classifcation. This may mean that other classfication methods may work better for our dataset. This value is far too low to say that this is a reliable method."
   ]
  },
  {
   "cell_type": "markdown",
   "id": "dbab54d8",
   "metadata": {},
   "source": [
    "### Lets upscale the majority class "
   ]
  },
  {
   "cell_type": "markdown",
   "id": "93ecf3ab",
   "metadata": {},
   "source": [
    "Upscaling the majority class should result in predictable results. We would see a increase in accuracy. Our next steps will be upscaling the majority class and running the same dummy classifer."
   ]
  },
  {
   "cell_type": "code",
   "execution_count": 18,
   "id": "661a64b9",
   "metadata": {},
   "outputs": [
    {
     "name": "stdout",
     "output_type": "stream",
     "text": [
      "Accuracy: 0.5095986038394416\n",
      "Confusion Matrix:\n",
      " [[1168    0]\n",
      " [1124    0]]\n",
      "Classification Report:\n",
      "               precision    recall  f1-score   support\n",
      "\n",
      "         Bad       0.51      1.00      0.68      1168\n",
      "        Good       0.00      0.00      0.00      1124\n",
      "\n",
      "    accuracy                           0.51      2292\n",
      "   macro avg       0.25      0.50      0.34      2292\n",
      "weighted avg       0.26      0.51      0.34      2292\n",
      "\n"
     ]
    },
    {
     "name": "stderr",
     "output_type": "stream",
     "text": [
      "/Users/papifrombucheon/opt/anaconda3/lib/python3.9/site-packages/sklearn/metrics/_classification.py:1318: UndefinedMetricWarning: Precision and F-score are ill-defined and being set to 0.0 in labels with no predicted samples. Use `zero_division` parameter to control this behavior.\n",
      "  _warn_prf(average, modifier, msg_start, len(result))\n",
      "/Users/papifrombucheon/opt/anaconda3/lib/python3.9/site-packages/sklearn/metrics/_classification.py:1318: UndefinedMetricWarning: Precision and F-score are ill-defined and being set to 0.0 in labels with no predicted samples. Use `zero_division` parameter to control this behavior.\n",
      "  _warn_prf(average, modifier, msg_start, len(result))\n",
      "/Users/papifrombucheon/opt/anaconda3/lib/python3.9/site-packages/sklearn/metrics/_classification.py:1318: UndefinedMetricWarning: Precision and F-score are ill-defined and being set to 0.0 in labels with no predicted samples. Use `zero_division` parameter to control this behavior.\n",
      "  _warn_prf(average, modifier, msg_start, len(result))\n"
     ]
    }
   ],
   "source": [
    "from sklearn.model_selection import train_test_split\n",
    "from sklearn.preprocessing import StandardScaler\n",
    "from sklearn.dummy import DummyClassifier\n",
    "from sklearn.metrics import accuracy_score, confusion_matrix, classification_report\n",
    "from imblearn.under_sampling import RandomUnderSampler\n",
    "\n",
    "\n",
    "# Upsample the majority class using RandomUnderSampler\n",
    "rus = RandomUnderSampler(sampling_strategy = \"majority\",random_state=42)\n",
    "X_train_resampled, y_train_resampled = rus.fit_resample(X_train_scaled, y_train)\n",
    "\n",
    "\n",
    "# Initialize and train the DummyClassifier on the resampled data\n",
    "dummy_model = DummyClassifier(strategy='most_frequent')\n",
    "dummy_model.fit(X_train_resampled, y_train_resampled)\n",
    "\n",
    "# Make predictions on the test set\n",
    "y_pred = dummy_model.predict(X_test_scaled)\n",
    "\n",
    "# Evaluate the model\n",
    "accuracy = accuracy_score(y_test, y_pred)\n",
    "conf_matrix = confusion_matrix(y_test, y_pred)\n",
    "classification_rep = classification_report(y_test, y_pred)\n",
    "\n",
    "print(\"Accuracy:\", accuracy)\n",
    "print(\"Confusion Matrix:\\n\", conf_matrix)\n",
    "print(\"Classification Report:\\n\", classification_rep)\n"
   ]
  },
  {
   "cell_type": "markdown",
   "id": "def8d427",
   "metadata": {},
   "source": [
    "As you can see we see a higher accuracy now, this is due to the higher imbalance to the majority class resulting in the dummy classifer being able to make the \"guess\" more correctly. Mind you not since it was upscaled a little bit "
   ]
  },
  {
   "cell_type": "markdown",
   "id": "5064a929",
   "metadata": {},
   "source": [
    "### Logisitic Regression on Credit Mix Column"
   ]
  },
  {
   "cell_type": "markdown",
   "id": "f9e20876",
   "metadata": {},
   "source": [
    "Lets talk about the logistic regression algorithm. Logistic regression is an effective classification algorithm for several reasons:\n",
    "\n",
    "1. ```Interpretability```: Logistic regression provides interpretable results. The coefficients associated with each feature can be directly interpreted as the change in the log-odds of the outcome for a one-unit change in the corresponding feature. This makes it easier to understand the relationship between the features and the target.\n",
    "\n",
    "2. ```Efficiency```: Logistic regression is computationally efficient and can handle large datasets relatively well. Training logistic regression models is generally faster compared to more complex algorithms.\n",
    "\n",
    "Lets conduct multiclass classification on the dataset."
   ]
  },
  {
   "cell_type": "code",
   "execution_count": 20,
   "id": "94698600",
   "metadata": {},
   "outputs": [
    {
     "data": {
      "text/plain": [
       "Standard    18379\n",
       "Good        12260\n",
       "Bad          9556\n",
       "Name: Credit_Mix, dtype: int64"
      ]
     },
     "execution_count": 20,
     "metadata": {},
     "output_type": "execute_result"
    }
   ],
   "source": [
    "import pandas as pd\n",
    "from sklearn.model_selection import train_test_split\n",
    "from sklearn.preprocessing import StandardScaler\n",
    "from sklearn.linear_model import LogisticRegression\n",
    "from sklearn.metrics import accuracy_score, classification_report\n",
    "\n",
    "#Lets first read this data into a dataframe that we can view\n",
    "df = pd.read_csv(\"test.csv\")\n",
    "\n",
    "# lets filter our data\n",
    "filterd_df = df[df['Credit_Mix'] != \"_\"]\n",
    "filterd_df['Credit_Mix'].value_counts()\n"
   ]
  },
  {
   "cell_type": "markdown",
   "id": "16e90993",
   "metadata": {},
   "source": [
    "We preproccess the data first like we did for binary classification. (note) We are not getting rid of the standard column since its no longer binary."
   ]
  },
  {
   "cell_type": "code",
   "execution_count": 22,
   "id": "a1b04610",
   "metadata": {},
   "outputs": [
    {
     "name": "stdout",
     "output_type": "stream",
     "text": [
      "Accuracy: 0.4562756561761413\n",
      "Classification Report:\n",
      "               precision    recall  f1-score   support\n",
      "\n",
      "         Bad       0.00      0.00      0.00      1937\n",
      "        Good       0.00      0.00      0.00      2434\n",
      "    Standard       0.46      1.00      0.63      3668\n",
      "\n",
      "    accuracy                           0.46      8039\n",
      "   macro avg       0.15      0.33      0.21      8039\n",
      "weighted avg       0.21      0.46      0.29      8039\n",
      "\n"
     ]
    },
    {
     "name": "stderr",
     "output_type": "stream",
     "text": [
      "/Users/papifrombucheon/opt/anaconda3/lib/python3.9/site-packages/sklearn/metrics/_classification.py:1318: UndefinedMetricWarning: Precision and F-score are ill-defined and being set to 0.0 in labels with no predicted samples. Use `zero_division` parameter to control this behavior.\n",
      "  _warn_prf(average, modifier, msg_start, len(result))\n",
      "/Users/papifrombucheon/opt/anaconda3/lib/python3.9/site-packages/sklearn/metrics/_classification.py:1318: UndefinedMetricWarning: Precision and F-score are ill-defined and being set to 0.0 in labels with no predicted samples. Use `zero_division` parameter to control this behavior.\n",
      "  _warn_prf(average, modifier, msg_start, len(result))\n",
      "/Users/papifrombucheon/opt/anaconda3/lib/python3.9/site-packages/sklearn/metrics/_classification.py:1318: UndefinedMetricWarning: Precision and F-score are ill-defined and being set to 0.0 in labels with no predicted samples. Use `zero_division` parameter to control this behavior.\n",
      "  _warn_prf(average, modifier, msg_start, len(result))\n"
     ]
    }
   ],
   "source": [
    "# lets set up our features\n",
    "features = ['Age', 'Annual_Income', 'Num_Credit_Card', 'Interest_Rate', 'Credit_Utilization_Ratio']\n",
    "# our target variable\n",
    "target = 'Credit_Mix'\n",
    "\n",
    "X = filterd_df[features].copy()\n",
    "y = filterd_df[target]\n",
    "\n",
    "# Loop through each column\n",
    "for col in X.columns:\n",
    "    # Check if the column data type is object (string)\n",
    "    if X[col].dtype == 'object':\n",
    "        # Replace underscores with an appropriate value (e.g., empty string)\n",
    "        X[col] = X[col].str.replace('_', '')\n",
    "\n",
    "# Now the underscores are removed from the entire dataset\n",
    "\n",
    "# Split the data into training and testing sets\n",
    "X_train, X_test, y_train, y_test = train_test_split(X, y, test_size=0.2, random_state=42)\n",
    "\n",
    "# Standardize the features\n",
    "scaler = StandardScaler()\n",
    "X_train_scaled = scaler.fit_transform(X_train)\n",
    "X_test_scaled = scaler.transform(X_test)\n",
    "\n",
    "# Choose a classifier (Logistic Regression with One-vs-Rest approach)\n",
    "classifier = LogisticRegression(max_iter=1000, multi_class='ovr')  # 'ovr' stands for \"One-vs-Rest\"\n",
    "\n",
    "# Train the classifier\n",
    "classifier.fit(X_train_scaled, y_train)\n",
    "\n",
    "# Make predictions\n",
    "y_pred = classifier.predict(X_test_scaled)\n",
    "\n",
    "# Evaluate the model\n",
    "accuracy = accuracy_score(y_test, y_pred)\n",
    "classification_rep = classification_report(y_test, y_pred)\n",
    "\n",
    "print(\"Accuracy:\", accuracy)\n",
    "print(\"Classification Report:\\n\", classification_rep)"
   ]
  },
  {
   "cell_type": "markdown",
   "id": "d4344d28",
   "metadata": {},
   "source": [
    "### K-Nearest Neighours"
   ]
  },
  {
   "cell_type": "markdown",
   "id": "43702749",
   "metadata": {},
   "source": [
    "Since we are not seeing much success with logitistic regression lets try the K-nearest neighbour algorithm and see what kind of results we see"
   ]
  },
  {
   "cell_type": "markdown",
   "id": "286c52af",
   "metadata": {},
   "source": [
    "To explain what K-nearest neighbours (KNN) is a simple and intuitive algorithm for classification. It works by finding the K closest data points in the training set to a given test data point and then making predictions based on the majority class among those K neighbors\n",
    "\n",
    " "
   ]
  },
  {
   "cell_type": "markdown",
   "id": "c6928693",
   "metadata": {},
   "source": [
    "Lets import the needed package from scikit learn"
   ]
  },
  {
   "cell_type": "code",
   "execution_count": 23,
   "id": "f6e2eefa",
   "metadata": {},
   "outputs": [],
   "source": [
    "from sklearn.neighbors import KNeighborsClassifier"
   ]
  },
  {
   "cell_type": "markdown",
   "id": "72a925ec",
   "metadata": {},
   "source": [
    "We will use the same data, lets just make sure we have everything correct"
   ]
  },
  {
   "cell_type": "code",
   "execution_count": 24,
   "id": "65ac16bc",
   "metadata": {},
   "outputs": [
    {
     "data": {
      "text/plain": [
       "Standard    18379\n",
       "Good        12260\n",
       "Bad          9556\n",
       "Name: Credit_Mix, dtype: int64"
      ]
     },
     "execution_count": 24,
     "metadata": {},
     "output_type": "execute_result"
    }
   ],
   "source": [
    "#Lets first read this data into a dataframe that we can view\n",
    "df = pd.read_csv(\"test.csv\")\n",
    "\n",
    "# lets filter our data\n",
    "filterd_df = df[df['Credit_Mix'] != \"_\"]\n",
    "filterd_df['Credit_Mix'].value_counts()"
   ]
  },
  {
   "cell_type": "code",
   "execution_count": 28,
   "id": "10139d5d",
   "metadata": {},
   "outputs": [
    {
     "name": "stdout",
     "output_type": "stream",
     "text": [
      "Standard    18379\n",
      "Good        12260\n",
      "Bad          9556\n",
      "Name: Credit_Mix, dtype: int64\n"
     ]
    }
   ],
   "source": [
    "# lets set up our features\n",
    "features = ['Age', 'Annual_Income', 'Num_Credit_Card', 'Interest_Rate', 'Credit_Utilization_Ratio']\n",
    "# our target variable\n",
    "target = 'Credit_Mix'\n",
    "\n",
    "X = filterd_df[features].copy()\n",
    "y = filterd_df[target]\n",
    "\n",
    "\n",
    "# Loop through each column\n",
    "for col in X.columns:\n",
    "    # Check if the column data type is object (string)\n",
    "    if X[col].dtype == 'object':\n",
    "        # Replace underscores with an appropriate value (e.g., empty string)\n",
    "        X[col] = X[col].str.replace('_', '')\n",
    "\n",
    "# Now the underscores are removed from the entire dataset\n",
    "\n",
    "# Split the data into training and testing sets\n",
    "X_train, X_test, y_train, y_test = train_test_split(X, y, test_size=0.2, random_state=42)\n",
    "\n",
    "# Standardize the features\n",
    "scaler = StandardScaler()\n",
    "X_train_scaled = scaler.fit_transform(X_train)\n",
    "X_test_scaled = scaler.transform(X_test)"
   ]
  },
  {
   "cell_type": "markdown",
   "id": "9748d93b",
   "metadata": {},
   "source": [
    "This stuff should seem very familiar , we select our features and target and filter out our \"Null\" points in the dataset"
   ]
  },
  {
   "cell_type": "code",
   "execution_count": 29,
   "id": "b5b6a126",
   "metadata": {},
   "outputs": [
    {
     "name": "stderr",
     "output_type": "stream",
     "text": [
      "/Users/papifrombucheon/opt/anaconda3/lib/python3.9/site-packages/sklearn/neighbors/_classification.py:228: FutureWarning: Unlike other reduction functions (e.g. `skew`, `kurtosis`), the default behavior of `mode` typically preserves the axis it acts along. In SciPy 1.11.0, this behavior will change: the default value of `keepdims` will become False, the `axis` over which the statistic is taken will be eliminated, and the value None will no longer be accepted. Set `keepdims` to True or False to avoid this warning.\n",
      "  mode, _ = stats.mode(_y[neigh_ind, k], axis=1)\n"
     ]
    },
    {
     "name": "stdout",
     "output_type": "stream",
     "text": [
      "Accuracy: 0.6543102375917402\n",
      "Classification Report:\n",
      "               precision    recall  f1-score   support\n",
      "\n",
      "         Bad       0.67      0.71      0.69      1937\n",
      "        Good       0.67      0.66      0.67      2434\n",
      "    Standard       0.63      0.62      0.63      3668\n",
      "\n",
      "    accuracy                           0.65      8039\n",
      "   macro avg       0.66      0.66      0.66      8039\n",
      "weighted avg       0.65      0.65      0.65      8039\n",
      "\n"
     ]
    }
   ],
   "source": [
    "# Initialize and train the KNN classifier\n",
    "k = 5  # Number of neighbors\n",
    "knn_classifier = KNeighborsClassifier(n_neighbors=k)\n",
    "knn_classifier.fit(X_train_scaled, y_train)\n",
    "\n",
    "# Make predictions\n",
    "y_pred = knn_classifier.predict(X_test_scaled)\n",
    "\n",
    "# Evaluate the model\n",
    "accuracy = accuracy_score(y_test, y_pred)\n",
    "classification_rep = classification_report(y_test, y_pred)\n",
    "\n",
    "print(\"Accuracy:\", accuracy)\n",
    "print(\"Classification Report:\\n\", classification_rep)"
   ]
  },
  {
   "cell_type": "markdown",
   "id": "f46e5f29",
   "metadata": {},
   "source": [
    "Using KNN algorithm we seemed to have achived the best accuracy so far. Here are the resons why: \n",
    "\n",
    "1. Local Patterns\n",
    "In our dataset, determining credit standing come with analyzing our feature columns and finding slight patterns in there that results in either a \"Good\",\"Bad\", or \"Standard\" credit standing. The KNN algorithm is very good at finding these minute patterns and making inferences based upon that\n",
    "2. No Strong Assumptions\n",
    "KNN is a non-parametric algorithm that doesn't make strong assumptions about the underlying data distribution. If your data distribution is complex or nonlinear, KNN can adapt to it."
   ]
  },
  {
   "cell_type": "markdown",
   "id": "b387f560",
   "metadata": {},
   "source": [
    "### Conclusion"
   ]
  },
  {
   "cell_type": "markdown",
   "id": "09b262d1",
   "metadata": {},
   "source": [
    "For this dataset, we did not see much success with the binary classifier and utilizing the logistic regression algorithm. However, not getting a super high accuracy score is quite common as no algorithm is perfect for every dataset. It is realistic to get accuracy score below 50%, but we aim to get higher than a coin flip for a good classification model. For our dataset, KNN algorithm worked best and gave us a 65% accuracy."
   ]
  }
 ],
 "metadata": {
  "kernelspec": {
   "display_name": "Python 3 (ipykernel)",
   "language": "python",
   "name": "python3"
  },
  "language_info": {
   "codemirror_mode": {
    "name": "ipython",
    "version": 3
   },
   "file_extension": ".py",
   "mimetype": "text/x-python",
   "name": "python",
   "nbconvert_exporter": "python",
   "pygments_lexer": "ipython3",
   "version": "3.9.13"
  }
 },
 "nbformat": 4,
 "nbformat_minor": 5
}
